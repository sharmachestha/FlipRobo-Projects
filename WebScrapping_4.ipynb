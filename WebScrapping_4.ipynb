{
 "cells": [
  {
   "cell_type": "raw",
   "metadata": {},
   "source": [
    "1. Scrape the details of most viewed videos on YouTube from Wikipedia:\n",
    "Url = https://en.wikipedia.org/wiki/List_of_most-viewed_YouTube_videos/\n",
    "You need to find following details:\n",
    "A) Rank\n",
    "B) Name\n",
    "C) Artist\n",
    "D) Upload date\n",
    "E) Views"
   ]
  },
  {
   "cell_type": "code",
   "execution_count": 1,
   "metadata": {},
   "outputs": [],
   "source": [
    "import selenium\n",
    "import pandas as pd\n",
    "from selenium import webdriver\n",
    "import warnings\n",
    "warnings.filterwarnings('ignore')\n",
    "import time\n",
    "from selenium.common.exceptions import NoSuchElementException"
   ]
  },
  {
   "cell_type": "code",
   "execution_count": 2,
   "metadata": {},
   "outputs": [],
   "source": [
    "driver=webdriver.Chrome(r\"C:\\Users\\ChesthaS\\Downloads\\chromedriver_win32 (1)\\chromedriver.exe\")"
   ]
  },
  {
   "cell_type": "code",
   "execution_count": 3,
   "metadata": {},
   "outputs": [],
   "source": [
    "url = \"https://en.wikipedia.org/w/index.php?search=List+of+most-viewed+YouTube+videos%2F&title=Special%3ASearch&fulltext=1&ns0=1\"                                                                                                                                                                                                                                                                                                                                                                                                                                                                                                                                                                                                                                                                                                                                                                                                                                                                                                                                                                                                                                                                                                                                                                                                                                                                                                                                                                                                                                                                                                                                                                                                                                                                                                                                                                                                                                                                                                                                                                                                                                                                                                                                                                                                                                                                                                                                                                                                                                                                                                                                                                                                                                                                                                                                                                                                                                                                                                                                                                                                                                                                                                                                                                                                                                                                                                                                                                                                                                                                                                                                                                                                                                                                                                                                                                                                                                                                                                                                                                                                                                                                                                                                                                                                                                                                                                                                                                                                                                                                                                                                                                                                                                                                                                                                                                                                                                                                                                                                                                                                                                                                                                                                                                                                                                                                                                                                                                                                                                                                                                                                                                                                                                                                                                                                                                                                                                                                                                                                                                                                                                                                                                                                                                                                                                                                                                                                                                                                                                                                                                                                                                                                                                                                                                                                                                                                                                                                                                                                                                                                                                                                                                                                                                                                                                                                                                                                                                                                                                                                                                                                                                                                                                                                                                                                                                                                                                                                                                                                                                                                                                                                                                                                                                                                                                                                                                                                                                                                                                                                                                                                                                                                                                                                                                                                                                                                                                                                                                                                                                                                                                                                                                                                                                                                                                                                                                                                                                                                                                                                                                                                                                                                                                                                                                                                                                                                                                                                                                                                                                                                                                                                                                                                                                                                                                                                                                                                                                                                                                                                                                                                                                                                                                                                                                                                                                                                                                                                                                                                                                                                                                                                                                                                                                                                                                                                                                                                                                                                                                                                                                                                                                                                                                                                                                                                                                                                                                                                                                                                                                                                                                                                                                                                                                                                                                                                                                                                                                                                                                                                                                                                                                                                                                                                                                                                                                                                                                                                                                                                                                                                                                                                                                                                                                                                                                                                                                                                                                                                                                                                                                                                                                                                                                                                                                                                                                                                                                                                                                                                                                                                                                                                                                                                                                                                                                                                                                                                                                                                                                                                                                                                                                                                                                                                                                                                                                                                                                                                                                                                                                                                                                                                                                                                                                                                                                                                                                                                                                                                                                                                                                                                                                                                                                                                                                                                                                                                                                                                                                                                                                                                                                                                                                                                                                                                                                                                                                                                                                                                                                                                                                                                                                                                                                                                                                                                                                                                                                                                                                                                                                                                                                                                                                                                                                                                                                                                                                                                                                                                                                                                                                                                                                                                                                                                                                                                                                                                                                                                                                                                                                                                                                                                                                                                                                                                                                                                                                                                                                                                                                                                                                                                                                                                                                                                                                                                                                                                                                                                                                                                                                                                                                                                                                                                                                                                                                                                                                                                                                                                                                                                                                                                                                                                                                                                                                                                                                                                                                                                                                                                                                                                                                                                                                                                                                                                                                                                                                                                                                                                                                                                                                                                                                                                                                                                                                                                                                                                                                                                                                                                                                                                                                                                                                                                                                                                                                                                                                                                                                                                                                                                                                                                                                                                                                                                                                                                                                                                                                                                                                                                                                                                                                                                                                                                                                                                                                                                                                                                                                                                                                                                                                                                                                                                                                                                                                                                                                                                                                                                                                                                                                                                                                                                                                                                                                                                                                                                                                                                                                                                                                                                                                                                                                                                                                                                                                                                                                                                                                                                                                                                                                                                                                                                                                                                                                                                                                                                                                                                                                                                                                                                                                                                                                                                                                                                                                                                                                                                                                                                                                                                                                                                                                                                                                                                                                                                                                                                                                                                                                                                                                                                                                                                                                                                                                                                                                                                                                                                                                                                                                                                                                                                                                                                                                                                                                                                                                                                                                                                                                                                                                                                                                                                                                                                                                                                                                                                                                                                                                                                                                                                                                                                                                                                                                                                                                                                                                                                                                                                                                                                                                                                                                                                                                                                                                                                                                                                                                                                                                                                                                                                                                                                                                                                                                                                                                                                                                                                                                                                                                                                                                                                                                                                                                                                                                                                                                                                                                                                                                                                                                                                                                                                                                                                                                                                                                                                                                                                                                                                                                                                                                                                                                                                                                                                                                                                                                                                                                                                                                                                                                                                                                                                                                                                                                                                                                                                                                                                                                                                                                                                                                                                                                                                                                                                                                                                                                                                                                                                                                                                                                                                                                                                                                                                                                                                                                                                                                                                                                                                                                                                                                                                                                                                                                                                                                                                                                                                                                                                                                                                                                                                                                                                                                                                                                                                                                                                                                                                                                                                                                                                                                                                                                                                                                                                                                                                                                                                                                                                                                                                                                                                                                                                                                                                                                                                                                                                                                                                                                                                                                                                                                                                                                                                                                                                                                                                                                                                                                                                                                                                                                                                                                                                                                                                                                                                                                                                                                                                                                                                                                                                                                                                                                                                                                                                                                                                                                                                                                                                                                                                                                                                                                                                                                                                                                                                                                                                                                                                                                                                                                                                                                                                                                                                                                                                                                                                                                                                                                                                                                                                                                                                                                                                                                                                                                                                                                                                                                                                                                                                                                                                                                                                                                                                                                                                                                                                                                                                                                                                                                                                                                                                                                                                                                                                                                                                                                                                                                                                                                                                                                                                                                                                                                                                                                                                                                                                                                                                                                                                                                                                                                                                                                                                                                                                                                                                                                                                                                                                                                                                                                                                                                                                                                                                                                                                                                                                                                                                                                                                                                                                                                                                                                                                                                                                                                                                                                                                                                                                                                                                                                                                                                                                                                                                                                                                                                                                                                                                                                                                                                                                                                                                                                                                                                                                                                                                                                                                                                                                                                                                                                                                                                                                                                                                                                                                                                                                                                                                                                                                                                                                                                                                                                                                                                                                                                                                                                                                                                                                                                                                                                                                                                                                                                                                                                                                                                                                                                                                                                                                                                                                                                                                                                                                                                                                                                                                                                                                                                                                                                                                                                                                                                                                                                                                                                                                                                                                                                                                                                                                                                                                                                                                                                                                                                                                                                                                                                                                                                                                                                                                                                                                                                                                                                                                                                                                                                                                                                                                                                                                                                                                                                                                                                                                                                                                                                                                                                                                                                                                                                                                                                                                                                                                                                                                                                                                                                                                                                                                                                                                                                                                                                                                                                                                                                                                                                                                                                                                                                                                                                                                                                                                                                                                                                                                                                                                                                                                                                                                                                                                                                                                                                                                                                                                                                                                                                                                                                                                                                                                                                                                                                                                                                                                                                                                                                                                                                                                                                                                                                                                                                                                                                                                                                                                                                                                                                                                                                                                                                                                                                                                                                                                                                                                                                                                                                                                                                                                                                                                                                                                                                                                                                                                                                                                                                                                                                                                                                                                                                                                                                                                                                                                                                                                                                                                                                                                                                                                                                                                                                                                                                                                                                                                                                                                                                                                                                                                                                                                                                                                                                                                                                                                                                                                                                                                                                                                                                                                                                                                                                                                                                                                                                                                                                                                                                                                                                                                                                                                                                                                                                                                                                                                                                                                                                                                                                                                                                                                                                                                                                                                                                                                                                                                                                                                                                                                                                                                                                                                                                                                                                                                                                                                                                                                                                                                                                                                                                                                                                                                                                                                                                                                                                                                                                                                                                                                                                                                                                                                                                                                                                                                                                                                                                                                                                                                                                                                                                                                                                                                                                                                                                                                                                                                                                                                                                                                                                                                                                                                                                                                                                                                                                                                                                                                                                                                                                                                                                                                                                                                                                                                                                                                                                                                                                                                                                                                                                                                                                                                                                                                                                                                                                                                                                                                                                                                                                                                                                                                                                                                                                                                                                                                                                                                                                                                                                                                                                                                                                                                                                                                                                                                                                                                                                                                                                                                                                                                                                                                                                                                                                                                                                                                                                                                                                                                                                                                                                                                                                                                                                                                                                                                                                                                                                                                                                                                                                                                                                                                                                                                                                                                                                                                                                                                                                                                                                                                                                                                                                                                                                                                                                                                                                                                                                                                                                                                                                                                                                                                                                                                                                                                                                                                                                                                                                                                                                                                                                                                                                                                                                                                                                                                                                                                                                                                                                                                                                                                                                                                                                                                                                                                                                                                                                                                                                                                                                                                                                                                                                                                                                                                                                                                                                                                                                                                                                                                                                                                                                                                                                                                                                                                                                                                                                                                                                                                                                                                                                                                                                                                                                                                                                                                                                                                                                                                                                                                                                                                                                                                                                                                                                                                                                                                                                                                                                                                                                                                                                                                                                                                                                                                                                                                                                                                                                                                                                                                                                                                                                                                                                                                                                                                                                                                                                                                                                                                                                                                                                                                                                                                                                                                                                                                                                                                                                                                                                                                                                                                                                                                                                                                                                                                                                                                                                                                                                                                                                                                                                                                                                                                                                                                                                                                                                                                                                                                                                                                                                                                                                                                                                                                                                                                                                                                                                                                                                                                                                                                                                                                                                                                                                                                                                                                                                                                                                                                                                                                                                                                                                                                                                                                                                                                                                                                                                                                                                                                                                                                                                                                                                                                                                                                                                                                                                                                                                                                                                                                                                                                                                                                                                                                                                                                                                                                                                                                                                                                                                                                                                                                                                                                                                                                                                                                                                                                                                                                                                                                                                                                                                                                                                                                                                                                                                                                                                                                                                                                                                                                                                                                                                                                                                                                                                                                                                                                                                                                                                                                                                                                                                                                                                                                                                                                                                                                                                                                                                                                                                                                                                                                                                                                                                                                                                                                                                                                                                                                                                                                                                                                                                                                                                                                                                                                                                                                                                                                                                                                                                                                                                                                                                                                                                                                                                                                                                                                                                                                                                                                                                                                                                                                                                                                                                                                                                                                                                                                                                                                                                                                                                                                                                                                                                                                                                                                                                                                                                                                                                                                                                                                                                                                                                                                                                                                                                                                                                                                                                                                                                                                                                                                                                                                                                                                                                                                                                                                                                                                                                                                                                                                                                                                                                                                                                                                                                                                                                                                                                                                                                                                                                                                                                                                                                                                                                                                                                                                                                                                                                                                                                                                                                                                                                                                                                                                                                                                                                                                                                                                                                                                                                                                                                                                                                                                                                                                                                                                                                                                                                                                                                                                                                                                                                                                                                                                                                                                                                                                                                                                                                                                                                                                                                                                                                                                                                                                                                                                                                                                                                                                                                                                                                                                                                                                                                                                                                                                                                                                                                                                                                                                                                                                                                                                                                                                                                                                                                                                                                                                                                                                                                                                                                                                                                                                                                                                                                                                                                                                                                                                                                                                                                                                                                                                                                                                                                                                                                                                                                                                                                                                                                                                                                                                                                                                                                                                                                                                                                                                                                                                                                                                                                                                                                                                                                                                                                                                                                                                                                                                                                                                                                                                                                                                                                                                                                                                                                                                                                                                                                                                                                                                                                                                                                                                                                                                                                                                                                                                                                                                                                                                                                                                                                                                                                                                                                                                                                                                                                                                                                                                                                                                                                                                                                                                                                                                                                                                                                                                                                                                                                                                                                                                                                                                                                                                                                                                                                                                                                                                                                                                                                                                                                                                                                                                                                                                                                                                                                                                                                                                                                                                                                                                                                                                                                                                                                                                                                                                                                                                                                                                                                                                                                                                                                                                                                                                                                                                                                                                                                                                                                                                                                                                                                                                                                                                                                                                                                                                                                                                                                                                                                                                                                                                                                                                                                                                                                                                                                                                                                                                                                                                                                                                                                                                                                                                                                                                                                                                                                                                                                                                                                                                                                                                                                                                                                                                                                                                                                                                                                                                                                                                                                                                                                                                                                                                                                                                                                                                                                                                                                                                                                                                                                                                                                                                                                                                                                                                                                                                                                                                                                                                                                                                                                                                                                                                                                                                                                                                                                                                                                                                                                                                                                                                                                                                                                                                                                                                                                                                                                                                                                                                                                                                                                                                                                                                                                                                                                                                                                                                                                                                                                                                                                                                                                                                                                                                                                                                                                                                                                                                                                                                                                                                                                                                                                                                                                                                                                                                                                                                                                                                                                                                                                                                                                                                                                                                                                                                                                                                                                                                                                                                                                                                                                                                                                                                                                                                                                                                                                                                                                                                                                                                                                                                                                                                                                                                                                                                                                                                                                                                                                                                                                                                                                                                                                                                                                                                                                                                                                                                                                                                                                                                                                                                                                                                                                                                                                                                                                                                                                                                                                                                                                                                                                                                                                                                                                                                                                                                                                                                                                                                                                                                                                                                                                                                                                                                                                                                                                                                                                                                                                                                                                                                                                                                                                                                                                                                                                                                                                                                                                                                                                                                                                                                                                                                                                                                                                                                                                                                                                                                                                                                                                                                                                                                                                                                                                                                                                                                                                                                                                                                                                                                                                                                                                                                                                                                                                                                                                                                                                                                                                                                                                                                                                                                                                                                                                                                                                                                                                                                                                                                                                                                                                                                                                                                                                                                                                                                                                                                                                                                                                                                                                                                                                                                                                                                                                                                                                                                                                                                                                                                                                                                                                                                                                                                                                                                                                                                                                                                                                                                                                                                                                                                                                                                                                                                                                                                                                                                                                                                                                                                                                                                                                                                                                                                                                                                                                                                                                                                                                                                                                                                                                                                                                                                                                                                                                                                                                                                                                                                                                                                                                                                                                                                                                                                                                                                                                                                                                                                                                                                                                                                                                                                                                                                                                                                                                                                                                                                                                                                                                                                                                                                                                                                                                                                                                                                                                                                                                                                                                                                                                                                                                                                                                                                                                                                                                                                                                                                                                                                                                                                                                                                                                                                                                                                                                                                                                                                                                                                                                                                                                                                                                                                                                                                                                                                                                                                                                                                                                                                                                                                                                                                                                                                                                                                                                                                                                                                                                                                                                                                                                                                                                                                                                                                                                                                                                                                                                                                                                                                                                                                                                                                                                                                                                                                                                                                                                                                                                                                                                                                                                                                                                                                                                                                                                                                                                                                                                                                                                                                                                                                                                                                                                                                                                                                                                                                                                                                                                                                                                                                                                                                                                                                                                                                                                                                                                                                                                                                                                                                                                                                                                                                                                                                                                                                                                                                                                                                                                                                                                                                                                                                                                                                                                                                                                                                                                                                                                                                                                    \n",
    "driver.get(url)"
   ]
  },
  {
   "cell_type": "code",
   "execution_count": 4,
   "metadata": {},
   "outputs": [
    {
     "data": {
      "text/plain": [
       "<selenium.webdriver.remote.webelement.WebElement (session=\"fd2c9709809f762960bfca240c0aabdd\", element=\"05330710-8146-4f88-9f63-ccfafe5ca557\")>"
      ]
     },
     "execution_count": 4,
     "metadata": {},
     "output_type": "execute_result"
    }
   ],
   "source": [
    "url1=driver.find_element_by_xpath(\"//div[@class='mw-search-result-heading']\")\n",
    "url1"
   ]
  },
  {
   "cell_type": "code",
   "execution_count": 7,
   "metadata": {},
   "outputs": [],
   "source": [
    "url1.click()"
   ]
  },
  {
   "cell_type": "code",
   "execution_count": 9,
   "metadata": {},
   "outputs": [
    {
     "data": {
      "text/plain": [
       "[<selenium.webdriver.remote.webelement.WebElement (session=\"fd2c9709809f762960bfca240c0aabdd\", element=\"6fe84fb2-d974-4f12-ae74-cb7818a8d792\")>,\n",
       " <selenium.webdriver.remote.webelement.WebElement (session=\"fd2c9709809f762960bfca240c0aabdd\", element=\"219e7e4b-7357-4304-a87c-829af6dc9a31\")>,\n",
       " <selenium.webdriver.remote.webelement.WebElement (session=\"fd2c9709809f762960bfca240c0aabdd\", element=\"8785b1ca-4021-42c0-9bfe-de5b72233c1b\")>,\n",
       " <selenium.webdriver.remote.webelement.WebElement (session=\"fd2c9709809f762960bfca240c0aabdd\", element=\"1f98a904-4232-47f8-8cfe-c2d11d98a31c\")>,\n",
       " <selenium.webdriver.remote.webelement.WebElement (session=\"fd2c9709809f762960bfca240c0aabdd\", element=\"e12a1fa9-78ba-425c-b3bf-b8e8def1f45c\")>,\n",
       " <selenium.webdriver.remote.webelement.WebElement (session=\"fd2c9709809f762960bfca240c0aabdd\", element=\"638fb750-8810-40a6-8c3e-0fc532c3b41b\")>,\n",
       " <selenium.webdriver.remote.webelement.WebElement (session=\"fd2c9709809f762960bfca240c0aabdd\", element=\"775f42b0-816f-49ad-85a1-e43044b58190\")>,\n",
       " <selenium.webdriver.remote.webelement.WebElement (session=\"fd2c9709809f762960bfca240c0aabdd\", element=\"0af2f39b-2d44-41c5-a7d7-a7005dbab569\")>,\n",
       " <selenium.webdriver.remote.webelement.WebElement (session=\"fd2c9709809f762960bfca240c0aabdd\", element=\"c0779abd-1ffc-415c-8002-0fb3ea14b031\")>,\n",
       " <selenium.webdriver.remote.webelement.WebElement (session=\"fd2c9709809f762960bfca240c0aabdd\", element=\"8e05f8c4-2ce0-4eaf-b262-341969e63a04\")>,\n",
       " <selenium.webdriver.remote.webelement.WebElement (session=\"fd2c9709809f762960bfca240c0aabdd\", element=\"437f5f1d-1381-45ab-b222-d71e78fb72d7\")>,\n",
       " <selenium.webdriver.remote.webelement.WebElement (session=\"fd2c9709809f762960bfca240c0aabdd\", element=\"0251edd2-23e1-4318-b9e9-e93be98a298d\")>,\n",
       " <selenium.webdriver.remote.webelement.WebElement (session=\"fd2c9709809f762960bfca240c0aabdd\", element=\"b68f727c-6f5c-4670-9232-d74aa7d31761\")>,\n",
       " <selenium.webdriver.remote.webelement.WebElement (session=\"fd2c9709809f762960bfca240c0aabdd\", element=\"010a4608-eda0-4c2d-99fc-006cd0dd81ae\")>,\n",
       " <selenium.webdriver.remote.webelement.WebElement (session=\"fd2c9709809f762960bfca240c0aabdd\", element=\"5223cf7f-00cc-4e3f-82a2-0f0aaafa2e82\")>,\n",
       " <selenium.webdriver.remote.webelement.WebElement (session=\"fd2c9709809f762960bfca240c0aabdd\", element=\"701ca9f2-5900-42a0-b742-7919567e7eae\")>,\n",
       " <selenium.webdriver.remote.webelement.WebElement (session=\"fd2c9709809f762960bfca240c0aabdd\", element=\"00f11a7e-7693-42ad-a070-011a2bd8711d\")>,\n",
       " <selenium.webdriver.remote.webelement.WebElement (session=\"fd2c9709809f762960bfca240c0aabdd\", element=\"c659b754-84be-4c2f-be0a-dbe18bef41bd\")>,\n",
       " <selenium.webdriver.remote.webelement.WebElement (session=\"fd2c9709809f762960bfca240c0aabdd\", element=\"ea3ad963-17f8-40dd-867e-56a93872f62a\")>,\n",
       " <selenium.webdriver.remote.webelement.WebElement (session=\"fd2c9709809f762960bfca240c0aabdd\", element=\"9ac9b389-072e-49db-906a-0a23c127778a\")>,\n",
       " <selenium.webdriver.remote.webelement.WebElement (session=\"fd2c9709809f762960bfca240c0aabdd\", element=\"6808cc8f-1970-45e7-baaf-2a48ed9f0b83\")>,\n",
       " <selenium.webdriver.remote.webelement.WebElement (session=\"fd2c9709809f762960bfca240c0aabdd\", element=\"794cc25e-0e01-4896-9698-dc9cc736d6ab\")>,\n",
       " <selenium.webdriver.remote.webelement.WebElement (session=\"fd2c9709809f762960bfca240c0aabdd\", element=\"44e22d11-ba02-4513-ae86-bd9ab47918e1\")>,\n",
       " <selenium.webdriver.remote.webelement.WebElement (session=\"fd2c9709809f762960bfca240c0aabdd\", element=\"bb1d4c72-9539-444e-956c-1794a373b8c5\")>,\n",
       " <selenium.webdriver.remote.webelement.WebElement (session=\"fd2c9709809f762960bfca240c0aabdd\", element=\"1a123e5f-9933-40e8-b445-0cf74ad55c59\")>,\n",
       " <selenium.webdriver.remote.webelement.WebElement (session=\"fd2c9709809f762960bfca240c0aabdd\", element=\"116bd928-ef55-4c07-8e17-cca81c82fda9\")>,\n",
       " <selenium.webdriver.remote.webelement.WebElement (session=\"fd2c9709809f762960bfca240c0aabdd\", element=\"3947d8a4-25e4-40e0-88af-25244045a7a9\")>,\n",
       " <selenium.webdriver.remote.webelement.WebElement (session=\"fd2c9709809f762960bfca240c0aabdd\", element=\"686b0098-ccfc-4991-b9e2-295d21ffd0e1\")>,\n",
       " <selenium.webdriver.remote.webelement.WebElement (session=\"fd2c9709809f762960bfca240c0aabdd\", element=\"28b28e10-f333-4451-ac09-ac4ea9d958d0\")>,\n",
       " <selenium.webdriver.remote.webelement.WebElement (session=\"fd2c9709809f762960bfca240c0aabdd\", element=\"a1ed783a-5eee-4802-a844-b84a740b1051\")>,\n",
       " <selenium.webdriver.remote.webelement.WebElement (session=\"fd2c9709809f762960bfca240c0aabdd\", element=\"983bfd7a-46f0-4293-a20c-3408de46d605\")>,\n",
       " <selenium.webdriver.remote.webelement.WebElement (session=\"fd2c9709809f762960bfca240c0aabdd\", element=\"784da357-48eb-41a6-9854-df23c5587f8f\")>,\n",
       " <selenium.webdriver.remote.webelement.WebElement (session=\"fd2c9709809f762960bfca240c0aabdd\", element=\"0999c982-7384-479d-aa3f-eb7bcf4a673f\")>,\n",
       " <selenium.webdriver.remote.webelement.WebElement (session=\"fd2c9709809f762960bfca240c0aabdd\", element=\"3006f2bc-7ba9-49ab-af0b-63258943f9c7\")>,\n",
       " <selenium.webdriver.remote.webelement.WebElement (session=\"fd2c9709809f762960bfca240c0aabdd\", element=\"26a57dc8-fea5-48ca-bf57-6a4893208990\")>,\n",
       " <selenium.webdriver.remote.webelement.WebElement (session=\"fd2c9709809f762960bfca240c0aabdd\", element=\"4715e3c6-19f6-4740-abe3-8f4e3f467fe2\")>,\n",
       " <selenium.webdriver.remote.webelement.WebElement (session=\"fd2c9709809f762960bfca240c0aabdd\", element=\"576cc6af-450a-4611-8c12-036204271fe4\")>,\n",
       " <selenium.webdriver.remote.webelement.WebElement (session=\"fd2c9709809f762960bfca240c0aabdd\", element=\"dfb9c090-e79c-44a2-b5da-0e80c94854e5\")>,\n",
       " <selenium.webdriver.remote.webelement.WebElement (session=\"fd2c9709809f762960bfca240c0aabdd\", element=\"ba99599e-fe53-4562-80e5-d693607d1b64\")>,\n",
       " <selenium.webdriver.remote.webelement.WebElement (session=\"fd2c9709809f762960bfca240c0aabdd\", element=\"aaca93f9-fdab-4f9f-abae-9c585835cc9b\")>,\n",
       " <selenium.webdriver.remote.webelement.WebElement (session=\"fd2c9709809f762960bfca240c0aabdd\", element=\"8fdba9fa-97fc-46c2-9dfe-caabd0f5fd4e\")>,\n",
       " <selenium.webdriver.remote.webelement.WebElement (session=\"fd2c9709809f762960bfca240c0aabdd\", element=\"85c6be75-626b-40af-afab-2b5a889c54e0\")>,\n",
       " <selenium.webdriver.remote.webelement.WebElement (session=\"fd2c9709809f762960bfca240c0aabdd\", element=\"33094391-81fe-4434-92f3-828136ff1b5e\")>,\n",
       " <selenium.webdriver.remote.webelement.WebElement (session=\"fd2c9709809f762960bfca240c0aabdd\", element=\"e0011395-af5f-4e35-ae52-9a68641eae4b\")>,\n",
       " <selenium.webdriver.remote.webelement.WebElement (session=\"fd2c9709809f762960bfca240c0aabdd\", element=\"4788a319-8e3b-48ef-a3e7-dba23a9f2134\")>,\n",
       " <selenium.webdriver.remote.webelement.WebElement (session=\"fd2c9709809f762960bfca240c0aabdd\", element=\"e0225ba0-b9aa-498d-9dd7-c2d3ba4b5c8b\")>,\n",
       " <selenium.webdriver.remote.webelement.WebElement (session=\"fd2c9709809f762960bfca240c0aabdd\", element=\"e3027a01-d9f5-45fd-8b4a-e36c713f6bb3\")>,\n",
       " <selenium.webdriver.remote.webelement.WebElement (session=\"fd2c9709809f762960bfca240c0aabdd\", element=\"f3c44e2e-c49f-4935-8dc9-d79e9b5d803e\")>,\n",
       " <selenium.webdriver.remote.webelement.WebElement (session=\"fd2c9709809f762960bfca240c0aabdd\", element=\"51ef6c03-bc07-4dc1-a99d-7b2966898747\")>]"
      ]
     },
     "execution_count": 9,
     "metadata": {},
     "output_type": "execute_result"
    }
   ],
   "source": [
    "rank_tags=driver.find_elements_by_xpath(\"//table[@class='wikitable sortable jquery-tablesorter']/tbody/tr/td[1]\")\n",
    "rank_tags"
   ]
  },
  {
   "cell_type": "code",
   "execution_count": 12,
   "metadata": {},
   "outputs": [],
   "source": [
    "rank=[]\n",
    "for i in rank_tags[:30]:\n",
    "    rank.append(i.text)\n",
    "    \n",
    "    "
   ]
  },
  {
   "cell_type": "code",
   "execution_count": 13,
   "metadata": {},
   "outputs": [
    {
     "data": {
      "text/plain": [
       "['1.',\n",
       " '2.',\n",
       " '3.',\n",
       " '4.',\n",
       " '5.',\n",
       " '6.',\n",
       " '7.',\n",
       " '8.',\n",
       " '9.',\n",
       " '10.',\n",
       " '11.',\n",
       " '12.',\n",
       " '13.',\n",
       " '14.',\n",
       " '15.',\n",
       " '16.',\n",
       " '17.',\n",
       " '18.',\n",
       " '19.',\n",
       " '20.',\n",
       " '21.',\n",
       " '22.',\n",
       " '23.',\n",
       " '24.',\n",
       " '25.',\n",
       " '26.',\n",
       " '27.',\n",
       " '28.',\n",
       " '29.',\n",
       " '30.']"
      ]
     },
     "execution_count": 13,
     "metadata": {},
     "output_type": "execute_result"
    }
   ],
   "source": [
    "rank"
   ]
  },
  {
   "cell_type": "code",
   "execution_count": 14,
   "metadata": {},
   "outputs": [
    {
     "data": {
      "text/plain": [
       "[<selenium.webdriver.remote.webelement.WebElement (session=\"fd2c9709809f762960bfca240c0aabdd\", element=\"03c54261-3961-42c4-b533-595eaa0d9b9b\")>,\n",
       " <selenium.webdriver.remote.webelement.WebElement (session=\"fd2c9709809f762960bfca240c0aabdd\", element=\"07cdaaf9-f104-413d-9367-a9a0244c7378\")>,\n",
       " <selenium.webdriver.remote.webelement.WebElement (session=\"fd2c9709809f762960bfca240c0aabdd\", element=\"62a5c359-dc7b-40c2-88f1-750800ceca38\")>,\n",
       " <selenium.webdriver.remote.webelement.WebElement (session=\"fd2c9709809f762960bfca240c0aabdd\", element=\"e445d7d8-99df-4f22-a48a-a12a32d6e08b\")>,\n",
       " <selenium.webdriver.remote.webelement.WebElement (session=\"fd2c9709809f762960bfca240c0aabdd\", element=\"5171ec6d-4e3c-4f36-abbf-faab609e610e\")>,\n",
       " <selenium.webdriver.remote.webelement.WebElement (session=\"fd2c9709809f762960bfca240c0aabdd\", element=\"c32a6b54-0646-42b4-989c-bf8799e74aaf\")>,\n",
       " <selenium.webdriver.remote.webelement.WebElement (session=\"fd2c9709809f762960bfca240c0aabdd\", element=\"ee4ec588-6ad5-4856-ad6c-51d8339694c6\")>,\n",
       " <selenium.webdriver.remote.webelement.WebElement (session=\"fd2c9709809f762960bfca240c0aabdd\", element=\"07b2c2cb-b797-4a2e-83dc-03c84cf093b9\")>,\n",
       " <selenium.webdriver.remote.webelement.WebElement (session=\"fd2c9709809f762960bfca240c0aabdd\", element=\"71587565-f48d-49f7-9626-ca783938c59f\")>,\n",
       " <selenium.webdriver.remote.webelement.WebElement (session=\"fd2c9709809f762960bfca240c0aabdd\", element=\"9bf12d0b-d805-467b-b829-fe24ae95995d\")>,\n",
       " <selenium.webdriver.remote.webelement.WebElement (session=\"fd2c9709809f762960bfca240c0aabdd\", element=\"c3f84fd6-0ec6-43ef-9932-9f0bb6c46ddc\")>,\n",
       " <selenium.webdriver.remote.webelement.WebElement (session=\"fd2c9709809f762960bfca240c0aabdd\", element=\"a92bead4-0bb9-4da0-a214-c8620544d502\")>,\n",
       " <selenium.webdriver.remote.webelement.WebElement (session=\"fd2c9709809f762960bfca240c0aabdd\", element=\"8f89c65f-1a36-4aa3-b81a-ca2612b1195e\")>,\n",
       " <selenium.webdriver.remote.webelement.WebElement (session=\"fd2c9709809f762960bfca240c0aabdd\", element=\"9d0e9e73-fa2d-45c9-bb12-d962114d6420\")>,\n",
       " <selenium.webdriver.remote.webelement.WebElement (session=\"fd2c9709809f762960bfca240c0aabdd\", element=\"b9235e12-4d4b-43c0-914c-9e372c619a17\")>,\n",
       " <selenium.webdriver.remote.webelement.WebElement (session=\"fd2c9709809f762960bfca240c0aabdd\", element=\"bca6c088-cb2d-4dee-9565-7820fdeb6259\")>,\n",
       " <selenium.webdriver.remote.webelement.WebElement (session=\"fd2c9709809f762960bfca240c0aabdd\", element=\"242762bc-4d2e-4670-81aa-7b6ed5e4bf1d\")>,\n",
       " <selenium.webdriver.remote.webelement.WebElement (session=\"fd2c9709809f762960bfca240c0aabdd\", element=\"76700c58-722f-463e-af67-922bd6962085\")>,\n",
       " <selenium.webdriver.remote.webelement.WebElement (session=\"fd2c9709809f762960bfca240c0aabdd\", element=\"5966282c-2720-491b-9978-0c349471e124\")>,\n",
       " <selenium.webdriver.remote.webelement.WebElement (session=\"fd2c9709809f762960bfca240c0aabdd\", element=\"02cfb2e0-d155-40b8-bbe5-4caa2c5abecf\")>,\n",
       " <selenium.webdriver.remote.webelement.WebElement (session=\"fd2c9709809f762960bfca240c0aabdd\", element=\"5a121a35-2673-454f-ae5e-9bb0ce2a58fe\")>,\n",
       " <selenium.webdriver.remote.webelement.WebElement (session=\"fd2c9709809f762960bfca240c0aabdd\", element=\"8b80beaa-a797-436d-bfe8-4e34137514de\")>,\n",
       " <selenium.webdriver.remote.webelement.WebElement (session=\"fd2c9709809f762960bfca240c0aabdd\", element=\"9464e04b-a581-464b-8417-dfa2bb21a277\")>,\n",
       " <selenium.webdriver.remote.webelement.WebElement (session=\"fd2c9709809f762960bfca240c0aabdd\", element=\"851538ad-a751-4116-ad31-efac3aa22688\")>,\n",
       " <selenium.webdriver.remote.webelement.WebElement (session=\"fd2c9709809f762960bfca240c0aabdd\", element=\"180d9373-a5c2-4a9c-8029-1286bb0453a7\")>,\n",
       " <selenium.webdriver.remote.webelement.WebElement (session=\"fd2c9709809f762960bfca240c0aabdd\", element=\"f8f48022-ed06-473e-aafe-202093befd6c\")>,\n",
       " <selenium.webdriver.remote.webelement.WebElement (session=\"fd2c9709809f762960bfca240c0aabdd\", element=\"11c77f99-ea78-49e0-adf0-9328fcd11f04\")>,\n",
       " <selenium.webdriver.remote.webelement.WebElement (session=\"fd2c9709809f762960bfca240c0aabdd\", element=\"3199c157-6df3-40fb-9237-e6d8e1d3d1c0\")>,\n",
       " <selenium.webdriver.remote.webelement.WebElement (session=\"fd2c9709809f762960bfca240c0aabdd\", element=\"bdf6d552-4a5e-4a96-819d-f453a836db65\")>,\n",
       " <selenium.webdriver.remote.webelement.WebElement (session=\"fd2c9709809f762960bfca240c0aabdd\", element=\"bf74be78-8dd0-42a4-9397-a20ff7f3bd48\")>,\n",
       " <selenium.webdriver.remote.webelement.WebElement (session=\"fd2c9709809f762960bfca240c0aabdd\", element=\"91fc632b-581d-4ad4-ac61-58a19769835e\")>,\n",
       " <selenium.webdriver.remote.webelement.WebElement (session=\"fd2c9709809f762960bfca240c0aabdd\", element=\"ad19a515-1152-42e2-b768-c6e58dbeddbd\")>,\n",
       " <selenium.webdriver.remote.webelement.WebElement (session=\"fd2c9709809f762960bfca240c0aabdd\", element=\"ab16796a-8289-4e0c-9d0e-56d9ac672d59\")>,\n",
       " <selenium.webdriver.remote.webelement.WebElement (session=\"fd2c9709809f762960bfca240c0aabdd\", element=\"4e1ceca5-5806-4097-b91a-0c165317888d\")>,\n",
       " <selenium.webdriver.remote.webelement.WebElement (session=\"fd2c9709809f762960bfca240c0aabdd\", element=\"ccd55255-b62a-4a18-9172-f01d6a06bbda\")>,\n",
       " <selenium.webdriver.remote.webelement.WebElement (session=\"fd2c9709809f762960bfca240c0aabdd\", element=\"d627d03a-ecaa-488c-90aa-b7aec769a34b\")>,\n",
       " <selenium.webdriver.remote.webelement.WebElement (session=\"fd2c9709809f762960bfca240c0aabdd\", element=\"cf09de77-9b34-4bd7-bb5b-eb3b1769731c\")>,\n",
       " <selenium.webdriver.remote.webelement.WebElement (session=\"fd2c9709809f762960bfca240c0aabdd\", element=\"1014f679-78e2-4a72-8f2e-d8d09bc01cc8\")>,\n",
       " <selenium.webdriver.remote.webelement.WebElement (session=\"fd2c9709809f762960bfca240c0aabdd\", element=\"b14d8471-0fe4-4e4d-a364-d646efe2a79f\")>,\n",
       " <selenium.webdriver.remote.webelement.WebElement (session=\"fd2c9709809f762960bfca240c0aabdd\", element=\"e13c4e41-45b4-401e-b369-f681cf0df208\")>,\n",
       " <selenium.webdriver.remote.webelement.WebElement (session=\"fd2c9709809f762960bfca240c0aabdd\", element=\"7f471e32-a1df-43e3-8b22-2d978073852b\")>,\n",
       " <selenium.webdriver.remote.webelement.WebElement (session=\"fd2c9709809f762960bfca240c0aabdd\", element=\"0fbf6c92-6e70-4cd4-8d9a-39f3e6d38bd7\")>,\n",
       " <selenium.webdriver.remote.webelement.WebElement (session=\"fd2c9709809f762960bfca240c0aabdd\", element=\"5294cc76-8895-44ad-91d6-1d673e91e138\")>,\n",
       " <selenium.webdriver.remote.webelement.WebElement (session=\"fd2c9709809f762960bfca240c0aabdd\", element=\"ec92622f-eb0e-4701-b598-9b4194d45b87\")>,\n",
       " <selenium.webdriver.remote.webelement.WebElement (session=\"fd2c9709809f762960bfca240c0aabdd\", element=\"252ae56b-d725-4933-b886-18fd5e4a393e\")>,\n",
       " <selenium.webdriver.remote.webelement.WebElement (session=\"fd2c9709809f762960bfca240c0aabdd\", element=\"6559c4f7-5704-42d6-8956-07c835fd20d8\")>,\n",
       " <selenium.webdriver.remote.webelement.WebElement (session=\"fd2c9709809f762960bfca240c0aabdd\", element=\"eed7cc80-6d42-4cec-a9e9-de728181a7cd\")>,\n",
       " <selenium.webdriver.remote.webelement.WebElement (session=\"fd2c9709809f762960bfca240c0aabdd\", element=\"8983aa0a-c02b-47cb-b711-11686026d01e\")>,\n",
       " <selenium.webdriver.remote.webelement.WebElement (session=\"fd2c9709809f762960bfca240c0aabdd\", element=\"8081afc1-5ff3-4c09-9136-70b5fa276d9c\")>]"
      ]
     },
     "execution_count": 14,
     "metadata": {},
     "output_type": "execute_result"
    }
   ],
   "source": [
    "name_tags=driver.find_elements_by_xpath(\"//table[@class='wikitable sortable jquery-tablesorter']/tbody/tr/td[2]\")\n",
    "name_tags"
   ]
  },
  {
   "cell_type": "code",
   "execution_count": 15,
   "metadata": {},
   "outputs": [],
   "source": [
    "name=[]\n",
    "for i in name_tags[:30]:\n",
    "    name.append(i.text)\n",
    "    \n",
    "    "
   ]
  },
  {
   "cell_type": "code",
   "execution_count": 16,
   "metadata": {},
   "outputs": [
    {
     "data": {
      "text/plain": [
       "['\"Baby Shark Dance\"[22]',\n",
       " '\"Despacito\"[24]',\n",
       " '\"Johny Johny Yes Papa\"[25]',\n",
       " '\"Shape of You\"[26]',\n",
       " '\"See You Again\"[27]',\n",
       " '\"Masha and the Bear – Recipe for Disaster\"[30]',\n",
       " '\"Bath Song\"[31]',\n",
       " '\"Learning Colors – Colorful Eggs on a Farm\"[32]',\n",
       " '\"Uptown Funk\"[33]',\n",
       " '\"Gangnam Style\"[34]',\n",
       " '\"Phonics Song with Two Words\"[36]',\n",
       " '\"Sugar\"[37]',\n",
       " '\"Sorry\"[38]',\n",
       " '\"Dame Tu Cosita\"[39]',\n",
       " '\"Roar\"[40]',\n",
       " '\"Counting Stars\"[41]',\n",
       " '\"Thinking Out Loud\"[42]',\n",
       " '\"Wheels on the Bus\"[43]',\n",
       " '\"Dark Horse\"[44]',\n",
       " '\"Faded\"[45]',\n",
       " '\"Shake It Off\"[46]',\n",
       " '\"Girls Like You\"[47]',\n",
       " '\"Lean On\"[48]',\n",
       " '\"Bailando\"[49]',\n",
       " '\"Let Her Go\"[50]',\n",
       " '\"Mi Gente\"[51]',\n",
       " '\"Perfect\"[52]',\n",
       " '\"Waka Waka (This Time for Africa)\"[53]',\n",
       " '\"Axel F\"[54]',\n",
       " '\"Hello\"[55]']"
      ]
     },
     "execution_count": 16,
     "metadata": {},
     "output_type": "execute_result"
    }
   ],
   "source": [
    "name"
   ]
  },
  {
   "cell_type": "code",
   "execution_count": 17,
   "metadata": {},
   "outputs": [
    {
     "data": {
      "text/plain": [
       "[<selenium.webdriver.remote.webelement.WebElement (session=\"fd2c9709809f762960bfca240c0aabdd\", element=\"64248081-393c-4798-a9b3-6c61cdf1df78\")>,\n",
       " <selenium.webdriver.remote.webelement.WebElement (session=\"fd2c9709809f762960bfca240c0aabdd\", element=\"3313c1b9-bb2e-4f86-ab27-754b0251f8bd\")>,\n",
       " <selenium.webdriver.remote.webelement.WebElement (session=\"fd2c9709809f762960bfca240c0aabdd\", element=\"d99a305e-78e0-4316-bf94-92bc0d056452\")>,\n",
       " <selenium.webdriver.remote.webelement.WebElement (session=\"fd2c9709809f762960bfca240c0aabdd\", element=\"5480d940-7662-4b47-984c-96c510d1de20\")>,\n",
       " <selenium.webdriver.remote.webelement.WebElement (session=\"fd2c9709809f762960bfca240c0aabdd\", element=\"df3c3b34-256c-4569-b56d-57e272f735c3\")>,\n",
       " <selenium.webdriver.remote.webelement.WebElement (session=\"fd2c9709809f762960bfca240c0aabdd\", element=\"d8e6b890-c989-45d4-81e7-fb6265897cce\")>,\n",
       " <selenium.webdriver.remote.webelement.WebElement (session=\"fd2c9709809f762960bfca240c0aabdd\", element=\"ae9bac66-d38c-45bb-838c-c0bba32d51dc\")>,\n",
       " <selenium.webdriver.remote.webelement.WebElement (session=\"fd2c9709809f762960bfca240c0aabdd\", element=\"f09d4e45-04bb-4b0e-be13-6f75152454c0\")>,\n",
       " <selenium.webdriver.remote.webelement.WebElement (session=\"fd2c9709809f762960bfca240c0aabdd\", element=\"5f1f2ec7-913a-42b8-bdee-950900339dea\")>,\n",
       " <selenium.webdriver.remote.webelement.WebElement (session=\"fd2c9709809f762960bfca240c0aabdd\", element=\"022543e1-1d91-47ee-bbaf-15df3d7590e8\")>,\n",
       " <selenium.webdriver.remote.webelement.WebElement (session=\"fd2c9709809f762960bfca240c0aabdd\", element=\"ad925462-e70a-4b94-b04d-11840e873824\")>,\n",
       " <selenium.webdriver.remote.webelement.WebElement (session=\"fd2c9709809f762960bfca240c0aabdd\", element=\"ada31e64-5590-4a23-a0e3-346c60c7a68d\")>,\n",
       " <selenium.webdriver.remote.webelement.WebElement (session=\"fd2c9709809f762960bfca240c0aabdd\", element=\"47360c0e-63ab-4bb0-9675-0e7911c82abd\")>,\n",
       " <selenium.webdriver.remote.webelement.WebElement (session=\"fd2c9709809f762960bfca240c0aabdd\", element=\"95d43c2c-9220-4371-9695-127c67ce89c5\")>,\n",
       " <selenium.webdriver.remote.webelement.WebElement (session=\"fd2c9709809f762960bfca240c0aabdd\", element=\"f009b441-674a-420e-921f-88fc5e3f9785\")>,\n",
       " <selenium.webdriver.remote.webelement.WebElement (session=\"fd2c9709809f762960bfca240c0aabdd\", element=\"3d4f5fda-153c-41e7-864d-aecae2973d00\")>,\n",
       " <selenium.webdriver.remote.webelement.WebElement (session=\"fd2c9709809f762960bfca240c0aabdd\", element=\"2a8d51f2-0aec-4761-aabb-e7b4623b0591\")>,\n",
       " <selenium.webdriver.remote.webelement.WebElement (session=\"fd2c9709809f762960bfca240c0aabdd\", element=\"fffa6863-686b-43c5-8bad-1c4364336ef2\")>,\n",
       " <selenium.webdriver.remote.webelement.WebElement (session=\"fd2c9709809f762960bfca240c0aabdd\", element=\"f033ce10-1d58-4910-a646-5b827547c082\")>,\n",
       " <selenium.webdriver.remote.webelement.WebElement (session=\"fd2c9709809f762960bfca240c0aabdd\", element=\"903f2a76-69f5-4c51-b6c4-a59837791c52\")>,\n",
       " <selenium.webdriver.remote.webelement.WebElement (session=\"fd2c9709809f762960bfca240c0aabdd\", element=\"03100545-f0e5-49b8-93b7-72dece9622da\")>,\n",
       " <selenium.webdriver.remote.webelement.WebElement (session=\"fd2c9709809f762960bfca240c0aabdd\", element=\"c5becb44-938a-49bd-9a53-83f4a0cb35a8\")>,\n",
       " <selenium.webdriver.remote.webelement.WebElement (session=\"fd2c9709809f762960bfca240c0aabdd\", element=\"4ec4a6b7-02ce-4cce-8fb8-e6831838f795\")>,\n",
       " <selenium.webdriver.remote.webelement.WebElement (session=\"fd2c9709809f762960bfca240c0aabdd\", element=\"43511890-7b61-4637-9438-47e2c18b611c\")>,\n",
       " <selenium.webdriver.remote.webelement.WebElement (session=\"fd2c9709809f762960bfca240c0aabdd\", element=\"13fc4899-addc-47d2-9bc2-f79dbc116e8f\")>,\n",
       " <selenium.webdriver.remote.webelement.WebElement (session=\"fd2c9709809f762960bfca240c0aabdd\", element=\"3417d220-0ea6-4e22-8619-fdbfbd8f4173\")>,\n",
       " <selenium.webdriver.remote.webelement.WebElement (session=\"fd2c9709809f762960bfca240c0aabdd\", element=\"34cb931d-984c-4417-943c-a9726cffc098\")>,\n",
       " <selenium.webdriver.remote.webelement.WebElement (session=\"fd2c9709809f762960bfca240c0aabdd\", element=\"b3e87c84-f91c-4434-bfa3-0d175a4247a7\")>,\n",
       " <selenium.webdriver.remote.webelement.WebElement (session=\"fd2c9709809f762960bfca240c0aabdd\", element=\"d914e30a-41ca-41ae-ba99-1f2211210f26\")>,\n",
       " <selenium.webdriver.remote.webelement.WebElement (session=\"fd2c9709809f762960bfca240c0aabdd\", element=\"665b847c-7c30-4c98-b6bf-5a3294b174ca\")>,\n",
       " <selenium.webdriver.remote.webelement.WebElement (session=\"fd2c9709809f762960bfca240c0aabdd\", element=\"5405acbc-e65d-4377-8013-89f9a37ac4bf\")>,\n",
       " <selenium.webdriver.remote.webelement.WebElement (session=\"fd2c9709809f762960bfca240c0aabdd\", element=\"bda430eb-4053-4ef1-a228-0f11aaf23dbb\")>,\n",
       " <selenium.webdriver.remote.webelement.WebElement (session=\"fd2c9709809f762960bfca240c0aabdd\", element=\"9c2fcdc2-978c-4500-b57e-8856b493d6cc\")>,\n",
       " <selenium.webdriver.remote.webelement.WebElement (session=\"fd2c9709809f762960bfca240c0aabdd\", element=\"465a76f0-f873-4fd0-941c-837f417045cb\")>,\n",
       " <selenium.webdriver.remote.webelement.WebElement (session=\"fd2c9709809f762960bfca240c0aabdd\", element=\"c8e93405-61f7-442a-b541-5a1ea41a95ac\")>,\n",
       " <selenium.webdriver.remote.webelement.WebElement (session=\"fd2c9709809f762960bfca240c0aabdd\", element=\"8fb94dc8-3c4c-48be-a5ba-b96ed774e796\")>,\n",
       " <selenium.webdriver.remote.webelement.WebElement (session=\"fd2c9709809f762960bfca240c0aabdd\", element=\"47ad8157-e963-469a-9faa-c2111f0fdf54\")>,\n",
       " <selenium.webdriver.remote.webelement.WebElement (session=\"fd2c9709809f762960bfca240c0aabdd\", element=\"080d9d6e-092f-485b-b722-93045218f57d\")>,\n",
       " <selenium.webdriver.remote.webelement.WebElement (session=\"fd2c9709809f762960bfca240c0aabdd\", element=\"7127c405-fc8f-435d-b964-27f7a57c6377\")>,\n",
       " <selenium.webdriver.remote.webelement.WebElement (session=\"fd2c9709809f762960bfca240c0aabdd\", element=\"efc73968-a72b-4348-8471-b993bd64c368\")>,\n",
       " <selenium.webdriver.remote.webelement.WebElement (session=\"fd2c9709809f762960bfca240c0aabdd\", element=\"604096b1-2bf6-4d23-97cb-a5254a15dc17\")>,\n",
       " <selenium.webdriver.remote.webelement.WebElement (session=\"fd2c9709809f762960bfca240c0aabdd\", element=\"40107b98-5d17-4401-a2c6-b686195618a0\")>,\n",
       " <selenium.webdriver.remote.webelement.WebElement (session=\"fd2c9709809f762960bfca240c0aabdd\", element=\"8d98e444-2bf5-497a-baa8-391a1763af18\")>,\n",
       " <selenium.webdriver.remote.webelement.WebElement (session=\"fd2c9709809f762960bfca240c0aabdd\", element=\"73e2682b-5e81-4c19-aa4e-4ee382882995\")>,\n",
       " <selenium.webdriver.remote.webelement.WebElement (session=\"fd2c9709809f762960bfca240c0aabdd\", element=\"658330b4-c563-4845-a720-8eced24c276e\")>,\n",
       " <selenium.webdriver.remote.webelement.WebElement (session=\"fd2c9709809f762960bfca240c0aabdd\", element=\"817c90f6-4397-4aca-8371-e752a6c9b13b\")>,\n",
       " <selenium.webdriver.remote.webelement.WebElement (session=\"fd2c9709809f762960bfca240c0aabdd\", element=\"309f1dc6-5350-4647-aa97-95c9a8e36360\")>,\n",
       " <selenium.webdriver.remote.webelement.WebElement (session=\"fd2c9709809f762960bfca240c0aabdd\", element=\"23fe9cf6-9011-4e17-8c30-8d50e8751de4\")>,\n",
       " <selenium.webdriver.remote.webelement.WebElement (session=\"fd2c9709809f762960bfca240c0aabdd\", element=\"96fc90b9-efb0-4ddd-b555-234d51585dcd\")>]"
      ]
     },
     "execution_count": 17,
     "metadata": {},
     "output_type": "execute_result"
    }
   ],
   "source": [
    "artist_tags=driver.find_elements_by_xpath(\"//table[@class='wikitable sortable jquery-tablesorter']/tbody/tr/td[3]\")\n",
    "artist_tags"
   ]
  },
  {
   "cell_type": "code",
   "execution_count": 18,
   "metadata": {},
   "outputs": [],
   "source": [
    "artist=[]\n",
    "for i in artist_tags[:30]:\n",
    "    artist.append(i.text)"
   ]
  },
  {
   "cell_type": "code",
   "execution_count": 19,
   "metadata": {},
   "outputs": [
    {
     "data": {
      "text/plain": [
       "[\"Pinkfong Kids' Songs & Stories\",\n",
       " 'Luis Fonsi',\n",
       " 'LooLoo Kids',\n",
       " 'Ed Sheeran',\n",
       " 'Wiz Khalifa',\n",
       " 'Get Movies',\n",
       " 'Cocomelon – Nursery Rhymes',\n",
       " 'Miroshka TV',\n",
       " 'Mark Ronson',\n",
       " 'Psy',\n",
       " 'ChuChu TV',\n",
       " 'Maroon 5',\n",
       " 'Justin Bieber',\n",
       " 'El Chombo',\n",
       " 'Katy Perry',\n",
       " 'OneRepublic',\n",
       " 'Ed Sheeran',\n",
       " 'Cocomelon – Nursery Rhymes',\n",
       " 'Katy Perry',\n",
       " 'Alan Walker',\n",
       " 'Taylor Swift',\n",
       " 'Maroon 5',\n",
       " 'Major Lazer',\n",
       " 'Enrique Iglesias',\n",
       " 'Passenger',\n",
       " 'J Balvin',\n",
       " 'Ed Sheeran',\n",
       " 'Shakira',\n",
       " 'Crazy Frog',\n",
       " 'Adele']"
      ]
     },
     "execution_count": 19,
     "metadata": {},
     "output_type": "execute_result"
    }
   ],
   "source": [
    "artist"
   ]
  },
  {
   "cell_type": "code",
   "execution_count": 20,
   "metadata": {},
   "outputs": [
    {
     "data": {
      "text/plain": [
       "[<selenium.webdriver.remote.webelement.WebElement (session=\"fd2c9709809f762960bfca240c0aabdd\", element=\"a78cd20e-a946-4faa-a27b-28392c5adb87\")>,\n",
       " <selenium.webdriver.remote.webelement.WebElement (session=\"fd2c9709809f762960bfca240c0aabdd\", element=\"88c68828-a6dd-4001-9a39-424fc6c98b41\")>,\n",
       " <selenium.webdriver.remote.webelement.WebElement (session=\"fd2c9709809f762960bfca240c0aabdd\", element=\"b9ab8f53-1f77-4d44-a2f7-be4cbb682b2d\")>,\n",
       " <selenium.webdriver.remote.webelement.WebElement (session=\"fd2c9709809f762960bfca240c0aabdd\", element=\"e12c06ef-6b24-4355-9b1e-8cd027c27480\")>,\n",
       " <selenium.webdriver.remote.webelement.WebElement (session=\"fd2c9709809f762960bfca240c0aabdd\", element=\"ad9ae9f7-e3c8-42f8-b288-ce639f5fd24e\")>,\n",
       " <selenium.webdriver.remote.webelement.WebElement (session=\"fd2c9709809f762960bfca240c0aabdd\", element=\"10d2f9ea-ae08-44d2-a7ac-681f57ad021e\")>,\n",
       " <selenium.webdriver.remote.webelement.WebElement (session=\"fd2c9709809f762960bfca240c0aabdd\", element=\"04ec1d17-8d0c-48df-acfd-5e791b43d6e1\")>,\n",
       " <selenium.webdriver.remote.webelement.WebElement (session=\"fd2c9709809f762960bfca240c0aabdd\", element=\"b1dada4e-0c69-4276-88a6-232fe8878549\")>,\n",
       " <selenium.webdriver.remote.webelement.WebElement (session=\"fd2c9709809f762960bfca240c0aabdd\", element=\"81b2188e-297b-4751-9727-5dce75e40671\")>,\n",
       " <selenium.webdriver.remote.webelement.WebElement (session=\"fd2c9709809f762960bfca240c0aabdd\", element=\"45723c69-0a46-4473-994a-162765529e81\")>,\n",
       " <selenium.webdriver.remote.webelement.WebElement (session=\"fd2c9709809f762960bfca240c0aabdd\", element=\"6852b654-0bf3-4925-a662-2ab22959e33a\")>,\n",
       " <selenium.webdriver.remote.webelement.WebElement (session=\"fd2c9709809f762960bfca240c0aabdd\", element=\"21ed38d3-a9c9-4525-b6fd-58c83b6a3102\")>,\n",
       " <selenium.webdriver.remote.webelement.WebElement (session=\"fd2c9709809f762960bfca240c0aabdd\", element=\"c136fa5c-6fc9-415c-b28f-a35498ed90c0\")>,\n",
       " <selenium.webdriver.remote.webelement.WebElement (session=\"fd2c9709809f762960bfca240c0aabdd\", element=\"c4831f44-6ef9-4306-b933-3ee6e31fa231\")>,\n",
       " <selenium.webdriver.remote.webelement.WebElement (session=\"fd2c9709809f762960bfca240c0aabdd\", element=\"4f193ddb-fe98-49cf-b0c3-a6d598ff5ff6\")>,\n",
       " <selenium.webdriver.remote.webelement.WebElement (session=\"fd2c9709809f762960bfca240c0aabdd\", element=\"9954a639-b650-419c-be8d-528763190866\")>,\n",
       " <selenium.webdriver.remote.webelement.WebElement (session=\"fd2c9709809f762960bfca240c0aabdd\", element=\"422400ec-3de7-4452-a5fd-d92a1521841a\")>,\n",
       " <selenium.webdriver.remote.webelement.WebElement (session=\"fd2c9709809f762960bfca240c0aabdd\", element=\"d0f3c03b-610d-4171-91df-b1a0376081d0\")>,\n",
       " <selenium.webdriver.remote.webelement.WebElement (session=\"fd2c9709809f762960bfca240c0aabdd\", element=\"55e9c896-9083-4b5d-8ce4-5806764776f7\")>,\n",
       " <selenium.webdriver.remote.webelement.WebElement (session=\"fd2c9709809f762960bfca240c0aabdd\", element=\"fed632fc-380c-4286-918c-40599d82a427\")>,\n",
       " <selenium.webdriver.remote.webelement.WebElement (session=\"fd2c9709809f762960bfca240c0aabdd\", element=\"0409eebe-6073-485b-a6e1-e67a2ae33871\")>,\n",
       " <selenium.webdriver.remote.webelement.WebElement (session=\"fd2c9709809f762960bfca240c0aabdd\", element=\"9d441112-8bee-49ca-8b92-0572fc0148eb\")>,\n",
       " <selenium.webdriver.remote.webelement.WebElement (session=\"fd2c9709809f762960bfca240c0aabdd\", element=\"85f3f82d-274b-41cd-a356-985a321d35b8\")>,\n",
       " <selenium.webdriver.remote.webelement.WebElement (session=\"fd2c9709809f762960bfca240c0aabdd\", element=\"6e8ef36c-ef4a-4844-a71e-cff697c9e03a\")>,\n",
       " <selenium.webdriver.remote.webelement.WebElement (session=\"fd2c9709809f762960bfca240c0aabdd\", element=\"41673dcc-740b-44db-a3c8-87d4c4e68357\")>,\n",
       " <selenium.webdriver.remote.webelement.WebElement (session=\"fd2c9709809f762960bfca240c0aabdd\", element=\"eb22f80a-83e8-43c7-913a-f2de46938d79\")>,\n",
       " <selenium.webdriver.remote.webelement.WebElement (session=\"fd2c9709809f762960bfca240c0aabdd\", element=\"d141312d-d853-4940-b269-63a92a106de8\")>,\n",
       " <selenium.webdriver.remote.webelement.WebElement (session=\"fd2c9709809f762960bfca240c0aabdd\", element=\"8ebf3fa1-399d-49f5-93af-8821799b5a3e\")>,\n",
       " <selenium.webdriver.remote.webelement.WebElement (session=\"fd2c9709809f762960bfca240c0aabdd\", element=\"d0a14550-888c-47bb-a28a-b8c62d228135\")>,\n",
       " <selenium.webdriver.remote.webelement.WebElement (session=\"fd2c9709809f762960bfca240c0aabdd\", element=\"fd36d559-f2b2-488f-90f7-2a8565d9ce9b\")>,\n",
       " <selenium.webdriver.remote.webelement.WebElement (session=\"fd2c9709809f762960bfca240c0aabdd\", element=\"6b3274f5-f079-491e-a59f-b942c3df918a\")>,\n",
       " <selenium.webdriver.remote.webelement.WebElement (session=\"fd2c9709809f762960bfca240c0aabdd\", element=\"5a3e431a-2317-4760-885a-ad7aae06a776\")>,\n",
       " <selenium.webdriver.remote.webelement.WebElement (session=\"fd2c9709809f762960bfca240c0aabdd\", element=\"0735bca4-05ef-4f78-b29e-52b33ef01631\")>,\n",
       " <selenium.webdriver.remote.webelement.WebElement (session=\"fd2c9709809f762960bfca240c0aabdd\", element=\"e25fbff7-6bf3-4949-91aa-1d3876764742\")>,\n",
       " <selenium.webdriver.remote.webelement.WebElement (session=\"fd2c9709809f762960bfca240c0aabdd\", element=\"a37ddd64-f3ac-40c9-8941-2f66b01b10fb\")>,\n",
       " <selenium.webdriver.remote.webelement.WebElement (session=\"fd2c9709809f762960bfca240c0aabdd\", element=\"d9c331bc-9a0c-46fe-9958-fdc0e11bacee\")>,\n",
       " <selenium.webdriver.remote.webelement.WebElement (session=\"fd2c9709809f762960bfca240c0aabdd\", element=\"89d1c8e5-dd76-4c19-b185-41e208554dd0\")>,\n",
       " <selenium.webdriver.remote.webelement.WebElement (session=\"fd2c9709809f762960bfca240c0aabdd\", element=\"c567dbac-c5c2-48f3-914a-5e71ecbda9c7\")>,\n",
       " <selenium.webdriver.remote.webelement.WebElement (session=\"fd2c9709809f762960bfca240c0aabdd\", element=\"eff5b5c1-94a5-4ef7-ac02-8ca2548ca0c8\")>,\n",
       " <selenium.webdriver.remote.webelement.WebElement (session=\"fd2c9709809f762960bfca240c0aabdd\", element=\"7105ec61-447f-4451-a3ba-6b6c67707d32\")>,\n",
       " <selenium.webdriver.remote.webelement.WebElement (session=\"fd2c9709809f762960bfca240c0aabdd\", element=\"62e00882-c495-46fd-bf4a-733f11d1460a\")>,\n",
       " <selenium.webdriver.remote.webelement.WebElement (session=\"fd2c9709809f762960bfca240c0aabdd\", element=\"bdc9127c-443f-41ed-960f-7019dddf90a4\")>,\n",
       " <selenium.webdriver.remote.webelement.WebElement (session=\"fd2c9709809f762960bfca240c0aabdd\", element=\"cfe1fc43-c89b-4ef6-8656-d3c296d5f307\")>,\n",
       " <selenium.webdriver.remote.webelement.WebElement (session=\"fd2c9709809f762960bfca240c0aabdd\", element=\"00724a29-d5f7-4dfb-bf89-9a65866ac952\")>,\n",
       " <selenium.webdriver.remote.webelement.WebElement (session=\"fd2c9709809f762960bfca240c0aabdd\", element=\"158c63ab-a199-4ed5-9ff7-8f12db22d157\")>,\n",
       " <selenium.webdriver.remote.webelement.WebElement (session=\"fd2c9709809f762960bfca240c0aabdd\", element=\"5ce1886d-df96-4a3c-831d-4e2955d36d4b\")>,\n",
       " <selenium.webdriver.remote.webelement.WebElement (session=\"fd2c9709809f762960bfca240c0aabdd\", element=\"9619ddff-6b15-4e6d-a8b8-6251c9d2ea5d\")>,\n",
       " <selenium.webdriver.remote.webelement.WebElement (session=\"fd2c9709809f762960bfca240c0aabdd\", element=\"87830d9d-a8b0-455b-939b-b5aab2b66acf\")>,\n",
       " <selenium.webdriver.remote.webelement.WebElement (session=\"fd2c9709809f762960bfca240c0aabdd\", element=\"19abd3f9-deb2-44ff-ad93-c0b67094a1c9\")>]"
      ]
     },
     "execution_count": 20,
     "metadata": {},
     "output_type": "execute_result"
    }
   ],
   "source": [
    "views_tags=driver.find_elements_by_xpath(\"//table[@class='wikitable sortable jquery-tablesorter']/tbody/tr/td[4]\")\n",
    "views_tags"
   ]
  },
  {
   "cell_type": "code",
   "execution_count": 21,
   "metadata": {},
   "outputs": [],
   "source": [
    "view=[]\n",
    "for i in views_tags[:30]:\n",
    "    view.append(i.text)"
   ]
  },
  {
   "cell_type": "code",
   "execution_count": 22,
   "metadata": {},
   "outputs": [
    {
     "data": {
      "text/plain": [
       "['8.91',\n",
       " '7.43',\n",
       " '5.53',\n",
       " '5.37',\n",
       " '5.16',\n",
       " '4.44',\n",
       " '4.26',\n",
       " '4.22',\n",
       " '4.22',\n",
       " '4.11',\n",
       " '3.97',\n",
       " '3.50',\n",
       " '3.45',\n",
       " '3.43',\n",
       " '3.38',\n",
       " '3.33',\n",
       " '3.28',\n",
       " '3.13',\n",
       " '3.10',\n",
       " '3.09',\n",
       " '3.07',\n",
       " '3.06',\n",
       " '3.06',\n",
       " '3.06',\n",
       " '3.02',\n",
       " '2.94',\n",
       " '2.89',\n",
       " '2.87',\n",
       " '2.86',\n",
       " '2.85']"
      ]
     },
     "execution_count": 22,
     "metadata": {},
     "output_type": "execute_result"
    }
   ],
   "source": [
    "view"
   ]
  },
  {
   "cell_type": "code",
   "execution_count": 23,
   "metadata": {},
   "outputs": [
    {
     "data": {
      "text/plain": [
       "[<selenium.webdriver.remote.webelement.WebElement (session=\"fd2c9709809f762960bfca240c0aabdd\", element=\"8f29e199-1362-443a-8fd4-80fa77fcc959\")>,\n",
       " <selenium.webdriver.remote.webelement.WebElement (session=\"fd2c9709809f762960bfca240c0aabdd\", element=\"b0f2fe14-2022-4de8-8137-3aeeacabf1c9\")>,\n",
       " <selenium.webdriver.remote.webelement.WebElement (session=\"fd2c9709809f762960bfca240c0aabdd\", element=\"203b59af-eed0-43ff-af6d-d6bd092911c4\")>,\n",
       " <selenium.webdriver.remote.webelement.WebElement (session=\"fd2c9709809f762960bfca240c0aabdd\", element=\"81f8500b-3fbf-4328-9339-f7cdfab6128d\")>,\n",
       " <selenium.webdriver.remote.webelement.WebElement (session=\"fd2c9709809f762960bfca240c0aabdd\", element=\"979bf952-900b-4cdc-8c5b-f0d73f19fddc\")>,\n",
       " <selenium.webdriver.remote.webelement.WebElement (session=\"fd2c9709809f762960bfca240c0aabdd\", element=\"ba78ba69-6caa-431c-bf51-a17744799a64\")>,\n",
       " <selenium.webdriver.remote.webelement.WebElement (session=\"fd2c9709809f762960bfca240c0aabdd\", element=\"8a0168e0-bbc2-4111-b0df-e6d28334060e\")>,\n",
       " <selenium.webdriver.remote.webelement.WebElement (session=\"fd2c9709809f762960bfca240c0aabdd\", element=\"51bf6869-3a1f-4a51-8690-3f48d078e0cf\")>,\n",
       " <selenium.webdriver.remote.webelement.WebElement (session=\"fd2c9709809f762960bfca240c0aabdd\", element=\"2a39a3ba-08be-4cbc-bfca-c4efc2d0ee18\")>,\n",
       " <selenium.webdriver.remote.webelement.WebElement (session=\"fd2c9709809f762960bfca240c0aabdd\", element=\"fbacc0e8-acab-484e-a41b-6ae029775911\")>,\n",
       " <selenium.webdriver.remote.webelement.WebElement (session=\"fd2c9709809f762960bfca240c0aabdd\", element=\"06b23cdb-27b2-42bd-8bf6-deef0259ab97\")>,\n",
       " <selenium.webdriver.remote.webelement.WebElement (session=\"fd2c9709809f762960bfca240c0aabdd\", element=\"fcc55473-afc1-45d0-9db7-4bd2f8fae9f5\")>,\n",
       " <selenium.webdriver.remote.webelement.WebElement (session=\"fd2c9709809f762960bfca240c0aabdd\", element=\"2b0fb01d-4144-416d-b350-0955d671db41\")>,\n",
       " <selenium.webdriver.remote.webelement.WebElement (session=\"fd2c9709809f762960bfca240c0aabdd\", element=\"c63ab398-85bc-4048-a11c-caac128a37e4\")>,\n",
       " <selenium.webdriver.remote.webelement.WebElement (session=\"fd2c9709809f762960bfca240c0aabdd\", element=\"4af6f1e3-cd41-4160-abf1-fd43396e40dd\")>,\n",
       " <selenium.webdriver.remote.webelement.WebElement (session=\"fd2c9709809f762960bfca240c0aabdd\", element=\"1c7bd26c-f258-45ae-904d-296c84e3e9a3\")>,\n",
       " <selenium.webdriver.remote.webelement.WebElement (session=\"fd2c9709809f762960bfca240c0aabdd\", element=\"55661ab5-d4a7-4b46-aef1-93f7b1278223\")>,\n",
       " <selenium.webdriver.remote.webelement.WebElement (session=\"fd2c9709809f762960bfca240c0aabdd\", element=\"3c0c4336-31bd-4f35-8820-b8cb268e77cf\")>,\n",
       " <selenium.webdriver.remote.webelement.WebElement (session=\"fd2c9709809f762960bfca240c0aabdd\", element=\"64fa418c-53f6-4443-9c61-44b018ec6adc\")>,\n",
       " <selenium.webdriver.remote.webelement.WebElement (session=\"fd2c9709809f762960bfca240c0aabdd\", element=\"9ff34184-c8db-4f48-8edd-26e3684818b7\")>,\n",
       " <selenium.webdriver.remote.webelement.WebElement (session=\"fd2c9709809f762960bfca240c0aabdd\", element=\"1a045c6b-1282-417a-b31d-f3b6c5f86669\")>,\n",
       " <selenium.webdriver.remote.webelement.WebElement (session=\"fd2c9709809f762960bfca240c0aabdd\", element=\"387f94ec-a2e7-4a85-a28f-6d413048090c\")>,\n",
       " <selenium.webdriver.remote.webelement.WebElement (session=\"fd2c9709809f762960bfca240c0aabdd\", element=\"2003b334-ff3e-44bf-a6f1-6c598d8d81ba\")>,\n",
       " <selenium.webdriver.remote.webelement.WebElement (session=\"fd2c9709809f762960bfca240c0aabdd\", element=\"8035c42b-09fe-49e5-9200-ddd7151542d1\")>,\n",
       " <selenium.webdriver.remote.webelement.WebElement (session=\"fd2c9709809f762960bfca240c0aabdd\", element=\"425bbd8e-186b-4b7c-9761-3c228dae0b75\")>,\n",
       " <selenium.webdriver.remote.webelement.WebElement (session=\"fd2c9709809f762960bfca240c0aabdd\", element=\"69b5f82a-a44d-438c-858a-030bd937360c\")>,\n",
       " <selenium.webdriver.remote.webelement.WebElement (session=\"fd2c9709809f762960bfca240c0aabdd\", element=\"52bb7236-c35b-4d53-8c51-7026ee3e3d74\")>,\n",
       " <selenium.webdriver.remote.webelement.WebElement (session=\"fd2c9709809f762960bfca240c0aabdd\", element=\"cae5943c-be4d-45cc-aa0d-775ad81cccf8\")>,\n",
       " <selenium.webdriver.remote.webelement.WebElement (session=\"fd2c9709809f762960bfca240c0aabdd\", element=\"1a6db3c9-e1f8-46c2-ad20-1ef54dca6eed\")>,\n",
       " <selenium.webdriver.remote.webelement.WebElement (session=\"fd2c9709809f762960bfca240c0aabdd\", element=\"0715ae8a-1411-4ca2-8dba-f285fc06ce09\")>,\n",
       " <selenium.webdriver.remote.webelement.WebElement (session=\"fd2c9709809f762960bfca240c0aabdd\", element=\"b0b886a5-ac17-4f93-ba66-1f0210db3be0\")>,\n",
       " <selenium.webdriver.remote.webelement.WebElement (session=\"fd2c9709809f762960bfca240c0aabdd\", element=\"b25cfadd-4429-4c93-aa7d-d49a4b79eeb9\")>,\n",
       " <selenium.webdriver.remote.webelement.WebElement (session=\"fd2c9709809f762960bfca240c0aabdd\", element=\"edda4333-d184-4ea7-8abf-79bbfd4192f2\")>,\n",
       " <selenium.webdriver.remote.webelement.WebElement (session=\"fd2c9709809f762960bfca240c0aabdd\", element=\"13e54fcf-93fa-4fb1-83f2-24d0f631fd9d\")>,\n",
       " <selenium.webdriver.remote.webelement.WebElement (session=\"fd2c9709809f762960bfca240c0aabdd\", element=\"0056c230-823a-4e95-9df2-76c86d3acb8d\")>,\n",
       " <selenium.webdriver.remote.webelement.WebElement (session=\"fd2c9709809f762960bfca240c0aabdd\", element=\"b33d437e-ed08-4d94-b00d-0660b091c9b6\")>,\n",
       " <selenium.webdriver.remote.webelement.WebElement (session=\"fd2c9709809f762960bfca240c0aabdd\", element=\"7939d75b-0762-4b92-85c3-2dac14759883\")>,\n",
       " <selenium.webdriver.remote.webelement.WebElement (session=\"fd2c9709809f762960bfca240c0aabdd\", element=\"91b54b83-34f0-441a-9899-4d9ccd28bee8\")>,\n",
       " <selenium.webdriver.remote.webelement.WebElement (session=\"fd2c9709809f762960bfca240c0aabdd\", element=\"5dc7bcd5-42dd-4c0c-820a-daf2fed32242\")>,\n",
       " <selenium.webdriver.remote.webelement.WebElement (session=\"fd2c9709809f762960bfca240c0aabdd\", element=\"6fcdcbd0-1622-4b5f-a36d-47e833ac644c\")>,\n",
       " <selenium.webdriver.remote.webelement.WebElement (session=\"fd2c9709809f762960bfca240c0aabdd\", element=\"a74b42c1-b73e-4ade-ad70-e0dc9df81a00\")>,\n",
       " <selenium.webdriver.remote.webelement.WebElement (session=\"fd2c9709809f762960bfca240c0aabdd\", element=\"2f56ea75-02c5-4439-ab3a-2b54aa0dd38a\")>,\n",
       " <selenium.webdriver.remote.webelement.WebElement (session=\"fd2c9709809f762960bfca240c0aabdd\", element=\"1a764390-e2ba-4449-a6fd-e1f90a7bf794\")>,\n",
       " <selenium.webdriver.remote.webelement.WebElement (session=\"fd2c9709809f762960bfca240c0aabdd\", element=\"d37903ae-0730-4a2d-9dc2-a3b717843ef6\")>,\n",
       " <selenium.webdriver.remote.webelement.WebElement (session=\"fd2c9709809f762960bfca240c0aabdd\", element=\"f8fe9276-7560-4805-8d65-6f4ae533ed5a\")>,\n",
       " <selenium.webdriver.remote.webelement.WebElement (session=\"fd2c9709809f762960bfca240c0aabdd\", element=\"6bbb5b07-ab68-43cd-94a6-3492b601fd05\")>,\n",
       " <selenium.webdriver.remote.webelement.WebElement (session=\"fd2c9709809f762960bfca240c0aabdd\", element=\"6bbdd797-78a4-42da-8cf6-dbd12608b6c7\")>,\n",
       " <selenium.webdriver.remote.webelement.WebElement (session=\"fd2c9709809f762960bfca240c0aabdd\", element=\"8c22af11-5f22-458a-bb40-0c632b3cf456\")>,\n",
       " <selenium.webdriver.remote.webelement.WebElement (session=\"fd2c9709809f762960bfca240c0aabdd\", element=\"2d003ce8-9279-451c-af22-b838e120cdc2\")>]"
      ]
     },
     "execution_count": 23,
     "metadata": {},
     "output_type": "execute_result"
    }
   ],
   "source": [
    "uploaddate_tags=driver.find_elements_by_xpath(\"//table[@class='wikitable sortable jquery-tablesorter']/tbody/tr/td[5]\")\n",
    "uploaddate_tags"
   ]
  },
  {
   "cell_type": "code",
   "execution_count": 24,
   "metadata": {},
   "outputs": [],
   "source": [
    "uploaddate=[]\n",
    "for i in uploaddate_tags[:30]:\n",
    "    uploaddate.append(i.text)"
   ]
  },
  {
   "cell_type": "code",
   "execution_count": 25,
   "metadata": {},
   "outputs": [
    {
     "data": {
      "text/plain": [
       "['June 17, 2016',\n",
       " 'January 12, 2017',\n",
       " 'October 8, 2016',\n",
       " 'January 30, 2017',\n",
       " 'April 6, 2015',\n",
       " 'January 31, 2012',\n",
       " 'May 2, 2018',\n",
       " 'February 27, 2018',\n",
       " 'November 19, 2014',\n",
       " 'July 15, 2012',\n",
       " 'March 6, 2014',\n",
       " 'January 14, 2015',\n",
       " 'October 22, 2015',\n",
       " 'April 5, 2018',\n",
       " 'September 5, 2013',\n",
       " 'May 31, 2013',\n",
       " 'October 7, 2014',\n",
       " 'May 24, 2018',\n",
       " 'February 20, 2014',\n",
       " 'December 3, 2015',\n",
       " 'August 18, 2014',\n",
       " 'May 31, 2018',\n",
       " 'March 22, 2015',\n",
       " 'April 11, 2014',\n",
       " 'July 25, 2012',\n",
       " 'June 29, 2017',\n",
       " 'November 9, 2017',\n",
       " 'June 4, 2010',\n",
       " 'June 16, 2009',\n",
       " 'October 22, 2015']"
      ]
     },
     "execution_count": 25,
     "metadata": {},
     "output_type": "execute_result"
    }
   ],
   "source": [
    "uploaddate"
   ]
  },
  {
   "cell_type": "code",
   "execution_count": 26,
   "metadata": {},
   "outputs": [],
   "source": [
    "youtube=pd.DataFrame({})\n",
    "youtube['Rank']=rank\n",
    "youtube['Name']= name\n",
    "youtube['Artist']=artist\n",
    "youtube['View']=view\n",
    "youtube['UploadDate']= uploaddate"
   ]
  },
  {
   "cell_type": "code",
   "execution_count": 27,
   "metadata": {},
   "outputs": [
    {
     "data": {
      "text/html": [
       "<div>\n",
       "<style scoped>\n",
       "    .dataframe tbody tr th:only-of-type {\n",
       "        vertical-align: middle;\n",
       "    }\n",
       "\n",
       "    .dataframe tbody tr th {\n",
       "        vertical-align: top;\n",
       "    }\n",
       "\n",
       "    .dataframe thead th {\n",
       "        text-align: right;\n",
       "    }\n",
       "</style>\n",
       "<table border=\"1\" class=\"dataframe\">\n",
       "  <thead>\n",
       "    <tr style=\"text-align: right;\">\n",
       "      <th></th>\n",
       "      <th>Rank</th>\n",
       "      <th>Name</th>\n",
       "      <th>Artist</th>\n",
       "      <th>View</th>\n",
       "      <th>UploadDate</th>\n",
       "    </tr>\n",
       "  </thead>\n",
       "  <tbody>\n",
       "    <tr>\n",
       "      <th>0</th>\n",
       "      <td>1.</td>\n",
       "      <td>\"Baby Shark Dance\"[22]</td>\n",
       "      <td>Pinkfong Kids' Songs &amp; Stories</td>\n",
       "      <td>8.91</td>\n",
       "      <td>June 17, 2016</td>\n",
       "    </tr>\n",
       "    <tr>\n",
       "      <th>1</th>\n",
       "      <td>2.</td>\n",
       "      <td>\"Despacito\"[24]</td>\n",
       "      <td>Luis Fonsi</td>\n",
       "      <td>7.43</td>\n",
       "      <td>January 12, 2017</td>\n",
       "    </tr>\n",
       "    <tr>\n",
       "      <th>2</th>\n",
       "      <td>3.</td>\n",
       "      <td>\"Johny Johny Yes Papa\"[25]</td>\n",
       "      <td>LooLoo Kids</td>\n",
       "      <td>5.53</td>\n",
       "      <td>October 8, 2016</td>\n",
       "    </tr>\n",
       "    <tr>\n",
       "      <th>3</th>\n",
       "      <td>4.</td>\n",
       "      <td>\"Shape of You\"[26]</td>\n",
       "      <td>Ed Sheeran</td>\n",
       "      <td>5.37</td>\n",
       "      <td>January 30, 2017</td>\n",
       "    </tr>\n",
       "    <tr>\n",
       "      <th>4</th>\n",
       "      <td>5.</td>\n",
       "      <td>\"See You Again\"[27]</td>\n",
       "      <td>Wiz Khalifa</td>\n",
       "      <td>5.16</td>\n",
       "      <td>April 6, 2015</td>\n",
       "    </tr>\n",
       "    <tr>\n",
       "      <th>5</th>\n",
       "      <td>6.</td>\n",
       "      <td>\"Masha and the Bear – Recipe for Disaster\"[30]</td>\n",
       "      <td>Get Movies</td>\n",
       "      <td>4.44</td>\n",
       "      <td>January 31, 2012</td>\n",
       "    </tr>\n",
       "    <tr>\n",
       "      <th>6</th>\n",
       "      <td>7.</td>\n",
       "      <td>\"Bath Song\"[31]</td>\n",
       "      <td>Cocomelon – Nursery Rhymes</td>\n",
       "      <td>4.26</td>\n",
       "      <td>May 2, 2018</td>\n",
       "    </tr>\n",
       "    <tr>\n",
       "      <th>7</th>\n",
       "      <td>8.</td>\n",
       "      <td>\"Learning Colors – Colorful Eggs on a Farm\"[32]</td>\n",
       "      <td>Miroshka TV</td>\n",
       "      <td>4.22</td>\n",
       "      <td>February 27, 2018</td>\n",
       "    </tr>\n",
       "    <tr>\n",
       "      <th>8</th>\n",
       "      <td>9.</td>\n",
       "      <td>\"Uptown Funk\"[33]</td>\n",
       "      <td>Mark Ronson</td>\n",
       "      <td>4.22</td>\n",
       "      <td>November 19, 2014</td>\n",
       "    </tr>\n",
       "    <tr>\n",
       "      <th>9</th>\n",
       "      <td>10.</td>\n",
       "      <td>\"Gangnam Style\"[34]</td>\n",
       "      <td>Psy</td>\n",
       "      <td>4.11</td>\n",
       "      <td>July 15, 2012</td>\n",
       "    </tr>\n",
       "    <tr>\n",
       "      <th>10</th>\n",
       "      <td>11.</td>\n",
       "      <td>\"Phonics Song with Two Words\"[36]</td>\n",
       "      <td>ChuChu TV</td>\n",
       "      <td>3.97</td>\n",
       "      <td>March 6, 2014</td>\n",
       "    </tr>\n",
       "    <tr>\n",
       "      <th>11</th>\n",
       "      <td>12.</td>\n",
       "      <td>\"Sugar\"[37]</td>\n",
       "      <td>Maroon 5</td>\n",
       "      <td>3.50</td>\n",
       "      <td>January 14, 2015</td>\n",
       "    </tr>\n",
       "    <tr>\n",
       "      <th>12</th>\n",
       "      <td>13.</td>\n",
       "      <td>\"Sorry\"[38]</td>\n",
       "      <td>Justin Bieber</td>\n",
       "      <td>3.45</td>\n",
       "      <td>October 22, 2015</td>\n",
       "    </tr>\n",
       "    <tr>\n",
       "      <th>13</th>\n",
       "      <td>14.</td>\n",
       "      <td>\"Dame Tu Cosita\"[39]</td>\n",
       "      <td>El Chombo</td>\n",
       "      <td>3.43</td>\n",
       "      <td>April 5, 2018</td>\n",
       "    </tr>\n",
       "    <tr>\n",
       "      <th>14</th>\n",
       "      <td>15.</td>\n",
       "      <td>\"Roar\"[40]</td>\n",
       "      <td>Katy Perry</td>\n",
       "      <td>3.38</td>\n",
       "      <td>September 5, 2013</td>\n",
       "    </tr>\n",
       "    <tr>\n",
       "      <th>15</th>\n",
       "      <td>16.</td>\n",
       "      <td>\"Counting Stars\"[41]</td>\n",
       "      <td>OneRepublic</td>\n",
       "      <td>3.33</td>\n",
       "      <td>May 31, 2013</td>\n",
       "    </tr>\n",
       "    <tr>\n",
       "      <th>16</th>\n",
       "      <td>17.</td>\n",
       "      <td>\"Thinking Out Loud\"[42]</td>\n",
       "      <td>Ed Sheeran</td>\n",
       "      <td>3.28</td>\n",
       "      <td>October 7, 2014</td>\n",
       "    </tr>\n",
       "    <tr>\n",
       "      <th>17</th>\n",
       "      <td>18.</td>\n",
       "      <td>\"Wheels on the Bus\"[43]</td>\n",
       "      <td>Cocomelon – Nursery Rhymes</td>\n",
       "      <td>3.13</td>\n",
       "      <td>May 24, 2018</td>\n",
       "    </tr>\n",
       "    <tr>\n",
       "      <th>18</th>\n",
       "      <td>19.</td>\n",
       "      <td>\"Dark Horse\"[44]</td>\n",
       "      <td>Katy Perry</td>\n",
       "      <td>3.10</td>\n",
       "      <td>February 20, 2014</td>\n",
       "    </tr>\n",
       "    <tr>\n",
       "      <th>19</th>\n",
       "      <td>20.</td>\n",
       "      <td>\"Faded\"[45]</td>\n",
       "      <td>Alan Walker</td>\n",
       "      <td>3.09</td>\n",
       "      <td>December 3, 2015</td>\n",
       "    </tr>\n",
       "    <tr>\n",
       "      <th>20</th>\n",
       "      <td>21.</td>\n",
       "      <td>\"Shake It Off\"[46]</td>\n",
       "      <td>Taylor Swift</td>\n",
       "      <td>3.07</td>\n",
       "      <td>August 18, 2014</td>\n",
       "    </tr>\n",
       "    <tr>\n",
       "      <th>21</th>\n",
       "      <td>22.</td>\n",
       "      <td>\"Girls Like You\"[47]</td>\n",
       "      <td>Maroon 5</td>\n",
       "      <td>3.06</td>\n",
       "      <td>May 31, 2018</td>\n",
       "    </tr>\n",
       "    <tr>\n",
       "      <th>22</th>\n",
       "      <td>23.</td>\n",
       "      <td>\"Lean On\"[48]</td>\n",
       "      <td>Major Lazer</td>\n",
       "      <td>3.06</td>\n",
       "      <td>March 22, 2015</td>\n",
       "    </tr>\n",
       "    <tr>\n",
       "      <th>23</th>\n",
       "      <td>24.</td>\n",
       "      <td>\"Bailando\"[49]</td>\n",
       "      <td>Enrique Iglesias</td>\n",
       "      <td>3.06</td>\n",
       "      <td>April 11, 2014</td>\n",
       "    </tr>\n",
       "    <tr>\n",
       "      <th>24</th>\n",
       "      <td>25.</td>\n",
       "      <td>\"Let Her Go\"[50]</td>\n",
       "      <td>Passenger</td>\n",
       "      <td>3.02</td>\n",
       "      <td>July 25, 2012</td>\n",
       "    </tr>\n",
       "    <tr>\n",
       "      <th>25</th>\n",
       "      <td>26.</td>\n",
       "      <td>\"Mi Gente\"[51]</td>\n",
       "      <td>J Balvin</td>\n",
       "      <td>2.94</td>\n",
       "      <td>June 29, 2017</td>\n",
       "    </tr>\n",
       "    <tr>\n",
       "      <th>26</th>\n",
       "      <td>27.</td>\n",
       "      <td>\"Perfect\"[52]</td>\n",
       "      <td>Ed Sheeran</td>\n",
       "      <td>2.89</td>\n",
       "      <td>November 9, 2017</td>\n",
       "    </tr>\n",
       "    <tr>\n",
       "      <th>27</th>\n",
       "      <td>28.</td>\n",
       "      <td>\"Waka Waka (This Time for Africa)\"[53]</td>\n",
       "      <td>Shakira</td>\n",
       "      <td>2.87</td>\n",
       "      <td>June 4, 2010</td>\n",
       "    </tr>\n",
       "    <tr>\n",
       "      <th>28</th>\n",
       "      <td>29.</td>\n",
       "      <td>\"Axel F\"[54]</td>\n",
       "      <td>Crazy Frog</td>\n",
       "      <td>2.86</td>\n",
       "      <td>June 16, 2009</td>\n",
       "    </tr>\n",
       "    <tr>\n",
       "      <th>29</th>\n",
       "      <td>30.</td>\n",
       "      <td>\"Hello\"[55]</td>\n",
       "      <td>Adele</td>\n",
       "      <td>2.85</td>\n",
       "      <td>October 22, 2015</td>\n",
       "    </tr>\n",
       "  </tbody>\n",
       "</table>\n",
       "</div>"
      ],
      "text/plain": [
       "   Rank                                             Name  \\\n",
       "0    1.                           \"Baby Shark Dance\"[22]   \n",
       "1    2.                                  \"Despacito\"[24]   \n",
       "2    3.                       \"Johny Johny Yes Papa\"[25]   \n",
       "3    4.                               \"Shape of You\"[26]   \n",
       "4    5.                              \"See You Again\"[27]   \n",
       "5    6.   \"Masha and the Bear – Recipe for Disaster\"[30]   \n",
       "6    7.                                  \"Bath Song\"[31]   \n",
       "7    8.  \"Learning Colors – Colorful Eggs on a Farm\"[32]   \n",
       "8    9.                                \"Uptown Funk\"[33]   \n",
       "9   10.                              \"Gangnam Style\"[34]   \n",
       "10  11.                \"Phonics Song with Two Words\"[36]   \n",
       "11  12.                                      \"Sugar\"[37]   \n",
       "12  13.                                      \"Sorry\"[38]   \n",
       "13  14.                             \"Dame Tu Cosita\"[39]   \n",
       "14  15.                                       \"Roar\"[40]   \n",
       "15  16.                             \"Counting Stars\"[41]   \n",
       "16  17.                          \"Thinking Out Loud\"[42]   \n",
       "17  18.                          \"Wheels on the Bus\"[43]   \n",
       "18  19.                                 \"Dark Horse\"[44]   \n",
       "19  20.                                      \"Faded\"[45]   \n",
       "20  21.                               \"Shake It Off\"[46]   \n",
       "21  22.                             \"Girls Like You\"[47]   \n",
       "22  23.                                    \"Lean On\"[48]   \n",
       "23  24.                                   \"Bailando\"[49]   \n",
       "24  25.                                 \"Let Her Go\"[50]   \n",
       "25  26.                                   \"Mi Gente\"[51]   \n",
       "26  27.                                    \"Perfect\"[52]   \n",
       "27  28.           \"Waka Waka (This Time for Africa)\"[53]   \n",
       "28  29.                                     \"Axel F\"[54]   \n",
       "29  30.                                      \"Hello\"[55]   \n",
       "\n",
       "                            Artist  View         UploadDate  \n",
       "0   Pinkfong Kids' Songs & Stories  8.91      June 17, 2016  \n",
       "1                       Luis Fonsi  7.43   January 12, 2017  \n",
       "2                      LooLoo Kids  5.53    October 8, 2016  \n",
       "3                       Ed Sheeran  5.37   January 30, 2017  \n",
       "4                      Wiz Khalifa  5.16      April 6, 2015  \n",
       "5                       Get Movies  4.44   January 31, 2012  \n",
       "6       Cocomelon – Nursery Rhymes  4.26        May 2, 2018  \n",
       "7                      Miroshka TV  4.22  February 27, 2018  \n",
       "8                      Mark Ronson  4.22  November 19, 2014  \n",
       "9                              Psy  4.11      July 15, 2012  \n",
       "10                       ChuChu TV  3.97      March 6, 2014  \n",
       "11                        Maroon 5  3.50   January 14, 2015  \n",
       "12                   Justin Bieber  3.45   October 22, 2015  \n",
       "13                       El Chombo  3.43      April 5, 2018  \n",
       "14                      Katy Perry  3.38  September 5, 2013  \n",
       "15                     OneRepublic  3.33       May 31, 2013  \n",
       "16                      Ed Sheeran  3.28    October 7, 2014  \n",
       "17      Cocomelon – Nursery Rhymes  3.13       May 24, 2018  \n",
       "18                      Katy Perry  3.10  February 20, 2014  \n",
       "19                     Alan Walker  3.09   December 3, 2015  \n",
       "20                    Taylor Swift  3.07    August 18, 2014  \n",
       "21                        Maroon 5  3.06       May 31, 2018  \n",
       "22                     Major Lazer  3.06     March 22, 2015  \n",
       "23                Enrique Iglesias  3.06     April 11, 2014  \n",
       "24                       Passenger  3.02      July 25, 2012  \n",
       "25                        J Balvin  2.94      June 29, 2017  \n",
       "26                      Ed Sheeran  2.89   November 9, 2017  \n",
       "27                         Shakira  2.87       June 4, 2010  \n",
       "28                      Crazy Frog  2.86      June 16, 2009  \n",
       "29                           Adele  2.85   October 22, 2015  "
      ]
     },
     "execution_count": 27,
     "metadata": {},
     "output_type": "execute_result"
    }
   ],
   "source": [
    "youtube"
   ]
  },
  {
   "cell_type": "raw",
   "metadata": {},
   "source": [
    "2. Scrape the details team India’s international fixtures from bcci.tv.\n",
    "Url = https://www.bcci.tv/.\n",
    "You need to find following details:\n",
    "A) Match title (I.e. 1st ODI)\n",
    "B) Series\n",
    "C) Place\n",
    "D) Date\n",
    "E) Time\n",
    "Note: - From bcci.tv home page you have reach to the international fixture page through code."
   ]
  },
  {
   "cell_type": "code",
   "execution_count": 1,
   "metadata": {},
   "outputs": [],
   "source": [
    "import selenium\n",
    "import pandas as pd\n",
    "from selenium import webdriver\n",
    "import warnings\n",
    "warnings.filterwarnings('ignore')\n",
    "import time\n",
    "from selenium.common.exceptions import NoSuchElementException"
   ]
  },
  {
   "cell_type": "code",
   "execution_count": 2,
   "metadata": {},
   "outputs": [],
   "source": [
    "driver=webdriver.Chrome(r\"C:\\Users\\ChesthaS\\Downloads\\chromedriver_win32 (1)\\chromedriver.exe\")"
   ]
  },
  {
   "cell_type": "code",
   "execution_count": 3,
   "metadata": {},
   "outputs": [],
   "source": [
    "url = \"https://www.bcci.tv/\"                                                                                                                                                                                                                                                                                                                                                                                                                                                                                                                                                                                                                                                                                                                                                                                                                                                                                                                                                                                                                                                                                                                                                                                                                                                                                                                                                                                                                                                                                                                                                                                                                                                                                                                                                                                                                                                                                                                                                                                                                                                                                                                                                                                                                                                                                                                                                                                                                                                                                                                                                                                                                                                                                                                                                                                                                                                                                                                                                                                                                                                                                                                                                                                                                                                                                                                                                                                                                                                                                                                                                                                                                                                                                                                                                                                                                                                                                                                                                                                                                                                                                                                                                                                                                                                                                                                                                                                                                                                                                                                                                                                                                                                                                                                                                                                                                                                                                                                                                                                                                                                                                                                                                                                                                                                                                                                                                                                                                                                                                                                                                                                                                                                                                                                                                                                                                                                                                                                                                                                                                                                                                                                                                                                                                                                                                                                                                                                                                                                                                                                                                                                                                                                                                                                                                                                                                                                                                                                                                                                                                                                                                                                                                                                                                                                                                                                                                                                                                                                                                                                                                                                                                                                                                                                                                                                                                                                                                                                                                                                                                                                                                                                                                                                                                                                                                                                                                                                                                                                                                                                                                                                                                                                                                                                                                                                                                                                                                                                                                                                                                                                                                                                                                                                                                                                                                                                                                                                                                                                                                                                                                                                                                                                                                                                                                                                                                                                                                                                                                                                                                                                                                                                                                                                                                                                                                                                                                                                                                                                                                                                                                                                                                                                                                                                                                                                                                                                                                                                                                                                                                                                                                                                                                                                                                                                                                                                                                                                                                                                                                                                                                                                                                                                                                                                                                                                                                                                                                                                                                                                                                                                                                                                                                                                                                                                                                                                                                                                                                                                                                                                                                                                                                                                                                                                                                                                                                                                                                                                                                                                                                                                                                                                                                                                                                                                                                                                                                                                                                                                                                                                                                                                                                                                                                                                                                                                                                                                                                                                                                                                                                                                                                                                                                                                                                                                                                                                                                                                                                                                                                                                                                                                                                                                                                                                                                                                                                                                                                                                                                                                                                                                                                                                                                                                                                                                                                                                                                                                                                                                                                                                                                                                                                                                                                                                                                                                                                                                                                                                                                                                                                                                                                                                                                                                                                                                                                                                                                                                                                                                                                                                                                                                                                                                                                                                                                                                                                                                                                                                                                                                                                                                                                                                                                                                                                                                                                                                                                                                                                                                                                                                                                                                                                                                                                                                                                                                                                                                                                                                                                                                                                                                                                                                                                                                                                                                                                                                                                                                                                                                                                                                                                                                                                                                                                                                                                                                                                                                                                                                                                                                                                                                                                                                                                                                                                                                                                                                                                                                                                                                                                                                                                                                                                                                                                                                                                                                                                                                                                                                                                                                                                                                                                                                                                                                                                                                                                                                                                                                                                                                                                                                                                                                                                                                                                                                                                                                                                                                                                                                                                                                                                                                                                                                                                                                                                                                                                                                                                                                                                                                                                                                                                                                                                                                                                                                                                                                                                                                                                                                                                                                                                                                                                                                                                                                                                                                                                                                                                                                                                                                                                                                                                                                                                                                                                                                                                                                                                                                                                                                                                                                                                                                                                                                                                                                                                                                                                                                                                                                                                                                                                                                                                                                                                                                                                                                                                                                                                                                                                                                                                                                                                                                                                                                                                                                                                                                                                                                                                                                                                                                                                                                                                                                                                                                                                                                                                                                                                                                                                                                                                                                                                                                                                                                                                                                                                                                                                                                                                                                                                                                                                                                                                                                                                                                                                                                                                                                                                                                                                                                                                                                                                                                                                                                                                                                                                                                                                                                                                                                                                                                                                                                                                                                                                                                                                                                                                                                                                                                                                                                                                                                                                                                                                                                                                                                                                                                                                                                                                                                                                                                                                                                                                                                                                                                                                                                                                                                                                                                                                                                                                                                                                                                                                                                                                                                                                                                                                                                                                                                                                                                                                                                                                                                                                                                                                                                                                                                                                                                                                                                                                                                                                                                                                                                                                                                                                                                                                                                                                                                                                                                                                                                                                                                                                                                                                                                                                                                                                                                                                                                                                                                                                                                                                                                                                                                                                                                                                                                                                                                                                                                                                                                                                                                                                                                                                                                                                                                                                                                                                                                                                                                                                                                                                                                                                                                                                                                                                                                                                                                                                                                                                                                                                                                                                                                                                                                                                                                                                                                                                                                                                                                                                                                                                                                                                                                                                                                                                                                                                                                                                                                                                                                                                                                                                                                                                                                                                                                                                                                                                                                                                                                                                                                                                                                                                                                                                                                                                                                                                                                                                                                                                                                                                                                                                                                                                                                                                                                                                                                                                                                                                                                                                                                                                                                                                                                                                                                                                                                                                                                                                                                                                                                                                                                                                                                                                                                                                                                                                                                                                                                                                                                                                                                                                                                                                                                                                                                                                                                                                                                                                                                                                                                                                                                                                                                                                                                                                                                                                                                                                                                                                                                                                                                                                                                                                                                                                                                                                                                                                                                                                                                                                                                                                                                                                                                                                                                                                                                                                                                                                                                                                                                                                                                                                                                                                                                                                                                                                                                                                                                                                                                                                                                                                                                                                                                                                                                                                                                                                                                                                                                                                                                                                                                                                                                                                                                                                                                                                                                                                                                                                                                                                                                                                                                                                                                                                                                                                                                                                                                                                                                                                                                                                                                                                                                                                                                                                                                                                                                                                                                                                                                                                                                                                                                                                                                                                                                                                                                                                                                                                                                                                                                                                                                                                                                                                                                                                                                                                                                                                                                                                                                                                                                                                                                                                                                                                                                                                                                                                                                                                                                                                                                                                                                                                                                                                                                                                                                                                                                                                                                                                                                                                                                                                                                                                                                                                                                                                                                                                                                                                                                                                                                                                                                                                                                                                                                                                                                                                                                                                                                                                                                                                                                                                                                                                                                                                                                                                                                                                                                                                                                                                                                                                                                                                                                                                                                                                                                                                                                                                                                                                                                                                                                                                                                                                                                                                                                                                                                                                                                                                                                                                                                                                                                                                                                                                                                                                                                                                                                                                                                                                                                                                                                                                                                                                                                                                                                                                                                                                                                                                                                                                                                                                                                                                                                                                                                                                                                                                                                                                                                                                                                                                                                                                                                                                                                                                                                                                                                                                                                                                                                                                                                                                                                                                                                                                                                                                                                                                                                                                                                                                                                                                                                                                                                                                                                                                                                                                                                                                                                                                                                                                                                                                                                                                                                                                                                                                                                                                                                                                                                                                                                                                                                                                                                                                                                                                                                                                                                                                                                                                                                                                                                                                                                                                                                                                                                                                                                                                                                                                                                                                                                                                                                                                                                                                                                                                                                                                                                                                                                                                                                                                                                                                                                                                                                                                                                                                                                                                                                                                                                                                                                                                                                                                                                                                                                                                                                                                                                                                                                                                                                                                                                                                                                                                                                                                                                                                                                                                                                                                                                                                                                                                                                                                                                                                                                                                                                                                                                                                                                                                                                                                                                                                                                                                                                                                                                                                                                                                                                                                                                                                                                                                                                                                                                                                                                                                                                                                                                                                                                                                                                                                                                                                                                                                                                                                                                                                                                                                                                                                                                                                                                                                                                                                                                                                                                                                                                                                                                                                                                                                                                                                                                                                                                                                                                                                                                                                                                                                                                                                                                                                                                                                                                                                                                                                                                                                                                                                                                                                                                                                                                                                                                                                                                                                                                                                                                                                                                                                                                                                                                                                                                                                                                                                                                                                                                                                                                                                                                                                                                                                                                                                                                                                                                                                                                                                                                                                                                                                                                                                                                                                                                                                                                                                                                                                                                                                                                                                                                                                                                                                                                                                                                                                                                                                                                                                                                                                                                                                                                                                                                                                                                                                                                                                                                                                                                                                                                                                                                                                                                                                                                                                                                                                                                                                                                                                                                                                                                                                                                                                                                                                                                                                                                                                                                                                                                                                                                                                                                                                                                                                                                                                                                                                                                                                                                                                                                                                                                                                                                                                                                                                                                                                                                                                                                                                                                                                                                                                                                                                                                                                                                                                                                                                                                                                                                                                                                                                                                                                                                                                                                                                                                                                                                                                                                                                                                                                                                                                                                                                                                                                                                                                                                                                                                                                                                                                                                                                                                                                                                                                                                                                                                                                                                                                                                                                                                                                                                                                                                                                                                                                                                                                                                                                                                                                                                                                                                                                                                                                                                                                                                                                                                                                                                                                                                                                                                                                                                                                                                                                                                                                                                                                                                                                                                                                                                                                                                                                                                                                                                                                                                                                                                                                                                                                                                                                                                                                                                                                                                                                                                                                                                                                                                                                                                                                                                                                                                                                                                                                                                                                                                                                                                                                                                                                                                                                                                                                                                                                                                                                                                                                                                                                                                                                                                                                                                                                                                                                                                                                                                                                                                                                                                                                                                                                                                                                                                                                                                                                                                                                                                                                                                                                                                                                                                                                                                                                                                                                                                                                                                                                                                                                                                                                                                                                                                                                                                                                                                                                                                                                                                                                                                                                                                                                                                                                                                                                                                                                                                                                                                                                                                                                                                                                                                                                                                                                                                                                                                                                                                                                                                                                                                                                                                                                                                                                                                                                                                                                                                                                                                                                                                                                                                                                                                                                                                                                                                                                                                                                                                                                                                                                                                                                                                                                                                                                                                                                                                                                                                                                                                                                                                                                                                                                                                                                                                                                                                                                                                                                                                                                                                                                                                                                                                                                                                                                                                                                                                                                                                                                                                                                                                                                                                                                                                                                                                                                                                                                                                                                                                                                                                                                                                                                                                                                                                                                                                                                                                                                                                                                                                                                                                                                                                                                                                                                                                                                                                                                                                                                                                                                                                                                                                                                                                                                                                                                                                                                                                                                                                                                                                                                                                                                                                                                                                                                                                                                                                                                                                                                                                                                                                                                                                                                                                                                                                                                                                                                                                                                                                                                                                                                                                                                                                                                                                                                                                                                                                                                                                                                                                                                                                                                                                                                                                                                                                                                                                                                                                                                                                                                                                                                                                                                                                                                                                                                                                                                                                                                                                                                                                                                                                                                                                                                                                                                                                                                                                                                                                                                                                                                                                                                                                                                                                                                                                                                                                                                                                                                                                                                                                                                                                                                                                                                                                                                                                                                                                                                                                                                                                                                                                                                                                                                                                                                                                                                                                                                                                                                                                                                                                                                                                                                                                                                                                                                                                                                                                                                                                                                                                                                                                                                                                                                                                                                                                                                                                                                                                                                                                                                                                                                                                                                                                                                                                                                                                                                                                                                                                                                                                                                                                                                                                                                                                                                                                                                                                                                                                                                                                                                                                                                                                                                                                                                                                                                                                                                                                                                                                                                                                                                                                                                                                                                                                                                                                                                                                                                                                                                                                                                                                                                                                                                                                                                                                                                                                                                                                                                                                                                                                                                                                                                                                                                                                                                                                                                                                                                                                                                                                                                                                                                                                                                                                                                                                                                                                                                                                                                                                                                                                                                                                                                                                                                                                                                                                                                                                                                                                                                                                                                                                                                                                                                                                                                                                                                                                                                                                                                                                                                                                                                                                                                                                                                                                                                                                                                                                                                                                                                                                                                                                                                                                                                                                                                                                                                                                                                                                                                                                                                                                                                                                                                                                                                                                                                                                                                                                                                                                                                                                                                                                                                                                                                                                                                                                                                                                                                                                                                                                                                                                                                                                                                                                                                                                                                                                                                                                                                                                                                                                                                                                                                                                                                                                                                                                                                                                                                                                                                                                                                                                                                                                                                                                                                                                                                                                                                                                                                                                                                                                                                                                                                                                                                                                                                                                                                                                                                                                                                                                                                                                                                                                                                                                                                                                                                                                                                                                                                                                                                                                                                                                                                                                                                                                                                                                                                                                                                                                                                                                                                                                                                                                                                                                                                                                                                                                                                                                                                                                                                                                                                                                                                                                                                                                                                                                                                                                                                                                                                                                                                                                                                                                                                                                                                                                                                                                                                                                                                                                                                                                                                                                                                                                                                                                                                                                                                                                                                                                                                                                                                                                                                                                                                                                                                                                                                                                                                                                                                                                                                                                                                                                                                                                                                                                                                                                                                                                                                                                                                                                                                                                                                                                                                                                                                                                                                                                                                                                                                                                                                                                                                                                                                                                                                                                                                                                                                                                                                                                                                                                                                                                                                                                                                                                                                                                                                                                                                                                                                                                                                                                                                                                                                                                                                                                                                                                                                                                                                                                                                                                                                                                                                                                                                                                                                                                                                                                                                                                                                                                                                                                                                                                                                                                                                                                                                                                                                                                                                                                                                                                                                                                                                                                                                                                                                                                                                                                                                                                                                                                                                                                                                                                                                                                                                                                                                                                                                                                                                                                                                                                                                                                                                                                                                                                                                                                                                                                                                                                                                                                                                                                                                                                                                                                                                                                                                                                                                                                                                                                                                                                                                                                                                                                                                                                                                                                                                                                                                                                                                                                                                                                                                                                                                                                                                                                                                                                                                                                                                                                                                                                                                                                                                                                                                                                                                                                                                                                                                                                                                                                                                                                                                                                                                                                                                                                                                                                                                                                                                                                                                                                                                                                                                                                                                                                                                                                                                                                                                                                                                                                                                                                                                                                                                                                                                                                                                                                                                                                                                                                                                                                                                                                                                                                                                                                                                                                                                                                                                                                                                                                                                                                                                                                                                                                                                                                                                                                                                                                                                                                                                                                                                                                                                                                                                                                                                                                                                                                                                                                                                                                                                                                                                                                                                                                                                                                                                                                                                                                                                                                                                                                                                                                                                                                                                                                                                                                                                                                                                                                                                                                                                                                                                                                                                                                                                                                                                                                                                                                                                                                                                                                                                                                                                                                                                                                                                                                                                                                                                                                                                                                                                                                                                                                                                                                                                                                                                                                                                                                                                                                                                                                                                                                                                                                                                                                                                                                                                                                                                                                                                                                                                                                                                                                                                                                                                                                                                                                                                                                                                                                                                                                                                                                                                                                                                                                                                                                                                                                                                                                                                                                                                                                                                                                                                                                                                                    \n",
    "driver.get(url)"
   ]
  },
  {
   "cell_type": "code",
   "execution_count": 4,
   "metadata": {},
   "outputs": [],
   "source": [
    "international_tags=driver.find_element_by_xpath(\"//div[@class='navigation__drop-down drop-down drop-down--reveal-on-hover']\")"
   ]
  },
  {
   "cell_type": "code",
   "execution_count": 5,
   "metadata": {},
   "outputs": [],
   "source": [
    "international_tags.click()"
   ]
  },
  {
   "cell_type": "code",
   "execution_count": 6,
   "metadata": {},
   "outputs": [],
   "source": [
    "fixtures=driver.find_element_by_xpath(\"//a[@class='navigation__link navigation__link--in-drop-down']\")\n",
    "fixtures_url=fixtures.get_attribute('href')"
   ]
  },
  {
   "cell_type": "code",
   "execution_count": 7,
   "metadata": {},
   "outputs": [],
   "source": [
    "driver.get(fixtures_url)"
   ]
  },
  {
   "cell_type": "code",
   "execution_count": 8,
   "metadata": {},
   "outputs": [
    {
     "data": {
      "text/plain": [
       "[<selenium.webdriver.remote.webelement.WebElement (session=\"655bee1a287f41456ce3a517e144bf5d\", element=\"aafcaf67-8ac3-4738-bb92-19791ada0b16\")>,\n",
       " <selenium.webdriver.remote.webelement.WebElement (session=\"655bee1a287f41456ce3a517e144bf5d\", element=\"ee2b24ae-a43c-48ab-a4e4-e0b69d1aea47\")>,\n",
       " <selenium.webdriver.remote.webelement.WebElement (session=\"655bee1a287f41456ce3a517e144bf5d\", element=\"a41b239e-174f-4a7a-af25-3fc5d4c5cfa9\")>,\n",
       " <selenium.webdriver.remote.webelement.WebElement (session=\"655bee1a287f41456ce3a517e144bf5d\", element=\"e6387ada-25f6-429f-ad87-bdcaf468c4ad\")>,\n",
       " <selenium.webdriver.remote.webelement.WebElement (session=\"655bee1a287f41456ce3a517e144bf5d\", element=\"8d5127ae-99cf-410c-8d02-8b4bb28cac22\")>,\n",
       " <selenium.webdriver.remote.webelement.WebElement (session=\"655bee1a287f41456ce3a517e144bf5d\", element=\"b788c8a5-ac05-4fff-8a80-9405a8648def\")>,\n",
       " <selenium.webdriver.remote.webelement.WebElement (session=\"655bee1a287f41456ce3a517e144bf5d\", element=\"ec1e29bd-5065-4f0a-9273-f71137f1815f\")>,\n",
       " <selenium.webdriver.remote.webelement.WebElement (session=\"655bee1a287f41456ce3a517e144bf5d\", element=\"ea3bc643-ffdd-492b-8b53-83f653797f38\")>,\n",
       " <selenium.webdriver.remote.webelement.WebElement (session=\"655bee1a287f41456ce3a517e144bf5d\", element=\"f1049bfd-d48e-4485-9117-85bc447395d1\")>,\n",
       " <selenium.webdriver.remote.webelement.WebElement (session=\"655bee1a287f41456ce3a517e144bf5d\", element=\"3eb6119c-ee87-4e2d-8d8b-f5bca59c26f5\")>,\n",
       " <selenium.webdriver.remote.webelement.WebElement (session=\"655bee1a287f41456ce3a517e144bf5d\", element=\"4ab55a4d-d5f8-4246-bbec-c94541965cdc\")>]"
      ]
     },
     "execution_count": 8,
     "metadata": {},
     "output_type": "execute_result"
    }
   ],
   "source": [
    "match_tags=driver.find_elements_by_xpath(\"//span[@class='u-unskewed-text fixture__tournament-label u-truncated']\")\n",
    "match_tags"
   ]
  },
  {
   "cell_type": "code",
   "execution_count": 9,
   "metadata": {},
   "outputs": [],
   "source": [
    "match=[]\n",
    "for i in match_tags:\n",
    "    match.append(i.text)\n",
    "    "
   ]
  },
  {
   "cell_type": "code",
   "execution_count": 10,
   "metadata": {},
   "outputs": [
    {
     "data": {
      "text/plain": [
       "['SRI LANKA V INDIA 2021',\n",
       " 'SRI LANKA V INDIA 2021',\n",
       " 'SRI LANKA V INDIA 2021',\n",
       " 'SRI LANKA V INDIA 2021',\n",
       " 'SRI LANKA V INDIA 2021',\n",
       " 'SRI LANKA V INDIA 2021',\n",
       " 'ENGLAND V INDIA 2021',\n",
       " 'ENGLAND V INDIA 2021',\n",
       " 'ENGLAND V INDIA 2021',\n",
       " 'ENGLAND V INDIA 2021',\n",
       " 'ENGLAND V INDIA 2021']"
      ]
     },
     "execution_count": 10,
     "metadata": {},
     "output_type": "execute_result"
    }
   ],
   "source": [
    "match"
   ]
  },
  {
   "cell_type": "code",
   "execution_count": 11,
   "metadata": {},
   "outputs": [
    {
     "data": {
      "text/plain": [
       "11"
      ]
     },
     "execution_count": 11,
     "metadata": {},
     "output_type": "execute_result"
    }
   ],
   "source": [
    "len(match)"
   ]
  },
  {
   "cell_type": "code",
   "execution_count": 12,
   "metadata": {},
   "outputs": [
    {
     "data": {
      "text/plain": [
       "[<selenium.webdriver.remote.webelement.WebElement (session=\"655bee1a287f41456ce3a517e144bf5d\", element=\"92ec8bb3-94a0-462a-ac5d-97bc68037597\")>,\n",
       " <selenium.webdriver.remote.webelement.WebElement (session=\"655bee1a287f41456ce3a517e144bf5d\", element=\"31944364-6750-4fed-98e4-cdc5f5e01f67\")>,\n",
       " <selenium.webdriver.remote.webelement.WebElement (session=\"655bee1a287f41456ce3a517e144bf5d\", element=\"15a31b2f-c660-4c4c-a90e-ba509ccfb46f\")>,\n",
       " <selenium.webdriver.remote.webelement.WebElement (session=\"655bee1a287f41456ce3a517e144bf5d\", element=\"ac36e238-550c-473e-8bf1-224da17228c3\")>,\n",
       " <selenium.webdriver.remote.webelement.WebElement (session=\"655bee1a287f41456ce3a517e144bf5d\", element=\"47cb187c-86d7-4391-bf9c-8e1e085911f8\")>,\n",
       " <selenium.webdriver.remote.webelement.WebElement (session=\"655bee1a287f41456ce3a517e144bf5d\", element=\"2c7e76b0-ad89-44f2-9320-e76b4572f94c\")>,\n",
       " <selenium.webdriver.remote.webelement.WebElement (session=\"655bee1a287f41456ce3a517e144bf5d\", element=\"4a076597-0ca2-42c9-a69f-da9dc6b7da40\")>,\n",
       " <selenium.webdriver.remote.webelement.WebElement (session=\"655bee1a287f41456ce3a517e144bf5d\", element=\"1399b42f-28dc-4e02-91a2-2be35a23698c\")>,\n",
       " <selenium.webdriver.remote.webelement.WebElement (session=\"655bee1a287f41456ce3a517e144bf5d\", element=\"9d0b81f2-f801-4133-83ac-2180d1b3cf97\")>,\n",
       " <selenium.webdriver.remote.webelement.WebElement (session=\"655bee1a287f41456ce3a517e144bf5d\", element=\"c6cbf552-d2f8-492f-9903-e88f3bcdefa0\")>,\n",
       " <selenium.webdriver.remote.webelement.WebElement (session=\"655bee1a287f41456ce3a517e144bf5d\", element=\"2c64cd7c-46a5-4e04-bc1b-b188343fb7ed\")>]"
      ]
     },
     "execution_count": 12,
     "metadata": {},
     "output_type": "execute_result"
    }
   ],
   "source": [
    "place_tags=driver.find_elements_by_xpath(\"//p[@class='fixture__additional-info']/span\")\n",
    "place_tags"
   ]
  },
  {
   "cell_type": "code",
   "execution_count": 13,
   "metadata": {},
   "outputs": [],
   "source": [
    "place=[]\n",
    "for i in place_tags:\n",
    "    place.append(i.text)\n",
    "    "
   ]
  },
  {
   "cell_type": "code",
   "execution_count": 14,
   "metadata": {},
   "outputs": [
    {
     "data": {
      "text/plain": [
       "['R Premadasa Stadium, Colombo',\n",
       " 'R Premadasa Stadium, Colombo',\n",
       " 'R Premadasa Stadium, Colombo',\n",
       " 'R Premadasa Stadium, Colombo',\n",
       " 'R Premadasa Stadium, Colombo',\n",
       " 'R Premadasa Stadium, Colombo',\n",
       " 'Trent Bridge, Nottingham',\n",
       " \"Lord's, London\",\n",
       " 'Headingley, Leeds',\n",
       " 'The Oval, London',\n",
       " 'Old Trafford, Manchester']"
      ]
     },
     "execution_count": 14,
     "metadata": {},
     "output_type": "execute_result"
    }
   ],
   "source": [
    "place"
   ]
  },
  {
   "cell_type": "code",
   "execution_count": 15,
   "metadata": {},
   "outputs": [
    {
     "data": {
      "text/plain": [
       "[<selenium.webdriver.remote.webelement.WebElement (session=\"655bee1a287f41456ce3a517e144bf5d\", element=\"efee55a4-15fc-4ce5-ba09-014f6bef774f\")>,\n",
       " <selenium.webdriver.remote.webelement.WebElement (session=\"655bee1a287f41456ce3a517e144bf5d\", element=\"8fd214a6-3995-4eb1-9f0a-74dfc4f7d4e3\")>,\n",
       " <selenium.webdriver.remote.webelement.WebElement (session=\"655bee1a287f41456ce3a517e144bf5d\", element=\"30f807e0-e720-4775-b066-10f966d57b5c\")>,\n",
       " <selenium.webdriver.remote.webelement.WebElement (session=\"655bee1a287f41456ce3a517e144bf5d\", element=\"1f25e14b-c79c-400a-909e-e78ed06772ca\")>,\n",
       " <selenium.webdriver.remote.webelement.WebElement (session=\"655bee1a287f41456ce3a517e144bf5d\", element=\"2c911095-6935-49e1-bda3-4ec81ea228f6\")>,\n",
       " <selenium.webdriver.remote.webelement.WebElement (session=\"655bee1a287f41456ce3a517e144bf5d\", element=\"ed80f690-6bda-4c88-b98e-e46ce63ad5bd\")>,\n",
       " <selenium.webdriver.remote.webelement.WebElement (session=\"655bee1a287f41456ce3a517e144bf5d\", element=\"ca9cfd78-522c-4564-a008-3dac4fd81b29\")>,\n",
       " <selenium.webdriver.remote.webelement.WebElement (session=\"655bee1a287f41456ce3a517e144bf5d\", element=\"40c54964-596c-46a7-aa7e-0a0168f7454f\")>,\n",
       " <selenium.webdriver.remote.webelement.WebElement (session=\"655bee1a287f41456ce3a517e144bf5d\", element=\"c9cc50d7-c1d9-4d8a-9184-1606d52d29e2\")>,\n",
       " <selenium.webdriver.remote.webelement.WebElement (session=\"655bee1a287f41456ce3a517e144bf5d\", element=\"d2fe95a4-476d-475d-8aea-9c987abdd5c7\")>,\n",
       " <selenium.webdriver.remote.webelement.WebElement (session=\"655bee1a287f41456ce3a517e144bf5d\", element=\"b398e930-7e02-40cd-aede-923be45fd164\")>]"
      ]
     },
     "execution_count": 15,
     "metadata": {},
     "output_type": "execute_result"
    }
   ],
   "source": [
    "dt_tags=driver.find_elements_by_xpath(\"//div[@class='fixture__full-date']\")\n",
    "dt_tags"
   ]
  },
  {
   "cell_type": "code",
   "execution_count": 16,
   "metadata": {},
   "outputs": [],
   "source": [
    "date=[]\n",
    "for i in dt_tags:\n",
    "    date.append(i.text.replace('\\n',' '))\n",
    "    "
   ]
  },
  {
   "cell_type": "code",
   "execution_count": 17,
   "metadata": {},
   "outputs": [
    {
     "data": {
      "text/plain": [
       "['13 JULY 14:30 IST',\n",
       " '16 JULY 14:30 IST',\n",
       " '18 JULY 14:30 IST',\n",
       " '21 JULY 19:00 IST',\n",
       " '23 JULY 19:00 IST',\n",
       " '25 JULY 19:00 IST',\n",
       " '04 AUGUST 15:30 IST',\n",
       " '12 AUGUST 15:30 IST',\n",
       " '25 AUGUST 15:30 IST',\n",
       " '02 SEPTEMBER 15:30 IST',\n",
       " '10 SEPTEMBER 15:30 IST']"
      ]
     },
     "execution_count": 17,
     "metadata": {},
     "output_type": "execute_result"
    }
   ],
   "source": [
    "date"
   ]
  },
  {
   "cell_type": "code",
   "execution_count": 18,
   "metadata": {},
   "outputs": [],
   "source": [
    "date_sep=[]\n",
    "for i in date:\n",
    "    date_sep.append(i.split(' ')[0] + ' ' + i.split(' ')[1])"
   ]
  },
  {
   "cell_type": "code",
   "execution_count": 19,
   "metadata": {},
   "outputs": [
    {
     "data": {
      "text/plain": [
       "['13 JULY',\n",
       " '16 JULY',\n",
       " '18 JULY',\n",
       " '21 JULY',\n",
       " '23 JULY',\n",
       " '25 JULY',\n",
       " '04 AUGUST',\n",
       " '12 AUGUST',\n",
       " '25 AUGUST',\n",
       " '02 SEPTEMBER',\n",
       " '10 SEPTEMBER']"
      ]
     },
     "execution_count": 19,
     "metadata": {},
     "output_type": "execute_result"
    }
   ],
   "source": [
    "date_sep"
   ]
  },
  {
   "cell_type": "code",
   "execution_count": 20,
   "metadata": {},
   "outputs": [],
   "source": [
    "date_time=[]\n",
    "for i in date:\n",
    "    date_time.append(i.split(' ')[-2] + ' ' + i.split(' ')[-1])"
   ]
  },
  {
   "cell_type": "code",
   "execution_count": 21,
   "metadata": {},
   "outputs": [
    {
     "data": {
      "text/plain": [
       "['14:30 IST',\n",
       " '14:30 IST',\n",
       " '14:30 IST',\n",
       " '19:00 IST',\n",
       " '19:00 IST',\n",
       " '19:00 IST',\n",
       " '15:30 IST',\n",
       " '15:30 IST',\n",
       " '15:30 IST',\n",
       " '15:30 IST',\n",
       " '15:30 IST']"
      ]
     },
     "execution_count": 21,
     "metadata": {},
     "output_type": "execute_result"
    }
   ],
   "source": [
    "date_time"
   ]
  },
  {
   "cell_type": "code",
   "execution_count": 22,
   "metadata": {},
   "outputs": [
    {
     "data": {
      "text/plain": [
       "[<selenium.webdriver.remote.webelement.WebElement (session=\"655bee1a287f41456ce3a517e144bf5d\", element=\"c85eb2b8-1821-42c2-a9c6-d2e93aa7ebdc\")>,\n",
       " <selenium.webdriver.remote.webelement.WebElement (session=\"655bee1a287f41456ce3a517e144bf5d\", element=\"1b5fe1c4-6fa5-4fd1-9041-e2b22482b42d\")>,\n",
       " <selenium.webdriver.remote.webelement.WebElement (session=\"655bee1a287f41456ce3a517e144bf5d\", element=\"10d139b0-7132-4478-9b1a-3b0692691a5d\")>,\n",
       " <selenium.webdriver.remote.webelement.WebElement (session=\"655bee1a287f41456ce3a517e144bf5d\", element=\"81f58cce-b925-4d2b-89c0-46a1e958a561\")>,\n",
       " <selenium.webdriver.remote.webelement.WebElement (session=\"655bee1a287f41456ce3a517e144bf5d\", element=\"01c3208d-0663-4b4b-9836-c14af1bbc1a7\")>,\n",
       " <selenium.webdriver.remote.webelement.WebElement (session=\"655bee1a287f41456ce3a517e144bf5d\", element=\"9db32d96-876f-4a23-b3ba-6765294c8b35\")>,\n",
       " <selenium.webdriver.remote.webelement.WebElement (session=\"655bee1a287f41456ce3a517e144bf5d\", element=\"bd208b5b-67e1-419d-bb4f-f2bfd9fd65b9\")>,\n",
       " <selenium.webdriver.remote.webelement.WebElement (session=\"655bee1a287f41456ce3a517e144bf5d\", element=\"8c31bdc9-1819-45b2-9e2b-ea61d8a2c7a6\")>,\n",
       " <selenium.webdriver.remote.webelement.WebElement (session=\"655bee1a287f41456ce3a517e144bf5d\", element=\"6aeb7f5d-73b9-4728-8a64-5317b5140be4\")>,\n",
       " <selenium.webdriver.remote.webelement.WebElement (session=\"655bee1a287f41456ce3a517e144bf5d\", element=\"80afa0d0-db33-48ff-8e09-c0016e8b26bc\")>,\n",
       " <selenium.webdriver.remote.webelement.WebElement (session=\"655bee1a287f41456ce3a517e144bf5d\", element=\"7345692a-3e15-49ae-8bc7-996720c470f5\")>]"
      ]
     },
     "execution_count": 22,
     "metadata": {},
     "output_type": "execute_result"
    }
   ],
   "source": [
    "series_tags=driver.find_elements_by_xpath(\"//strong[@class='fixture__name fixture__name--with-margin']\")\n",
    "series_tags"
   ]
  },
  {
   "cell_type": "code",
   "execution_count": 23,
   "metadata": {},
   "outputs": [],
   "source": [
    "series=[]\n",
    "for i in series_tags:\n",
    "    series.append(i.text)"
   ]
  },
  {
   "cell_type": "code",
   "execution_count": 24,
   "metadata": {},
   "outputs": [
    {
     "data": {
      "text/plain": [
       "['1st ODI',\n",
       " '2nd ODI',\n",
       " '3rd ODI',\n",
       " '1st T20I',\n",
       " '2nd T20I',\n",
       " '3rd T20I',\n",
       " '1st Test',\n",
       " '2nd Test',\n",
       " '3rd Test',\n",
       " '4th Test',\n",
       " '5th Test']"
      ]
     },
     "execution_count": 24,
     "metadata": {},
     "output_type": "execute_result"
    }
   ],
   "source": [
    "series"
   ]
  },
  {
   "cell_type": "code",
   "execution_count": 25,
   "metadata": {},
   "outputs": [],
   "source": [
    "bcci=pd.DataFrame({})\n",
    "bcci['Series']=match\n",
    "bcci['Place']= place\n",
    "bcci['Date']=date_sep\n",
    "bcci['Time']=date_time\n",
    "bcci['Match title']= series"
   ]
  },
  {
   "cell_type": "code",
   "execution_count": 26,
   "metadata": {},
   "outputs": [
    {
     "data": {
      "text/html": [
       "<div>\n",
       "<style scoped>\n",
       "    .dataframe tbody tr th:only-of-type {\n",
       "        vertical-align: middle;\n",
       "    }\n",
       "\n",
       "    .dataframe tbody tr th {\n",
       "        vertical-align: top;\n",
       "    }\n",
       "\n",
       "    .dataframe thead th {\n",
       "        text-align: right;\n",
       "    }\n",
       "</style>\n",
       "<table border=\"1\" class=\"dataframe\">\n",
       "  <thead>\n",
       "    <tr style=\"text-align: right;\">\n",
       "      <th></th>\n",
       "      <th>Series</th>\n",
       "      <th>Place</th>\n",
       "      <th>Date</th>\n",
       "      <th>Time</th>\n",
       "      <th>Match title</th>\n",
       "    </tr>\n",
       "  </thead>\n",
       "  <tbody>\n",
       "    <tr>\n",
       "      <th>0</th>\n",
       "      <td>SRI LANKA V INDIA 2021</td>\n",
       "      <td>R Premadasa Stadium, Colombo</td>\n",
       "      <td>13 JULY</td>\n",
       "      <td>14:30 IST</td>\n",
       "      <td>1st ODI</td>\n",
       "    </tr>\n",
       "    <tr>\n",
       "      <th>1</th>\n",
       "      <td>SRI LANKA V INDIA 2021</td>\n",
       "      <td>R Premadasa Stadium, Colombo</td>\n",
       "      <td>16 JULY</td>\n",
       "      <td>14:30 IST</td>\n",
       "      <td>2nd ODI</td>\n",
       "    </tr>\n",
       "    <tr>\n",
       "      <th>2</th>\n",
       "      <td>SRI LANKA V INDIA 2021</td>\n",
       "      <td>R Premadasa Stadium, Colombo</td>\n",
       "      <td>18 JULY</td>\n",
       "      <td>14:30 IST</td>\n",
       "      <td>3rd ODI</td>\n",
       "    </tr>\n",
       "    <tr>\n",
       "      <th>3</th>\n",
       "      <td>SRI LANKA V INDIA 2021</td>\n",
       "      <td>R Premadasa Stadium, Colombo</td>\n",
       "      <td>21 JULY</td>\n",
       "      <td>19:00 IST</td>\n",
       "      <td>1st T20I</td>\n",
       "    </tr>\n",
       "    <tr>\n",
       "      <th>4</th>\n",
       "      <td>SRI LANKA V INDIA 2021</td>\n",
       "      <td>R Premadasa Stadium, Colombo</td>\n",
       "      <td>23 JULY</td>\n",
       "      <td>19:00 IST</td>\n",
       "      <td>2nd T20I</td>\n",
       "    </tr>\n",
       "    <tr>\n",
       "      <th>5</th>\n",
       "      <td>SRI LANKA V INDIA 2021</td>\n",
       "      <td>R Premadasa Stadium, Colombo</td>\n",
       "      <td>25 JULY</td>\n",
       "      <td>19:00 IST</td>\n",
       "      <td>3rd T20I</td>\n",
       "    </tr>\n",
       "    <tr>\n",
       "      <th>6</th>\n",
       "      <td>ENGLAND V INDIA 2021</td>\n",
       "      <td>Trent Bridge, Nottingham</td>\n",
       "      <td>04 AUGUST</td>\n",
       "      <td>15:30 IST</td>\n",
       "      <td>1st Test</td>\n",
       "    </tr>\n",
       "    <tr>\n",
       "      <th>7</th>\n",
       "      <td>ENGLAND V INDIA 2021</td>\n",
       "      <td>Lord's, London</td>\n",
       "      <td>12 AUGUST</td>\n",
       "      <td>15:30 IST</td>\n",
       "      <td>2nd Test</td>\n",
       "    </tr>\n",
       "    <tr>\n",
       "      <th>8</th>\n",
       "      <td>ENGLAND V INDIA 2021</td>\n",
       "      <td>Headingley, Leeds</td>\n",
       "      <td>25 AUGUST</td>\n",
       "      <td>15:30 IST</td>\n",
       "      <td>3rd Test</td>\n",
       "    </tr>\n",
       "    <tr>\n",
       "      <th>9</th>\n",
       "      <td>ENGLAND V INDIA 2021</td>\n",
       "      <td>The Oval, London</td>\n",
       "      <td>02 SEPTEMBER</td>\n",
       "      <td>15:30 IST</td>\n",
       "      <td>4th Test</td>\n",
       "    </tr>\n",
       "    <tr>\n",
       "      <th>10</th>\n",
       "      <td>ENGLAND V INDIA 2021</td>\n",
       "      <td>Old Trafford, Manchester</td>\n",
       "      <td>10 SEPTEMBER</td>\n",
       "      <td>15:30 IST</td>\n",
       "      <td>5th Test</td>\n",
       "    </tr>\n",
       "  </tbody>\n",
       "</table>\n",
       "</div>"
      ],
      "text/plain": [
       "                    Series                         Place          Date  \\\n",
       "0   SRI LANKA V INDIA 2021  R Premadasa Stadium, Colombo       13 JULY   \n",
       "1   SRI LANKA V INDIA 2021  R Premadasa Stadium, Colombo       16 JULY   \n",
       "2   SRI LANKA V INDIA 2021  R Premadasa Stadium, Colombo       18 JULY   \n",
       "3   SRI LANKA V INDIA 2021  R Premadasa Stadium, Colombo       21 JULY   \n",
       "4   SRI LANKA V INDIA 2021  R Premadasa Stadium, Colombo       23 JULY   \n",
       "5   SRI LANKA V INDIA 2021  R Premadasa Stadium, Colombo       25 JULY   \n",
       "6     ENGLAND V INDIA 2021      Trent Bridge, Nottingham     04 AUGUST   \n",
       "7     ENGLAND V INDIA 2021                Lord's, London     12 AUGUST   \n",
       "8     ENGLAND V INDIA 2021             Headingley, Leeds     25 AUGUST   \n",
       "9     ENGLAND V INDIA 2021              The Oval, London  02 SEPTEMBER   \n",
       "10    ENGLAND V INDIA 2021      Old Trafford, Manchester  10 SEPTEMBER   \n",
       "\n",
       "         Time Match title  \n",
       "0   14:30 IST     1st ODI  \n",
       "1   14:30 IST     2nd ODI  \n",
       "2   14:30 IST     3rd ODI  \n",
       "3   19:00 IST    1st T20I  \n",
       "4   19:00 IST    2nd T20I  \n",
       "5   19:00 IST    3rd T20I  \n",
       "6   15:30 IST    1st Test  \n",
       "7   15:30 IST    2nd Test  \n",
       "8   15:30 IST    3rd Test  \n",
       "9   15:30 IST    4th Test  \n",
       "10  15:30 IST    5th Test  "
      ]
     },
     "execution_count": 26,
     "metadata": {},
     "output_type": "execute_result"
    }
   ],
   "source": [
    "bcci"
   ]
  },
  {
   "cell_type": "raw",
   "metadata": {},
   "source": [
    "3. Scrape the details of selenium exception from guru99.com.\n",
    "Url = https://www.guru99.com/\n",
    "You need to find following details:\n",
    "A) Name\n",
    "B) Description\n",
    "Note: - From guru99 home page you have to reach to selenium exception handling page through code."
   ]
  },
  {
   "cell_type": "code",
   "execution_count": 1,
   "metadata": {},
   "outputs": [],
   "source": [
    "import selenium\n",
    "import pandas as pd\n",
    "from selenium import webdriver\n",
    "import warnings\n",
    "warnings.filterwarnings('ignore')\n",
    "import time\n",
    "from selenium.common.exceptions import NoSuchElementException"
   ]
  },
  {
   "cell_type": "code",
   "execution_count": 2,
   "metadata": {},
   "outputs": [],
   "source": [
    "driver=webdriver.Chrome(r\"C:\\Users\\ChesthaS\\Downloads\\chromedriver_win32 (1)\\chromedriver.exe\")"
   ]
  },
  {
   "cell_type": "code",
   "execution_count": 3,
   "metadata": {},
   "outputs": [],
   "source": [
    "url = \"https://www.guru99.com/\"                                                                                                                                                                                                                                                                                                                                                                                                                                                                                                                                                                                                                                                                                                                                                                                                                                                                                                                                                                                                                                                                                                                                                                                                                                                                                                                                                                                                                                                                                                                                                                                                                                                                                                                                                                                                                                                                                                                                                                                                                                                                                                                                                                                                                                                                                                                                                                                                                                                                                                                                                                                                                                                                                                                                                                                                                                                                                                                                                                                                                                                                                                                                                                                                                                                                                                                                                                                                                                                                                                                                                                                                                                                                                                                                                                                                                                                                                                                                                                                                                                                                                                                                                                                                                                                                                                                                                                                                                                                                                                                                                                                                                                                                                                                                                                                                                                                                                                                                                                                                                                                                                                                                                                                                                                                                                                                                                                                                                                                                                                                                                                                                                                                                                                                                                                                                                                                                                                                                                                                                                                                                                                                                                                                                                                                                                                                                                                                                                                                                                                                                                                                                                                                                                                                                                                                                                                                                                                                                                                                                                                                                                                                                                                                                                                                                                                                                                                                                                                                                                                                                                                                                                                                                                                                                                                                                                                                                                                                                                                                                                                                                                                                                                                                                                                                                                                                                                                                                                                                                                                                                                                                                                                                                                                                                                                                                                                                                                                                                                                                                                                                                                                                                                                                                                                                                                                                                                                                                                                                                                                                                                                                                                                                                                                                                                                                                                                                                                                                                                                                                                                                                                                                                                                                                                                                                                                                                                                                                                                                                                                                                                                                                                                                                                                                                                                                                                                                                                                                                                                                                                                                                                                                                                                                                                                                                                                                                                                                                                                                                                                                                                                                                                                                                                                                                                                                                                                                                                                                                                                                                                                                                                                                                                                                                                                                                                                                                                                                                                                                                                                                                                                                                                                                                                                                                                                                                                                                                                                                                                                                                                                                                                                                                                                                                                                                                                                                                                                                                                                                                                                                                                                                                                                                                                                                                                                                                                                                                                                                                                                                                                                                                                                                                                                                                                                                                                                                                                                                                                                                                                                                                                                                                                                                                                                                                                                                                                                                                                                                                                                                                                                                                                                                                                                                                                                                                                                                                                                                                                                                                                                                                                                                                                                                                                                                                                                                                                                                                                                                                                                                                                                                                                                                                                                                                                                                                                                                                                                                                                                                                                                                                                                                                                                                                                                                                                                                                                                                                                                                                                                                                                                                                                                                                                                                                                                                                                                                                                                                                                                                                                                                                                                                                                                                                                                                                                                                                                                                                                                                                                                                                                                                                                                                                                                                                                                                                                                                                                                                                                                                                                                                                                                                                                                                                                                                                                                                                                                                                                                                                                                                                                                                                                                                                                                                                                                                                                                                                                                                                                                                                                                                                                                                                                                                                                                                                                                                                                                                                                                                                                                                                                                                                                                                                                                                                                                                                                                                                                                                                                                                                                                                                                                                                                                                                                                                                                                                                                                                                                                                                                                                                                                                                                                                                                                                                                                                                                                                                                                                                                                                                                                                                                                                                                                                                                                                                                                                                                                                                                                                                                                                                                                                                                                                                                                                                                                                                                                                                                                                                                                                                                                                                                                                                                                                                                                                                                                                                                                                                                                                                                                                                                                                                                                                                                                                                                                                                                                                                                                                                                                                                                                                                                                                                                                                                                                                                                                                                                                                                                                                                                                                                                                                                                                                                                                                                                                                                                                                                                                                                                                                                                                                                                                                                                                                                                                                                                                                                                                                                                                                                                                                                                                                                                                                                                                                                                                                                                                                                                                                                                                                                                                                                                                                                                                                                                                                                                                                                                                                                                                                                                                                                                                                                                                                                                                                                                                                                                                                                                                                                                                                                                                                                                                                                                                                                                                                                                                                                                                                                                                                                                                                                                                                                                                                                                                                                                                                                                                                                                                                                                                                                                                                                                                                                                                                                                                                                                                                                                                                                                                                                                                                                                                                                                                                                                                                                                                                                                                                                                                                                                                                                                                                                                                                                                                                                                                                                                                                                                                                                                                                                                                                                                                                                                                                                                                                                                                                                                                                                                                                                                                                                                                                                                                                                                                                                                                                                                                                                                                                                                                                                                                                                                                                                                                                                                                                                                                                                                                                                                                                                                                                                                                                                                                                                                                                                                                                                                                                                                                                                                                                                                                                                                                                                                                                                                                                                                                                                                                                                                                                                                                                                                                                                                                                                                                                                                                                                                                                                                                                                                                                                                                                                                                                                                                                                                                                                                                                                                                                                                                                                                                                                                                                                                                                                                                                                                                                                                                                                                                                                                                                                                                                                                                                                                                                                                                                                                                                                                                                                                                                                                                                                                                                                                                                                                                                                                                                                                                                                                                                                                                                                                                                                                                                                                                                                                                                                                                                                                                                                                                                                                                                                                                                                                                                                                                                                                                                                                                                                                                                                                                                                                                                                                                                                                                                                                                                                                                                                                                                                                                                                                                                                                                                                                                                                                                                                                                                                                                                                                                                                                                                                                                                                                                                                                                                                                                                                                                                                                                                                                                                                                                                                                                                                                                                                                                                                                                                                                                                                                                                                                                                                                                                                                                                                                                                                                                                                                                                                                                                                                                                                                                                                                                                                                                                                                                                                                                                                                                                                                                                                                                                                                                                                                                                                                                                                                                                                                                                                                                                                                                                                                                                                                                                                                                                                                                                                                                                                                                                                                                                                                                                                                                                                                                                                                                                                                                                                                                                                                                                                                                                                                                                                                                                                                                                                                                                                                                                                                                                                                                                                                                                                                                                                                                                                                                                                                                                                                                                                                                                                                                                                                                                                                                                                                                                                                                                                                                                                                                                                                                                                                                                                                                                                                                                                                                                                                                                                                                                                                                                                                                                                                                                                                                                                                                                                                                                                                                                                                                                                                                                                                                                                                                                                                                                                                                                                                                                                                                                                                                                                                                                                                                                                                                                                                                                                                                                                                                                                                                                                                                                                                                                                                                                                                                                                                                                                                                                                                                                                                                                                                                                                                                                                                                                                                                                                                                                                                                                                                                                                                                                                                                                                                                                                                                                                                                                                                                                                                                                                                                                                                                                                                                                                                                                                                                                                                                                                                                                                                                                                                                                                                                                                                                                                                                                                                                                                                                                                                                                                                                                                                                                                                                                                                                                                                                                                                                                                                                                                                                                                                                                                                                                                                                                                                                                                                                                                                                                                                                                                                                                                                                                                                                                                                                                                                                                                                                                                                                                                                                                                                                                                                                                                                                                                                                                                                                                                                                                                                                                                                                                                                                                                                                                                                                                                                                                                                                                                                                                                                                                                                                                                                                                                                                                                                                                                                                                                                                                                                                                                                                                                                                                                                                                                                                                                                                                                                                                                                                                                                                                                                                                                                                                                                                                                                                                                                                                                                                                                                                                                                                                                                                                                                                                                                                                                                                                                                                                                                                                                                                                                                                                                                                                                                                                                                                                                                                                                                                                                                                                                                                                                                                                                                                                                                                                                                                                                                                                                                                                                                                                                                                                                                                                                                                                                                                                                                                                                                                                                                                                                                                                                                                                                                                                                                                                                                                                                                                                                                                                                                                                                                                                                                                                                                                                                                                                                                                                                                                                                                                                                                                                                                                                                                                                                                                                                                                                                                                                                                                                                                                                                                                                                                                                                                                                                                                                                                                                                                                                                                                                                                                                                                                                                                                                                                                                                                                                                                                                                                                                                                                                                                                                                                                                                                                                                                                                                                                                                                                                                                                                                                                                                                                                                                                                                                                                                                                                                                                                                                                                                                                                                                                                                                                                                                                                                                                                                                                                                                                                                                                                                                                                                                                                                                                                                                                                                                                                                                                                                                                                                                                                                                                                                                                                                                                                                                                                                                                                                                                                                                                                                                                                                                                                                                                                                                                                                                                                                                                                                                                                                                                                                                                                                                                                                                                                                                                                                                                                                                                                                                                                                                                                                                                                                                                                                                                                                                                                                                                                                                                                                                                                                                                                                                                                                                                                                                                                                                                                                                                                                                                                                                                                                                                                                                                                                                                                                                                                                                                                                                                                                                                                                                                                                                                                                                                                                                                                                                                                                                                                                                                                                                                                                                                                                                                                                                                                                                                                                                                                                                                                                                                                                                                                                                                                                                                                                                                                                                                                                                                                                                                                                                                                                                                                                                                                                                                                                                                                                                                                                                                                                                                                                                                                                                                                                                                                                                                                                                                                                                                                                                                                                                                                                                                                                                                                                                                                                                                                                                                                                                                                                                                                                                                                                                                                                                                                                                                                                                                                                                                                                                                                                                                                                                                                                                                                                                                                                                                                                                                                                                                                                                                                                                                                                                                                                                                                                                                                                                                                                                                                                                                                                                                                                                                                                                                                                                                                                                                                                                                                                                                                                                                                                                                                                                                                                                                                                                                                                                                                                                                                                                                                                                                                                                                                                                                                                                                                                                                                                                                                                                                                                                                                                                                                                                                                                                                                                                                                                                                                                                                                                                                                                                                                                                                                                                                                                                                                                                                                                                                                                                                                                                                                                                                                                                                                                                                                                                                                                                                                                                                                                                                                                                                                                                                                                                                                                                                                                                                                                                                                                                                                                                                                                                                                                                                                                                                                                                                                                                                                                                                                                                                                                                                                                                                                                                                                                                                                                                                                                                                                                                                                                                                                                                                                                                                                                                                                                                                                                                                                                                                                                                                                                                                                                                                                                                                                                                                                                                                                                                                                                                                                                                                                                                                                                                                                                                                                                                                                                                                                                                                                                                                                                                                                                                                                                                                                                                                                                                                                                                                                                                                                                                                                                                                                                                                                                                                                                                                                                                                                                                                                                                                                                                                                                                                                                                                                                                                                                                                                                                                                                                                                                                                                                                                                                                                                                                                                                                                                                                                                                                                                                                                                                                                                                                                                                                                                                                                                                                                                                                                                                                                                                                                                                                                                                                                                                                                                                                                                                                                                                                                                                                                                                                                                                                                                                                                                                                                                                                                                                                                                                                                                                                                                                                                                                                                                                                                                                                                                                                                                                                                                                                                                                                                                                                                                                                                                                                                                                                                                                                                                                                                                                                                                                                                                                                                                                                                                                                                                                                                                                                                                                                                                                                                                                                                                                                                                                                                                                                                                                                                                                                                                                                                                                                                                                                                                                                                                                                                                                                                                                                                                                                                                                                                                                                                                                                                                                                                                                                                                                                                                                                                                                                                                                                                                                                                                                                                                                                                                                                                                                                                                                                                                                                                                                                                                                                                                                                                                                                                                                                                                                                                                                                                                                                                                                                                                                                                                                                                                                                                                                                                                                                                                                                                                                                                                                                                                                                                                                                                                                                                                                                                                                                                                                                                                                                                                                                                                                                                                                                                                                                                                                                                                                                                                                                                                                                                                                                                                                                                                                                                                                                                                                                                                                                                                                                                                                                                                                                                                                                                                                                                                                                                                                                                                                                                                                                                                                                                                                                                                                                                                                                                                                                                                                                                                                                                                                                                                                                                                                                                                                                                                                                                                                                                                                                                                                                                                                                                                                                                                                                                                                                                                                                                                                                                                                                                                                                                                                                                                                                                                                                                                                                                                                                                                                                                                                                                                                                                                                                                                                                                                                                                                                                                                                                                                                                                                                                                                                                                                                                                                                                                                                                                                                                                                                                                                                                                                                                                                                                                                                                                                                                                                                                                                                                                                                                                                                                                                                                                                                                                                                                                                                                                                                                                                                                                                                                                                                                                                                                                                                                                                                                                                                                                                                                                                                                                                                                                                                                                                                                                                                                                                                                                                                                                                                                                                                                                                                                                                                                                                                                                                                                                                                                                                                                                                                                                                                                                                                                                                                                                                                                                                                                                                                                                                                                                                                                                                                                                                                                                                                                                                                                                                                                                                                                                                                                                                                                                                                                                                                                                                                                                                                                                                                                                                                                                                                                                                                                                                                                                                                                                                                                                                                                                                                                                                                                                                                                                                                                                                                                                                                                                                                                                                                                                                                                                                                                                                                                                                                                                                                                                                                                                                                                                                                                                                                                                                                                                                                                                                                                                                                                                                                                                                                                                                                                                                                                                                                                                                                                                                                                                                                                                                                                                                                                                                                                                                                                                                                                                                                                                                                                                                                                                                                                                                                                                                                                                                                                                                                                                                                                                                                                                                                                                                                                                                                                                                                                                                                                                                                                                                                                                                                                                                                                                                                                                                                                                                                                                                                                                                                                                                                                                                                                                                                                                                                                                                                                                                                                                                                                                                                                                                                                                                                                                                                                                                                                                                                                                                                                                                                                                                                                                                                                                                                                                                                                                                                                                                                                                                                                                                                                                                                                                                                                                                                                                                                                                                                                                                                                                                                                                                                                                                                                                                                                                                                                                                                                                                                                                                                                                                                                                                                                                                                                                                                                                                                                                                                                                                                                                                                                                                                                                                                                                                                                                                                                                                                                                                                                                                                                                                                                                                                                                                                                                                                                                                                                                                                                                                                                                                                                                                                                                                                                                                                                                                                                                                                                                                                                                                                                                                                                                                                                                                                                                                                                                                                                                                                                                                                                                                                                                                                                                                                                                                                                                                                                                                                                                                                                                                                                                                                                                                                                                                                                                                                                                                                                                                                                                                                                                                                                                                                                                                                                                                                                                                                                                                                                                                                                                                                                                                                                                                                                                                                                                                                                                                                                                                                                                                                                                                                                                                                                                                                                                                                                                                                                                                                                                                                                                                                                                                                                                                                                                                                                                                                                                                                                                                                                                                                                                                                                                                                                                                                                                                                                                                                                                                                                                                                                                                                                                                                                                                                                                                                                                                                                                                                                                                                                                                                                                                                                                                                                                                                                                                                                                                                                                                                                                                                                                                                                                                                                                                                                                                                                                                                                                                                                                                                                                                                                                                                                                                                                                                                                                                                                                                                                                                                                                                                                                                                                                                                                                                                                                                                                                                                                                                                                                                                                                                                                                                                                                                                                                                                                                                                                                                                                                                                                                                                                                                                                                                                                                                                                                                                                                                                                                                                                                                                                                                                                                                                                                                                                                                                                                                                                                                                                                    \n",
    "driver.get(url)"
   ]
  },
  {
   "cell_type": "code",
   "execution_count": 4,
   "metadata": {},
   "outputs": [
    {
     "data": {
      "text/plain": [
       "<selenium.webdriver.remote.webelement.WebElement (session=\"9452d8b0339801836f49f467fb16c507\", element=\"6cc56f8c-01b5-483d-a304-18ffd332fb2c\")>"
      ]
     },
     "execution_count": 4,
     "metadata": {},
     "output_type": "execute_result"
    }
   ],
   "source": [
    "sel_exc=driver.find_element_by_xpath(\"//ul[@class='menu']/li[3]/a\")\n",
    "sel_exc"
   ]
  },
  {
   "cell_type": "code",
   "execution_count": 5,
   "metadata": {},
   "outputs": [],
   "source": [
    "sel_exc.click()"
   ]
  },
  {
   "cell_type": "code",
   "execution_count": 6,
   "metadata": {},
   "outputs": [],
   "source": [
    "sel_exception=driver.find_element_by_xpath(\"//*[@id='g-mainbar']/div/div/div/div/div/div/div[2]/table[5]/tbody/tr[34]/td[1]/a\")\n",
    "sel=sel_exception.get_attribute('href')"
   ]
  },
  {
   "cell_type": "code",
   "execution_count": 8,
   "metadata": {},
   "outputs": [],
   "source": [
    "driver.get(sel)"
   ]
  },
  {
   "cell_type": "code",
   "execution_count": 10,
   "metadata": {},
   "outputs": [
    {
     "data": {
      "text/plain": [
       "[<selenium.webdriver.remote.webelement.WebElement (session=\"9452d8b0339801836f49f467fb16c507\", element=\"71493e9a-3b57-4564-a4fd-437fac1ab1c2\")>,\n",
       " <selenium.webdriver.remote.webelement.WebElement (session=\"9452d8b0339801836f49f467fb16c507\", element=\"4d010aa4-b848-46fc-a72e-344aeffe6275\")>,\n",
       " <selenium.webdriver.remote.webelement.WebElement (session=\"9452d8b0339801836f49f467fb16c507\", element=\"60c23e4d-0519-447e-9402-7253a4cfce1a\")>,\n",
       " <selenium.webdriver.remote.webelement.WebElement (session=\"9452d8b0339801836f49f467fb16c507\", element=\"242a872b-d724-442b-9a03-ea21ac7d6ad5\")>,\n",
       " <selenium.webdriver.remote.webelement.WebElement (session=\"9452d8b0339801836f49f467fb16c507\", element=\"a7bd2963-7c43-474a-b16e-ac181cb07c20\")>,\n",
       " <selenium.webdriver.remote.webelement.WebElement (session=\"9452d8b0339801836f49f467fb16c507\", element=\"ca8ebacf-5560-4a5d-b0b0-8932066fb659\")>,\n",
       " <selenium.webdriver.remote.webelement.WebElement (session=\"9452d8b0339801836f49f467fb16c507\", element=\"23321d2d-00aa-4106-a39d-d5d7149bc4ae\")>,\n",
       " <selenium.webdriver.remote.webelement.WebElement (session=\"9452d8b0339801836f49f467fb16c507\", element=\"adcb34f0-1bfb-4390-af0c-74b4f94e44a4\")>,\n",
       " <selenium.webdriver.remote.webelement.WebElement (session=\"9452d8b0339801836f49f467fb16c507\", element=\"bc0ff594-cd07-4c76-bdc7-5dfe53cc3228\")>,\n",
       " <selenium.webdriver.remote.webelement.WebElement (session=\"9452d8b0339801836f49f467fb16c507\", element=\"c7d22c61-84ae-4485-8232-af6aab036b5f\")>,\n",
       " <selenium.webdriver.remote.webelement.WebElement (session=\"9452d8b0339801836f49f467fb16c507\", element=\"bdabd618-41f4-4901-b56e-2fe6b94a3033\")>,\n",
       " <selenium.webdriver.remote.webelement.WebElement (session=\"9452d8b0339801836f49f467fb16c507\", element=\"e705dca5-af08-4255-860b-76213dcb3da0\")>,\n",
       " <selenium.webdriver.remote.webelement.WebElement (session=\"9452d8b0339801836f49f467fb16c507\", element=\"bc7f64db-5d32-4e7e-95e3-5eb09e72b674\")>,\n",
       " <selenium.webdriver.remote.webelement.WebElement (session=\"9452d8b0339801836f49f467fb16c507\", element=\"2fc82ca1-dcf1-49ef-9dd4-c48437c38586\")>,\n",
       " <selenium.webdriver.remote.webelement.WebElement (session=\"9452d8b0339801836f49f467fb16c507\", element=\"5dd09ff7-d273-4057-9a75-833792f1c6f1\")>,\n",
       " <selenium.webdriver.remote.webelement.WebElement (session=\"9452d8b0339801836f49f467fb16c507\", element=\"2200f6bc-7986-461b-9201-16aca0d99196\")>,\n",
       " <selenium.webdriver.remote.webelement.WebElement (session=\"9452d8b0339801836f49f467fb16c507\", element=\"5afe8b58-fcbe-4d8e-8c75-982b28b14e1b\")>,\n",
       " <selenium.webdriver.remote.webelement.WebElement (session=\"9452d8b0339801836f49f467fb16c507\", element=\"f09f7049-6c99-4c99-9591-93ccff12ad29\")>,\n",
       " <selenium.webdriver.remote.webelement.WebElement (session=\"9452d8b0339801836f49f467fb16c507\", element=\"3e347576-e374-4b64-b69e-639bd8ea3e96\")>,\n",
       " <selenium.webdriver.remote.webelement.WebElement (session=\"9452d8b0339801836f49f467fb16c507\", element=\"58c67ab7-7255-45d0-9cae-4a92a3ebad07\")>,\n",
       " <selenium.webdriver.remote.webelement.WebElement (session=\"9452d8b0339801836f49f467fb16c507\", element=\"3278e1f6-d3cf-4335-a21e-9317c1a77c13\")>,\n",
       " <selenium.webdriver.remote.webelement.WebElement (session=\"9452d8b0339801836f49f467fb16c507\", element=\"4b6f9c06-9289-49f4-9d17-3c7321b77dc5\")>,\n",
       " <selenium.webdriver.remote.webelement.WebElement (session=\"9452d8b0339801836f49f467fb16c507\", element=\"7ade3ac0-9974-4914-b926-0c58b75bd343\")>,\n",
       " <selenium.webdriver.remote.webelement.WebElement (session=\"9452d8b0339801836f49f467fb16c507\", element=\"b30698b1-a36d-4dc6-a6b4-4e5b87de60ac\")>,\n",
       " <selenium.webdriver.remote.webelement.WebElement (session=\"9452d8b0339801836f49f467fb16c507\", element=\"2f9231fb-9e9b-4e4d-a8b4-25df2122ea0d\")>,\n",
       " <selenium.webdriver.remote.webelement.WebElement (session=\"9452d8b0339801836f49f467fb16c507\", element=\"5b697ecc-42b0-46ca-896c-1e1451623a7e\")>,\n",
       " <selenium.webdriver.remote.webelement.WebElement (session=\"9452d8b0339801836f49f467fb16c507\", element=\"91d28a5c-87f8-458e-b4af-f41342ef016c\")>,\n",
       " <selenium.webdriver.remote.webelement.WebElement (session=\"9452d8b0339801836f49f467fb16c507\", element=\"110fe90b-5027-44f3-9689-4df104e54b5a\")>,\n",
       " <selenium.webdriver.remote.webelement.WebElement (session=\"9452d8b0339801836f49f467fb16c507\", element=\"9fe7e17f-847b-4033-af88-f4c0df856119\")>,\n",
       " <selenium.webdriver.remote.webelement.WebElement (session=\"9452d8b0339801836f49f467fb16c507\", element=\"3e500830-2ed2-4212-96d6-651ccdb218b2\")>,\n",
       " <selenium.webdriver.remote.webelement.WebElement (session=\"9452d8b0339801836f49f467fb16c507\", element=\"beb4fef2-2318-4149-a371-9e3280148641\")>,\n",
       " <selenium.webdriver.remote.webelement.WebElement (session=\"9452d8b0339801836f49f467fb16c507\", element=\"15f8150b-355f-46c9-bb62-c22b3208ce1f\")>,\n",
       " <selenium.webdriver.remote.webelement.WebElement (session=\"9452d8b0339801836f49f467fb16c507\", element=\"ca7f3043-dedd-43c1-9806-cb0e4b3d0021\")>,\n",
       " <selenium.webdriver.remote.webelement.WebElement (session=\"9452d8b0339801836f49f467fb16c507\", element=\"590fd1f9-46d0-4370-92ed-93e62218624b\")>,\n",
       " <selenium.webdriver.remote.webelement.WebElement (session=\"9452d8b0339801836f49f467fb16c507\", element=\"a8cd18dc-391c-4132-b669-3ec0ec358f84\")>,\n",
       " <selenium.webdriver.remote.webelement.WebElement (session=\"9452d8b0339801836f49f467fb16c507\", element=\"93e05444-ebcb-42b6-9acf-f3747798bbf7\")>,\n",
       " <selenium.webdriver.remote.webelement.WebElement (session=\"9452d8b0339801836f49f467fb16c507\", element=\"7ddc2c81-d17e-4898-bcea-ef79aebadbf8\")>,\n",
       " <selenium.webdriver.remote.webelement.WebElement (session=\"9452d8b0339801836f49f467fb16c507\", element=\"85e1e3fe-e39b-4c43-aaa8-99939c4280ec\")>,\n",
       " <selenium.webdriver.remote.webelement.WebElement (session=\"9452d8b0339801836f49f467fb16c507\", element=\"9a05470c-c367-4844-8bc1-38ce797815bd\")>,\n",
       " <selenium.webdriver.remote.webelement.WebElement (session=\"9452d8b0339801836f49f467fb16c507\", element=\"30301c68-2185-4f09-8aa7-a8e866f8b134\")>,\n",
       " <selenium.webdriver.remote.webelement.WebElement (session=\"9452d8b0339801836f49f467fb16c507\", element=\"bfccd7a7-cafb-4b3f-a677-70cebe347985\")>,\n",
       " <selenium.webdriver.remote.webelement.WebElement (session=\"9452d8b0339801836f49f467fb16c507\", element=\"2e846790-a76f-4b29-8279-ee598b9ed624\")>]"
      ]
     },
     "execution_count": 10,
     "metadata": {},
     "output_type": "execute_result"
    }
   ],
   "source": [
    "name_tags=driver.find_elements_by_xpath(\"//*[@id='g-mainbar']/div/div/div/div/div/div/div[2]/table/tbody/tr/td[1]\")\n",
    "name_tags"
   ]
  },
  {
   "cell_type": "code",
   "execution_count": 11,
   "metadata": {},
   "outputs": [],
   "source": [
    "name=[]\n",
    "for i in name_tags[1:]:\n",
    "    name.append(i.text)"
   ]
  },
  {
   "cell_type": "code",
   "execution_count": 12,
   "metadata": {},
   "outputs": [
    {
     "data": {
      "text/plain": [
       "['ElementNotVisibleException',\n",
       " 'ElementNotSelectableException',\n",
       " 'NoSuchElementException',\n",
       " 'NoSuchFrameException',\n",
       " 'NoAlertPresentException',\n",
       " 'NoSuchWindowException',\n",
       " 'StaleElementReferenceException',\n",
       " 'SessionNotFoundException',\n",
       " 'TimeoutException',\n",
       " 'WebDriverException',\n",
       " 'ConnectionClosedException',\n",
       " 'ElementClickInterceptedException',\n",
       " 'ElementNotInteractableException',\n",
       " 'ErrorInResponseException',\n",
       " 'ErrorHandler.UnknownServerException',\n",
       " 'ImeActivationFailedException',\n",
       " 'ImeNotAvailableException',\n",
       " 'InsecureCertificateException',\n",
       " 'InvalidArgumentException',\n",
       " 'InvalidCookieDomainException',\n",
       " 'InvalidCoordinatesException',\n",
       " 'InvalidElementStateExceptio',\n",
       " 'InvalidSessionIdException',\n",
       " 'InvalidSwitchToTargetException',\n",
       " 'JavascriptException',\n",
       " 'JsonException',\n",
       " 'NoSuchAttributeException',\n",
       " 'MoveTargetOutOfBoundsException',\n",
       " 'NoSuchContextException',\n",
       " 'NoSuchCookieException',\n",
       " 'NotFoundException',\n",
       " 'RemoteDriverServerException',\n",
       " 'ScreenshotException',\n",
       " 'SessionNotCreatedException',\n",
       " 'UnableToSetCookieException',\n",
       " 'UnexpectedTagNameException',\n",
       " 'UnhandledAlertException',\n",
       " 'UnexpectedAlertPresentException',\n",
       " 'UnknownMethodException',\n",
       " 'UnreachableBrowserException',\n",
       " 'UnsupportedCommandException']"
      ]
     },
     "execution_count": 12,
     "metadata": {},
     "output_type": "execute_result"
    }
   ],
   "source": [
    "name"
   ]
  },
  {
   "cell_type": "code",
   "execution_count": 13,
   "metadata": {},
   "outputs": [
    {
     "data": {
      "text/plain": [
       "41"
      ]
     },
     "execution_count": 13,
     "metadata": {},
     "output_type": "execute_result"
    }
   ],
   "source": [
    "len(name)"
   ]
  },
  {
   "cell_type": "code",
   "execution_count": 14,
   "metadata": {},
   "outputs": [
    {
     "data": {
      "text/plain": [
       "[<selenium.webdriver.remote.webelement.WebElement (session=\"9452d8b0339801836f49f467fb16c507\", element=\"6125f29b-3bd6-4174-bc5a-3a91693459db\")>,\n",
       " <selenium.webdriver.remote.webelement.WebElement (session=\"9452d8b0339801836f49f467fb16c507\", element=\"2b4578ee-579b-413c-8f86-0e3e97cd41c3\")>,\n",
       " <selenium.webdriver.remote.webelement.WebElement (session=\"9452d8b0339801836f49f467fb16c507\", element=\"60d5ac4e-948c-48b5-9b80-69dfdf9b4ab9\")>,\n",
       " <selenium.webdriver.remote.webelement.WebElement (session=\"9452d8b0339801836f49f467fb16c507\", element=\"9ee989af-9610-40fd-b6bf-f2d2f4bbc88b\")>,\n",
       " <selenium.webdriver.remote.webelement.WebElement (session=\"9452d8b0339801836f49f467fb16c507\", element=\"248a1cc9-b32f-414e-8415-e4113de18e48\")>,\n",
       " <selenium.webdriver.remote.webelement.WebElement (session=\"9452d8b0339801836f49f467fb16c507\", element=\"3afbb18a-7bb4-4cb6-80f3-ce0fa227bf2f\")>,\n",
       " <selenium.webdriver.remote.webelement.WebElement (session=\"9452d8b0339801836f49f467fb16c507\", element=\"5bb48e1a-b456-4229-a869-bf9fdaaf209e\")>,\n",
       " <selenium.webdriver.remote.webelement.WebElement (session=\"9452d8b0339801836f49f467fb16c507\", element=\"c85edadf-8642-4f7c-8d69-c11e5bc83cf1\")>,\n",
       " <selenium.webdriver.remote.webelement.WebElement (session=\"9452d8b0339801836f49f467fb16c507\", element=\"391c328c-06c1-41d2-9a7b-50eb923100a2\")>,\n",
       " <selenium.webdriver.remote.webelement.WebElement (session=\"9452d8b0339801836f49f467fb16c507\", element=\"dffdfc11-329b-419d-9846-498ec121be37\")>,\n",
       " <selenium.webdriver.remote.webelement.WebElement (session=\"9452d8b0339801836f49f467fb16c507\", element=\"7ce52a45-ba9a-4293-8849-7c9def5297f5\")>,\n",
       " <selenium.webdriver.remote.webelement.WebElement (session=\"9452d8b0339801836f49f467fb16c507\", element=\"38ad7804-eb62-4779-908e-d8ce001c98b0\")>,\n",
       " <selenium.webdriver.remote.webelement.WebElement (session=\"9452d8b0339801836f49f467fb16c507\", element=\"c4a16edb-060a-480b-92da-dbeb6bc18dc8\")>,\n",
       " <selenium.webdriver.remote.webelement.WebElement (session=\"9452d8b0339801836f49f467fb16c507\", element=\"314e9db1-03e5-43f9-93cd-883a1ba1542d\")>,\n",
       " <selenium.webdriver.remote.webelement.WebElement (session=\"9452d8b0339801836f49f467fb16c507\", element=\"1ce8dc6a-57c4-4e56-a75d-ea3e5c6491d3\")>,\n",
       " <selenium.webdriver.remote.webelement.WebElement (session=\"9452d8b0339801836f49f467fb16c507\", element=\"6be59c75-809d-4812-9472-d0cbc839142a\")>,\n",
       " <selenium.webdriver.remote.webelement.WebElement (session=\"9452d8b0339801836f49f467fb16c507\", element=\"086d652c-5083-4b47-9969-42cf74276ec3\")>,\n",
       " <selenium.webdriver.remote.webelement.WebElement (session=\"9452d8b0339801836f49f467fb16c507\", element=\"7fcf737b-c5e8-4ff1-ae1b-31db46557dde\")>,\n",
       " <selenium.webdriver.remote.webelement.WebElement (session=\"9452d8b0339801836f49f467fb16c507\", element=\"88150010-b0ef-43c4-8d67-12ced2656b1e\")>,\n",
       " <selenium.webdriver.remote.webelement.WebElement (session=\"9452d8b0339801836f49f467fb16c507\", element=\"24db40db-a384-45b9-8f26-f45faa469f60\")>,\n",
       " <selenium.webdriver.remote.webelement.WebElement (session=\"9452d8b0339801836f49f467fb16c507\", element=\"8f5c047c-aa7c-4d69-8090-a3e95b392d4b\")>,\n",
       " <selenium.webdriver.remote.webelement.WebElement (session=\"9452d8b0339801836f49f467fb16c507\", element=\"682fcd06-acbd-4211-8efd-21e8b3cd6340\")>,\n",
       " <selenium.webdriver.remote.webelement.WebElement (session=\"9452d8b0339801836f49f467fb16c507\", element=\"5c26b486-9559-479d-ad21-0a43b710a308\")>,\n",
       " <selenium.webdriver.remote.webelement.WebElement (session=\"9452d8b0339801836f49f467fb16c507\", element=\"247462d8-1a60-4217-94e7-d9b7797d9e22\")>,\n",
       " <selenium.webdriver.remote.webelement.WebElement (session=\"9452d8b0339801836f49f467fb16c507\", element=\"323b452a-a200-4807-b4c7-27f96ee5660f\")>,\n",
       " <selenium.webdriver.remote.webelement.WebElement (session=\"9452d8b0339801836f49f467fb16c507\", element=\"8dfc5a18-0a65-4443-8f3e-1c580f4c16e2\")>,\n",
       " <selenium.webdriver.remote.webelement.WebElement (session=\"9452d8b0339801836f49f467fb16c507\", element=\"bb3fcd17-07d3-427f-b04a-32689f011e57\")>,\n",
       " <selenium.webdriver.remote.webelement.WebElement (session=\"9452d8b0339801836f49f467fb16c507\", element=\"2e83ae90-34c7-4a9c-849f-1f136159e991\")>,\n",
       " <selenium.webdriver.remote.webelement.WebElement (session=\"9452d8b0339801836f49f467fb16c507\", element=\"11e08985-faff-45ea-ba0c-33f14abfb939\")>,\n",
       " <selenium.webdriver.remote.webelement.WebElement (session=\"9452d8b0339801836f49f467fb16c507\", element=\"e44b44e4-bb30-4793-abe4-80c25a93ea50\")>,\n",
       " <selenium.webdriver.remote.webelement.WebElement (session=\"9452d8b0339801836f49f467fb16c507\", element=\"522ed0af-0330-456a-a3d0-cc53fd4400c6\")>,\n",
       " <selenium.webdriver.remote.webelement.WebElement (session=\"9452d8b0339801836f49f467fb16c507\", element=\"a7b7e4ea-8656-4192-8e53-1b1174988370\")>,\n",
       " <selenium.webdriver.remote.webelement.WebElement (session=\"9452d8b0339801836f49f467fb16c507\", element=\"cc4814fd-43e7-4d1a-bf03-1b688e9e7c9c\")>,\n",
       " <selenium.webdriver.remote.webelement.WebElement (session=\"9452d8b0339801836f49f467fb16c507\", element=\"e54c4ad0-34ae-4e5c-9362-ff342d79f40b\")>,\n",
       " <selenium.webdriver.remote.webelement.WebElement (session=\"9452d8b0339801836f49f467fb16c507\", element=\"0275750b-4907-4a96-ae11-516646ab63ac\")>,\n",
       " <selenium.webdriver.remote.webelement.WebElement (session=\"9452d8b0339801836f49f467fb16c507\", element=\"e9b18b50-26c4-4804-a492-e0726e637b2d\")>,\n",
       " <selenium.webdriver.remote.webelement.WebElement (session=\"9452d8b0339801836f49f467fb16c507\", element=\"533e81cc-3e7b-45ca-bb5d-76cf836ce900\")>,\n",
       " <selenium.webdriver.remote.webelement.WebElement (session=\"9452d8b0339801836f49f467fb16c507\", element=\"d85e15a4-9d26-4b30-812a-d2c4b4aeb491\")>,\n",
       " <selenium.webdriver.remote.webelement.WebElement (session=\"9452d8b0339801836f49f467fb16c507\", element=\"f3c2bb2a-bbde-4fc6-9c30-ddf2fbc4b37a\")>,\n",
       " <selenium.webdriver.remote.webelement.WebElement (session=\"9452d8b0339801836f49f467fb16c507\", element=\"f377a919-4eef-41c5-854e-115d899647cf\")>,\n",
       " <selenium.webdriver.remote.webelement.WebElement (session=\"9452d8b0339801836f49f467fb16c507\", element=\"2a06eff4-4269-4d4e-bbf4-a1c224cbd97b\")>,\n",
       " <selenium.webdriver.remote.webelement.WebElement (session=\"9452d8b0339801836f49f467fb16c507\", element=\"4b273148-d3af-4661-bcdb-9bea20c827db\")>]"
      ]
     },
     "execution_count": 14,
     "metadata": {},
     "output_type": "execute_result"
    }
   ],
   "source": [
    "desc_tags=driver.find_elements_by_xpath(\"//*[@id='g-mainbar']/div/div/div/div/div/div/div[2]/table/tbody/tr/td[2]\")\n",
    "desc_tags"
   ]
  },
  {
   "cell_type": "code",
   "execution_count": 15,
   "metadata": {},
   "outputs": [],
   "source": [
    "desc=[]\n",
    "for i in desc_tags[1:]:\n",
    "    desc.append(i.text)"
   ]
  },
  {
   "cell_type": "code",
   "execution_count": 16,
   "metadata": {},
   "outputs": [
    {
     "data": {
      "text/plain": [
       "['This type of Selenium exception occurs when an existing element in DOM has a feature set as hidden.',\n",
       " 'This Selenium exception occurs when an element is presented in the DOM, but you can be able to select. Therefore, it is not possible to interact.',\n",
       " 'This Exception occurs if an element could not be found.',\n",
       " 'This Exception occurs if the frame target to be switched to does not exist.',\n",
       " 'This Exception occurs when you switch to no presented alert.',\n",
       " 'This Exception occurs if the window target to be switch does not exist.',\n",
       " 'This Selenium exception occurs happens when the web element is detached from the current DOM.',\n",
       " 'The WebDriver is acting after you quit the browser.',\n",
       " \"Thrown when there is not enough time for a command to be completed. For Example, the element searched wasn't found in the specified time.\",\n",
       " 'This Exception takes place when the WebDriver is acting right after you close the browser.',\n",
       " 'This type of Exception takes place when there is a disconnection in the driver.',\n",
       " 'The command may not be completed as the element receiving the events is concealing the element which was requested clicked.',\n",
       " 'This Selenium exception is thrown when any element is presented in the DOM. However, it is impossible to interact with such an element.',\n",
       " 'This happens while interacting with the Firefox extension or the remote driver server.',\n",
       " 'Exception is used as a placeholder in case if the server returns an error without a stack trace.',\n",
       " 'This expectation will occur when IME engine activation has failed.',\n",
       " 'It takes place when IME support is unavailable.',\n",
       " 'Navigation made the user agent to hit a certificate warning. This can cause by an invalid or expired TLS certificate.',\n",
       " 'It occurs when an argument does not belong to the expected type.',\n",
       " 'This happens when you try to add a cookie under a different domain instead of current URL.',\n",
       " 'This type of Exception matches an interacting operation that is not valid.',\n",
       " \"It occurs when command can't be finished when the element is invalid.\",\n",
       " 'This Exception took place when the given session ID is not included in the list of active sessions. It means the session does not exist or is inactive either.',\n",
       " 'This occurs when the frame or window target to be switched does not exist.',\n",
       " 'This issue occurs while executing JavaScript given by the user.',\n",
       " 'It occurs when you afford to get the session when the session is not created.',\n",
       " 'This kind of Exception occurs when the attribute of an element could not be found.',\n",
       " 'It takes place if the target provided to the ActionChains move() methodology is not valid. For Example, out of the document.',\n",
       " 'ContextAware does mobile device testing.',\n",
       " 'This Exception occurs when no cookie matching with the given pathname found for all the associated cookies of the currently browsing document.',\n",
       " 'This Exception is a subclass of WebDriverException. This will occur when an element on the DOM does not exist.',\n",
       " 'This Selenium exception is thrown when the server is not responding because of the problem that the capabilities described are not proper.',\n",
       " 'It is not possible to capture a screen.',\n",
       " 'It happens when a new session could not be successfully created.',\n",
       " 'This occurs if a driver is unable to set a cookie.',\n",
       " 'Happens if a support class did not get a web element as expected.',\n",
       " 'This expectation occurs when there is an alert, but WebDriver is not able to perform Alert operation.',\n",
       " 'It occurs when there is the appearance of an unexpected alert.',\n",
       " 'This Exception happens when the requested command matches with a known URL but and not matching with a methodology for a specific URL.',\n",
       " 'This Exception occurs only when the browser is not able to be opened or crashed because of some reason.',\n",
       " \"This occurs when remote WebDriver does n't send valid commands as expected.\"]"
      ]
     },
     "execution_count": 16,
     "metadata": {},
     "output_type": "execute_result"
    }
   ],
   "source": [
    "desc"
   ]
  },
  {
   "cell_type": "code",
   "execution_count": 17,
   "metadata": {},
   "outputs": [
    {
     "data": {
      "text/plain": [
       "41"
      ]
     },
     "execution_count": 17,
     "metadata": {},
     "output_type": "execute_result"
    }
   ],
   "source": [
    "len(desc)"
   ]
  },
  {
   "cell_type": "code",
   "execution_count": 18,
   "metadata": {},
   "outputs": [],
   "source": [
    "selenium=pd.DataFrame({})\n",
    "selenium['Name']=name\n",
    "selenium['Description']= desc"
   ]
  },
  {
   "cell_type": "code",
   "execution_count": 19,
   "metadata": {},
   "outputs": [
    {
     "data": {
      "text/html": [
       "<div>\n",
       "<style scoped>\n",
       "    .dataframe tbody tr th:only-of-type {\n",
       "        vertical-align: middle;\n",
       "    }\n",
       "\n",
       "    .dataframe tbody tr th {\n",
       "        vertical-align: top;\n",
       "    }\n",
       "\n",
       "    .dataframe thead th {\n",
       "        text-align: right;\n",
       "    }\n",
       "</style>\n",
       "<table border=\"1\" class=\"dataframe\">\n",
       "  <thead>\n",
       "    <tr style=\"text-align: right;\">\n",
       "      <th></th>\n",
       "      <th>Name</th>\n",
       "      <th>Description</th>\n",
       "    </tr>\n",
       "  </thead>\n",
       "  <tbody>\n",
       "    <tr>\n",
       "      <th>0</th>\n",
       "      <td>ElementNotVisibleException</td>\n",
       "      <td>This type of Selenium exception occurs when an...</td>\n",
       "    </tr>\n",
       "    <tr>\n",
       "      <th>1</th>\n",
       "      <td>ElementNotSelectableException</td>\n",
       "      <td>This Selenium exception occurs when an element...</td>\n",
       "    </tr>\n",
       "    <tr>\n",
       "      <th>2</th>\n",
       "      <td>NoSuchElementException</td>\n",
       "      <td>This Exception occurs if an element could not ...</td>\n",
       "    </tr>\n",
       "    <tr>\n",
       "      <th>3</th>\n",
       "      <td>NoSuchFrameException</td>\n",
       "      <td>This Exception occurs if the frame target to b...</td>\n",
       "    </tr>\n",
       "    <tr>\n",
       "      <th>4</th>\n",
       "      <td>NoAlertPresentException</td>\n",
       "      <td>This Exception occurs when you switch to no pr...</td>\n",
       "    </tr>\n",
       "    <tr>\n",
       "      <th>5</th>\n",
       "      <td>NoSuchWindowException</td>\n",
       "      <td>This Exception occurs if the window target to ...</td>\n",
       "    </tr>\n",
       "    <tr>\n",
       "      <th>6</th>\n",
       "      <td>StaleElementReferenceException</td>\n",
       "      <td>This Selenium exception occurs happens when th...</td>\n",
       "    </tr>\n",
       "    <tr>\n",
       "      <th>7</th>\n",
       "      <td>SessionNotFoundException</td>\n",
       "      <td>The WebDriver is acting after you quit the bro...</td>\n",
       "    </tr>\n",
       "    <tr>\n",
       "      <th>8</th>\n",
       "      <td>TimeoutException</td>\n",
       "      <td>Thrown when there is not enough time for a com...</td>\n",
       "    </tr>\n",
       "    <tr>\n",
       "      <th>9</th>\n",
       "      <td>WebDriverException</td>\n",
       "      <td>This Exception takes place when the WebDriver ...</td>\n",
       "    </tr>\n",
       "    <tr>\n",
       "      <th>10</th>\n",
       "      <td>ConnectionClosedException</td>\n",
       "      <td>This type of Exception takes place when there ...</td>\n",
       "    </tr>\n",
       "    <tr>\n",
       "      <th>11</th>\n",
       "      <td>ElementClickInterceptedException</td>\n",
       "      <td>The command may not be completed as the elemen...</td>\n",
       "    </tr>\n",
       "    <tr>\n",
       "      <th>12</th>\n",
       "      <td>ElementNotInteractableException</td>\n",
       "      <td>This Selenium exception is thrown when any ele...</td>\n",
       "    </tr>\n",
       "    <tr>\n",
       "      <th>13</th>\n",
       "      <td>ErrorInResponseException</td>\n",
       "      <td>This happens while interacting with the Firefo...</td>\n",
       "    </tr>\n",
       "    <tr>\n",
       "      <th>14</th>\n",
       "      <td>ErrorHandler.UnknownServerException</td>\n",
       "      <td>Exception is used as a placeholder in case if ...</td>\n",
       "    </tr>\n",
       "    <tr>\n",
       "      <th>15</th>\n",
       "      <td>ImeActivationFailedException</td>\n",
       "      <td>This expectation will occur when IME engine ac...</td>\n",
       "    </tr>\n",
       "    <tr>\n",
       "      <th>16</th>\n",
       "      <td>ImeNotAvailableException</td>\n",
       "      <td>It takes place when IME support is unavailable.</td>\n",
       "    </tr>\n",
       "    <tr>\n",
       "      <th>17</th>\n",
       "      <td>InsecureCertificateException</td>\n",
       "      <td>Navigation made the user agent to hit a certif...</td>\n",
       "    </tr>\n",
       "    <tr>\n",
       "      <th>18</th>\n",
       "      <td>InvalidArgumentException</td>\n",
       "      <td>It occurs when an argument does not belong to ...</td>\n",
       "    </tr>\n",
       "    <tr>\n",
       "      <th>19</th>\n",
       "      <td>InvalidCookieDomainException</td>\n",
       "      <td>This happens when you try to add a cookie unde...</td>\n",
       "    </tr>\n",
       "    <tr>\n",
       "      <th>20</th>\n",
       "      <td>InvalidCoordinatesException</td>\n",
       "      <td>This type of Exception matches an interacting ...</td>\n",
       "    </tr>\n",
       "    <tr>\n",
       "      <th>21</th>\n",
       "      <td>InvalidElementStateExceptio</td>\n",
       "      <td>It occurs when command can't be finished when ...</td>\n",
       "    </tr>\n",
       "    <tr>\n",
       "      <th>22</th>\n",
       "      <td>InvalidSessionIdException</td>\n",
       "      <td>This Exception took place when the given sessi...</td>\n",
       "    </tr>\n",
       "    <tr>\n",
       "      <th>23</th>\n",
       "      <td>InvalidSwitchToTargetException</td>\n",
       "      <td>This occurs when the frame or window target to...</td>\n",
       "    </tr>\n",
       "    <tr>\n",
       "      <th>24</th>\n",
       "      <td>JavascriptException</td>\n",
       "      <td>This issue occurs while executing JavaScript g...</td>\n",
       "    </tr>\n",
       "    <tr>\n",
       "      <th>25</th>\n",
       "      <td>JsonException</td>\n",
       "      <td>It occurs when you afford to get the session w...</td>\n",
       "    </tr>\n",
       "    <tr>\n",
       "      <th>26</th>\n",
       "      <td>NoSuchAttributeException</td>\n",
       "      <td>This kind of Exception occurs when the attribu...</td>\n",
       "    </tr>\n",
       "    <tr>\n",
       "      <th>27</th>\n",
       "      <td>MoveTargetOutOfBoundsException</td>\n",
       "      <td>It takes place if the target provided to the A...</td>\n",
       "    </tr>\n",
       "    <tr>\n",
       "      <th>28</th>\n",
       "      <td>NoSuchContextException</td>\n",
       "      <td>ContextAware does mobile device testing.</td>\n",
       "    </tr>\n",
       "    <tr>\n",
       "      <th>29</th>\n",
       "      <td>NoSuchCookieException</td>\n",
       "      <td>This Exception occurs when no cookie matching ...</td>\n",
       "    </tr>\n",
       "    <tr>\n",
       "      <th>30</th>\n",
       "      <td>NotFoundException</td>\n",
       "      <td>This Exception is a subclass of WebDriverExcep...</td>\n",
       "    </tr>\n",
       "    <tr>\n",
       "      <th>31</th>\n",
       "      <td>RemoteDriverServerException</td>\n",
       "      <td>This Selenium exception is thrown when the ser...</td>\n",
       "    </tr>\n",
       "    <tr>\n",
       "      <th>32</th>\n",
       "      <td>ScreenshotException</td>\n",
       "      <td>It is not possible to capture a screen.</td>\n",
       "    </tr>\n",
       "    <tr>\n",
       "      <th>33</th>\n",
       "      <td>SessionNotCreatedException</td>\n",
       "      <td>It happens when a new session could not be suc...</td>\n",
       "    </tr>\n",
       "    <tr>\n",
       "      <th>34</th>\n",
       "      <td>UnableToSetCookieException</td>\n",
       "      <td>This occurs if a driver is unable to set a coo...</td>\n",
       "    </tr>\n",
       "    <tr>\n",
       "      <th>35</th>\n",
       "      <td>UnexpectedTagNameException</td>\n",
       "      <td>Happens if a support class did not get a web e...</td>\n",
       "    </tr>\n",
       "    <tr>\n",
       "      <th>36</th>\n",
       "      <td>UnhandledAlertException</td>\n",
       "      <td>This expectation occurs when there is an alert...</td>\n",
       "    </tr>\n",
       "    <tr>\n",
       "      <th>37</th>\n",
       "      <td>UnexpectedAlertPresentException</td>\n",
       "      <td>It occurs when there is the appearance of an u...</td>\n",
       "    </tr>\n",
       "    <tr>\n",
       "      <th>38</th>\n",
       "      <td>UnknownMethodException</td>\n",
       "      <td>This Exception happens when the requested comm...</td>\n",
       "    </tr>\n",
       "    <tr>\n",
       "      <th>39</th>\n",
       "      <td>UnreachableBrowserException</td>\n",
       "      <td>This Exception occurs only when the browser is...</td>\n",
       "    </tr>\n",
       "    <tr>\n",
       "      <th>40</th>\n",
       "      <td>UnsupportedCommandException</td>\n",
       "      <td>This occurs when remote WebDriver does n't sen...</td>\n",
       "    </tr>\n",
       "  </tbody>\n",
       "</table>\n",
       "</div>"
      ],
      "text/plain": [
       "                                   Name  \\\n",
       "0            ElementNotVisibleException   \n",
       "1         ElementNotSelectableException   \n",
       "2                NoSuchElementException   \n",
       "3                  NoSuchFrameException   \n",
       "4               NoAlertPresentException   \n",
       "5                 NoSuchWindowException   \n",
       "6        StaleElementReferenceException   \n",
       "7              SessionNotFoundException   \n",
       "8                      TimeoutException   \n",
       "9                    WebDriverException   \n",
       "10            ConnectionClosedException   \n",
       "11     ElementClickInterceptedException   \n",
       "12      ElementNotInteractableException   \n",
       "13             ErrorInResponseException   \n",
       "14  ErrorHandler.UnknownServerException   \n",
       "15         ImeActivationFailedException   \n",
       "16             ImeNotAvailableException   \n",
       "17         InsecureCertificateException   \n",
       "18             InvalidArgumentException   \n",
       "19         InvalidCookieDomainException   \n",
       "20          InvalidCoordinatesException   \n",
       "21          InvalidElementStateExceptio   \n",
       "22            InvalidSessionIdException   \n",
       "23       InvalidSwitchToTargetException   \n",
       "24                  JavascriptException   \n",
       "25                        JsonException   \n",
       "26             NoSuchAttributeException   \n",
       "27       MoveTargetOutOfBoundsException   \n",
       "28               NoSuchContextException   \n",
       "29                NoSuchCookieException   \n",
       "30                    NotFoundException   \n",
       "31          RemoteDriverServerException   \n",
       "32                  ScreenshotException   \n",
       "33           SessionNotCreatedException   \n",
       "34           UnableToSetCookieException   \n",
       "35           UnexpectedTagNameException   \n",
       "36              UnhandledAlertException   \n",
       "37      UnexpectedAlertPresentException   \n",
       "38               UnknownMethodException   \n",
       "39          UnreachableBrowserException   \n",
       "40          UnsupportedCommandException   \n",
       "\n",
       "                                          Description  \n",
       "0   This type of Selenium exception occurs when an...  \n",
       "1   This Selenium exception occurs when an element...  \n",
       "2   This Exception occurs if an element could not ...  \n",
       "3   This Exception occurs if the frame target to b...  \n",
       "4   This Exception occurs when you switch to no pr...  \n",
       "5   This Exception occurs if the window target to ...  \n",
       "6   This Selenium exception occurs happens when th...  \n",
       "7   The WebDriver is acting after you quit the bro...  \n",
       "8   Thrown when there is not enough time for a com...  \n",
       "9   This Exception takes place when the WebDriver ...  \n",
       "10  This type of Exception takes place when there ...  \n",
       "11  The command may not be completed as the elemen...  \n",
       "12  This Selenium exception is thrown when any ele...  \n",
       "13  This happens while interacting with the Firefo...  \n",
       "14  Exception is used as a placeholder in case if ...  \n",
       "15  This expectation will occur when IME engine ac...  \n",
       "16    It takes place when IME support is unavailable.  \n",
       "17  Navigation made the user agent to hit a certif...  \n",
       "18  It occurs when an argument does not belong to ...  \n",
       "19  This happens when you try to add a cookie unde...  \n",
       "20  This type of Exception matches an interacting ...  \n",
       "21  It occurs when command can't be finished when ...  \n",
       "22  This Exception took place when the given sessi...  \n",
       "23  This occurs when the frame or window target to...  \n",
       "24  This issue occurs while executing JavaScript g...  \n",
       "25  It occurs when you afford to get the session w...  \n",
       "26  This kind of Exception occurs when the attribu...  \n",
       "27  It takes place if the target provided to the A...  \n",
       "28           ContextAware does mobile device testing.  \n",
       "29  This Exception occurs when no cookie matching ...  \n",
       "30  This Exception is a subclass of WebDriverExcep...  \n",
       "31  This Selenium exception is thrown when the ser...  \n",
       "32            It is not possible to capture a screen.  \n",
       "33  It happens when a new session could not be suc...  \n",
       "34  This occurs if a driver is unable to set a coo...  \n",
       "35  Happens if a support class did not get a web e...  \n",
       "36  This expectation occurs when there is an alert...  \n",
       "37  It occurs when there is the appearance of an u...  \n",
       "38  This Exception happens when the requested comm...  \n",
       "39  This Exception occurs only when the browser is...  \n",
       "40  This occurs when remote WebDriver does n't sen...  "
      ]
     },
     "execution_count": 19,
     "metadata": {},
     "output_type": "execute_result"
    }
   ],
   "source": [
    "selenium"
   ]
  },
  {
   "cell_type": "code",
   "execution_count": null,
   "metadata": {},
   "outputs": [],
   "source": []
  }
 ],
 "metadata": {
  "kernelspec": {
   "display_name": "Python 3",
   "language": "python",
   "name": "python3"
  },
  "language_info": {
   "codemirror_mode": {
    "name": "ipython",
    "version": 3
   },
   "file_extension": ".py",
   "mimetype": "text/x-python",
   "name": "python",
   "nbconvert_exporter": "python",
   "pygments_lexer": "ipython3",
   "version": "3.7.6"
  }
 },
 "nbformat": 4,
 "nbformat_minor": 4
}
