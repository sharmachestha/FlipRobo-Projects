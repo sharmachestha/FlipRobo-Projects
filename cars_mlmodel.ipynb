{
 "cells": [
  {
   "cell_type": "code",
   "execution_count": 1,
   "metadata": {},
   "outputs": [],
   "source": [
    "import numpy as np \n",
    "import pandas as pd\n",
    "import matplotlib.pyplot as plt\n",
    "import seaborn as sns\n",
    "import scipy\n",
    "import sklearn\n",
    "import warnings\n",
    "warnings.filterwarnings('ignore')\n",
    "from sklearn.linear_model import LinearRegression\n",
    "from sklearn.metrics import r2_score,mean_squared_error,mean_absolute_error\n",
    "from sklearn.metrics import accuracy_score,classification_report,confusion_matrix\n",
    "from sklearn.naive_bayes import GaussianNB\n",
    "from sklearn.svm import SVR\n",
    "from sklearn.tree import DecisionTreeRegressor\n",
    "from sklearn.neighbors import KNeighborsRegressor\n",
    "from sklearn.model_selection import GridSearchCV\n",
    "from sklearn.model_selection import cross_val_score\n",
    "from sklearn.model_selection import train_test_split\n",
    "import warnings\n",
    "warnings.filterwarnings('ignore')\n"
   ]
  },
  {
   "cell_type": "code",
   "execution_count": 2,
   "metadata": {},
   "outputs": [
    {
     "data": {
      "text/html": [
       "<div>\n",
       "<style scoped>\n",
       "    .dataframe tbody tr th:only-of-type {\n",
       "        vertical-align: middle;\n",
       "    }\n",
       "\n",
       "    .dataframe tbody tr th {\n",
       "        vertical-align: top;\n",
       "    }\n",
       "\n",
       "    .dataframe thead th {\n",
       "        text-align: right;\n",
       "    }\n",
       "</style>\n",
       "<table border=\"1\" class=\"dataframe\">\n",
       "  <thead>\n",
       "    <tr style=\"text-align: right;\">\n",
       "      <th></th>\n",
       "      <th>Unnamed: 0</th>\n",
       "      <th>Name</th>\n",
       "      <th>EMI</th>\n",
       "      <th>Price</th>\n",
       "      <th>Kilometers Driven</th>\n",
       "      <th>Owner</th>\n",
       "      <th>Year of Purchase</th>\n",
       "      <th>Fuel Type</th>\n",
       "      <th>Location</th>\n",
       "      <th>History</th>\n",
       "    </tr>\n",
       "  </thead>\n",
       "  <tbody>\n",
       "    <tr>\n",
       "      <th>0</th>\n",
       "      <td>0</td>\n",
       "      <td>2011 Maruti Alto K10</td>\n",
       "      <td>₹4,734/month</td>\n",
       "      <td>₹2,12,799</td>\n",
       "      <td>20,354 km</td>\n",
       "      <td>1st Owner</td>\n",
       "      <td>April 2011</td>\n",
       "      <td>Petrol</td>\n",
       "      <td>DELHI</td>\n",
       "      <td>Non-Accidental</td>\n",
       "    </tr>\n",
       "    <tr>\n",
       "      <th>1</th>\n",
       "      <td>1</td>\n",
       "      <td>2020 Maruti Swift</td>\n",
       "      <td>₹12,110/month</td>\n",
       "      <td>₹5,44,399</td>\n",
       "      <td>6,623 km</td>\n",
       "      <td>1st Owner</td>\n",
       "      <td>January 2020</td>\n",
       "      <td>Petrol</td>\n",
       "      <td>DELHI</td>\n",
       "      <td>Non-Accidental</td>\n",
       "    </tr>\n",
       "    <tr>\n",
       "      <th>2</th>\n",
       "      <td>2</td>\n",
       "      <td>2021 Maruti Swift</td>\n",
       "      <td>₹17,017/month</td>\n",
       "      <td>₹7,65,000</td>\n",
       "      <td>-</td>\n",
       "      <td>-</td>\n",
       "      <td>-</td>\n",
       "      <td>-</td>\n",
       "      <td>-</td>\n",
       "      <td>-</td>\n",
       "    </tr>\n",
       "    <tr>\n",
       "      <th>3</th>\n",
       "      <td>3</td>\n",
       "      <td>2017 Maruti Alto 800</td>\n",
       "      <td>₹6,535/month</td>\n",
       "      <td>₹2,93,799</td>\n",
       "      <td>8,501 km</td>\n",
       "      <td>1st Owner</td>\n",
       "      <td>June 2017</td>\n",
       "      <td>Petrol</td>\n",
       "      <td>DELHI</td>\n",
       "      <td>Non-Accidental</td>\n",
       "    </tr>\n",
       "    <tr>\n",
       "      <th>4</th>\n",
       "      <td>4</td>\n",
       "      <td>2012 Maruti Alto K10</td>\n",
       "      <td>₹3,908/month</td>\n",
       "      <td>₹1,75,699</td>\n",
       "      <td>42,321 km</td>\n",
       "      <td>1st Owner</td>\n",
       "      <td>January 2012</td>\n",
       "      <td>Petrol</td>\n",
       "      <td>DELHI</td>\n",
       "      <td>Non-Accidental</td>\n",
       "    </tr>\n",
       "  </tbody>\n",
       "</table>\n",
       "</div>"
      ],
      "text/plain": [
       "   Unnamed: 0                  Name            EMI      Price  \\\n",
       "0           0  2011 Maruti Alto K10   ₹4,734/month  ₹2,12,799   \n",
       "1           1     2020 Maruti Swift  ₹12,110/month  ₹5,44,399   \n",
       "2           2     2021 Maruti Swift  ₹17,017/month  ₹7,65,000   \n",
       "3           3  2017 Maruti Alto 800   ₹6,535/month  ₹2,93,799   \n",
       "4           4  2012 Maruti Alto K10   ₹3,908/month  ₹1,75,699   \n",
       "\n",
       "  Kilometers Driven      Owner Year of Purchase Fuel Type Location  \\\n",
       "0         20,354 km  1st Owner       April 2011    Petrol    DELHI   \n",
       "1          6,623 km  1st Owner     January 2020    Petrol    DELHI   \n",
       "2                 -          -                -         -        -   \n",
       "3          8,501 km  1st Owner        June 2017    Petrol    DELHI   \n",
       "4         42,321 km  1st Owner     January 2012    Petrol    DELHI   \n",
       "\n",
       "          History  \n",
       "0  Non-Accidental  \n",
       "1  Non-Accidental  \n",
       "2               -  \n",
       "3  Non-Accidental  \n",
       "4  Non-Accidental  "
      ]
     },
     "execution_count": 2,
     "metadata": {},
     "output_type": "execute_result"
    }
   ],
   "source": [
    "df=pd.read_csv('cars.csv')\n",
    "df.head()"
   ]
  },
  {
   "cell_type": "code",
   "execution_count": 3,
   "metadata": {},
   "outputs": [
    {
     "data": {
      "text/plain": [
       "(2572, 10)"
      ]
     },
     "execution_count": 3,
     "metadata": {},
     "output_type": "execute_result"
    }
   ],
   "source": [
    "#checking the shape of the train dataset\n",
    "df.shape"
   ]
  },
  {
   "cell_type": "code",
   "execution_count": 4,
   "metadata": {},
   "outputs": [
    {
     "name": "stdout",
     "output_type": "stream",
     "text": [
      "<class 'pandas.core.frame.DataFrame'>\n",
      "RangeIndex: 2572 entries, 0 to 2571\n",
      "Data columns (total 10 columns):\n",
      " #   Column             Non-Null Count  Dtype \n",
      "---  ------             --------------  ----- \n",
      " 0   Unnamed: 0         2572 non-null   int64 \n",
      " 1   Name               2572 non-null   object\n",
      " 2   EMI                2572 non-null   object\n",
      " 3   Price              2572 non-null   object\n",
      " 4   Kilometers Driven  2572 non-null   object\n",
      " 5   Owner              2572 non-null   object\n",
      " 6   Year of Purchase   2572 non-null   object\n",
      " 7   Fuel Type          2572 non-null   object\n",
      " 8   Location           2572 non-null   object\n",
      " 9   History            2572 non-null   object\n",
      "dtypes: int64(1), object(9)\n",
      "memory usage: 201.1+ KB\n"
     ]
    }
   ],
   "source": [
    "# checking the information of the train dataset\n",
    "df.info()"
   ]
  },
  {
   "cell_type": "code",
   "execution_count": 5,
   "metadata": {},
   "outputs": [
    {
     "data": {
      "text/plain": [
       "Index(['Unnamed: 0', 'Name', 'EMI', 'Price', 'Kilometers Driven', 'Owner',\n",
       "       'Year of Purchase', 'Fuel Type', 'Location', 'History'],\n",
       "      dtype='object')"
      ]
     },
     "execution_count": 5,
     "metadata": {},
     "output_type": "execute_result"
    }
   ],
   "source": [
    "#checking the columns of train dataset\n",
    "df.columns"
   ]
  },
  {
   "cell_type": "code",
   "execution_count": 6,
   "metadata": {},
   "outputs": [
    {
     "data": {
      "text/plain": [
       "Unnamed: 0            int64\n",
       "Name                 object\n",
       "EMI                  object\n",
       "Price                object\n",
       "Kilometers Driven    object\n",
       "Owner                object\n",
       "Year of Purchase     object\n",
       "Fuel Type            object\n",
       "Location             object\n",
       "History              object\n",
       "dtype: object"
      ]
     },
     "execution_count": 6,
     "metadata": {},
     "output_type": "execute_result"
    }
   ],
   "source": [
    "# checking the data types of dataset\n",
    "df.dtypes"
   ]
  },
  {
   "cell_type": "code",
   "execution_count": 7,
   "metadata": {},
   "outputs": [],
   "source": [
    "# As the Unnamed:0 column has no relevance. So, we are deleting this.\n",
    "df.drop('Unnamed: 0',axis=1,inplace=True)"
   ]
  },
  {
   "cell_type": "markdown",
   "metadata": {},
   "source": [
    "# Finding Missing Values"
   ]
  },
  {
   "cell_type": "code",
   "execution_count": 8,
   "metadata": {},
   "outputs": [
    {
     "data": {
      "text/plain": [
       "-                                          1347\n",
       "2021 HYUNDAI NEW I20                         34\n",
       "2015 Maruti Swift                            33\n",
       "2013 Maruti Swift                            26\n",
       "2014 Maruti Swift                            23\n",
       "                                           ... \n",
       "2015 Toyota Fortuner                          1\n",
       "2014 Tata Zest XE QUADRAJET 75PS MANUAL       1\n",
       "2016 Ford Figo Aspire                         1\n",
       "2012 Maruti Ertiga                            1\n",
       "2018 Honda Jazz                               1\n",
       "Name: Name, Length: 413, dtype: int64"
      ]
     },
     "execution_count": 8,
     "metadata": {},
     "output_type": "execute_result"
    }
   ],
   "source": [
    "df['Name'].value_counts()"
   ]
  },
  {
   "cell_type": "code",
   "execution_count": 9,
   "metadata": {},
   "outputs": [],
   "source": [
    "df['Name'].replace('-',np.nan,inplace=True)"
   ]
  },
  {
   "cell_type": "code",
   "execution_count": 10,
   "metadata": {},
   "outputs": [
    {
     "data": {
      "text/plain": [
       "1347"
      ]
     },
     "execution_count": 10,
     "metadata": {},
     "output_type": "execute_result"
    }
   ],
   "source": [
    "df['Name'].isnull().sum()"
   ]
  },
  {
   "cell_type": "code",
   "execution_count": 11,
   "metadata": {},
   "outputs": [],
   "source": [
    "df['EMI'].replace('-',np.nan,inplace=True)"
   ]
  },
  {
   "cell_type": "code",
   "execution_count": 12,
   "metadata": {},
   "outputs": [
    {
     "data": {
      "text/plain": [
       "1347"
      ]
     },
     "execution_count": 12,
     "metadata": {},
     "output_type": "execute_result"
    }
   ],
   "source": [
    "df['EMI'].isnull().sum()"
   ]
  },
  {
   "cell_type": "code",
   "execution_count": 13,
   "metadata": {},
   "outputs": [],
   "source": [
    "df['Kilometers Driven'].replace('-',np.nan,inplace=True)"
   ]
  },
  {
   "cell_type": "code",
   "execution_count": 14,
   "metadata": {},
   "outputs": [
    {
     "data": {
      "text/plain": [
       "593"
      ]
     },
     "execution_count": 14,
     "metadata": {},
     "output_type": "execute_result"
    }
   ],
   "source": [
    "df['Kilometers Driven'].isnull().sum()"
   ]
  },
  {
   "cell_type": "code",
   "execution_count": 15,
   "metadata": {},
   "outputs": [
    {
     "data": {
      "text/plain": [
       "Name                 object\n",
       "EMI                  object\n",
       "Price                object\n",
       "Kilometers Driven    object\n",
       "Owner                object\n",
       "Year of Purchase     object\n",
       "Fuel Type            object\n",
       "Location             object\n",
       "History              object\n",
       "dtype: object"
      ]
     },
     "execution_count": 15,
     "metadata": {},
     "output_type": "execute_result"
    }
   ],
   "source": [
    "df.dtypes"
   ]
  },
  {
   "cell_type": "code",
   "execution_count": 16,
   "metadata": {},
   "outputs": [],
   "source": [
    "df['Price'].replace('-',np.nan,inplace=True)"
   ]
  },
  {
   "cell_type": "code",
   "execution_count": 17,
   "metadata": {},
   "outputs": [
    {
     "data": {
      "text/plain": [
       "1347"
      ]
     },
     "execution_count": 17,
     "metadata": {},
     "output_type": "execute_result"
    }
   ],
   "source": [
    "df['Price'].isnull().sum()"
   ]
  },
  {
   "cell_type": "code",
   "execution_count": 18,
   "metadata": {},
   "outputs": [
    {
     "data": {
      "text/plain": [
       "Name                 object\n",
       "EMI                  object\n",
       "Price                object\n",
       "Kilometers Driven    object\n",
       "Owner                object\n",
       "Year of Purchase     object\n",
       "Fuel Type            object\n",
       "Location             object\n",
       "History              object\n",
       "dtype: object"
      ]
     },
     "execution_count": 18,
     "metadata": {},
     "output_type": "execute_result"
    }
   ],
   "source": [
    "df.dtypes"
   ]
  },
  {
   "cell_type": "code",
   "execution_count": 19,
   "metadata": {},
   "outputs": [],
   "source": [
    "df['Owner'].replace('-',np.nan,inplace=True)"
   ]
  },
  {
   "cell_type": "code",
   "execution_count": 20,
   "metadata": {},
   "outputs": [
    {
     "data": {
      "text/plain": [
       "653"
      ]
     },
     "execution_count": 20,
     "metadata": {},
     "output_type": "execute_result"
    }
   ],
   "source": [
    "df['Owner'].isnull().sum()"
   ]
  },
  {
   "cell_type": "code",
   "execution_count": 21,
   "metadata": {},
   "outputs": [],
   "source": [
    "df['Year of Purchase'].replace('-',np.nan,inplace=True)"
   ]
  },
  {
   "cell_type": "code",
   "execution_count": 22,
   "metadata": {},
   "outputs": [
    {
     "data": {
      "text/plain": [
       "1235"
      ]
     },
     "execution_count": 22,
     "metadata": {},
     "output_type": "execute_result"
    }
   ],
   "source": [
    "df['Year of Purchase'].isnull().sum()"
   ]
  },
  {
   "cell_type": "code",
   "execution_count": 23,
   "metadata": {},
   "outputs": [],
   "source": [
    "df['Fuel Type'].replace('-',np.nan,inplace=True)"
   ]
  },
  {
   "cell_type": "code",
   "execution_count": 24,
   "metadata": {},
   "outputs": [
    {
     "data": {
      "text/plain": [
       "653"
      ]
     },
     "execution_count": 24,
     "metadata": {},
     "output_type": "execute_result"
    }
   ],
   "source": [
    "df['Fuel Type'].isnull().sum()"
   ]
  },
  {
   "cell_type": "code",
   "execution_count": 25,
   "metadata": {},
   "outputs": [],
   "source": [
    "df['Location'].replace('-',np.nan,inplace=True)"
   ]
  },
  {
   "cell_type": "code",
   "execution_count": 26,
   "metadata": {},
   "outputs": [
    {
     "data": {
      "text/plain": [
       "653"
      ]
     },
     "execution_count": 26,
     "metadata": {},
     "output_type": "execute_result"
    }
   ],
   "source": [
    "df['Location'].isnull().sum()"
   ]
  },
  {
   "cell_type": "code",
   "execution_count": 27,
   "metadata": {},
   "outputs": [],
   "source": [
    "df['History'].replace('-',np.nan,inplace=True)"
   ]
  },
  {
   "cell_type": "code",
   "execution_count": 28,
   "metadata": {},
   "outputs": [
    {
     "data": {
      "text/plain": [
       "653"
      ]
     },
     "execution_count": 28,
     "metadata": {},
     "output_type": "execute_result"
    }
   ],
   "source": [
    "df['History'].isnull().sum()"
   ]
  },
  {
   "cell_type": "code",
   "execution_count": 29,
   "metadata": {},
   "outputs": [
    {
     "data": {
      "text/html": [
       "<div>\n",
       "<style scoped>\n",
       "    .dataframe tbody tr th:only-of-type {\n",
       "        vertical-align: middle;\n",
       "    }\n",
       "\n",
       "    .dataframe tbody tr th {\n",
       "        vertical-align: top;\n",
       "    }\n",
       "\n",
       "    .dataframe thead th {\n",
       "        text-align: right;\n",
       "    }\n",
       "</style>\n",
       "<table border=\"1\" class=\"dataframe\">\n",
       "  <thead>\n",
       "    <tr style=\"text-align: right;\">\n",
       "      <th></th>\n",
       "      <th>Name</th>\n",
       "      <th>EMI</th>\n",
       "      <th>Price</th>\n",
       "      <th>Kilometers Driven</th>\n",
       "      <th>Owner</th>\n",
       "      <th>Year of Purchase</th>\n",
       "      <th>Fuel Type</th>\n",
       "      <th>Location</th>\n",
       "      <th>History</th>\n",
       "    </tr>\n",
       "  </thead>\n",
       "  <tbody>\n",
       "    <tr>\n",
       "      <th>0</th>\n",
       "      <td>2011 Maruti Alto K10</td>\n",
       "      <td>₹4,734/month</td>\n",
       "      <td>₹2,12,799</td>\n",
       "      <td>20,354 km</td>\n",
       "      <td>1st Owner</td>\n",
       "      <td>April 2011</td>\n",
       "      <td>Petrol</td>\n",
       "      <td>DELHI</td>\n",
       "      <td>Non-Accidental</td>\n",
       "    </tr>\n",
       "    <tr>\n",
       "      <th>1</th>\n",
       "      <td>2020 Maruti Swift</td>\n",
       "      <td>₹12,110/month</td>\n",
       "      <td>₹5,44,399</td>\n",
       "      <td>6,623 km</td>\n",
       "      <td>1st Owner</td>\n",
       "      <td>January 2020</td>\n",
       "      <td>Petrol</td>\n",
       "      <td>DELHI</td>\n",
       "      <td>Non-Accidental</td>\n",
       "    </tr>\n",
       "    <tr>\n",
       "      <th>2</th>\n",
       "      <td>2021 Maruti Swift</td>\n",
       "      <td>₹17,017/month</td>\n",
       "      <td>₹7,65,000</td>\n",
       "      <td>NaN</td>\n",
       "      <td>NaN</td>\n",
       "      <td>NaN</td>\n",
       "      <td>NaN</td>\n",
       "      <td>NaN</td>\n",
       "      <td>NaN</td>\n",
       "    </tr>\n",
       "    <tr>\n",
       "      <th>3</th>\n",
       "      <td>2017 Maruti Alto 800</td>\n",
       "      <td>₹6,535/month</td>\n",
       "      <td>₹2,93,799</td>\n",
       "      <td>8,501 km</td>\n",
       "      <td>1st Owner</td>\n",
       "      <td>June 2017</td>\n",
       "      <td>Petrol</td>\n",
       "      <td>DELHI</td>\n",
       "      <td>Non-Accidental</td>\n",
       "    </tr>\n",
       "    <tr>\n",
       "      <th>4</th>\n",
       "      <td>2012 Maruti Alto K10</td>\n",
       "      <td>₹3,908/month</td>\n",
       "      <td>₹1,75,699</td>\n",
       "      <td>42,321 km</td>\n",
       "      <td>1st Owner</td>\n",
       "      <td>January 2012</td>\n",
       "      <td>Petrol</td>\n",
       "      <td>DELHI</td>\n",
       "      <td>Non-Accidental</td>\n",
       "    </tr>\n",
       "  </tbody>\n",
       "</table>\n",
       "</div>"
      ],
      "text/plain": [
       "                   Name            EMI      Price Kilometers Driven  \\\n",
       "0  2011 Maruti Alto K10   ₹4,734/month  ₹2,12,799         20,354 km   \n",
       "1     2020 Maruti Swift  ₹12,110/month  ₹5,44,399          6,623 km   \n",
       "2     2021 Maruti Swift  ₹17,017/month  ₹7,65,000               NaN   \n",
       "3  2017 Maruti Alto 800   ₹6,535/month  ₹2,93,799          8,501 km   \n",
       "4  2012 Maruti Alto K10   ₹3,908/month  ₹1,75,699         42,321 km   \n",
       "\n",
       "       Owner Year of Purchase Fuel Type Location         History  \n",
       "0  1st Owner       April 2011    Petrol    DELHI  Non-Accidental  \n",
       "1  1st Owner     January 2020    Petrol    DELHI  Non-Accidental  \n",
       "2        NaN              NaN       NaN      NaN             NaN  \n",
       "3  1st Owner        June 2017    Petrol    DELHI  Non-Accidental  \n",
       "4  1st Owner     January 2012    Petrol    DELHI  Non-Accidental  "
      ]
     },
     "execution_count": 29,
     "metadata": {},
     "output_type": "execute_result"
    }
   ],
   "source": [
    "df.head()"
   ]
  },
  {
   "cell_type": "code",
   "execution_count": 30,
   "metadata": {},
   "outputs": [
    {
     "data": {
      "text/plain": [
       "<matplotlib.axes._subplots.AxesSubplot at 0x1d5ddff2d48>"
      ]
     },
     "execution_count": 30,
     "metadata": {},
     "output_type": "execute_result"
    },
    {
     "data": {
      "image/png": "[encoded data removed]",
      "text/plain": [
       "<Figure size 432x288 with 2 Axes>"
      ]
     },
     "metadata": {
      "needs_background": "light"
     },
     "output_type": "display_data"
    }
   ],
   "source": [
    "sns.heatmap(df.isnull())"
   ]
  },
  {
   "cell_type": "code",
   "execution_count": 31,
   "metadata": {},
   "outputs": [
    {
     "data": {
      "text/plain": [
       "Name                 1347\n",
       "EMI                  1347\n",
       "Price                1347\n",
       "Kilometers Driven     593\n",
       "Owner                 653\n",
       "Year of Purchase     1235\n",
       "Fuel Type             653\n",
       "Location              653\n",
       "History               653\n",
       "dtype: int64"
      ]
     },
     "execution_count": 31,
     "metadata": {},
     "output_type": "execute_result"
    }
   ],
   "source": [
    "#checking the null values\n",
    "df.isnull().sum()"
   ]
  },
  {
   "cell_type": "markdown",
   "metadata": {},
   "source": [
    "# Treating Missing Values"
   ]
  },
  {
   "cell_type": "code",
   "execution_count": 33,
   "metadata": {},
   "outputs": [],
   "source": [
    "df['Name']=df['Name'].fillna(df['Name'].mode()[0])"
   ]
  },
  {
   "cell_type": "code",
   "execution_count": 34,
   "metadata": {},
   "outputs": [],
   "source": [
    "df['History']=df['History'].fillna(df['History'].mode()[0])"
   ]
  },
  {
   "cell_type": "code",
   "execution_count": 35,
   "metadata": {},
   "outputs": [],
   "source": [
    "df['Location']=df['Location'].fillna(df['Location'].mode()[0])"
   ]
  },
  {
   "cell_type": "code",
   "execution_count": 36,
   "metadata": {},
   "outputs": [],
   "source": [
    "df['Fuel Type']=df['Fuel Type'].fillna(df['Fuel Type'].mode()[0])"
   ]
  },
  {
   "cell_type": "code",
   "execution_count": 37,
   "metadata": {},
   "outputs": [],
   "source": [
    "df['Year of Purchase']=df['Year of Purchase'].fillna(df['Year of Purchase'].mode()[0])"
   ]
  },
  {
   "cell_type": "code",
   "execution_count": 38,
   "metadata": {},
   "outputs": [],
   "source": [
    "df['Owner']=df['Owner'].fillna(df['Owner'].mode()[0])"
   ]
  },
  {
   "cell_type": "code",
   "execution_count": 39,
   "metadata": {},
   "outputs": [],
   "source": [
    "df['Kilometers Driven']=df['Kilometers Driven'].fillna(df['Kilometers Driven'].mode()[0])"
   ]
  },
  {
   "cell_type": "code",
   "execution_count": 40,
   "metadata": {},
   "outputs": [],
   "source": [
    "df['EMI']=df['EMI'].fillna(df['EMI'].mode()[0])"
   ]
  },
  {
   "cell_type": "code",
   "execution_count": 41,
   "metadata": {},
   "outputs": [
    {
     "data": {
      "text/plain": [
       "Name                 object\n",
       "EMI                  object\n",
       "Price                object\n",
       "Kilometers Driven    object\n",
       "Owner                object\n",
       "Year of Purchase     object\n",
       "Fuel Type            object\n",
       "Location             object\n",
       "History              object\n",
       "dtype: object"
      ]
     },
     "execution_count": 41,
     "metadata": {},
     "output_type": "execute_result"
    }
   ],
   "source": [
    "df.dtypes"
   ]
  },
  {
   "cell_type": "code",
   "execution_count": 42,
   "metadata": {},
   "outputs": [],
   "source": [
    "df['Price']=df['Price'].fillna(df['Price'].mode()[0])"
   ]
  },
  {
   "cell_type": "code",
   "execution_count": 43,
   "metadata": {},
   "outputs": [
    {
     "data": {
      "text/plain": [
       "Name                 object\n",
       "EMI                  object\n",
       "Price                object\n",
       "Kilometers Driven    object\n",
       "Owner                object\n",
       "Year of Purchase     object\n",
       "Fuel Type            object\n",
       "Location             object\n",
       "History              object\n",
       "dtype: object"
      ]
     },
     "execution_count": 43,
     "metadata": {},
     "output_type": "execute_result"
    }
   ],
   "source": [
    "df.dtypes"
   ]
  },
  {
   "cell_type": "code",
   "execution_count": 44,
   "metadata": {},
   "outputs": [
    {
     "data": {
      "text/plain": [
       "Name                 0\n",
       "EMI                  0\n",
       "Price                0\n",
       "Kilometers Driven    0\n",
       "Owner                0\n",
       "Year of Purchase     0\n",
       "Fuel Type            0\n",
       "Location             0\n",
       "History              0\n",
       "dtype: int64"
      ]
     },
     "execution_count": 44,
     "metadata": {},
     "output_type": "execute_result"
    }
   ],
   "source": [
    "df.isnull().sum()"
   ]
  },
  {
   "cell_type": "markdown",
   "metadata": {},
   "source": [
    "# Data Cleaning"
   ]
  },
  {
   "cell_type": "code",
   "execution_count": 45,
   "metadata": {},
   "outputs": [],
   "source": [
    "df['Price'] =df['Price'].str.split('₹').str[1]"
   ]
  },
  {
   "cell_type": "code",
   "execution_count": 46,
   "metadata": {},
   "outputs": [
    {
     "data": {
      "text/plain": [
       "0       2,12,799\n",
       "1       5,44,399\n",
       "2       7,65,000\n",
       "3       2,93,799\n",
       "4       1,75,699\n",
       "          ...   \n",
       "2567    2,94,299\n",
       "2568    2,62,699\n",
       "2569    4,92,199\n",
       "2570    4,44,799\n",
       "2571    6,52,399\n",
       "Name: Price, Length: 2572, dtype: object"
      ]
     },
     "execution_count": 46,
     "metadata": {},
     "output_type": "execute_result"
    }
   ],
   "source": [
    "df['Price']"
   ]
  },
  {
   "cell_type": "code",
   "execution_count": 47,
   "metadata": {},
   "outputs": [
    {
     "data": {
      "text/plain": [
       "array(['2,12,799', '5,44,399', '7,65,000', '2,93,799', '1,75,699',\n",
       "       '3,96,599', '3,93,099', '2,77,699', '2,46,399', '3,45,699',\n",
       "       '2,78,799', '6,00,799', '2,93,599', '4,62,899', '5,97,899',\n",
       "       '3,18,299', '4,06,799', '6,62,799', '3,51,799', '3,11,099',\n",
       "       '4,24,299', '2,01,699', '6,64,799', '3,03,000', '1,90,499',\n",
       "       '5,24,799', '3,25,199', '3,75,399', '2,62,399', '3,48,599',\n",
       "       '3,78,699', '3,14,399', '4,62,199', '2,79,099', '3,35,399',\n",
       "       '3,65,399', '2,34,399', '6,40,799', '5,86,000', '2,92,499',\n",
       "       '2,97,899', '1,42,000', '4,23,799', '3,11,999', '2,98,000',\n",
       "       '2,01,399', '3,86,899', '6,56,000', '2,55,299', '2,48,099',\n",
       "       '3,89,499', '2,23,299', '4,02,699', '2,22,399', '3,28,799',\n",
       "       '3,59,499', '4,14,699', '1,79,000', '5,53,699', '2,22,799',\n",
       "       '4,40,000', '2,79,000', '3,03,799', '1,79,199', '2,63,599',\n",
       "       '5,02,399', '4,14,000', '1,77,699', '3,68,999', '4,77,499',\n",
       "       '4,82,000', '11,80,000', '4,56,799', '11,56,799', '2,00,899',\n",
       "       '3,73,399', '3,81,499', '3,99,499', '2,90,199', '5,74,099',\n",
       "       '3,67,499', '3,14,199', '2,71,999', '4,36,699', '1,48,099',\n",
       "       '3,00,399', '2,17,000', '4,46,599', '3,07,299', '3,28,499',\n",
       "       '3,02,999', '3,87,599', '5,11,799', '3,63,399', '1,88,000',\n",
       "       '3,15,000', '4,10,199', '3,74,499', '12,44,899', '3,18,699',\n",
       "       '4,55,399', '3,97,699', '3,30,699', '4,47,199', '2,41,099',\n",
       "       '3,42,399', '4,88,299', '2,60,099', '6,54,899', '5,14,499',\n",
       "       '3,91,399', '5,40,000', '2,85,499', '2,38,599', '4,92,199',\n",
       "       '3,27,299', '5,30,000', '4,46,799', '5,05,000', '5,03,599',\n",
       "       '1,76,599', '4,95,499', '6,41,299', '2,25,000', '3,60,299',\n",
       "       '4,45,000', '5,82,299', '12,89,199', '2,19,499', '2,61,099',\n",
       "       '3,41,999', '2,77,199', '2,45,000', '3,92,799', '6,42,399',\n",
       "       '3,04,899', '3,52,399', '2,52,000', '3,80,799', '4,08,000',\n",
       "       '3,62,999', '6,57,299', '2,52,299', '3,45,000', '3,37,000',\n",
       "       '8,88,000', '3,95,299', '2,44,299', '9,24,799', '3,60,799',\n",
       "       '4,73,199', '6,50,000', '6,85,499', '1,90,000', '2,56,000',\n",
       "       '2,23,000', '2,95,000', '2,85,799', '4,53,199', '3,01,699',\n",
       "       '3,80,000', '3,58,000', '5,89,099', '6,27,699', '5,56,799',\n",
       "       '5,13,000', '1,56,000', '3,84,899', '4,65,699', '5,13,099',\n",
       "       '2,24,999', '5,08,899', '1,58,799', '2,18,399', '4,12,000',\n",
       "       '2,21,299', '4,28,399', '1,50,399', '2,90,000', '5,29,899',\n",
       "       '3,25,000', '4,96,000', '2,80,299', '6,09,299', '2,31,499',\n",
       "       '1,00,000', '4,11,299', '4,10,000', '2,90,699', '4,81,699',\n",
       "       '1,96,099', '3,95,499', '9,59,000', '3,98,599', '3,28,000',\n",
       "       '2,14,699', '3,32,000', '3,29,000', '3,29,399', '2,34,000',\n",
       "       '4,50,999', '1,65,699', '2,81,000', '1,29,799', '4,15,000',\n",
       "       '3,31,000', '5,72,399', '6,09,699', '3,53,199', '2,43,000',\n",
       "       '2,57,799', '4,41,099', '4,49,199', '2,45,099', '5,75,899',\n",
       "       '3,04,000', '3,85,699', '2,87,199', '5,01,899', '3,08,999',\n",
       "       '2,78,199', '6,09,399', '2,71,399', '1,30,199', '2,85,699',\n",
       "       '8,54,699', '3,10,699', '3,42,000', '3,61,199', '5,17,499',\n",
       "       '2,93,099', '5,28,399', '2,20,000', '13,26,000', '6,50,499',\n",
       "       '1,85,000', '2,69,000', '5,08,999', '6,57,499', '9,90,000',\n",
       "       '6,08,999', '3,65,000', '6,56,799', '3,35,899', '1,55,699',\n",
       "       '1,22,000', '7,77,599', '1,75,000', '4,60,000', '2,15,000',\n",
       "       '2,94,399', '4,58,799', '3,30,000', '1,45,199', '2,17,299',\n",
       "       '3,83,099', '2,32,000', '4,50,199', '2,30,000', '4,03,999',\n",
       "       '3,90,799', '3,85,000', '4,92,299', '6,00,000', '5,81,699',\n",
       "       '4,02,000', '4,32,000', '1,78,000', '3,60,000', '11,00,000',\n",
       "       '3,52,899', '7,13,000', '5,46,399', '2,83,599', '1,41,399',\n",
       "       '2,22,499', '7,30,000', '4,39,000', '4,27,699', '2,80,000',\n",
       "       '6,50,599', '2,40,000', '2,46,000', '2,68,399', '5,41,299',\n",
       "       '2,11,000', '3,27,000', '4,33,199', '4,60,099', '2,83,000',\n",
       "       '4,12,499', '8,00,399', '5,23,199', '8,06,499', '3,85,299',\n",
       "       '5,21,599', '6,98,099', '5,75,000', '11,01,499', '3,30,799',\n",
       "       '7,45,000', '2,82,000', '1,50,000', '8,34,000', '3,35,000',\n",
       "       '5,11,499', '4,25,000', '2,01,000', '6,47,099', '1,63,000',\n",
       "       '4,18,499', '7,15,000', '4,09,599', '5,19,699', '4,27,000',\n",
       "       '6,08,799', '2,49,000', '4,93,000', '7,27,999', '2,00,000',\n",
       "       '9,95,000', '6,54,199', '3,17,799', '7,59,899', '4,20,199',\n",
       "       '6,75,000', '2,24,199', '5,90,599', '3,33,000', '4,07,699',\n",
       "       '2,41,699', '2,71,000', '2,75,000', '3,35,799', '4,29,000',\n",
       "       '7,75,000', '6,74,899', '6,23,199', '2,39,000', '3,49,000',\n",
       "       '4,60,399', '4,75,499', '3,10,599', '5,16,999', '11,92,599',\n",
       "       '2,85,199', '1,38,000', '10,13,699', '13,03,000', '7,49,499',\n",
       "       '13,00,000', '1,23,000', '8,15,499', '2,64,000', '4,11,699',\n",
       "       '1,80,000', '5,50,000', '4,09,000', '8,11,499', '7,67,399',\n",
       "       '2,62,999', '3,33,599', '1,97,000', '3,12,000', '3,03,499',\n",
       "       '1,52,699', '2,62,899', '3,45,099', '3,24,899', '4,53,099',\n",
       "       '2,18,599', '9,90,199', '4,33,099', '3,99,000', '2,14,799',\n",
       "       '5,16,399', '3,90,699', '3,18,799', '7,24,899', '3,80,199',\n",
       "       '5,80,000', '2,70,000', '6,07,000', '2,27,000', '7,28,299',\n",
       "       '1,34,299', '5,00,999', '3,09,799', '2,37,000', '4,75,000',\n",
       "       '5,33,000', '9,81,599', '7,04,499', '6,02,000', '4,31,399',\n",
       "       '5,32,000', '5,25,000', '4,59,000', '4,66,899', '2,53,000',\n",
       "       '8,03,799', '3,91,199', '3,24,199', '5,83,999', '4,23,899',\n",
       "       '2,99,899', '3,66,000', '4,10,399', '4,39,399', '4,95,000',\n",
       "       '6,58,000', '5,34,399', '7,80,000', '4,71,000', '2,69,999',\n",
       "       '9,09,299', '4,98,000', '7,38,799', '5,26,199', '2,60,000',\n",
       "       '7,25,000', '3,78,999', '1,65,000', '3,38,199', '3,64,199',\n",
       "       '5,51,000', '5,89,000', '7,58,899', '5,00,499', '7,41,399',\n",
       "       '5,34,899', '6,70,799', '3,55,000', '5,71,000', '5,36,799',\n",
       "       '7,81,199', '16,60,000', '5,34,199', '5,02,000', '2,18,000',\n",
       "       '5,39,699', '4,81,199', '2,92,099', '7,11,000', '4,37,299',\n",
       "       '11,55,299', '5,00,099', '12,00,000', '4,41,000', '4,69,699',\n",
       "       '1,74,899', '3,01,999', '4,38,899', '1,95,000', '4,43,999',\n",
       "       '1,39,000', '2,38,499', '3,94,000', '8,05,299', '2,80,599',\n",
       "       '7,00,799', '4,00,000', '3,45,999', '3,37,899', '7,78,000',\n",
       "       '4,42,699', '4,10,499', '16,09,699', '2,09,999', '2,44,199',\n",
       "       '1,73,000', '5,43,000', '8,29,099', '9,71,499', '7,30,999',\n",
       "       '3,41,000', '6,53,099', '7,55,000', '16,54,699', '2,59,000',\n",
       "       '4,50,000', '6,90,999', '2,60,599', '4,56,000', '6,28,000',\n",
       "       '16,78,099', '3,07,199', '2,91,299', '1,93,399', '4,58,299',\n",
       "       '6,25,999', '4,07,199', '1,72,500', '3,08,000', '2,83,099',\n",
       "       '2,61,699', '11,17,599', '4,63,000', '1,63,799', '2,84,799',\n",
       "       '6,25,000', '6,21,499', '13,77,000', '6,32,899', '6,85,000',\n",
       "       '3,34,799', '11,23,899', '7,83,099', '9,75,000', '3,47,000',\n",
       "       '7,50,000', '2,05,000', '8,88,888', '6,52,199', '1,03,199',\n",
       "       '3,66,699', '5,11,000', '4,65,599', '11,93,799', '3,51,000',\n",
       "       '3,68,000', '5,83,299', '2,74,000', '2,55,000', '2,44,000',\n",
       "       '6,51,199', '9,29,000', '3,80,999', '4,70,000', '11,15,000',\n",
       "       '9,14,000', '2,64,999', '7,18,000', '7,74,299', '5,33,099',\n",
       "       '7,05,799', '2,87,499', '8,81,499', '6,43,999', '7,45,199',\n",
       "       '1,25,000', '4,65,199', '3,86,099', '1,17,000', '1,33,000',\n",
       "       '2,48,899', '1,74,799', '7,80,899', '7,74,099', '3,56,699',\n",
       "       '7,72,699', '3,37,399', '4,43,599', '16,75,000', '3,45,500',\n",
       "       '9,22,299', '8,11,199', '8,17,000', '7,32,000', '5,80,999',\n",
       "       '3,39,699', '3,24,699', '7,05,000', '15,38,199', '1,92,900',\n",
       "       '2,86,799', '4,65,000', '3,92,599', '8,00,000', '15,75,000',\n",
       "       '4,44,399', '2,45,399', '3,42,599', '4,15,199', '4,05,000',\n",
       "       '3,00,000', '4,40,399', '6,33,999', '8,75,000', '3,54,999',\n",
       "       '7,60,000', '3,24,299', '5,85,000', '7,62,999', '3,13,299',\n",
       "       '4,08,699', '7,19,000', '8,79,999', '3,02,399', '6,21,399',\n",
       "       '7,99,000', '4,05,599', '6,03,399', '3,13,399', '1,66,399',\n",
       "       '7,11,299', '6,37,299', '7,10,399', '3,48,699', '28,75,000',\n",
       "       '10,01,199', '1,70,000', '3,46,199', '5,70,799', '5,60,099',\n",
       "       '17,78,000', '4,14,599', '1,42,399', '6,80,299', '3,52,599',\n",
       "       '4,42,000', '3,71,899', '7,95,000', '10,65,000', '3,69,000',\n",
       "       '3,10,999', '2,47,000', '2,09,000', '1,68,810', '5,27,299',\n",
       "       '12,51,000', '2,45,799', '7,49,000', '7,43,499', '6,10,000',\n",
       "       '4,47,000', '5,01,000', '3,41,599', '2,58,799', '4,35,000',\n",
       "       '4,61,899', '6,62,499', '3,58,899', '2,90,599', '3,68,799',\n",
       "       '17,90,000', '7,18,299', '3,94,699', '2,58,499', '3,17,399',\n",
       "       '2,48,599', '8,80,000', '29,99,000', '3,28,900', '3,30,199',\n",
       "       '3,97,899', '8,70,000', '3,21,899', '3,90,299', '9,30,000',\n",
       "       '3,06,899', '3,68,499', '7,45,799', '5,93,000', '8,85,000',\n",
       "       '4,03,000', '3,50,000', '8,31,599', '3,29,199', '8,82,199',\n",
       "       '3,76,099', '4,29,099', '2,38,000', '6,40,999', '18,20,799',\n",
       "       '8,60,399', '5,72,000', '6,04,000', '4,33,000', '3,03,199',\n",
       "       '3,64,499', '8,09,499', '6,07,699', '3,00,099', '2,85,999',\n",
       "       '7,89,000', '3,10,199', '2,41,000', '9,92,000', '5,12,899',\n",
       "       '7,39,000', '16,70,000', '40,40,000', '3,44,099', '9,50,000',\n",
       "       '4,29,499', '4,23,000', '4,62,799', '1,94,000', '4,23,599',\n",
       "       '9,55,000', '4,09,799', '3,26,599', '4,80,799', '4,17,000',\n",
       "       '5,65,799', '4,85,000', '2,92,199', '8,14,000', '5,52,099',\n",
       "       '2,67,899', '3,91,099', '2,78,699', '9,77,199', '5,39,000',\n",
       "       '5,69,000', '6,63,799', '2,21,699', '7,32,399', '4,57,399',\n",
       "       '2,97,499', '4,11,999', '8,10,000', '2,50,699', '3,83,699',\n",
       "       '8,76,000', '2,35,000', '15,88,699', '2,82,299', '2,50,000',\n",
       "       '6,39,000', '3,09,399', '4,05,399', '6,15,799', '3,94,299',\n",
       "       '5,28,899', '4,89,099', '1,20,000', '3,65,599', '3,10,399',\n",
       "       '3,54,099', '3,97,799', '5,24,000', '3,17,099', '3,11,299',\n",
       "       '6,46,000', '5,02,799', '5,62,699', '7,81,000', '1,69,099',\n",
       "       '15,50,000', '3,89,799', '2,88,399', '9,03,000', '3,83,000',\n",
       "       '12,20,000', '2,29,699', '3,88,899', '3,07,000', '3,56,499',\n",
       "       '5,98,999', '4,13,499', '5,53,299', '8,01,299', '12,82,599',\n",
       "       '3,80,099', '5,48,000', '3,33,299', '2,72,399', '5,99,000',\n",
       "       '3,95,799', '11,03,999', '6,65,499', '2,55,199', '4,68,199',\n",
       "       '5,55,000', '4,88,500', '5,20,000', '10,14,000', '23,00,000',\n",
       "       '4,85,799', '4,39,099', '4,86,799', '6,14,599', '8,68,000',\n",
       "       '3,01,000', '8,38,899', '3,07,099', '6,80,000', '11,70,599',\n",
       "       '7,98,000', '5,80,799', '3,00,999', '5,22,000', '4,38,799',\n",
       "       '5,35,000', '14,27,399', '2,79,299', '3,98,099', '3,97,099',\n",
       "       '2,99,699', '2,96,499', '5,25,699', '4,67,580', '1,69,699',\n",
       "       '3,63,499', '3,51,399', '6,41,599', '5,14,799', '3,77,399',\n",
       "       '4,17,099', '3,67,199', '12,70,899', '4,79,499', '3,92,899',\n",
       "       '2,19,199', '3,92,199', '7,15,599', '2,79,199', '3,40,299',\n",
       "       '7,32,699', '3,50,199', '3,46,699', '3,39,299', '4,25,099',\n",
       "       '4,76,699', '3,09,899', '8,16,000', '3,75,499', '8,20,000',\n",
       "       '5,73,199', '5,01,299', '5,31,799', '3,75,899', '4,60,899',\n",
       "       '3,68,099', '5,35,199', '5,60,399', '3,33,099', '3,88,599',\n",
       "       '5,10,000', '9,51,000', '7,66,699', '2,37,299', '3,90,199',\n",
       "       '11,93,399', '4,90,000', '3,87,399', '4,32,999', '4,12,799',\n",
       "       '5,36,899', '3,03,399', '2,65,599', '3,21,999', '6,85,699',\n",
       "       '3,62,000', '3,76,199', '9,07,799', '3,85,099', '14,25,000',\n",
       "       '2,65,399', '3,19,899', '7,84,099', '2,70,599', '2,77,799',\n",
       "       '3,32,899', '4,23,399', '3,42,999', '5,65,999', '8,03,599',\n",
       "       '7,41,199', '5,28,699', '4,36,499', '9,20,000', '2,86,199',\n",
       "       '2,78,499', '15,40,000', '2,28,399', '12,63,899', '4,28,499',\n",
       "       '5,45,000', '5,71,199', '7,80,599', '7,10,000', '2,16,599',\n",
       "       '6,19,999', '3,81,099', '2,55,799', '3,45,199', '2,94,299',\n",
       "       '2,62,699', '4,44,799', '6,52,399', '4,20,899', '4,32,899',\n",
       "       '4,28,799', '3,52,999', '2,14,399', '4,42,599', '4,24,799',\n",
       "       '3,53,799', '5,58,699', '3,53,489', '3,13,799', '1,89,199',\n",
       "       '3,06,499', '3,04,599', '2,53,899', '4,62,299', '3,98,999',\n",
       "       '4,95,899', '4,96,799', '11,61,799', '2,15,899', '4,08,999',\n",
       "       '4,03,199', '4,26,499', '12,45,299', '4,86,699', '4,91,499',\n",
       "       '5,83,799', '1,53,099', '3,69,799', '3,64,099', '17,76,599',\n",
       "       '5,96,599', '4,18,699', '5,04,199', '3,58,699', '4,07,599',\n",
       "       '2,39,999', '2,69,099', '4,96,099', '5,24,599', '4,26,699',\n",
       "       '3,02,499', '4,32,199', '3,46,299', '4,77,799', '5,09,599',\n",
       "       '1,90,599', '5,12,499', '6,79,299', '2,11,399', '1,42,699',\n",
       "       '2,35,499', '3,81,299', '3,56,999', '4,28,699', '6,64,399',\n",
       "       '2,65,099', '2,28,799', '6,71,799', '4,54,299', '4,09,499',\n",
       "       '4,86,499', '3,16,999', '4,03,599', '2,92,399', '4,71,599',\n",
       "       '3,67,999', '4,96,999', '4,86,899', '3,66,799', '3,75,199',\n",
       "       '5,62,799', '7,08,499', '2,36,499', '3,00,499', '3,17,699',\n",
       "       '6,48,699', '3,54,799', '4,18,399', '4,14,899', '5,14,299',\n",
       "       '2,57,299', '1,67,799', '4,14,399', '4,51,699', '3,21,399',\n",
       "       '2,47,499', '3,88,499', '4,00,499', '6,66,599'], dtype=object)"
      ]
     },
     "execution_count": 47,
     "metadata": {},
     "output_type": "execute_result"
    }
   ],
   "source": [
    "df['Price'].unique()"
   ]
  },
  {
   "cell_type": "code",
   "execution_count": 49,
   "metadata": {},
   "outputs": [],
   "source": [
    "df['Price'] = df['Price'].str.replace(',','')\n"
   ]
  },
  {
   "cell_type": "code",
   "execution_count": 50,
   "metadata": {},
   "outputs": [
    {
     "data": {
      "text/plain": [
       "0       212799\n",
       "1       544399\n",
       "2       765000\n",
       "3       293799\n",
       "4       175699\n",
       "         ...  \n",
       "2567    294299\n",
       "2568    262699\n",
       "2569    492199\n",
       "2570    444799\n",
       "2571    652399\n",
       "Name: Price, Length: 2572, dtype: object"
      ]
     },
     "execution_count": 50,
     "metadata": {},
     "output_type": "execute_result"
    }
   ],
   "source": [
    "df['Price']"
   ]
  },
  {
   "cell_type": "code",
   "execution_count": 51,
   "metadata": {},
   "outputs": [],
   "source": [
    "df['Price']=df['Price'].astype('int32')"
   ]
  },
  {
   "cell_type": "code",
   "execution_count": 52,
   "metadata": {},
   "outputs": [
    {
     "data": {
      "text/plain": [
       "Name                 object\n",
       "EMI                  object\n",
       "Price                 int32\n",
       "Kilometers Driven    object\n",
       "Owner                object\n",
       "Year of Purchase     object\n",
       "Fuel Type            object\n",
       "Location             object\n",
       "History              object\n",
       "dtype: object"
      ]
     },
     "execution_count": 52,
     "metadata": {},
     "output_type": "execute_result"
    }
   ],
   "source": [
    "df.dtypes"
   ]
  },
  {
   "cell_type": "code",
   "execution_count": 53,
   "metadata": {},
   "outputs": [
    {
     "data": {
      "text/plain": [
       "Non-Accidental    2572\n",
       "Name: History, dtype: int64"
      ]
     },
     "execution_count": 53,
     "metadata": {},
     "output_type": "execute_result"
    }
   ],
   "source": [
    "df['History'].value_counts()"
   ]
  },
  {
   "cell_type": "code",
   "execution_count": 54,
   "metadata": {},
   "outputs": [
    {
     "data": {
      "text/plain": [
       "DELHI       1943\n",
       "GURGAON      359\n",
       "NOIDA        269\n",
       "LUDHIANA       1\n",
       "Name: Location, dtype: int64"
      ]
     },
     "execution_count": 54,
     "metadata": {},
     "output_type": "execute_result"
    }
   ],
   "source": [
    "df['Location'].value_counts()"
   ]
  },
  {
   "cell_type": "code",
   "execution_count": 55,
   "metadata": {},
   "outputs": [
    {
     "data": {
      "text/plain": [
       "Petrol          1760\n",
       "Diesel           746\n",
       "Petrol + CNG      66\n",
       "Name: Fuel Type, dtype: int64"
      ]
     },
     "execution_count": 55,
     "metadata": {},
     "output_type": "execute_result"
    }
   ],
   "source": [
    "df['Fuel Type'].value_counts()"
   ]
  },
  {
   "cell_type": "code",
   "execution_count": 56,
   "metadata": {},
   "outputs": [
    {
     "data": {
      "text/plain": [
       "1st Owner    2184\n",
       "2nd Owner     341\n",
       "3rd Owner      42\n",
       "4th Owner       5\n",
       "Name: Owner, dtype: int64"
      ]
     },
     "execution_count": 56,
     "metadata": {},
     "output_type": "execute_result"
    }
   ],
   "source": [
    "df['Owner'].value_counts()"
   ]
  },
  {
   "cell_type": "code",
   "execution_count": 57,
   "metadata": {},
   "outputs": [],
   "source": [
    "from sklearn.preprocessing import LabelEncoder\n",
    "LE=LabelEncoder()"
   ]
  },
  {
   "cell_type": "code",
   "execution_count": 58,
   "metadata": {},
   "outputs": [
    {
     "data": {
      "text/plain": [
       "Valid upto Oct 2022\\n3rd Party      1320\n",
       "January 2014                          29\n",
       "January 2019                          28\n",
       "January 2013                          27\n",
       "January 2016                          27\n",
       "                                    ... \n",
       "September 2011                         1\n",
       "April 2021                             1\n",
       "September 2008                         1\n",
       "Valid upto Apr 2022\\nThird_party       1\n",
       "January 2009                           1\n",
       "Name: Year of Purchase, Length: 164, dtype: int64"
      ]
     },
     "execution_count": 58,
     "metadata": {},
     "output_type": "execute_result"
    }
   ],
   "source": [
    "df['Year of Purchase'].value_counts()"
   ]
  },
  {
   "cell_type": "code",
   "execution_count": 59,
   "metadata": {},
   "outputs": [
    {
     "data": {
      "text/plain": [
       "array(['April 2011', 'January 2020', 'Valid upto Oct 2022\\n3rd Party',\n",
       "       'June 2017', 'January 2012', 'May 2013', 'February 2014',\n",
       "       'September 2017', 'March 2014', 'June 2018', 'January 2019',\n",
       "       'February 2011', 'April 2016', 'November 2016', 'November 2013',\n",
       "       'January 2013', 'September 2016', 'February 2016', 'July 2017',\n",
       "       'February 2017', 'October 2020', 'April 2014', 'March 2010',\n",
       "       'March 2013', 'April 2018', 'October 2010', 'January 2014',\n",
       "       'February 2020', 'October 2013', 'September 2020',\n",
       "       'September 2013', 'February 2013', 'September 2010', 'March 2017',\n",
       "       'May 2017', 'December 2012', 'August 2014', 'June 2010',\n",
       "       'July 2014', 'April 2019', 'December 2014', 'April 2015',\n",
       "       'June 2013', 'February 2018', 'November 2020', 'March 2016',\n",
       "       'November 2012', 'October 2012', 'October 2017', 'August 2017',\n",
       "       'October 2014', 'May 2010', 'January 2018', 'November 2018',\n",
       "       'June 2016', 'September 2019', 'September 2014', 'April 2009',\n",
       "       'January 2015', 'November 2015', 'July 2013', 'November 2009',\n",
       "       'August 2011', 'June 2008', 'November 2010', 'December 2015',\n",
       "       'September 2009', 'January 2016', 'January 2017', 'July 2016',\n",
       "       'September 2012', 'February 2009', 'January 2021', 'July 2009',\n",
       "       'May 2016', 'January 2011', 'November 2017', 'February 2019',\n",
       "       'March 2015', 'May 2011', 'April 2013', 'June 2012', 'July 2019',\n",
       "       'December 2017', 'August 2008', 'July 2015', 'November 2019',\n",
       "       'August 2013', 'May 2014', 'October 2016', 'November 2014',\n",
       "       'September 2018', 'March 2012', 'August 2016', 'January 2008',\n",
       "       'July 2012', 'May 2015', 'April 2017', 'August 2010', 'June 2015',\n",
       "       'May 2012', 'November 2007', 'March 2018', 'May 2018',\n",
       "       'February 2015', 'August 2018', 'November 2011', 'June 2009',\n",
       "       'July 2018', 'August 2015', 'December 2008', 'October 2015',\n",
       "       'December 2013', 'February 2010', 'December 2009', 'August 2012',\n",
       "       'September 2015', 'April 2021', 'June 2011', 'March 2011',\n",
       "       'June 2019', 'October 2009', 'April 2010', 'January 2010',\n",
       "       'August 2020', 'July 2011', 'July 2020', 'May 2019',\n",
       "       'October 2011', 'June 2020', 'March 2019', 'August 2019',\n",
       "       'October 2019', 'September 2011', 'November 2008', 'October 2018',\n",
       "       'January 2009', 'August 2009', 'April 2012', 'June 2014',\n",
       "       'May 2008', 'September 2008', 'August 2007', 'July 2010',\n",
       "       'December 2018', 'March 2020', 'February 2012', 'December 2010',\n",
       "       'December 2019', 'March 2008', 'December 2016',\n",
       "       'Valid upto May 2022\\nComp', 'Valid upto Jan 2022\\nComp',\n",
       "       'Valid upto May 2022\\nThird_party',\n",
       "       'Valid upto Jan 2022\\nZero_Dep', 'Valid upto May 2022\\nZero_Dep',\n",
       "       'Valid upto Mar 2022\\nZero_Dep', 'Valid upto Mar 2022\\nComp',\n",
       "       'Valid upto Apr 2022\\nThird_party',\n",
       "       'Valid upto Jan 2022\\nThird Party',\n",
       "       'Valid upto Feb 2022\\nZero_Dep',\n",
       "       'Valid upto Mar 2022\\nThird Party', 'Valid upto Feb 2022\\nComp',\n",
       "       'Valid upto Feb 2022\\nThird Party'], dtype=object)"
      ]
     },
     "execution_count": 59,
     "metadata": {},
     "output_type": "execute_result"
    }
   ],
   "source": [
    "df['Year of Purchase'].unique()"
   ]
  },
  {
   "cell_type": "code",
   "execution_count": 60,
   "metadata": {},
   "outputs": [],
   "source": [
    "df['Year of Purchase']=df['Year of Purchase'].str.replace('Valid upto May 2022\\nComp' ,'2022')\n",
    "df['Year of Purchase']=df['Year of Purchase'].str.replace('Valid upto Jan 2022\\nComp' ,'2022')\n",
    "df['Year of Purchase']=df['Year of Purchase'].str.replace('Valid upto May 2022\\nThird_party' ,'2022')\n",
    "df['Year of Purchase']=df['Year of Purchase'].str.replace('Valid upto Jan 2022\\nZero_Dep' ,'2022')\n",
    "df['Year of Purchase']=df['Year of Purchase'].str.replace('Valid upto May 2022\\nZero_Dep' ,'2022')\n",
    "df['Year of Purchase']=df['Year of Purchase'].str.replace('Valid upto Mar 2022\\nZero_Dep' ,'2022')\n",
    "df['Year of Purchase']=df['Year of Purchase'].str.replace('Valid upto Apr 2022\\nThird_party' ,'2022')\n",
    "df['Year of Purchase']=df['Year of Purchase'].str.replace('Valid upto Jan 2022\\nThird Party' ,'2022')\n",
    "df['Year of Purchase']=df['Year of Purchase'].str.replace('Valid upto Feb 2022\\nZero_Dep' ,'2022')\n",
    "df['Year of Purchase']=df['Year of Purchase'].str.replace('Valid upto Mar 2022\\nThird Party' ,'2022')\n",
    "df['Year of Purchase']=df['Year of Purchase'].str.replace('Valid upto Feb 2022\\nComp' ,'2022')\n",
    "df['Year of Purchase']=df['Year of Purchase'].str.replace('Valid upto Feb 2022\\nThird Party' ,'2022')\n",
    "df['Year of Purchase']=df['Year of Purchase'].str.replace('Valid upto Mar 2022\\nComp' ,'2022')\n",
    "df['Year of Purchase']=df['Year of Purchase'].str.replace('Valid upto Oct 2022\\n3rd Party' ,'2022')\n"
   ]
  },
  {
   "cell_type": "code",
   "execution_count": 61,
   "metadata": {},
   "outputs": [
    {
     "data": {
      "text/plain": [
       "array(['April 2011', 'January 2020', '2022', 'June 2017', 'January 2012',\n",
       "       'May 2013', 'February 2014', 'September 2017', 'March 2014',\n",
       "       'June 2018', 'January 2019', 'February 2011', 'April 2016',\n",
       "       'November 2016', 'November 2013', 'January 2013', 'September 2016',\n",
       "       'February 2016', 'July 2017', 'February 2017', 'October 2020',\n",
       "       'April 2014', 'March 2010', 'March 2013', 'April 2018',\n",
       "       'October 2010', 'January 2014', 'February 2020', 'October 2013',\n",
       "       'September 2020', 'September 2013', 'February 2013',\n",
       "       'September 2010', 'March 2017', 'May 2017', 'December 2012',\n",
       "       'August 2014', 'June 2010', 'July 2014', 'April 2019',\n",
       "       'December 2014', 'April 2015', 'June 2013', 'February 2018',\n",
       "       'November 2020', 'March 2016', 'November 2012', 'October 2012',\n",
       "       'October 2017', 'August 2017', 'October 2014', 'May 2010',\n",
       "       'January 2018', 'November 2018', 'June 2016', 'September 2019',\n",
       "       'September 2014', 'April 2009', 'January 2015', 'November 2015',\n",
       "       'July 2013', 'November 2009', 'August 2011', 'June 2008',\n",
       "       'November 2010', 'December 2015', 'September 2009', 'January 2016',\n",
       "       'January 2017', 'July 2016', 'September 2012', 'February 2009',\n",
       "       'January 2021', 'July 2009', 'May 2016', 'January 2011',\n",
       "       'November 2017', 'February 2019', 'March 2015', 'May 2011',\n",
       "       'April 2013', 'June 2012', 'July 2019', 'December 2017',\n",
       "       'August 2008', 'July 2015', 'November 2019', 'August 2013',\n",
       "       'May 2014', 'October 2016', 'November 2014', 'September 2018',\n",
       "       'March 2012', 'August 2016', 'January 2008', 'July 2012',\n",
       "       'May 2015', 'April 2017', 'August 2010', 'June 2015', 'May 2012',\n",
       "       'November 2007', 'March 2018', 'May 2018', 'February 2015',\n",
       "       'August 2018', 'November 2011', 'June 2009', 'July 2018',\n",
       "       'August 2015', 'December 2008', 'October 2015', 'December 2013',\n",
       "       'February 2010', 'December 2009', 'August 2012', 'September 2015',\n",
       "       'April 2021', 'June 2011', 'March 2011', 'June 2019',\n",
       "       'October 2009', 'April 2010', 'January 2010', 'August 2020',\n",
       "       'July 2011', 'July 2020', 'May 2019', 'October 2011', 'June 2020',\n",
       "       'March 2019', 'August 2019', 'October 2019', 'September 2011',\n",
       "       'November 2008', 'October 2018', 'January 2009', 'August 2009',\n",
       "       'April 2012', 'June 2014', 'May 2008', 'September 2008',\n",
       "       'August 2007', 'July 2010', 'December 2018', 'March 2020',\n",
       "       'February 2012', 'December 2010', 'December 2019', 'March 2008',\n",
       "       'December 2016'], dtype=object)"
      ]
     },
     "execution_count": 61,
     "metadata": {},
     "output_type": "execute_result"
    }
   ],
   "source": [
    "df['Year of Purchase'].unique()"
   ]
  },
  {
   "cell_type": "code",
   "execution_count": 62,
   "metadata": {},
   "outputs": [
    {
     "data": {
      "text/plain": [
       "array(['April 2011', 'January 2020', '2022', 'June 2017', 'January 2012',\n",
       "       'May 2013', 'February 2014', 'September 2017', 'March 2014',\n",
       "       'June 2018', 'January 2019', 'February 2011', 'April 2016',\n",
       "       'November 2016', 'November 2013', 'January 2013', 'September 2016',\n",
       "       'February 2016', 'July 2017', 'February 2017', 'October 2020',\n",
       "       'April 2014', 'March 2010', 'March 2013', 'April 2018',\n",
       "       'October 2010', 'January 2014', 'February 2020', 'October 2013',\n",
       "       'September 2020', 'September 2013', 'February 2013',\n",
       "       'September 2010', 'March 2017', 'May 2017', 'December 2012',\n",
       "       'August 2014', 'June 2010', 'July 2014', 'April 2019',\n",
       "       'December 2014', 'April 2015', 'June 2013', 'February 2018',\n",
       "       'November 2020', 'March 2016', 'November 2012', 'October 2012',\n",
       "       'October 2017', 'August 2017', 'October 2014', 'May 2010',\n",
       "       'January 2018', 'November 2018', 'June 2016', 'September 2019',\n",
       "       'September 2014', 'April 2009', 'January 2015', 'November 2015',\n",
       "       'July 2013', 'November 2009', 'August 2011', 'June 2008',\n",
       "       'November 2010', 'December 2015', 'September 2009', 'January 2016',\n",
       "       'January 2017', 'July 2016', 'September 2012', 'February 2009',\n",
       "       'January 2021', 'July 2009', 'May 2016', 'January 2011',\n",
       "       'November 2017', 'February 2019', 'March 2015', 'May 2011',\n",
       "       'April 2013', 'June 2012', 'July 2019', 'December 2017',\n",
       "       'August 2008', 'July 2015', 'November 2019', 'August 2013',\n",
       "       'May 2014', 'October 2016', 'November 2014', 'September 2018',\n",
       "       'March 2012', 'August 2016', 'January 2008', 'July 2012',\n",
       "       'May 2015', 'April 2017', 'August 2010', 'June 2015', 'May 2012',\n",
       "       'November 2007', 'March 2018', 'May 2018', 'February 2015',\n",
       "       'August 2018', 'November 2011', 'June 2009', 'July 2018',\n",
       "       'August 2015', 'December 2008', 'October 2015', 'December 2013',\n",
       "       'February 2010', 'December 2009', 'August 2012', 'September 2015',\n",
       "       'April 2021', 'June 2011', 'March 2011', 'June 2019',\n",
       "       'October 2009', 'April 2010', 'January 2010', 'August 2020',\n",
       "       'July 2011', 'July 2020', 'May 2019', 'October 2011', 'June 2020',\n",
       "       'March 2019', 'August 2019', 'October 2019', 'September 2011',\n",
       "       'November 2008', 'October 2018', 'January 2009', 'August 2009',\n",
       "       'April 2012', 'June 2014', 'May 2008', 'September 2008',\n",
       "       'August 2007', 'July 2010', 'December 2018', 'March 2020',\n",
       "       'February 2012', 'December 2010', 'December 2019', 'March 2008',\n",
       "       'December 2016'], dtype=object)"
      ]
     },
     "execution_count": 62,
     "metadata": {},
     "output_type": "execute_result"
    }
   ],
   "source": [
    "df['Year of Purchase'].unique()"
   ]
  },
  {
   "cell_type": "code",
   "execution_count": 63,
   "metadata": {},
   "outputs": [],
   "source": [
    "df['Year of Purchase'] = df['Year of Purchase'].str.split(' ').str[-1]\n"
   ]
  },
  {
   "cell_type": "code",
   "execution_count": 64,
   "metadata": {},
   "outputs": [
    {
     "data": {
      "text/plain": [
       "0       2011\n",
       "1       2020\n",
       "2       2022\n",
       "3       2017\n",
       "4       2012\n",
       "        ... \n",
       "2567    2017\n",
       "2568    2022\n",
       "2569    2022\n",
       "2570    2014\n",
       "2571    2022\n",
       "Name: Year of Purchase, Length: 2572, dtype: object"
      ]
     },
     "execution_count": 64,
     "metadata": {},
     "output_type": "execute_result"
    }
   ],
   "source": [
    "df['Year of Purchase']"
   ]
  },
  {
   "cell_type": "code",
   "execution_count": 65,
   "metadata": {},
   "outputs": [],
   "source": [
    "df['Kilometers Driven'] = df['Kilometers Driven'].str.replace(',','')"
   ]
  },
  {
   "cell_type": "code",
   "execution_count": 66,
   "metadata": {},
   "outputs": [],
   "source": [
    "df['Kilometers Driven'] = df['Kilometers Driven'].str.slice(stop=-2).astype(int)"
   ]
  },
  {
   "cell_type": "code",
   "execution_count": 67,
   "metadata": {},
   "outputs": [
    {
     "data": {
      "text/plain": [
       "0       20354\n",
       "1        6623\n",
       "2       12268\n",
       "3        8501\n",
       "4       42321\n",
       "        ...  \n",
       "2567     5636\n",
       "2568    15468\n",
       "2569    12268\n",
       "2570    13509\n",
       "2571     6460\n",
       "Name: Kilometers Driven, Length: 2572, dtype: int32"
      ]
     },
     "execution_count": 67,
     "metadata": {},
     "output_type": "execute_result"
    }
   ],
   "source": [
    "df['Kilometers Driven']"
   ]
  },
  {
   "cell_type": "code",
   "execution_count": 68,
   "metadata": {},
   "outputs": [
    {
     "data": {
      "text/plain": [
       "₹15,794/month    1381\n",
       "₹7,229/month        6\n",
       "₹10,010/month       5\n",
       "₹9,788/month        5\n",
       "₹7,452/month        4\n",
       "                 ... \n",
       "₹8,351/month        1\n",
       "₹11,451/month       1\n",
       "₹8,157/month        1\n",
       "₹5,432/month        1\n",
       "₹6,211/month        1\n",
       "Name: EMI, Length: 973, dtype: int64"
      ]
     },
     "execution_count": 68,
     "metadata": {},
     "output_type": "execute_result"
    }
   ],
   "source": [
    "df['EMI'].value_counts()"
   ]
  },
  {
   "cell_type": "code",
   "execution_count": 69,
   "metadata": {},
   "outputs": [
    {
     "data": {
      "text/plain": [
       "array(['₹4,734/month', '₹12,110/month', '₹17,017/month', '₹6,535/month',\n",
       "       '₹3,908/month', '₹8,822/month', '₹8,744/month', '₹6,177/month',\n",
       "       '₹5,481/month', '₹7,690/month', '₹6,202/month', '₹13,364/month',\n",
       "       '₹6,531/month', '₹10,297/month', '₹13,300/month', '₹7,080/month',\n",
       "       '₹9,049/month', '₹14,744/month', '₹7,826/month', '₹6,920/month',\n",
       "       '₹9,438/month', '₹4,487/month', '₹14,788/month', '₹6,740/month',\n",
       "       '₹4,238/month', '₹11,674/month', '₹7,234/month', '₹8,351/month',\n",
       "       '₹5,837/month', '₹7,754/month', '₹8,424/month', '₹6,994/month',\n",
       "       '₹10,281/month', '₹6,208/month', '₹7,461/month', '₹8,128/month',\n",
       "       '₹5,214/month', '₹14,254/month', '₹13,035/month', '₹6,506/month',\n",
       "       '₹6,627/month', '₹3,159/month', '₹9,427/month', '₹6,940/month',\n",
       "       '₹6,629/month', '₹4,480/month', '₹8,606/month', '₹14,592/month',\n",
       "       '₹5,679/month', '₹5,519/month', '₹8,664/month', '₹4,967/month',\n",
       "       '₹8,958/month', '₹4,947/month', '₹7,314/month', '₹7,997/month',\n",
       "       '₹9,225/month', '₹3,982/month', '₹12,317/month', '₹4,956/month',\n",
       "       '₹9,788/month', '₹6,206/month', '₹6,758/month', '₹3,986/month',\n",
       "       '₹5,864/month', '₹11,176/month', '₹9,209/month', '₹3,953/month',\n",
       "       '₹8,208/month', '₹10,622/month', '₹10,722/month', '₹26,248/month',\n",
       "       '₹10,161/month', '₹25,732/month', '₹4,469/month', '₹8,306/month',\n",
       "       '₹8,486/month', '₹8,887/month', '₹6,455/month', '₹12,771/month',\n",
       "       '₹8,175/month', '₹6,989/month', '₹6,050/month', '₹9,714/month',\n",
       "       '₹3,294/month', '₹6,682/month', '₹4,827/month', '₹9,934/month',\n",
       "       '₹6,836/month', '₹7,307/month', '₹8,622/month', '₹11,385/month',\n",
       "       '₹8,084/month', '₹4,182/month', '₹7,007/month', '₹9,125/month',\n",
       "       '₹8,331/month', '₹27,692/month', '₹7,089/month', '₹10,130/month',\n",
       "       '₹8,847/month', '₹7,356/month', '₹9,948/month', '₹5,363/month',\n",
       "       '₹7,616/month', '₹10,862/month', '₹5,786/month', '₹14,568/month',\n",
       "       '₹11,445/month', '₹8,706/month', '₹12,012/month', '₹6,351/month',\n",
       "       '₹5,308/month', '₹10,949/month', '₹7,281/month', '₹11,790/month',\n",
       "       '₹9,939/month', '₹11,233/month', '₹11,202/month', '₹3,928/month',\n",
       "       '₹11,022/month', '₹14,265/month', '₹5,005/month', '₹8,015/month',\n",
       "       '₹9,899/month', '₹12,953/month', '₹28,678/month', '₹4,883/month',\n",
       "       '₹5,808/month', '₹7,608/month', '₹6,166/month', '₹5,450/month',\n",
       "       '₹8,738/month', '₹14,290/month', '₹6,782/month', '₹7,839/month',\n",
       "       '₹5,606/month', '₹8,471/month', '₹9,076/month', '₹8,075/month',\n",
       "       '₹14,621/month', '₹5,612/month', '₹7,674/month', '₹7,496/month',\n",
       "       '₹19,753/month', '₹8,793/month', '₹5,434/month', '₹20,572/month',\n",
       "       '₹8,026/month', '₹10,526/month', '₹14,459/month', '₹15,249/month',\n",
       "       '₹4,226/month', '₹5,695/month', '₹4,961/month', '₹6,562/month',\n",
       "       '₹6,357/month', '₹10,081/month', '₹6,711/month', '₹8,453/month',\n",
       "       '₹7,964/month', '₹13,104/month', '₹13,963/month', '₹12,386/month',\n",
       "       '₹11,411/month', '₹3,470/month', '₹8,562/month', '₹10,359/month',\n",
       "       '₹11,414/month', '₹11,320/month', '₹3,532/month', '₹4,858/month',\n",
       "       '₹9,165/month', '₹4,923/month', '₹9,529/month', '₹3,346/month',\n",
       "       '₹6,451/month', '₹11,787/month', '₹7,229/month', '₹11,033/month',\n",
       "       '₹6,235/month', '₹13,554/month', '₹5,150/month', '₹2,224/month',\n",
       "       '₹9,149/month', '₹9,120/month', '₹6,466/month', '₹10,715/month',\n",
       "       '₹4,362/month', '₹8,798/month', '₹21,332/month', '₹8,867/month',\n",
       "       '₹7,296/month', '₹4,776/month', '₹7,385/month', '₹7,318/month',\n",
       "       '₹7,327/month', '₹5,205/month', '₹10,032/month', '₹3,686/month',\n",
       "       '₹6,251/month', '₹2,887/month', '₹9,231/month', '₹7,363/month',\n",
       "       '₹12,733/month', '₹13,562/month', '₹7,857/month', '₹5,405/month',\n",
       "       '₹5,735/month', '₹9,812/month', '₹9,992/month', '₹5,452/month',\n",
       "       '₹12,811/month', '₹6,762/month', '₹8,580/month', '₹6,389/month',\n",
       "       '₹11,164/month', '₹6,874/month', '₹6,188/month', '₹13,556/month',\n",
       "       '₹6,037/month', '₹2,896/month', '₹6,355/month', '₹19,012/month',\n",
       "       '₹6,911/month', '₹8,035/month', '₹11,511/month', '₹6,520/month',\n",
       "       '₹11,754/month', '₹4,894/month', '₹29,496/month', '₹14,470/month',\n",
       "       '₹4,115/month', '₹5,984/month', '₹11,322/month', '₹14,626/month',\n",
       "       '₹22,022/month', '₹13,547/month', '₹8,119/month', '₹14,610/month',\n",
       "       '₹7,472/month', '₹3,463/month', '₹2,714/month', '₹17,297/month',\n",
       "       '₹3,893/month', '₹10,232/month', '₹4,783/month', '₹6,549/month',\n",
       "       '₹10,206/month', '₹7,341/month', '₹3,230/month', '₹4,834/month',\n",
       "       '₹8,522/month', '₹5,161/month', '₹10,014/month', '₹5,116/month',\n",
       "       '₹8,987/month', '₹8,693/month', '₹8,564/month', '₹10,951/month',\n",
       "       '₹13,347/month', '₹12,940/month', '₹8,942/month', '₹9,610/month',\n",
       "       '₹3,960/month', '₹8,008/month', '₹24,469/month', '₹7,850/month',\n",
       "       '₹15,860/month', '₹12,154/month', '₹6,309/month', '₹3,145/month',\n",
       "       '₹4,949/month', '₹16,238/month', '₹9,765/month', '₹9,514/month',\n",
       "       '₹6,228/month', '₹14,472/month', '₹5,339/month', '₹5,472/month',\n",
       "       '₹5,970/month', '₹12,041/month', '₹4,694/month', '₹7,274/month',\n",
       "       '₹9,636/month', '₹10,235/month', '₹6,295/month', '₹9,176/month',\n",
       "       '₹17,804/month', '₹11,638/month', '₹17,940/month', '₹8,571/month',\n",
       "       '₹11,603/month', '₹15,529/month', '₹12,791/month', '₹24,502/month',\n",
       "       '₹7,358/month', '₹16,572/month', '₹6,273/month', '₹3,337/month',\n",
       "       '₹18,552/month', '₹7,452/month', '₹11,378/month', '₹9,454/month',\n",
       "       '₹4,471/month', '₹14,394/month', '₹3,626/month', '₹9,309/month',\n",
       "       '₹15,905/month', '₹9,111/month', '₹11,560/month', '₹9,498/month',\n",
       "       '₹13,542/month', '₹5,539/month', '₹10,967/month', '₹16,194/month',\n",
       "       '₹4,449/month', '₹22,133/month', '₹14,552/month', '₹7,069/month',\n",
       "       '₹16,904/month', '₹9,347/month', '₹15,015/month', '₹4,987/month',\n",
       "       '₹13,138/month', '₹7,407/month', '₹9,069/month', '₹5,376/month',\n",
       "       '₹6,028/month', '₹6,117/month', '₹7,470/month', '₹9,543/month',\n",
       "       '₹17,239/month', '₹15,013/month', '₹13,863/month', '₹5,316/month',\n",
       "       '₹7,763/month', '₹10,241/month', '₹10,577/month', '₹6,909/month',\n",
       "       '₹11,500/month', '₹26,529/month', '₹6,344/month', '₹3,070/month',\n",
       "       '₹22,549/month', '₹28,985/month', '₹16,672/month', '₹28,918/month',\n",
       "       '₹2,736/month', '₹18,140/month', '₹5,873/month', '₹9,158/month',\n",
       "       '₹4,004/month', '₹12,234/month', '₹9,098/month', '₹18,051/month',\n",
       "       '₹17,070/month', '₹5,850/month', '₹7,421/month', '₹4,382/month',\n",
       "       '₹6,751/month', '₹3,397/month', '₹5,848/month', '₹7,677/month',\n",
       "       '₹7,227/month', '₹10,079/month', '₹4,863/month', '₹22,026/month',\n",
       "       '₹9,634/month', '₹8,876/month', '₹4,778/month', '₹11,487/month',\n",
       "       '₹8,691/month', '₹7,092/month', '₹16,125/month', '₹8,457/month',\n",
       "       '₹12,902/month', '₹6,006/month', '₹13,502/month', '₹5,049/month',\n",
       "       '₹16,201/month', '₹2,987/month', '₹11,144/month', '₹6,891/month',\n",
       "       '₹5,272/month', '₹10,566/month', '₹11,856/month', '₹21,835/month',\n",
       "       '₹15,671/month', '₹13,391/month', '₹9,596/month', '₹11,834/month',\n",
       "       '₹11,678/month', '₹10,210/month', '₹10,386/month', '₹5,628/month',\n",
       "       '₹17,880/month', '₹8,702/month', '₹7,212/month', '₹12,991/month',\n",
       "       '₹9,429/month', '₹6,671/month', '₹8,141/month', '₹9,129/month',\n",
       "       '₹9,774/month', '₹11,011/month', '₹14,637/month', '₹11,887/month',\n",
       "       '₹17,351/month', '₹10,477/month', '₹20,227/month', '₹11,078/month',\n",
       "       '₹16,434/month', '₹11,705/month', '₹5,784/month', '₹16,127/month',\n",
       "       '₹8,431/month', '₹3,670/month', '₹7,523/month', '₹8,101/month',\n",
       "       '₹12,257/month', '₹13,102/month', '₹16,881/month', '₹11,133/month',\n",
       "       '₹16,492/month', '₹11,899/month', '₹14,922/month', '₹7,897/month',\n",
       "       '₹12,702/month', '₹11,941/month', '₹17,377/month', '₹36,926/month',\n",
       "       '₹11,883/month', '₹11,167/month', '₹4,849/month', '₹12,005/month',\n",
       "       '₹10,704/month', '₹6,498/month', '₹15,816/month', '₹9,727/month',\n",
       "       '₹25,699/month', '₹11,124/month', '₹26,693/month', '₹9,810/month',\n",
       "       '₹10,448/month', '₹3,891/month', '₹6,718/month', '₹9,763/month',\n",
       "       '₹4,338/month', '₹9,877/month', '₹3,092/month', '₹5,305/month',\n",
       "       '₹8,764/month', '₹17,913/month', '₹6,242/month', '₹15,589/month',\n",
       "       '₹8,898/month', '₹7,697/month', '₹7,516/month', '₹17,306/month',\n",
       "       '₹9,848/month', '₹9,131/month', '₹35,807/month', '₹4,671/month',\n",
       "       '₹5,432/month', '₹3,848/month', '₹12,079/month', '₹18,443/month',\n",
       "       '₹21,610/month', '₹16,261/month', '₹7,585/month', '₹14,528/month',\n",
       "       '₹16,795/month', '₹36,808/month', '₹5,761/month', '₹10,010/month',\n",
       "       '₹15,371/month', '₹5,797/month', '₹10,143/month', '₹13,970/month',\n",
       "       '₹37,328/month', '₹6,833/month', '₹6,480/month', '₹4,302/month',\n",
       "       '₹10,195/month', '₹13,925/month', '₹9,058/month', '₹3,837/month',\n",
       "       '₹6,851/month', '₹6,297/month', '₹5,821/month', '₹24,860/month',\n",
       "       '₹10,299/month', '₹3,644/month', '₹6,335/month', '₹13,903/month',\n",
       "       '₹13,825/month', '₹30,631/month', '₹14,078/month', '₹15,237/month',\n",
       "       '₹7,447/month', '₹25,001/month', '₹17,420/month', '₹21,688/month',\n",
       "       '₹7,719/month', '₹16,683/month', '₹4,560/month', '₹19,773/month',\n",
       "       '₹14,508/month', '₹2,296/month', '₹8,157/month', '₹11,367/month',\n",
       "       '₹10,357/month', '₹26,555/month', '₹7,808/month', '₹8,186/month',\n",
       "       '₹12,975/month', '₹6,095/month', '₹5,672/month', '₹5,428/month',\n",
       "       '₹14,486/month', '₹20,665/month', '₹8,475/month', '₹10,455/month',\n",
       "       '₹24,803/month', '₹20,331/month', '₹5,895/month', '₹15,972/month',\n",
       "       '₹17,224/month', '₹11,858/month', '₹15,700/month', '₹6,395/month',\n",
       "       '₹19,608/month', '₹14,325/month', '₹16,577/month', '₹2,781/month',\n",
       "       '₹10,348/month', '₹8,589/month', '₹2,603/month', '₹2,959/month',\n",
       "       '₹5,537/month', '₹3,888/month', '₹17,371/month', '₹17,219/month',\n",
       "       '₹7,935/month', '₹17,188/month', '₹7,505/month', '₹9,868/month',\n",
       "       '₹37,259/month', '₹7,685/month', '₹20,516/month', '₹18,045/month',\n",
       "       '₹18,174/month', '₹16,283/month', '₹12,924/month', '₹7,556/month',\n",
       "       '₹7,223/month', '₹15,682/month', '₹34,216/month', '₹4,291/month',\n",
       "       '₹6,380/month', '₹10,344/month', '₹8,733/month', '₹17,796/month',\n",
       "       '₹35,035/month', '₹9,885/month', '₹5,459/month', '₹7,621/month',\n",
       "       '₹9,236/month', '₹9,009/month', '₹6,673/month', '₹9,796/month',\n",
       "       '₹14,103/month', '₹19,464/month', '₹16,906/month', '₹7,214/month',\n",
       "       '₹13,013/month', '₹16,972/month', '₹6,969/month', '₹9,091/month',\n",
       "       '₹15,994/month', '₹19,575/month', '₹6,727/month', '₹13,823/month',\n",
       "       '₹17,773/month', '₹9,022/month', '₹13,422/month', '₹6,971/month',\n",
       "       '₹3,701/month', '₹15,822/month', '₹14,176/month', '₹15,802/month',\n",
       "       '₹7,757/month', '₹63,953/month', '₹22,271/month', '₹3,782/month',\n",
       "       '₹7,701/month', '₹12,697/month', '₹12,459/month', '₹39,551/month',\n",
       "       '₹9,223/month', '₹3,168/month', '₹15,133/month', '₹7,843/month',\n",
       "       '₹9,832/month', '₹8,273/month', '₹17,684/month', '₹23,690/month',\n",
       "       '₹6,918/month', '₹5,494/month', '₹4,649/month', '₹3,755/month',\n",
       "       '₹11,729/month', '₹27,828/month', '₹5,468/month', '₹16,661/month',\n",
       "       '₹16,539/month', '₹13,569/month', '₹9,943/month', '₹7,599/month',\n",
       "       '₹5,757/month', '₹9,676/month', '₹10,275/month', '₹14,737/month',\n",
       "       '₹7,984/month', '₹6,464/month', '₹8,204/month', '₹39,818/month',\n",
       "       '₹15,978/month', '₹8,780/month', '₹5,750/month', '₹7,060/month',\n",
       "       '₹5,530/month', '₹66,711/month', '₹7,316/month', '₹7,345/month',\n",
       "       '₹8,851/month', '₹19,353/month', '₹7,160/month', '₹8,682/month',\n",
       "       '₹20,687/month', '₹6,827/month', '₹8,197/month', '₹16,590/month',\n",
       "       '₹13,191/month', '₹19,686/month', '₹8,965/month', '₹7,786/month',\n",
       "       '₹18,498/month', '₹7,323/month', '₹19,624/month', '₹8,366/month',\n",
       "       '₹9,545/month', '₹5,294/month', '₹14,259/month', '₹40,503/month',\n",
       "       '₹19,139/month', '₹12,724/month', '₹13,436/month', '₹9,632/month',\n",
       "       '₹6,744/month', '₹8,108/month', '₹18,007/month', '₹13,518/month',\n",
       "       '₹6,676/month', '₹6,362/month', '₹17,551/month', '₹6,900/month',\n",
       "       '₹5,361/month', '₹22,066/month', '₹11,409/month', '₹16,439/month',\n",
       "       '₹37,148/month', '₹89,868/month', '₹7,654/month', '₹21,132/month',\n",
       "       '₹9,554/month', '₹9,409/month', '₹10,295/month', '₹4,315/month',\n",
       "       '₹9,423/month', '₹21,243/month', '₹9,116/month', '₹7,265/month',\n",
       "       '₹10,695/month', '₹9,276/month', '₹12,586/month', '₹10,789/month',\n",
       "       '₹6,500/month', '₹18,107/month', '₹12,281/month', '₹5,959/month',\n",
       "       '₹8,700/month', '₹6,200/month', '₹21,737/month', '₹11,990/month',\n",
       "       '₹12,657/month', '₹14,766/month', '₹4,932/month', '₹16,292/month',\n",
       "       '₹10,175/month', '₹6,618/month', '₹18,018/month', '₹5,577/month',\n",
       "       '₹8,535/month', '₹19,486/month', '₹5,227/month', '₹35,340/month',\n",
       "       '₹6,280/month', '₹5,561/month', '₹14,214/month', '₹6,882/month',\n",
       "       '₹9,018/month', '₹13,698/month', '₹8,771/month', '₹11,765/month',\n",
       "       '₹10,880/month', '₹2,669/month', '₹8,133/month', '₹6,905/month',\n",
       "       '₹7,877/month', '₹8,849/month', '₹11,656/month', '₹7,054/month',\n",
       "       '₹6,925/month', '₹14,370/month', '₹11,184/month', '₹12,517/month',\n",
       "       '₹17,373/month', '₹3,762/month', '₹34,479/month', '₹8,671/month',\n",
       "       '₹6,415/month', '₹20,087/month', '₹8,520/month', '₹27,138/month',\n",
       "       '₹5,110/month', '₹8,651/month', '₹6,829/month', '₹7,930/month',\n",
       "       '₹13,324/month', '₹9,198/month', '₹12,308/month', '₹17,824/month',\n",
       "       '₹28,531/month', '₹8,455/month', '₹12,190/month', '₹7,414/month',\n",
       "       '₹6,059/month', '₹8,804/month', '₹24,558/month', '₹14,804/month',\n",
       "       '₹5,677/month', '₹10,415/month', '₹12,346/month', '₹10,866/month',\n",
       "       '₹11,567/month', '₹22,556/month', '₹51,162/month', '₹10,806/month',\n",
       "       '₹9,768/month', '₹10,829/month', '₹13,671/month', '₹19,308/month',\n",
       "       '₹6,696/month', '₹18,661/month', '₹6,831/month', '₹15,126/month',\n",
       "       '₹26,039/month', '₹17,751/month', '₹12,920/month', '₹11,612/month',\n",
       "       '₹9,761/month', '₹11,901/month', '₹31,752/month', '₹6,213/month',\n",
       "       '₹8,855/month', '₹8,833/month', '₹6,667/month', '₹6,595/month',\n",
       "       '₹11,694/month', '₹10,401/month', '₹3,775/month', '₹8,086/month',\n",
       "       '₹7,817/month', '₹14,272/month', '₹11,451/month', '₹8,395/month',\n",
       "       '₹9,278/month', '₹8,168/month', '₹28,270/month', '₹10,666/month',\n",
       "       '₹8,740/month', '₹4,876/month', '₹8,724/month', '₹15,918/month',\n",
       "       '₹6,211/month', '₹7,570/month', '₹16,298/month', '₹7,790/month',\n",
       "       '₹7,712/month', '₹7,548/month', '₹9,456/month', '₹10,604/month',\n",
       "       '₹6,894/month', '₹18,151/month', '₹8,353/month', '₹18,240/month',\n",
       "       '₹12,750/month', '₹11,151/month', '₹11,830/month', '₹8,362/month',\n",
       "       '₹10,252/month', '₹8,188/month', '₹11,905/month', '₹12,466/month',\n",
       "       '₹7,410/month', '₹8,644/month', '₹11,345/month', '₹21,154/month',\n",
       "       '₹17,055/month', '₹5,279/month', '₹8,680/month', '₹26,547/month',\n",
       "       '₹10,900/month', '₹8,617/month', '₹9,182/month', '₹11,943/month',\n",
       "       '₹6,749/month', '₹5,908/month', '₹7,163/month', '₹15,253/month',\n",
       "       '₹8,052/month', '₹8,368/month', '₹20,193/month', '₹8,566/month',\n",
       "       '₹31,698/month', '₹5,904/month', '₹7,116/month', '₹17,442/month',\n",
       "       '₹6,019/month', '₹6,179/month', '₹7,405/month', '₹9,418/month',\n",
       "       '₹7,630/month', '₹12,590/month', '₹17,876/month', '₹16,488/month',\n",
       "       '₹11,761/month', '₹9,710/month', '₹20,465/month', '₹6,366/month',\n",
       "       '₹6,195/month', '₹34,256/month', '₹5,081/month', '₹28,115/month',\n",
       "       '₹9,532/month', '₹12,123/month', '₹12,706/month', '₹17,364/month',\n",
       "       '₹15,794/month', '₹4,818/month', '₹13,792/month', '₹8,477/month',\n",
       "       '₹5,690/month', '₹7,679/month', '₹6,306/month', '₹5,905/month',\n",
       "       '₹10,652/month', '₹9,505/month', '₹14,847/month', '₹8,448/month',\n",
       "       '₹6,162/month', '₹9,234/month', '₹9,484/month', '₹9,778/month',\n",
       "       '₹7,232/month', '₹4,714/month', '₹5,418/month', '₹9,682/month',\n",
       "       '₹9,300/month', '₹7,615/month', '₹12,736/month', '₹7,597/month',\n",
       "       '₹8,177/month', '₹7,046/month', '₹4,209/month', '₹6,720/month',\n",
       "       '₹6,472/month', '₹5,568/month', '₹10,290/month', '₹9,555/month',\n",
       "       '₹8,530/month', '₹7,276/month', '₹10,850/month', '₹10,985/month',\n",
       "       '₹26,468/month', '₹4,703/month', '₹10,015/month', '₹8,815/month',\n",
       "       '₹27,686/month', '₹10,072/month', '₹10,500/month', '₹12,351/month',\n",
       "       '₹3,501/month', '₹7,888/month', '₹8,145/month', '₹4,409/month',\n",
       "       '₹39,692/month', '₹8,656/month', '₹13,462/month', '₹9,184/month',\n",
       "       '₹10,948/month', '₹7,658/month', '₹8,977/month', '₹5,365/month',\n",
       "       '₹6,051/month', '₹10,855/month', '₹11,845/month', '₹9,571/month',\n",
       "       '₹12,424/month', '₹9,468/month', '₹11,335/month', '₹7,581/month',\n",
       "       '₹10,302/month', '₹11,627/month', '₹11,595/month', '₹4,149/month',\n",
       "       '₹14,730/month', '₹4,691/month', '₹3,082/month', '₹5,126/month',\n",
       "       '₹8,127/month', '₹7,915/month', '₹9,411/month', '₹14,755/month',\n",
       "       '₹5,618/month', '₹5,042/month', '₹14,719/month', '₹10,636/month',\n",
       "       '₹7,073/month', '₹8,954/month', '₹6,672/month', '₹9,728/month',\n",
       "       '₹8,394/month', '₹10,716/month', '₹10,782/month', '₹8,344/month',\n",
       "       '₹12,214/month', '₹15,737/month', '₹6,857/month', '₹6,998/month',\n",
       "       '₹8,280/month', '₹14,421/month', '₹11,809/month', '₹7,979/month',\n",
       "       '₹9,496/month', '₹8,892/month', '₹5,251/month', '₹11,247/month',\n",
       "       '₹5,691/month', '₹3,744/month', '₹9,450/month', '₹6,732/month',\n",
       "       '₹10,921/month', '₹9,730/month', '₹6,854/month', '₹5,399/month',\n",
       "       '₹9,464/month', '₹8,496/month', '₹6,747/month', '₹9,134/month',\n",
       "       '₹14,942/month'], dtype=object)"
      ]
     },
     "execution_count": 69,
     "metadata": {},
     "output_type": "execute_result"
    }
   ],
   "source": [
    "df['EMI'].unique()"
   ]
  },
  {
   "cell_type": "code",
   "execution_count": 70,
   "metadata": {},
   "outputs": [],
   "source": [
    "df['EMI'] =df['EMI'].str.split('₹').str[1]"
   ]
  },
  {
   "cell_type": "code",
   "execution_count": 71,
   "metadata": {},
   "outputs": [],
   "source": [
    "df['EMI'] = df['EMI'].str.replace('/month','')"
   ]
  },
  {
   "cell_type": "code",
   "execution_count": 72,
   "metadata": {},
   "outputs": [
    {
     "data": {
      "text/plain": [
       "0        4,734\n",
       "1       12,110\n",
       "2       17,017\n",
       "3        6,535\n",
       "4        3,908\n",
       "         ...  \n",
       "2567     6,306\n",
       "2568     5,905\n",
       "2569    10,652\n",
       "2570     9,505\n",
       "2571    14,847\n",
       "Name: EMI, Length: 2572, dtype: object"
      ]
     },
     "execution_count": 72,
     "metadata": {},
     "output_type": "execute_result"
    }
   ],
   "source": [
    "df['EMI']"
   ]
  },
  {
   "cell_type": "code",
   "execution_count": 73,
   "metadata": {},
   "outputs": [],
   "source": [
    "df['EMI'] = df['EMI'].str.replace(',','')"
   ]
  },
  {
   "cell_type": "code",
   "execution_count": 74,
   "metadata": {},
   "outputs": [
    {
     "data": {
      "text/plain": [
       "0        4734\n",
       "1       12110\n",
       "2       17017\n",
       "3        6535\n",
       "4        3908\n",
       "        ...  \n",
       "2567     6306\n",
       "2568     5905\n",
       "2569    10652\n",
       "2570     9505\n",
       "2571    14847\n",
       "Name: EMI, Length: 2572, dtype: object"
      ]
     },
     "execution_count": 74,
     "metadata": {},
     "output_type": "execute_result"
    }
   ],
   "source": [
    "df['EMI']"
   ]
  },
  {
   "cell_type": "code",
   "execution_count": 75,
   "metadata": {},
   "outputs": [
    {
     "data": {
      "text/plain": [
       "array(['2011 Maruti Alto K10', '2020 Maruti Swift', '2021 Maruti Swift',\n",
       "       '2017 Maruti Alto 800', '2012 Maruti Alto K10',\n",
       "       '2013 Maruti Swift', '2014 Maruti Swift', '2015 Hyundai Eon',\n",
       "       '2017 Datsun Redi Go', '2017 Maruti Alto K10',\n",
       "       '2015 Maruti Alto 800', '2020 Hyundai AURA',\n",
       "       '2014 Maruti Alto 800', '2018 Hyundai Grand i10',\n",
       "       '2019 Maruti Baleno', '2011 Toyota Etios', '2016 Maruti Swift',\n",
       "       '2020 Maruti Baleno', '2020 Maruti Alto', '2017 Renault Kwid',\n",
       "       '2018 Maruti Wagon R 1.0', '2015 Honda City',\n",
       "       '2016 Maruti Alto K10', '2013 Maruti Alto 800', '2016 Honda Jazz',\n",
       "       '2018 Maruti Alto 800', '2014 Hyundai Grand i10',\n",
       "       '2013 Maruti Alto K10', '2018 Maruti Swift',\n",
       "       '2013 Maruti Swift Dzire', '2016 Maruti Ertiga',\n",
       "       '2017 Maruti Baleno', '2011 Maruti Alto', '2015 Maruti Ritz',\n",
       "       '2011 Maruti Ritz', '2019 Maruti Alto K10', '2016 Maruti Baleno',\n",
       "       '2010 Maruti SX4', '2017 Maruti Wagon R 1.0', '2015 Maruti Swift',\n",
       "       '2012 Hyundai i10', '2010 Maruti Alto K10',\n",
       "       '2020 Maruti New Wagon-R', '2015 Hyundai Grand i10',\n",
       "       '2010 Maruti Wagon R 1.0', '2014 Honda Amaze',\n",
       "       '2017 Hyundai Grand i10', '2021 Maruti XL6', '2020 KIA SELTOS',\n",
       "       '2013 Hyundai Grand i10', '2019 Maruti Swift', '2010 Honda City',\n",
       "       '2010 Maruti Alto', '2011 Hyundai i10', '2020 Maruti S PRESSO',\n",
       "       '2013 Hyundai i10', '2018 Datsun Redi Go', '2013 Honda Brio',\n",
       "       '2016 Maruti Celerio', '2020 KIA SONET', '2012 Maruti Swift',\n",
       "       '2013 Maruti Ertiga', '2014 Maruti Wagon R 1.0',\n",
       "       '2016 Hyundai Grand i10', '2010 Maruti Ritz', '2020 Tata Tiago',\n",
       "       '2019 Maruti Eeco', '2016 Maruti Wagon R Stingray',\n",
       "       '2015 Maruti Baleno', '2014 Maruti Celerio', '2015 Maruti Eeco',\n",
       "       '2019 Maruti New Wagon-R', '2018 Maruti Dzire',\n",
       "       '2020 Maruti IGNIS', '2016 Maruti Vitara Brezza',\n",
       "       '2010 Hyundai i20', '2017 Ford Ecosport', '2020 Honda City',\n",
       "       '2009 Maruti Ritz', '2012 Hyundai i20', '2015 Maruti Alto K10',\n",
       "       '2014 Hyundai Eon', '2019 Renault Kwid', '2019 Tata Tiago',\n",
       "       '2012 Maruti Swift Dzire', '2017 Honda WR-V',\n",
       "       '2014 Maruti Alto K10', '2013 Hyundai i20', '2015 Maruti Celerio',\n",
       "       '2020 Mahindra XUV 3OO', '2020 Toyota YARIS',\n",
       "       '2018 Hyundai Elite i20', '2014 Datsun Go', '2016 Renault Kwid',\n",
       "       '2018 Renault Kwid', '2012 Ford Fiesta', '2016 Ford Ecosport',\n",
       "       '2017 Mahindra Kuv100', '2016 Maruti Wagon R 1.0',\n",
       "       '2018 Maruti Baleno', '2019 Maruti IGNIS',\n",
       "       '2011 Hyundai Santro Xing', '2016 Ford Figo Aspire',\n",
       "       '2015 Maruti S Cross', '2009 Maruti Alto',\n",
       "       '2015 Maruti Swift Dzire', '2010 Maruti Swift',\n",
       "       '2015 Hyundai Elite i20', '2016 Maruti Eeco', '2013 Hyundai Eon',\n",
       "       '2015 Tata Nano', '2012 Honda City', '2014 Maruti Swift Dzire',\n",
       "       '2009 Maruti Zen Estilo', '2019 Maruti Celerio',\n",
       "       '2020 Hyundai VENUE', '2011 Honda City', '2019 Maruti Alto',\n",
       "       '2009 Maruti A Star', '2008 Maruti Wagon R', '2013 Ford Ecosport',\n",
       "       '2014 Hyundai i10', '2019 Hyundai NEW SANTRO', '2010 Hyundai i10',\n",
       "       '2014 Maruti Ciaz', '2013 Honda Amaze', '2009 Honda City',\n",
       "       '2016 Maruti Alto 800', '2009 Hyundai Santro Xing',\n",
       "       '2018 Ford Ecosport', '2015 Renault Kwid',\n",
       "       '2016 Hyundai Elite i20', '2020 Hyundai Creta',\n",
       "       '2012 Maruti Alto 800', '2017 Maruti Vitara Brezza',\n",
       "       '2017 Honda Jazz', '2012 Chevrolet Spark', '2021 Maruti Baleno',\n",
       "       '2013 Hyundai Santro Xing', '2014 Ford Ecosport',\n",
       "       '2017 Maruti IGNIS', '2014 Tata Zest', '2017 Maruti Celerio',\n",
       "       '2014 Honda City', '2015 Ford Figo Aspire', '2016 Maruti Ciaz',\n",
       "       '2020 Hyundai Verna', '2010 Maruti Swift Dzire', '2019 Tata NEXON',\n",
       "       '2011 Honda CRV', '2011 Volkswagen Polo', '2019 Maruti Ertiga',\n",
       "       '2017 Hyundai Creta', '2019 Honda Amaze', '2017 Skoda Rapid',\n",
       "       '2019 Hyundai VENUE', '2019 Toyota Glanza',\n",
       "       '2013 Maruti Wagon R 1.0', '2014 Honda Brio',\n",
       "       '2017 Maruti Swift Dzire', '2009 Hyundai i10',\n",
       "       '2020 Hyundai GRAND I10 NIOS', '2018 Maruti Vitara Brezza',\n",
       "       '2020 Maruti Vitara Brezza', '2011 Hyundai i20',\n",
       "       '2014 Mahindra XUV500', '2017 Maruti Swift',\n",
       "       '2011 Maruti Swift Dzire', '2014 Hyundai Santro Xing',\n",
       "       '2018 Maruti Celerio', '2013 Toyota Innova', '2016 Datsun Redi Go',\n",
       "       '2012 Volkswagen Polo', '2008 Hyundai Santro Xing',\n",
       "       '2010 Tata Manza', '2019 Maruti Vitara Brezza',\n",
       "       '2012 Toyota Etios', '2008 Hyundai i10', '2013 Maruti Ritz',\n",
       "       '2017 Tata Tiago', '2016 Honda Brio', '2018 Ford Figo Aspire',\n",
       "       '2017 Volkswagen Ameo', '2013 Nissan Sunny',\n",
       "       '2018 Mahindra XUV500', '2015 Honda Amaze', '2013 Skoda Rapid',\n",
       "       '2012 Renault Duster', '2016 Volkswagen Polo', '2018 Maruti Ciaz',\n",
       "       '2014 Mahindra Bolero', '2012 Maruti A Star',\n",
       "       '2012 Chevrolet Aveo U VA', '2015 Renault Lodgy',\n",
       "       '2015 Honda Mobilio', '2019 Maruti Alto 800',\n",
       "       '2015 Mahindra TUV300', '2019 MG HECTOR',\n",
       "       '2012 Hyundai New Elantra', '2019 Renault TRIBER',\n",
       "       '2012 Honda Brio', '2016 Toyota Innova Crysta', '2016 Honda City',\n",
       "       '2014 Hyundai Verna', '2008 Maruti Swift',\n",
       "       '2012 Maruti Wagon R 1.0', '2012 Maruti Ertiga',\n",
       "       '2014 Honda Mobilio', '2014 Nissan Terrano', '2015 BMW 3 Series',\n",
       "       '2019 Hyundai Creta', '2017 Honda City', '2015 Maruti Ertiga',\n",
       "       '2017 Toyota Innova Crysta', '2010 Toyota Corolla Altis',\n",
       "       '2014 Chevrolet Beat', '2019 KIA SELTOS', '2013 Volkswagen Vento',\n",
       "       '2016 Chevrolet Enjoy', '2017 Mahindra Scorpio',\n",
       "       '2008 Honda City ZX', '2017 Hyundai Elite i20',\n",
       "       '2017 Maruti Ertiga', '2018 Hyundai Creta', '2007 Maruti Alto',\n",
       "       '2017 Maruti Ciaz', '2009 Honda Accord', '2008 Maruti Swift Dzire',\n",
       "       '2019 Ford Ecosport', '2018 Toyota YARIS', '2008 Maruti Alto',\n",
       "       '2012 Hyundai Verna', '2018 Ford FREESTYLE',\n",
       "       '2018 Maruti Alto K10', '2015 Toyota Innova', '2017 Tata TIGOR',\n",
       "       '2019 Volkswagen Polo', '2018 Hyundai New Elantra',\n",
       "       '2015 Hyundai Creta', '2018 Toyota Corolla Altis',\n",
       "       '2013 Renault Scala', '2012 Volkswagen Jetta',\n",
       "       '2011 Mercedes Benz C Class', '2015 Mahindra XUV500',\n",
       "       '2018 Toyota Fortuner', '2016 Hyundai New Elantra',\n",
       "       '2015 Maruti Ciaz', '2014 Renault Scala', '2014 Maruti Ritz',\n",
       "       '2017 Mahindra XUV500', '2012 Toyota Etios Liva',\n",
       "       '2015 Hyundai i10', '2019 Jeep Compass', '2007 Honda CRV',\n",
       "       '2016 Mahindra Scorpio', '2019 Ford Endeavour',\n",
       "       '2017 Maruti S Cross', '2008 Toyota Corolla Altis',\n",
       "       '2016 Hyundai Creta', '2016 Audi A3', '2013 Toyota Etios Liva',\n",
       "       '2013 Hyundai Santa Fe', '2015 Toyota Fortuner', '2017 BMW Mini',\n",
       "       '2016 Maruti Swift Dzire', '2013 Honda City', '2013 Hyundai Verna',\n",
       "       '2016 Mahindra TUV300', '2015 Ford Ecosport', '2014 Hyundai i20',\n",
       "       '2018 Honda City', '2015 Hyundai Verna', '2014 Toyota Etios Liva',\n",
       "       '2009 Maruti Wagon R', '2019 Hyundai Elite i20',\n",
       "       '2015 Tata Xenon XT', '2013 Mercedes Benz E Class',\n",
       "       '2015 Mahindra Scorpio', '2015 Volkswagen Polo',\n",
       "       '2013 Volkswagen Polo', '2015 Hyundai Xcent',\n",
       "       '2013 Toyota Fortuner', '2015 Hyundai i20 Active',\n",
       "       '2018 Honda Jazz', '2014 Hyundai Elite i20', '2018 Hyundai Verna',\n",
       "       '2016 Ford Endeavour', '2018 Mahindra TUV300', '2012 Audi A4',\n",
       "       '2014 Audi Q3', '2015 Renault Duster', '2013 Renault Duster',\n",
       "       '2012 Maruti Ritz', '2015 Fiat Punto EVO',\n",
       "       '2013 Toyota Corolla Altis', '2014 Renault Duster',\n",
       "       '2017 Maruti Dzire', '2014 Mahindra Scorpio', '2018 Maruti Eeco',\n",
       "       '2011 Maruti SX4', '2012 Toyota Corolla Altis',\n",
       "       '2015 Toyota Corolla Altis', '2013 Ssangyong Rexton',\n",
       "       '2016 Tata Tiago', '2014 Toyota Corolla Altis', '2014 Fiat Linea',\n",
       "       '2014 Mahindra Quanto', '2014 BMW 3 Series',\n",
       "       '2014 Toyota Fortuner', '2014 Toyota Innova',\n",
       "       '2021 HYUNDAI NEW I20', '2017 Maruti Alto 800 VXI MANUAL',\n",
       "       '2018 Datsun Redi Go T MANUAL', '2018 Maruti Swift LXI MANUAL',\n",
       "       '2014 Maruti Swift VXI MANUAL',\n",
       "       '2020 Renault TRIBER RXZ AT AUTOMATIC',\n",
       "       '2013 Maruti Swift Dzire VDI BS IV MANUAL',\n",
       "       '2015 Hyundai Eon MAGNA PLUS MANUAL',\n",
       "       '2019 Maruti Eeco 5 STR WITH AC PLUSHTR MANUAL',\n",
       "       '2017 Maruti Alto 800 LXI MANUAL', '2020 Renault Kwid RXL MANUAL',\n",
       "       '2016 Maruti Swift LXI OPT MANUAL',\n",
       "       '2011 Maruti Ritz VXI BS IV MANUAL',\n",
       "       '2013 Hyundai Eon MAGNA PLUS MANUAL',\n",
       "       '2013 Hyundai Grand i10 SPORTZ 1.2 KAPPA VTVT MANUAL',\n",
       "       '2018 Maruti Alto 800 LXI MANUAL',\n",
       "       '2016 Maruti Baleno DELTA 1.2 K12 MANUAL',\n",
       "       '2013 Hyundai i20 SPORTZ 1.2 VTVT MANUAL',\n",
       "       '2010 Maruti Alto K10 VXI MANUAL',\n",
       "       '2010 Maruti Swift Dzire ZXI 1.3 MANUAL',\n",
       "       '2012 Honda Brio 1.2 E MT I VTEC MANUAL',\n",
       "       '2015 Maruti Alto 800 LXI MANUAL', '2015 Maruti Swift VXI MANUAL',\n",
       "       '2015 Hyundai Grand i10 SPORTS 1.2 VTVT MANUAL',\n",
       "       '2014 Honda Amaze 1.5 EMT I DTEC MANUAL',\n",
       "       '2013 Maruti Wagon R 1.0 LXI MANUAL',\n",
       "       '2014 Hyundai Verna FLUIDIC 1.6 SX VTVT MANUAL',\n",
       "       '2015 Maruti Baleno ZETA DDIS 190 MANUAL',\n",
       "       '2020 KIA SELTOS HTK 1.5 PETROL MANUAL',\n",
       "       '2011 Maruti Alto K10 VXI MANUAL',\n",
       "       '2017 Maruti Celerio ZXI AMT AUTOMATIC',\n",
       "       '2019 Maruti Alto K10 VXI MANUAL',\n",
       "       '2014 Hyundai Grand i10 SPORTZ 1.2 KAPPA VTVT MANUAL',\n",
       "       '2020 Maruti Alto LXI MANUAL',\n",
       "       '2020 KIA SONET GTX PLUS DCT 1.0 AUTOMATIC',\n",
       "       '2017 Hyundai Grand i10 SPORTS 1.2 VTVT MANUAL',\n",
       "       '2016 Ford Figo Aspire 1.2 TREND PETROL MANUAL',\n",
       "       '2016 Hyundai Elite i20 ASTA 1.2 MANUAL',\n",
       "       '2010 Maruti Alto LXI MANUAL',\n",
       "       '2017 Maruti Alto K10 VXI (O) AMT AUTOMATIC',\n",
       "       '2016 Hyundai Grand i10 MAGNA 1.2 VTVT MANUAL',\n",
       "       '2012 Maruti Alto K10 LXI MANUAL',\n",
       "       '2020 MG HECTOR SHARP HYBIRD PETROL MT MANUAL',\n",
       "       '2017 Maruti Dzire VXI MANUAL', '2012 Maruti Swift VDI MANUAL',\n",
       "       '2017 Hyundai Grand i10 MAGNA 1.2 KAPPA VTVT MANUAL',\n",
       "       '2014 Maruti Wagon R 1.0 VXI MANUAL',\n",
       "       '2018 Maruti Wagon R 1.0 VXI AMT AUTOMATIC',\n",
       "       '2012 Maruti Alto K10 VXI MANUAL',\n",
       "       '2014 Maruti Alto 800 VXI MANUAL',\n",
       "       '2014 Maruti Ertiga VDI ABS MANUAL',\n",
       "       '2020 Tata Tiago XT 1.2 REVOTRON MANUAL',\n",
       "       '2015 Maruti Baleno ZETA 1.2 K12 MANUAL',\n",
       "       '2014 Maruti Celerio VXI MANUAL', '2016 Maruti Celerio VXI MANUAL',\n",
       "       '2017 Hyundai Grand i10 MAGNA 1.2 VTVT MANUAL',\n",
       "       '2013 Maruti Swift VDI MANUAL',\n",
       "       '2017 Hyundai Grand i10 SPORTZ O 1.2 MANUAL',\n",
       "       '2018 Maruti Dzire LDI MANUAL',\n",
       "       '2020 Maruti IGNIS SIGMA 1.2 K12 MANUAL',\n",
       "       '2016 Maruti Vitara Brezza VDI MANUAL',\n",
       "       '2014 Maruti Alto 800 LX MANUAL', '2008 Maruti Alto LXI MANUAL',\n",
       "       '2009 Maruti Ritz VXI MANUAL',\n",
       "       '2018 Datsun Redi Go 1.0 S AT MANUAL',\n",
       "       '2015 Maruti Baleno SIGMA DDIS 190 MANUAL',\n",
       "       '2019 Maruti Baleno DELTA 1.2 K12 MANUAL',\n",
       "       '2010 Maruti Ritz LXI MANUAL', '2015 Hyundai Eon ERA PLUS MANUAL',\n",
       "       '2020 Maruti Baleno DELTA 1.2 K12 MANUAL',\n",
       "       '2015 Maruti Swift LDI BS IV MANUAL',\n",
       "       '2017 Maruti Alto K10 VXI (O) AMT MANUAL',\n",
       "       '2019 Maruti IGNIS SIGMA 1.2 K12 MANUAL',\n",
       "       '2014 Tata Zest XE QUADRAJET 75PS MANUAL',\n",
       "       '2018 Maruti Celerio VXI MANUAL',\n",
       "       '2015 Maruti Swift LXI OPT MANUAL',\n",
       "       '2012 Maruti Swift Dzire ZDI MANUAL',\n",
       "       '2015 Renault Duster 85 PS RXL OPT MANUAL',\n",
       "       '2014 Maruti Swift Dzire VDI BS IV MANUAL',\n",
       "       '2010 Honda City S MT PETROL MANUAL',\n",
       "       '2010 Honda City V AT AUTOMATIC',\n",
       "       '2017 Hyundai Elite i20 Magna Executive 1.2 MANUAL',\n",
       "       '2016 Maruti Vitara Brezza ZDI PLUS DUAL TONE MANUAL',\n",
       "       '2011 Hyundai i10 MAGNA 1.2 KAPPA2 MANUAL',\n",
       "       '2017 Renault Kwid 1.0 RXT Opt MANUAL',\n",
       "       '2012 Maruti Swift Dzire VDI BS IV MANUAL',\n",
       "       '2016 Maruti Wagon R 1.0 VXI MANUAL',\n",
       "       '2018 Maruti Baleno ZETA 1.2 K12 MANUAL',\n",
       "       '2019 Maruti IGNIS DELTA 1.2 K12 MANUAL',\n",
       "       '2015 Maruti Swift VDI ABS MANUAL',\n",
       "       '2016 Hyundai Grand i10 MAGNA 1.2 KAPPA VTVT MANUAL',\n",
       "       '2014 Hyundai Eon ERA PLUS MANUAL',\n",
       "       '2018 Tata Tiago XZA 1.2 REVOTRON AUTOMATIC',\n",
       "       '2014 Maruti Alto K10 VXI MANUAL', '2009 Maruti Alto LXI MANUAL',\n",
       "       '2019 Renault Kwid 1.0 RXT Opt MANUAL',\n",
       "       '2013 Honda Brio 1.2 EX MT I VTEC MANUAL',\n",
       "       '2016 Maruti Baleno SIGMA 1.2 K12 MANUAL',\n",
       "       '2017 Maruti Alto K10 VXI MANUAL',\n",
       "       '2013 Hyundai Eon D LITE PLUS MANUAL',\n",
       "       '2012 Honda City V MT PETROL MANUAL',\n",
       "       '2019 Maruti Celerio VXI MANUAL'], dtype=object)"
      ]
     },
     "execution_count": 75,
     "metadata": {},
     "output_type": "execute_result"
    }
   ],
   "source": [
    "df['Name'].unique()"
   ]
  },
  {
   "cell_type": "code",
   "execution_count": 76,
   "metadata": {},
   "outputs": [],
   "source": [
    "df['Brand'] = df['Name'].str.split(' ').str[1]"
   ]
  },
  {
   "cell_type": "code",
   "execution_count": 77,
   "metadata": {},
   "outputs": [
    {
     "data": {
      "text/plain": [
       "0        Maruti\n",
       "1        Maruti\n",
       "2        Maruti\n",
       "3        Maruti\n",
       "4        Maruti\n",
       "         ...   \n",
       "2567     Maruti\n",
       "2568     Datsun\n",
       "2569     Maruti\n",
       "2570     Maruti\n",
       "2571    Renault\n",
       "Name: Brand, Length: 2572, dtype: object"
      ]
     },
     "execution_count": 77,
     "metadata": {},
     "output_type": "execute_result"
    }
   ],
   "source": [
    "df['Brand']"
   ]
  },
  {
   "cell_type": "code",
   "execution_count": 78,
   "metadata": {},
   "outputs": [
    {
     "data": {
      "text/plain": [
       "array(['Maruti', 'Hyundai', 'Datsun', 'Toyota', 'Renault', 'Honda', 'KIA',\n",
       "       'Tata', 'Ford', 'Mahindra', 'Chevrolet', 'Volkswagen', 'Skoda',\n",
       "       'Nissan', 'MG', 'BMW', 'Mercedes', 'Jeep', 'Audi', 'Fiat',\n",
       "       'Ssangyong', 'HYUNDAI'], dtype=object)"
      ]
     },
     "execution_count": 78,
     "metadata": {},
     "output_type": "execute_result"
    }
   ],
   "source": [
    "df['Brand'].unique()"
   ]
  },
  {
   "cell_type": "code",
   "execution_count": 79,
   "metadata": {},
   "outputs": [
    {
     "data": {
      "text/html": [
       "<div>\n",
       "<style scoped>\n",
       "    .dataframe tbody tr th:only-of-type {\n",
       "        vertical-align: middle;\n",
       "    }\n",
       "\n",
       "    .dataframe tbody tr th {\n",
       "        vertical-align: top;\n",
       "    }\n",
       "\n",
       "    .dataframe thead th {\n",
       "        text-align: right;\n",
       "    }\n",
       "</style>\n",
       "<table border=\"1\" class=\"dataframe\">\n",
       "  <thead>\n",
       "    <tr style=\"text-align: right;\">\n",
       "      <th></th>\n",
       "      <th>Name</th>\n",
       "      <th>EMI</th>\n",
       "      <th>Price</th>\n",
       "      <th>Kilometers Driven</th>\n",
       "      <th>Owner</th>\n",
       "      <th>Year of Purchase</th>\n",
       "      <th>Fuel Type</th>\n",
       "      <th>Location</th>\n",
       "      <th>History</th>\n",
       "      <th>Brand</th>\n",
       "    </tr>\n",
       "  </thead>\n",
       "  <tbody>\n",
       "    <tr>\n",
       "      <th>0</th>\n",
       "      <td>2011 Maruti Alto K10</td>\n",
       "      <td>4734</td>\n",
       "      <td>212799</td>\n",
       "      <td>20354</td>\n",
       "      <td>1st Owner</td>\n",
       "      <td>2011</td>\n",
       "      <td>Petrol</td>\n",
       "      <td>DELHI</td>\n",
       "      <td>Non-Accidental</td>\n",
       "      <td>Maruti</td>\n",
       "    </tr>\n",
       "    <tr>\n",
       "      <th>1</th>\n",
       "      <td>2020 Maruti Swift</td>\n",
       "      <td>12110</td>\n",
       "      <td>544399</td>\n",
       "      <td>6623</td>\n",
       "      <td>1st Owner</td>\n",
       "      <td>2020</td>\n",
       "      <td>Petrol</td>\n",
       "      <td>DELHI</td>\n",
       "      <td>Non-Accidental</td>\n",
       "      <td>Maruti</td>\n",
       "    </tr>\n",
       "    <tr>\n",
       "      <th>2</th>\n",
       "      <td>2021 Maruti Swift</td>\n",
       "      <td>17017</td>\n",
       "      <td>765000</td>\n",
       "      <td>12268</td>\n",
       "      <td>1st Owner</td>\n",
       "      <td>2022</td>\n",
       "      <td>Petrol</td>\n",
       "      <td>DELHI</td>\n",
       "      <td>Non-Accidental</td>\n",
       "      <td>Maruti</td>\n",
       "    </tr>\n",
       "    <tr>\n",
       "      <th>3</th>\n",
       "      <td>2017 Maruti Alto 800</td>\n",
       "      <td>6535</td>\n",
       "      <td>293799</td>\n",
       "      <td>8501</td>\n",
       "      <td>1st Owner</td>\n",
       "      <td>2017</td>\n",
       "      <td>Petrol</td>\n",
       "      <td>DELHI</td>\n",
       "      <td>Non-Accidental</td>\n",
       "      <td>Maruti</td>\n",
       "    </tr>\n",
       "    <tr>\n",
       "      <th>4</th>\n",
       "      <td>2012 Maruti Alto K10</td>\n",
       "      <td>3908</td>\n",
       "      <td>175699</td>\n",
       "      <td>42321</td>\n",
       "      <td>1st Owner</td>\n",
       "      <td>2012</td>\n",
       "      <td>Petrol</td>\n",
       "      <td>DELHI</td>\n",
       "      <td>Non-Accidental</td>\n",
       "      <td>Maruti</td>\n",
       "    </tr>\n",
       "  </tbody>\n",
       "</table>\n",
       "</div>"
      ],
      "text/plain": [
       "                   Name    EMI   Price  Kilometers Driven      Owner  \\\n",
       "0  2011 Maruti Alto K10   4734  212799              20354  1st Owner   \n",
       "1     2020 Maruti Swift  12110  544399               6623  1st Owner   \n",
       "2     2021 Maruti Swift  17017  765000              12268  1st Owner   \n",
       "3  2017 Maruti Alto 800   6535  293799               8501  1st Owner   \n",
       "4  2012 Maruti Alto K10   3908  175699              42321  1st Owner   \n",
       "\n",
       "  Year of Purchase Fuel Type Location         History   Brand  \n",
       "0             2011    Petrol    DELHI  Non-Accidental  Maruti  \n",
       "1             2020    Petrol    DELHI  Non-Accidental  Maruti  \n",
       "2             2022    Petrol    DELHI  Non-Accidental  Maruti  \n",
       "3             2017    Petrol    DELHI  Non-Accidental  Maruti  \n",
       "4             2012    Petrol    DELHI  Non-Accidental  Maruti  "
      ]
     },
     "execution_count": 79,
     "metadata": {},
     "output_type": "execute_result"
    }
   ],
   "source": [
    "df.head()"
   ]
  },
  {
   "cell_type": "code",
   "execution_count": 80,
   "metadata": {},
   "outputs": [
    {
     "data": {
      "text/plain": [
       "Non-Accidental    2572\n",
       "Name: History, dtype: int64"
      ]
     },
     "execution_count": 80,
     "metadata": {},
     "output_type": "execute_result"
    }
   ],
   "source": [
    "df['History'].value_counts()"
   ]
  },
  {
   "cell_type": "code",
   "execution_count": 81,
   "metadata": {},
   "outputs": [],
   "source": [
    "df.drop(['Name','History'],axis=1,inplace=True)"
   ]
  },
  {
   "cell_type": "code",
   "execution_count": 82,
   "metadata": {},
   "outputs": [
    {
     "data": {
      "text/plain": [
       "(2572, 8)"
      ]
     },
     "execution_count": 82,
     "metadata": {},
     "output_type": "execute_result"
    }
   ],
   "source": [
    "df.shape"
   ]
  },
  {
   "cell_type": "code",
   "execution_count": 83,
   "metadata": {},
   "outputs": [
    {
     "data": {
      "text/plain": [
       "2022    1352\n",
       "2013     166\n",
       "2017     163\n",
       "2015     147\n",
       "2014     142\n",
       "2016     142\n",
       "2018     107\n",
       "2012      96\n",
       "2019      84\n",
       "2020      47\n",
       "2011      45\n",
       "2010      38\n",
       "2009      23\n",
       "2008      14\n",
       "2007       4\n",
       "2021       2\n",
       "Name: Year of Purchase, dtype: int64"
      ]
     },
     "execution_count": 83,
     "metadata": {},
     "output_type": "execute_result"
    }
   ],
   "source": [
    "df['Year of Purchase'].value_counts()"
   ]
  },
  {
   "cell_type": "code",
   "execution_count": 84,
   "metadata": {},
   "outputs": [
    {
     "data": {
      "text/html": [
       "<div>\n",
       "<style scoped>\n",
       "    .dataframe tbody tr th:only-of-type {\n",
       "        vertical-align: middle;\n",
       "    }\n",
       "\n",
       "    .dataframe tbody tr th {\n",
       "        vertical-align: top;\n",
       "    }\n",
       "\n",
       "    .dataframe thead th {\n",
       "        text-align: right;\n",
       "    }\n",
       "</style>\n",
       "<table border=\"1\" class=\"dataframe\">\n",
       "  <thead>\n",
       "    <tr style=\"text-align: right;\">\n",
       "      <th></th>\n",
       "      <th>EMI</th>\n",
       "      <th>Price</th>\n",
       "      <th>Kilometers Driven</th>\n",
       "      <th>Owner</th>\n",
       "      <th>Year of Purchase</th>\n",
       "      <th>Fuel Type</th>\n",
       "      <th>Location</th>\n",
       "      <th>Brand</th>\n",
       "    </tr>\n",
       "  </thead>\n",
       "  <tbody>\n",
       "    <tr>\n",
       "      <th>0</th>\n",
       "      <td>4734</td>\n",
       "      <td>212799</td>\n",
       "      <td>20354</td>\n",
       "      <td>1st Owner</td>\n",
       "      <td>2011</td>\n",
       "      <td>Petrol</td>\n",
       "      <td>DELHI</td>\n",
       "      <td>Maruti</td>\n",
       "    </tr>\n",
       "    <tr>\n",
       "      <th>1</th>\n",
       "      <td>12110</td>\n",
       "      <td>544399</td>\n",
       "      <td>6623</td>\n",
       "      <td>1st Owner</td>\n",
       "      <td>2020</td>\n",
       "      <td>Petrol</td>\n",
       "      <td>DELHI</td>\n",
       "      <td>Maruti</td>\n",
       "    </tr>\n",
       "    <tr>\n",
       "      <th>2</th>\n",
       "      <td>17017</td>\n",
       "      <td>765000</td>\n",
       "      <td>12268</td>\n",
       "      <td>1st Owner</td>\n",
       "      <td>2022</td>\n",
       "      <td>Petrol</td>\n",
       "      <td>DELHI</td>\n",
       "      <td>Maruti</td>\n",
       "    </tr>\n",
       "    <tr>\n",
       "      <th>3</th>\n",
       "      <td>6535</td>\n",
       "      <td>293799</td>\n",
       "      <td>8501</td>\n",
       "      <td>1st Owner</td>\n",
       "      <td>2017</td>\n",
       "      <td>Petrol</td>\n",
       "      <td>DELHI</td>\n",
       "      <td>Maruti</td>\n",
       "    </tr>\n",
       "    <tr>\n",
       "      <th>4</th>\n",
       "      <td>3908</td>\n",
       "      <td>175699</td>\n",
       "      <td>42321</td>\n",
       "      <td>1st Owner</td>\n",
       "      <td>2012</td>\n",
       "      <td>Petrol</td>\n",
       "      <td>DELHI</td>\n",
       "      <td>Maruti</td>\n",
       "    </tr>\n",
       "  </tbody>\n",
       "</table>\n",
       "</div>"
      ],
      "text/plain": [
       "     EMI   Price  Kilometers Driven      Owner Year of Purchase Fuel Type  \\\n",
       "0   4734  212799              20354  1st Owner             2011    Petrol   \n",
       "1  12110  544399               6623  1st Owner             2020    Petrol   \n",
       "2  17017  765000              12268  1st Owner             2022    Petrol   \n",
       "3   6535  293799               8501  1st Owner             2017    Petrol   \n",
       "4   3908  175699              42321  1st Owner             2012    Petrol   \n",
       "\n",
       "  Location   Brand  \n",
       "0    DELHI  Maruti  \n",
       "1    DELHI  Maruti  \n",
       "2    DELHI  Maruti  \n",
       "3    DELHI  Maruti  \n",
       "4    DELHI  Maruti  "
      ]
     },
     "execution_count": 84,
     "metadata": {},
     "output_type": "execute_result"
    }
   ],
   "source": [
    "df.head()"
   ]
  },
  {
   "cell_type": "markdown",
   "metadata": {},
   "source": [
    "# Statistical Summary "
   ]
  },
  {
   "cell_type": "code",
   "execution_count": 85,
   "metadata": {},
   "outputs": [
    {
     "data": {
      "text/html": [
       "<div>\n",
       "<style scoped>\n",
       "    .dataframe tbody tr th:only-of-type {\n",
       "        vertical-align: middle;\n",
       "    }\n",
       "\n",
       "    .dataframe tbody tr th {\n",
       "        vertical-align: top;\n",
       "    }\n",
       "\n",
       "    .dataframe thead th {\n",
       "        text-align: right;\n",
       "    }\n",
       "</style>\n",
       "<table border=\"1\" class=\"dataframe\">\n",
       "  <thead>\n",
       "    <tr style=\"text-align: right;\">\n",
       "      <th></th>\n",
       "      <th>Price</th>\n",
       "      <th>Kilometers Driven</th>\n",
       "    </tr>\n",
       "  </thead>\n",
       "  <tbody>\n",
       "    <tr>\n",
       "      <th>count</th>\n",
       "      <td>2.572000e+03</td>\n",
       "      <td>2572.000000</td>\n",
       "    </tr>\n",
       "    <tr>\n",
       "      <th>mean</th>\n",
       "      <td>6.035230e+05</td>\n",
       "      <td>47485.762442</td>\n",
       "    </tr>\n",
       "    <tr>\n",
       "      <th>std</th>\n",
       "      <td>2.370489e+05</td>\n",
       "      <td>41807.946508</td>\n",
       "    </tr>\n",
       "    <tr>\n",
       "      <th>min</th>\n",
       "      <td>1.000000e+05</td>\n",
       "      <td>23.000000</td>\n",
       "    </tr>\n",
       "    <tr>\n",
       "      <th>25%</th>\n",
       "      <td>4.246740e+05</td>\n",
       "      <td>12268.000000</td>\n",
       "    </tr>\n",
       "    <tr>\n",
       "      <th>50%</th>\n",
       "      <td>7.100000e+05</td>\n",
       "      <td>36012.500000</td>\n",
       "    </tr>\n",
       "    <tr>\n",
       "      <th>75%</th>\n",
       "      <td>7.100000e+05</td>\n",
       "      <td>70394.750000</td>\n",
       "    </tr>\n",
       "    <tr>\n",
       "      <th>max</th>\n",
       "      <td>4.040000e+06</td>\n",
       "      <td>578889.000000</td>\n",
       "    </tr>\n",
       "  </tbody>\n",
       "</table>\n",
       "</div>"
      ],
      "text/plain": [
       "              Price  Kilometers Driven\n",
       "count  2.572000e+03        2572.000000\n",
       "mean   6.035230e+05       47485.762442\n",
       "std    2.370489e+05       41807.946508\n",
       "min    1.000000e+05          23.000000\n",
       "25%    4.246740e+05       12268.000000\n",
       "50%    7.100000e+05       36012.500000\n",
       "75%    7.100000e+05       70394.750000\n",
       "max    4.040000e+06      578889.000000"
      ]
     },
     "execution_count": 85,
     "metadata": {},
     "output_type": "execute_result"
    }
   ],
   "source": [
    "#checking the description/summary of the datset\n",
    "df.describe()"
   ]
  },
  {
   "cell_type": "raw",
   "metadata": {},
   "source": [
    "Observations :-\n",
    "    \n",
    "1. Mean is greater than median in : Kilometers Driven."
   ]
  },
  {
   "cell_type": "markdown",
   "metadata": {},
   "source": [
    "# Univariate Analysis"
   ]
  },
  {
   "cell_type": "code",
   "execution_count": 86,
   "metadata": {},
   "outputs": [
    {
     "data": {
      "text/plain": [
       "<matplotlib.axes._subplots.AxesSubplot at 0x1d5de9e1dc8>"
      ]
     },
     "execution_count": 86,
     "metadata": {},
     "output_type": "execute_result"
    },
    {
     "data": {
      "image/png": "[encoded data removed]",
      "text/plain": [
       "<Figure size 432x288 with 1 Axes>"
      ]
     },
     "metadata": {
      "needs_background": "light"
     },
     "output_type": "display_data"
    }
   ],
   "source": [
    "sns.distplot(df['Price'])"
   ]
  },
  {
   "cell_type": "raw",
   "metadata": {},
   "source": [
    "Observation :-\n",
    "    \n",
    "1. Price of cars is majorly less than 1000000."
   ]
  },
  {
   "cell_type": "code",
   "execution_count": 87,
   "metadata": {
    "scrolled": true
   },
   "outputs": [
    {
     "data": {
      "text/plain": [
       "<matplotlib.axes._subplots.AxesSubplot at 0x1d5de941ac8>"
      ]
     },
     "execution_count": 87,
     "metadata": {},
     "output_type": "execute_result"
    },
    {
     "data": {
      "image/png": "[encoded data removed]",
      "text/plain": [
       "<Figure size 432x288 with 1 Axes>"
      ]
     },
     "metadata": {},
     "output_type": "display_data"
    }
   ],
   "source": [
    "sns.set_style('whitegrid')\n",
    "sns.countplot(df['Fuel Type'])"
   ]
  },
  {
   "cell_type": "raw",
   "metadata": {},
   "source": [
    "Observations :-\n",
    "    \n",
    "1. Majorly cars are driven by petrol.\n",
    "2. Least number of cars are driven by Petrol + CNG."
   ]
  },
  {
   "cell_type": "code",
   "execution_count": 88,
   "metadata": {},
   "outputs": [
    {
     "data": {
      "text/plain": [
       "<matplotlib.axes._subplots.AxesSubplot at 0x1d5de9670c8>"
      ]
     },
     "execution_count": 88,
     "metadata": {},
     "output_type": "execute_result"
    },
    {
     "data": {
      "image/png": "[encoded data removed]",
      "text/plain": [
       "<Figure size 432x288 with 1 Axes>"
      ]
     },
     "metadata": {},
     "output_type": "display_data"
    }
   ],
   "source": [
    "sns.set_style('whitegrid')\n",
    "sns.countplot(df['Location'])"
   ]
  },
  {
   "cell_type": "raw",
   "metadata": {},
   "source": [
    "Observations :-\n",
    "    \n",
    "1. Highest number of cars are located in Delhi.\n",
    "2. Lowest number of cars are locatd in Ludhiana.\n"
   ]
  },
  {
   "cell_type": "code",
   "execution_count": 89,
   "metadata": {},
   "outputs": [
    {
     "data": {
      "text/plain": [
       "<matplotlib.axes._subplots.AxesSubplot at 0x1d5de947bc8>"
      ]
     },
     "execution_count": 89,
     "metadata": {},
     "output_type": "execute_result"
    },
    {
     "data": {
      "image/png": "[encoded data removed]",
      "text/plain": [
       "<Figure size 1296x936 with 1 Axes>"
      ]
     },
     "metadata": {},
     "output_type": "display_data"
    }
   ],
   "source": [
    "sns.set_style('whitegrid')\n",
    "plt.figure(figsize=(18,13))\n",
    "sns.countplot(df['Brand'])"
   ]
  },
  {
   "cell_type": "raw",
   "metadata": {},
   "source": [
    "Observations :-\n",
    "    \n",
    "1. Hyundai cars are present majorly in the dataset.\n",
    "2. Jeep and Ssangyong are present in the least number in dataset.\n",
    "3. High number of cars whose brands are Maruti and Hyundai are present in the dataset.\n",
    "4. Low number of cars whose brands are KIA, Chevrolet, Nissan, Audi, MG, BMW, Mercedes, Skoda and Fiat are present in the \n",
    "dataset."
   ]
  },
  {
   "cell_type": "code",
   "execution_count": 91,
   "metadata": {},
   "outputs": [
    {
     "data": {
      "text/plain": [
       "<matplotlib.axes._subplots.AxesSubplot at 0x1d5de88c948>"
      ]
     },
     "execution_count": 91,
     "metadata": {},
     "output_type": "execute_result"
    },
    {
     "data": {
      "image/png": "[encoded data removed]",
      "text/plain": [
       "<Figure size 1296x936 with 1 Axes>"
      ]
     },
     "metadata": {},
     "output_type": "display_data"
    }
   ],
   "source": [
    "sns.set_style('whitegrid')\n",
    "plt.figure(figsize=(18,13))\n",
    "sns.countplot(df['Year of Purchase'])"
   ]
  },
  {
   "cell_type": "raw",
   "metadata": {},
   "source": [
    "Observations :-\n",
    "    \n",
    "1. Maximum number of cars are purchased in the year 2022.\n",
    "2. Minimum number of cars are purchased in the year 2021.\n",
    "3. High number of cars are purchased in the year 2013, 2017 and 2015 also.\n",
    "4. Low number of cars are purchased in the year 2009, 2008 and 2007 also."
   ]
  },
  {
   "cell_type": "code",
   "execution_count": 92,
   "metadata": {},
   "outputs": [
    {
     "data": {
      "text/plain": [
       "<matplotlib.axes._subplots.AxesSubplot at 0x1d5de7d3cc8>"
      ]
     },
     "execution_count": 92,
     "metadata": {},
     "output_type": "execute_result"
    },
    {
     "data": {
      "image/png": "[encoded data removed]",
      "text/plain": [
       "<Figure size 432x288 with 1 Axes>"
      ]
     },
     "metadata": {},
     "output_type": "display_data"
    }
   ],
   "source": [
    "sns.set_style('whitegrid')\n",
    "sns.countplot(df['Owner'])"
   ]
  },
  {
   "cell_type": "raw",
   "metadata": {},
   "source": [
    "Observations :-\n",
    "    \n",
    "1. First owner are present majorly in the dataset.\n",
    "2. Fourth owner are present in least number in the dataset."
   ]
  },
  {
   "cell_type": "markdown",
   "metadata": {},
   "source": [
    "# Bivariate Analysis"
   ]
  },
  {
   "cell_type": "code",
   "execution_count": 93,
   "metadata": {},
   "outputs": [
    {
     "data": {
      "text/plain": [
       "<matplotlib.axes._subplots.AxesSubplot at 0x1d5def64588>"
      ]
     },
     "execution_count": 93,
     "metadata": {},
     "output_type": "execute_result"
    },
    {
     "data": {
      "image/png": "[encoded data removed]",
      "text/plain": [
       "<Figure size 432x288 with 1 Axes>"
      ]
     },
     "metadata": {},
     "output_type": "display_data"
    }
   ],
   "source": [
    "sns.set_style('whitegrid')\n",
    "sns.barplot(x='Owner',y='Price',data=df)"
   ]
  },
  {
   "cell_type": "raw",
   "metadata": {},
   "source": [
    "Observations :-\n",
    "    \n",
    "1. fourth owned cars have the highest price.\n",
    "2. Third owned cars have the lowest price."
   ]
  },
  {
   "cell_type": "code",
   "execution_count": 94,
   "metadata": {},
   "outputs": [
    {
     "data": {
      "text/plain": [
       "<matplotlib.axes._subplots.AxesSubplot at 0x1d5defdaf48>"
      ]
     },
     "execution_count": 94,
     "metadata": {},
     "output_type": "execute_result"
    },
    {
     "data": {
      "image/png": "[encoded data removed]",
      "text/plain": [
       "<Figure size 1296x864 with 1 Axes>"
      ]
     },
     "metadata": {},
     "output_type": "display_data"
    }
   ],
   "source": [
    "sns.set_style('whitegrid')\n",
    "plt.figure(figsize=(18,12))\n",
    "sns.barplot(x='Year of Purchase',y='Price',data=df,palette='RdBu_r')"
   ]
  },
  {
   "cell_type": "raw",
   "metadata": {},
   "source": [
    "Observations :-\n",
    "    \n",
    "1. Cars purchased in the year 2021 have the highest prices.\n",
    "2. Cars purchased in the year 2009 have the lowest prices.\n",
    "3. Cars purchased in the year 2020, 2019, 2018, 2017 and 2015 have also high prices.\n",
    "4. Cars purchased in the year 2009, 2010, 2012 and 2008 have also low prices."
   ]
  },
  {
   "cell_type": "code",
   "execution_count": 95,
   "metadata": {},
   "outputs": [
    {
     "data": {
      "text/plain": [
       "<matplotlib.axes._subplots.AxesSubplot at 0x1d5df40e7c8>"
      ]
     },
     "execution_count": 95,
     "metadata": {},
     "output_type": "execute_result"
    },
    {
     "data": {
      "image/png": "[encoded data removed]",
      "text/plain": [
       "<Figure size 432x288 with 1 Axes>"
      ]
     },
     "metadata": {},
     "output_type": "display_data"
    }
   ],
   "source": [
    "sns.set_style('whitegrid')\n",
    "sns.barplot(x='Fuel Type',y='Price',data=df,palette='RdBu_r')"
   ]
  },
  {
   "cell_type": "raw",
   "metadata": {},
   "source": [
    "Observations :-\n",
    "    \n",
    "1. Cars which uses Petrol + CNG have the highest price.\n",
    "2. Cars which uses only Petrol have the lowest price."
   ]
  },
  {
   "cell_type": "code",
   "execution_count": 96,
   "metadata": {},
   "outputs": [
    {
     "data": {
      "text/plain": [
       "<matplotlib.axes._subplots.AxesSubplot at 0x1d5df476448>"
      ]
     },
     "execution_count": 96,
     "metadata": {},
     "output_type": "execute_result"
    },
    {
     "data": {
      "image/png": "[encoded data removed]",
      "text/plain": [
       "<Figure size 432x288 with 1 Axes>"
      ]
     },
     "metadata": {},
     "output_type": "display_data"
    }
   ],
   "source": [
    "\n",
    "sns.set_style('whitegrid')\n",
    "sns.barplot(x='Location',y='Price',data=df,palette='RdBu_r')"
   ]
  },
  {
   "cell_type": "raw",
   "metadata": {},
   "source": [
    "Observations :-\n",
    "    \n",
    "1. Cars in the location of Gurgaon and Ludhiana have the highest prices.\n",
    "2. Cars in the location of Noida have the lowest prices."
   ]
  },
  {
   "cell_type": "code",
   "execution_count": 97,
   "metadata": {},
   "outputs": [
    {
     "data": {
      "text/plain": [
       "<matplotlib.axes._subplots.AxesSubplot at 0x1d5defd2248>"
      ]
     },
     "execution_count": 97,
     "metadata": {},
     "output_type": "execute_result"
    },
    {
     "data": {
      "image/png": "[encoded data removed]",
      "text/plain": [
       "<Figure size 1296x864 with 1 Axes>"
      ]
     },
     "metadata": {},
     "output_type": "display_data"
    }
   ],
   "source": [
    "plt.figure(figsize=(18,12))\n",
    "sns.set_style('whitegrid')\n",
    "sns.barplot(x='Brand',y='Price',data=df,palette='RdBu_r')"
   ]
  },
  {
   "cell_type": "raw",
   "metadata": {},
   "source": [
    "Observations :-\n",
    "    \n",
    "1. BMW has the highest price.\n",
    "2. Datson, Chevrolet, Nisaan and Fiat have the lowest prices.\n",
    "3. Jeep, MG and Audi also have high prices."
   ]
  },
  {
   "cell_type": "code",
   "execution_count": 98,
   "metadata": {},
   "outputs": [
    {
     "data": {
      "text/plain": [
       "<matplotlib.axes._subplots.AxesSubplot at 0x1d5df569088>"
      ]
     },
     "execution_count": 98,
     "metadata": {},
     "output_type": "execute_result"
    },
    {
     "data": {
      "image/png": "[encoded data removed]",
      "text/plain": [
       "<Figure size 432x288 with 1 Axes>"
      ]
     },
     "metadata": {},
     "output_type": "display_data"
    }
   ],
   "source": [
    "sns.distplot(df['EMI'])"
   ]
  },
  {
   "cell_type": "raw",
   "metadata": {},
   "source": [
    "Observations :-\n",
    "    \n",
    "1. EMI price is majorly less than 20000 in the dataset.\n",
    "2. Very few number of cars have EMI greater than 20000 in the dataset.\n",
    "2. Highest number of cars have EMI in the range of 15000-20000"
   ]
  },
  {
   "cell_type": "code",
   "execution_count": 99,
   "metadata": {},
   "outputs": [
    {
     "data": {
      "text/plain": [
       "<matplotlib.axes._subplots.AxesSubplot at 0x1d5df621648>"
      ]
     },
     "execution_count": 99,
     "metadata": {},
     "output_type": "execute_result"
    },
    {
     "data": {
      "image/png": "[encoded data removed]",
      "text/plain": [
       "<Figure size 432x288 with 1 Axes>"
      ]
     },
     "metadata": {},
     "output_type": "display_data"
    }
   ],
   "source": [
    "sns.distplot(df['Kilometers Driven'])"
   ]
  },
  {
   "cell_type": "raw",
   "metadata": {},
   "source": [
    "Observations :-\n",
    "    \n",
    "1. Kilometers Driven are majorly less than 100000 km in the dataset.\n",
    "2. Very few number of cars have Kilometers Driven greater than 200000 km in the dataset."
   ]
  },
  {
   "cell_type": "markdown",
   "metadata": {},
   "source": [
    "# Label Encoding"
   ]
  },
  {
   "cell_type": "code",
   "execution_count": 100,
   "metadata": {},
   "outputs": [
    {
     "name": "stdout",
     "output_type": "stream",
     "text": [
      "['Maruti' 'Hyundai' 'Datsun' 'Toyota' 'Renault' 'Honda' 'KIA' 'Tata'\n",
      " 'Ford' 'Mahindra' 'Chevrolet' 'Volkswagen' 'Skoda' 'Nissan' 'MG' 'BMW'\n",
      " 'Mercedes' 'Jeep' 'Audi' 'Fiat' 'Ssangyong' 'HYUNDAI']\n",
      "[13  8  3 20 16  7 10 19  5 12  2 21 17 15 11  1 14  9  0  4 18  6]\n",
      "['1st Owner' '2nd Owner' '3rd Owner' '4th Owner']\n",
      "[0 1 2 3]\n",
      "['DELHI' 'NOIDA' 'GURGAON' 'LUDHIANA']\n",
      "[0 3 1 2]\n",
      "['Petrol' 'Diesel' 'Petrol + CNG']\n",
      "[1 0 2]\n"
     ]
    }
   ],
   "source": [
    "list=['Brand','Owner','Location','Fuel Type']\n",
    "for i in list:\n",
    "    print(df[i].unique())\n",
    "    df[i]=LE.fit_transform(df[i])\n",
    "    print(df[i].unique())"
   ]
  },
  {
   "cell_type": "code",
   "execution_count": 101,
   "metadata": {},
   "outputs": [
    {
     "data": {
      "text/html": [
       "<div>\n",
       "<style scoped>\n",
       "    .dataframe tbody tr th:only-of-type {\n",
       "        vertical-align: middle;\n",
       "    }\n",
       "\n",
       "    .dataframe tbody tr th {\n",
       "        vertical-align: top;\n",
       "    }\n",
       "\n",
       "    .dataframe thead th {\n",
       "        text-align: right;\n",
       "    }\n",
       "</style>\n",
       "<table border=\"1\" class=\"dataframe\">\n",
       "  <thead>\n",
       "    <tr style=\"text-align: right;\">\n",
       "      <th></th>\n",
       "      <th>EMI</th>\n",
       "      <th>Price</th>\n",
       "      <th>Kilometers Driven</th>\n",
       "      <th>Owner</th>\n",
       "      <th>Year of Purchase</th>\n",
       "      <th>Fuel Type</th>\n",
       "      <th>Location</th>\n",
       "      <th>Brand</th>\n",
       "    </tr>\n",
       "  </thead>\n",
       "  <tbody>\n",
       "    <tr>\n",
       "      <th>0</th>\n",
       "      <td>4734</td>\n",
       "      <td>212799</td>\n",
       "      <td>20354</td>\n",
       "      <td>0</td>\n",
       "      <td>2011</td>\n",
       "      <td>1</td>\n",
       "      <td>0</td>\n",
       "      <td>13</td>\n",
       "    </tr>\n",
       "    <tr>\n",
       "      <th>1</th>\n",
       "      <td>12110</td>\n",
       "      <td>544399</td>\n",
       "      <td>6623</td>\n",
       "      <td>0</td>\n",
       "      <td>2020</td>\n",
       "      <td>1</td>\n",
       "      <td>0</td>\n",
       "      <td>13</td>\n",
       "    </tr>\n",
       "    <tr>\n",
       "      <th>2</th>\n",
       "      <td>17017</td>\n",
       "      <td>765000</td>\n",
       "      <td>12268</td>\n",
       "      <td>0</td>\n",
       "      <td>2022</td>\n",
       "      <td>1</td>\n",
       "      <td>0</td>\n",
       "      <td>13</td>\n",
       "    </tr>\n",
       "    <tr>\n",
       "      <th>3</th>\n",
       "      <td>6535</td>\n",
       "      <td>293799</td>\n",
       "      <td>8501</td>\n",
       "      <td>0</td>\n",
       "      <td>2017</td>\n",
       "      <td>1</td>\n",
       "      <td>0</td>\n",
       "      <td>13</td>\n",
       "    </tr>\n",
       "    <tr>\n",
       "      <th>4</th>\n",
       "      <td>3908</td>\n",
       "      <td>175699</td>\n",
       "      <td>42321</td>\n",
       "      <td>0</td>\n",
       "      <td>2012</td>\n",
       "      <td>1</td>\n",
       "      <td>0</td>\n",
       "      <td>13</td>\n",
       "    </tr>\n",
       "    <tr>\n",
       "      <th>...</th>\n",
       "      <td>...</td>\n",
       "      <td>...</td>\n",
       "      <td>...</td>\n",
       "      <td>...</td>\n",
       "      <td>...</td>\n",
       "      <td>...</td>\n",
       "      <td>...</td>\n",
       "      <td>...</td>\n",
       "    </tr>\n",
       "    <tr>\n",
       "      <th>2567</th>\n",
       "      <td>6306</td>\n",
       "      <td>294299</td>\n",
       "      <td>5636</td>\n",
       "      <td>1</td>\n",
       "      <td>2017</td>\n",
       "      <td>1</td>\n",
       "      <td>0</td>\n",
       "      <td>13</td>\n",
       "    </tr>\n",
       "    <tr>\n",
       "      <th>2568</th>\n",
       "      <td>5905</td>\n",
       "      <td>262699</td>\n",
       "      <td>15468</td>\n",
       "      <td>0</td>\n",
       "      <td>2022</td>\n",
       "      <td>1</td>\n",
       "      <td>0</td>\n",
       "      <td>3</td>\n",
       "    </tr>\n",
       "    <tr>\n",
       "      <th>2569</th>\n",
       "      <td>10652</td>\n",
       "      <td>492199</td>\n",
       "      <td>12268</td>\n",
       "      <td>0</td>\n",
       "      <td>2022</td>\n",
       "      <td>1</td>\n",
       "      <td>0</td>\n",
       "      <td>13</td>\n",
       "    </tr>\n",
       "    <tr>\n",
       "      <th>2570</th>\n",
       "      <td>9505</td>\n",
       "      <td>444799</td>\n",
       "      <td>13509</td>\n",
       "      <td>1</td>\n",
       "      <td>2014</td>\n",
       "      <td>1</td>\n",
       "      <td>0</td>\n",
       "      <td>13</td>\n",
       "    </tr>\n",
       "    <tr>\n",
       "      <th>2571</th>\n",
       "      <td>14847</td>\n",
       "      <td>652399</td>\n",
       "      <td>6460</td>\n",
       "      <td>0</td>\n",
       "      <td>2022</td>\n",
       "      <td>1</td>\n",
       "      <td>0</td>\n",
       "      <td>16</td>\n",
       "    </tr>\n",
       "  </tbody>\n",
       "</table>\n",
       "<p>2572 rows × 8 columns</p>\n",
       "</div>"
      ],
      "text/plain": [
       "        EMI   Price  Kilometers Driven  Owner Year of Purchase  Fuel Type  \\\n",
       "0      4734  212799              20354      0             2011          1   \n",
       "1     12110  544399               6623      0             2020          1   \n",
       "2     17017  765000              12268      0             2022          1   \n",
       "3      6535  293799               8501      0             2017          1   \n",
       "4      3908  175699              42321      0             2012          1   \n",
       "...     ...     ...                ...    ...              ...        ...   \n",
       "2567   6306  294299               5636      1             2017          1   \n",
       "2568   5905  262699              15468      0             2022          1   \n",
       "2569  10652  492199              12268      0             2022          1   \n",
       "2570   9505  444799              13509      1             2014          1   \n",
       "2571  14847  652399               6460      0             2022          1   \n",
       "\n",
       "      Location  Brand  \n",
       "0            0     13  \n",
       "1            0     13  \n",
       "2            0     13  \n",
       "3            0     13  \n",
       "4            0     13  \n",
       "...        ...    ...  \n",
       "2567         0     13  \n",
       "2568         0      3  \n",
       "2569         0     13  \n",
       "2570         0     13  \n",
       "2571         0     16  \n",
       "\n",
       "[2572 rows x 8 columns]"
      ]
     },
     "execution_count": 101,
     "metadata": {},
     "output_type": "execute_result"
    }
   ],
   "source": [
    "df\n"
   ]
  },
  {
   "cell_type": "markdown",
   "metadata": {},
   "source": [
    "# Multivariate Analysis"
   ]
  },
  {
   "cell_type": "code",
   "execution_count": 102,
   "metadata": {},
   "outputs": [
    {
     "data": {
      "text/html": [
       "<div>\n",
       "<style scoped>\n",
       "    .dataframe tbody tr th:only-of-type {\n",
       "        vertical-align: middle;\n",
       "    }\n",
       "\n",
       "    .dataframe tbody tr th {\n",
       "        vertical-align: top;\n",
       "    }\n",
       "\n",
       "    .dataframe thead th {\n",
       "        text-align: right;\n",
       "    }\n",
       "</style>\n",
       "<table border=\"1\" class=\"dataframe\">\n",
       "  <thead>\n",
       "    <tr style=\"text-align: right;\">\n",
       "      <th></th>\n",
       "      <th>Price</th>\n",
       "      <th>Kilometers Driven</th>\n",
       "      <th>Owner</th>\n",
       "      <th>Fuel Type</th>\n",
       "      <th>Location</th>\n",
       "      <th>Brand</th>\n",
       "    </tr>\n",
       "  </thead>\n",
       "  <tbody>\n",
       "    <tr>\n",
       "      <th>Price</th>\n",
       "      <td>1.000000</td>\n",
       "      <td>-0.063209</td>\n",
       "      <td>0.006268</td>\n",
       "      <td>-0.033920</td>\n",
       "      <td>-0.001078</td>\n",
       "      <td>-0.393477</td>\n",
       "    </tr>\n",
       "    <tr>\n",
       "      <th>Kilometers Driven</th>\n",
       "      <td>-0.063209</td>\n",
       "      <td>1.000000</td>\n",
       "      <td>0.162718</td>\n",
       "      <td>-0.413302</td>\n",
       "      <td>0.155300</td>\n",
       "      <td>0.020285</td>\n",
       "    </tr>\n",
       "    <tr>\n",
       "      <th>Owner</th>\n",
       "      <td>0.006268</td>\n",
       "      <td>0.162718</td>\n",
       "      <td>1.000000</td>\n",
       "      <td>-0.048479</td>\n",
       "      <td>0.096456</td>\n",
       "      <td>-0.051485</td>\n",
       "    </tr>\n",
       "    <tr>\n",
       "      <th>Fuel Type</th>\n",
       "      <td>-0.033920</td>\n",
       "      <td>-0.413302</td>\n",
       "      <td>-0.048479</td>\n",
       "      <td>1.000000</td>\n",
       "      <td>-0.113266</td>\n",
       "      <td>-0.112325</td>\n",
       "    </tr>\n",
       "    <tr>\n",
       "      <th>Location</th>\n",
       "      <td>-0.001078</td>\n",
       "      <td>0.155300</td>\n",
       "      <td>0.096456</td>\n",
       "      <td>-0.113266</td>\n",
       "      <td>1.000000</td>\n",
       "      <td>0.040407</td>\n",
       "    </tr>\n",
       "    <tr>\n",
       "      <th>Brand</th>\n",
       "      <td>-0.393477</td>\n",
       "      <td>0.020285</td>\n",
       "      <td>-0.051485</td>\n",
       "      <td>-0.112325</td>\n",
       "      <td>0.040407</td>\n",
       "      <td>1.000000</td>\n",
       "    </tr>\n",
       "  </tbody>\n",
       "</table>\n",
       "</div>"
      ],
      "text/plain": [
       "                      Price  Kilometers Driven     Owner  Fuel Type  Location  \\\n",
       "Price              1.000000          -0.063209  0.006268  -0.033920 -0.001078   \n",
       "Kilometers Driven -0.063209           1.000000  0.162718  -0.413302  0.155300   \n",
       "Owner              0.006268           0.162718  1.000000  -0.048479  0.096456   \n",
       "Fuel Type         -0.033920          -0.413302 -0.048479   1.000000 -0.113266   \n",
       "Location          -0.001078           0.155300  0.096456  -0.113266  1.000000   \n",
       "Brand             -0.393477           0.020285 -0.051485  -0.112325  0.040407   \n",
       "\n",
       "                      Brand  \n",
       "Price             -0.393477  \n",
       "Kilometers Driven  0.020285  \n",
       "Owner             -0.051485  \n",
       "Fuel Type         -0.112325  \n",
       "Location           0.040407  \n",
       "Brand              1.000000  "
      ]
     },
     "execution_count": 102,
     "metadata": {},
     "output_type": "execute_result"
    }
   ],
   "source": [
    "dfcorr=df.corr()\n",
    "dfcorr"
   ]
  },
  {
   "cell_type": "code",
   "execution_count": 103,
   "metadata": {},
   "outputs": [],
   "source": [
    "df['EMI']=df['EMI'].astype('int32')"
   ]
  },
  {
   "cell_type": "code",
   "execution_count": 104,
   "metadata": {},
   "outputs": [],
   "source": [
    "df['Year of Purchase']=df['Year of Purchase'].astype('int32')"
   ]
  },
  {
   "cell_type": "code",
   "execution_count": 105,
   "metadata": {},
   "outputs": [
    {
     "data": {
      "text/plain": [
       "EMI                  int32\n",
       "Price                int32\n",
       "Kilometers Driven    int32\n",
       "Owner                int32\n",
       "Year of Purchase     int32\n",
       "Fuel Type            int32\n",
       "Location             int32\n",
       "Brand                int32\n",
       "dtype: object"
      ]
     },
     "execution_count": 105,
     "metadata": {},
     "output_type": "execute_result"
    }
   ],
   "source": [
    "df.dtypes"
   ]
  },
  {
   "cell_type": "code",
   "execution_count": 106,
   "metadata": {},
   "outputs": [
    {
     "data": {
      "text/html": [
       "<div>\n",
       "<style scoped>\n",
       "    .dataframe tbody tr th:only-of-type {\n",
       "        vertical-align: middle;\n",
       "    }\n",
       "\n",
       "    .dataframe tbody tr th {\n",
       "        vertical-align: top;\n",
       "    }\n",
       "\n",
       "    .dataframe thead th {\n",
       "        text-align: right;\n",
       "    }\n",
       "</style>\n",
       "<table border=\"1\" class=\"dataframe\">\n",
       "  <thead>\n",
       "    <tr style=\"text-align: right;\">\n",
       "      <th></th>\n",
       "      <th>EMI</th>\n",
       "      <th>Price</th>\n",
       "      <th>Kilometers Driven</th>\n",
       "      <th>Owner</th>\n",
       "      <th>Year of Purchase</th>\n",
       "      <th>Fuel Type</th>\n",
       "      <th>Location</th>\n",
       "      <th>Brand</th>\n",
       "    </tr>\n",
       "  </thead>\n",
       "  <tbody>\n",
       "    <tr>\n",
       "      <th>count</th>\n",
       "      <td>2572.000000</td>\n",
       "      <td>2.572000e+03</td>\n",
       "      <td>2572.000000</td>\n",
       "      <td>2572.000000</td>\n",
       "      <td>2572.000000</td>\n",
       "      <td>2572.000000</td>\n",
       "      <td>2572.000000</td>\n",
       "      <td>2572.000000</td>\n",
       "    </tr>\n",
       "    <tr>\n",
       "      <th>mean</th>\n",
       "      <td>13419.150078</td>\n",
       "      <td>6.035230e+05</td>\n",
       "      <td>47485.762442</td>\n",
       "      <td>0.171073</td>\n",
       "      <td>2018.668740</td>\n",
       "      <td>0.735614</td>\n",
       "      <td>0.454121</td>\n",
       "      <td>8.565708</td>\n",
       "    </tr>\n",
       "    <tr>\n",
       "      <th>std</th>\n",
       "      <td>5281.004336</td>\n",
       "      <td>2.370489e+05</td>\n",
       "      <td>41807.946508</td>\n",
       "      <td>0.431512</td>\n",
       "      <td>3.997654</td>\n",
       "      <td>0.495887</td>\n",
       "      <td>0.936238</td>\n",
       "      <td>3.745081</td>\n",
       "    </tr>\n",
       "    <tr>\n",
       "      <th>min</th>\n",
       "      <td>2224.000000</td>\n",
       "      <td>1.000000e+05</td>\n",
       "      <td>23.000000</td>\n",
       "      <td>0.000000</td>\n",
       "      <td>2007.000000</td>\n",
       "      <td>0.000000</td>\n",
       "      <td>0.000000</td>\n",
       "      <td>0.000000</td>\n",
       "    </tr>\n",
       "    <tr>\n",
       "      <th>25%</th>\n",
       "      <td>9438.000000</td>\n",
       "      <td>4.246740e+05</td>\n",
       "      <td>12268.000000</td>\n",
       "      <td>0.000000</td>\n",
       "      <td>2015.000000</td>\n",
       "      <td>0.000000</td>\n",
       "      <td>0.000000</td>\n",
       "      <td>6.000000</td>\n",
       "    </tr>\n",
       "    <tr>\n",
       "      <th>50%</th>\n",
       "      <td>15794.000000</td>\n",
       "      <td>7.100000e+05</td>\n",
       "      <td>36012.500000</td>\n",
       "      <td>0.000000</td>\n",
       "      <td>2022.000000</td>\n",
       "      <td>1.000000</td>\n",
       "      <td>0.000000</td>\n",
       "      <td>6.000000</td>\n",
       "    </tr>\n",
       "    <tr>\n",
       "      <th>75%</th>\n",
       "      <td>15794.000000</td>\n",
       "      <td>7.100000e+05</td>\n",
       "      <td>70394.750000</td>\n",
       "      <td>0.000000</td>\n",
       "      <td>2022.000000</td>\n",
       "      <td>1.000000</td>\n",
       "      <td>0.000000</td>\n",
       "      <td>13.000000</td>\n",
       "    </tr>\n",
       "    <tr>\n",
       "      <th>max</th>\n",
       "      <td>89868.000000</td>\n",
       "      <td>4.040000e+06</td>\n",
       "      <td>578889.000000</td>\n",
       "      <td>3.000000</td>\n",
       "      <td>2022.000000</td>\n",
       "      <td>2.000000</td>\n",
       "      <td>3.000000</td>\n",
       "      <td>21.000000</td>\n",
       "    </tr>\n",
       "  </tbody>\n",
       "</table>\n",
       "</div>"
      ],
      "text/plain": [
       "                EMI         Price  Kilometers Driven        Owner  \\\n",
       "count   2572.000000  2.572000e+03        2572.000000  2572.000000   \n",
       "mean   13419.150078  6.035230e+05       47485.762442     0.171073   \n",
       "std     5281.004336  2.370489e+05       41807.946508     0.431512   \n",
       "min     2224.000000  1.000000e+05          23.000000     0.000000   \n",
       "25%     9438.000000  4.246740e+05       12268.000000     0.000000   \n",
       "50%    15794.000000  7.100000e+05       36012.500000     0.000000   \n",
       "75%    15794.000000  7.100000e+05       70394.750000     0.000000   \n",
       "max    89868.000000  4.040000e+06      578889.000000     3.000000   \n",
       "\n",
       "       Year of Purchase    Fuel Type     Location        Brand  \n",
       "count       2572.000000  2572.000000  2572.000000  2572.000000  \n",
       "mean        2018.668740     0.735614     0.454121     8.565708  \n",
       "std            3.997654     0.495887     0.936238     3.745081  \n",
       "min         2007.000000     0.000000     0.000000     0.000000  \n",
       "25%         2015.000000     0.000000     0.000000     6.000000  \n",
       "50%         2022.000000     1.000000     0.000000     6.000000  \n",
       "75%         2022.000000     1.000000     0.000000    13.000000  \n",
       "max         2022.000000     2.000000     3.000000    21.000000  "
      ]
     },
     "execution_count": 106,
     "metadata": {},
     "output_type": "execute_result"
    }
   ],
   "source": [
    "df.describe()"
   ]
  },
  {
   "cell_type": "code",
   "execution_count": 107,
   "metadata": {},
   "outputs": [
    {
     "data": {
      "text/plain": [
       "<matplotlib.axes._subplots.AxesSubplot at 0x1d5df4ddb08>"
      ]
     },
     "execution_count": 107,
     "metadata": {},
     "output_type": "execute_result"
    },
    {
     "data": {
      "image/png": "[encoded data removed]",
      "text/plain": [
       "<Figure size 720x576 with 2 Axes>"
      ]
     },
     "metadata": {},
     "output_type": "display_data"
    }
   ],
   "source": [
    "# Multivariate Analysis\n",
    "plt.figure(figsize=(10,8))\n",
    "sns.heatmap(dfcorr,cmap='YlGnBu',annot=True)"
   ]
  },
  {
   "cell_type": "raw",
   "metadata": {},
   "source": [
    "Observations :-\n",
    "    \n",
    "1. Price is highly positively correlated to Owner.\n",
    "2. Owner is highly negatively correlated to Brand.\n",
    "3. Owner is highly positively correlated to Kilometers Driven.\n",
    "4. Kilometers Driven is highly negatively correlated to Price."
   ]
  },
  {
   "cell_type": "markdown",
   "metadata": {},
   "source": [
    "# Plotting Outliers"
   ]
  },
  {
   "cell_type": "code",
   "execution_count": 108,
   "metadata": {},
   "outputs": [
    {
     "data": {
      "text/plain": [
       "(2572, 8)"
      ]
     },
     "execution_count": 108,
     "metadata": {},
     "output_type": "execute_result"
    }
   ],
   "source": [
    "df.shape"
   ]
  },
  {
   "cell_type": "code",
   "execution_count": 109,
   "metadata": {},
   "outputs": [
    {
     "data": {
      "text/plain": [
       "EMI                     AxesSubplot(0.125,0.125;0.0824468x0.755)\n",
       "Price                AxesSubplot(0.223936,0.125;0.0824468x0.755)\n",
       "Kilometers Driven    AxesSubplot(0.322872,0.125;0.0824468x0.755)\n",
       "Owner                AxesSubplot(0.421809,0.125;0.0824468x0.755)\n",
       "Year of Purchase     AxesSubplot(0.520745,0.125;0.0824468x0.755)\n",
       "Fuel Type            AxesSubplot(0.619681,0.125;0.0824468x0.755)\n",
       "Location             AxesSubplot(0.718617,0.125;0.0824468x0.755)\n",
       "Brand                AxesSubplot(0.817553,0.125;0.0824468x0.755)\n",
       "dtype: object"
      ]
     },
     "execution_count": 109,
     "metadata": {},
     "output_type": "execute_result"
    },
    {
     "data": {
      "image/png": "[encoded data removed]",
      "text/plain": [
       "<Figure size 1296x864 with 8 Axes>"
      ]
     },
     "metadata": {},
     "output_type": "display_data"
    }
   ],
   "source": [
    "df.plot(kind='box',subplots=True,layout=(1,8),sharex=False,fontsize=1,figsize=(18,12))"
   ]
  },
  {
   "cell_type": "code",
   "execution_count": 110,
   "metadata": {},
   "outputs": [
    {
     "data": {
      "text/plain": [
       "Index(['EMI', 'Price', 'Kilometers Driven', 'Owner', 'Year of Purchase',\n",
       "       'Fuel Type', 'Location', 'Brand'],\n",
       "      dtype='object')"
      ]
     },
     "execution_count": 110,
     "metadata": {},
     "output_type": "execute_result"
    }
   ],
   "source": [
    "df.columns"
   ]
  },
  {
   "cell_type": "raw",
   "metadata": {},
   "source": [
    "Observations :-\n",
    "    \n",
    "1. EMI, Price, Kilometers Driven, Owner and Location have outliers."
   ]
  },
  {
   "cell_type": "markdown",
   "metadata": {},
   "source": [
    "# Removing Outliers"
   ]
  },
  {
   "cell_type": "code",
   "execution_count": 111,
   "metadata": {},
   "outputs": [],
   "source": [
    "from scipy.stats import zscore\n",
    "z=np.abs(zscore(df))"
   ]
  },
  {
   "cell_type": "code",
   "execution_count": 112,
   "metadata": {},
   "outputs": [
    {
     "data": {
      "text/plain": [
       "array([[1.64492177, 1.64860486, 0.64908805, ..., 0.53326133, 0.48514355,\n",
       "        1.18426141],\n",
       "       [0.24794614, 0.2494654 , 0.9775823 , ..., 0.53326133, 0.48514355,\n",
       "        1.18426141],\n",
       "       [0.68141386, 0.68132942, 0.84253387, ..., 0.53326133, 0.48514355,\n",
       "        1.18426141],\n",
       "       ...,\n",
       "       [0.52408368, 0.46971594, 0.84253387, ..., 0.53326133, 0.48514355,\n",
       "        1.18426141],\n",
       "       [0.74131945, 0.66971356, 0.81284474, ..., 0.53326133, 0.48514355,\n",
       "        1.18426141],\n",
       "       [0.27042727, 0.20622537, 0.98148184, ..., 0.53326133, 0.48514355,\n",
       "        1.98546798]])"
      ]
     },
     "execution_count": 112,
     "metadata": {},
     "output_type": "execute_result"
    }
   ],
   "source": [
    "z"
   ]
  },
  {
   "cell_type": "code",
   "execution_count": 113,
   "metadata": {},
   "outputs": [
    {
     "name": "stdout",
     "output_type": "stream",
     "text": [
      "(array([  15,   67,   88,  150,  218,  237,  237,  268,  297,  312,  349,\n",
      "        352,  362,  378,  408,  440,  477,  477,  489,  495,  513,  513,\n",
      "        529,  529,  529,  533,  538,  538,  539,  550,  558,  558,  582,\n",
      "        584,  585,  588,  597,  600,  617,  617,  617,  620,  622,  623,\n",
      "        629,  629,  636,  636,  636,  643,  651,  671,  671,  671,  678,\n",
      "        678,  678,  701,  706,  720,  720,  729,  729,  746,  746,  751,\n",
      "        752,  752,  758,  771,  771,  771,  772,  772,  793,  812,  812,\n",
      "        815,  820,  829,  841,  841,  846,  848,  857,  861,  866,  867,\n",
      "        873,  873,  883,  897,  897,  898,  901,  915,  921,  927,  929,\n",
      "        935,  952,  954,  954,  957,  960,  964,  968,  971,  971,  971,\n",
      "        975,  976,  977,  981,  982,  984,  993,  993,  995,  995,  997,\n",
      "        998,  998,  999, 1003, 1004, 1016, 1027, 1038, 1040, 1044, 1050,\n",
      "       1053, 1082, 1083, 1090, 1098, 1105, 1107, 1243, 1281, 1285, 1311,\n",
      "       1319, 1361, 1464, 1476, 1619, 1675, 1719, 1720, 1725, 1747, 1898,\n",
      "       1937, 1951, 1955, 1961, 2041, 2091, 2114, 2129, 2154, 2181, 2187,\n",
      "       2189, 2214, 2225, 2226, 2235, 2246, 2252, 2298, 2304, 2317, 2320,\n",
      "       2380, 2412, 2412, 2517, 2549, 2549], dtype=int64), array([7, 2, 3, 7, 3, 0, 1, 3, 7, 7, 3, 7, 7, 7, 7, 7, 0, 1, 7, 3, 0, 1,\n",
      "       0, 1, 7, 7, 0, 1, 7, 7, 0, 1, 3, 7, 7, 3, 3, 7, 0, 1, 7, 7, 7, 3,\n",
      "       0, 1, 0, 1, 7, 7, 7, 0, 1, 7, 0, 1, 7, 7, 7, 0, 1, 0, 1, 3, 7, 7,\n",
      "       0, 1, 7, 0, 1, 7, 0, 1, 3, 0, 1, 7, 7, 7, 0, 1, 7, 7, 7, 7, 7, 7,\n",
      "       0, 1, 7, 0, 1, 7, 7, 7, 3, 3, 7, 7, 7, 2, 7, 3, 7, 2, 7, 0, 1, 7,\n",
      "       7, 2, 2, 7, 7, 7, 0, 1, 2, 7, 7, 2, 7, 7, 2, 2, 2, 2, 3, 2, 2, 2,\n",
      "       2, 2, 2, 2, 2, 2, 2, 3, 2, 3, 3, 3, 3, 3, 3, 3, 3, 2, 3, 3, 3, 3,\n",
      "       3, 2, 2, 3, 3, 3, 3, 3, 3, 3, 2, 3, 3, 3, 3, 3, 2, 2, 3, 3, 3, 3,\n",
      "       3, 0, 1, 3, 0, 1], dtype=int64))\n"
     ]
    }
   ],
   "source": [
    "threshold=3\n",
    "print(np.where(z>3))"
   ]
  },
  {
   "cell_type": "code",
   "execution_count": 114,
   "metadata": {},
   "outputs": [],
   "source": [
    "df_new=df[(z<3).all(axis=1)]"
   ]
  },
  {
   "cell_type": "code",
   "execution_count": 115,
   "metadata": {},
   "outputs": [
    {
     "data": {
      "text/plain": [
       "(2425, 8)"
      ]
     },
     "execution_count": 115,
     "metadata": {},
     "output_type": "execute_result"
    }
   ],
   "source": [
    "df_new.shape"
   ]
  },
  {
   "cell_type": "code",
   "execution_count": 116,
   "metadata": {},
   "outputs": [
    {
     "data": {
      "text/plain": [
       "(2572, 8)"
      ]
     },
     "execution_count": 116,
     "metadata": {},
     "output_type": "execute_result"
    }
   ],
   "source": [
    "df.shape"
   ]
  },
  {
   "cell_type": "code",
   "execution_count": 117,
   "metadata": {},
   "outputs": [
    {
     "data": {
      "text/plain": [
       "5.715396578538103"
      ]
     },
     "execution_count": 117,
     "metadata": {},
     "output_type": "execute_result"
    }
   ],
   "source": [
    "((2572-2425)/2572)*100"
   ]
  },
  {
   "cell_type": "code",
   "execution_count": 118,
   "metadata": {},
   "outputs": [],
   "source": [
    "df=df_new"
   ]
  },
  {
   "cell_type": "markdown",
   "metadata": {},
   "source": [
    "# To check Skewness"
   ]
  },
  {
   "cell_type": "code",
   "execution_count": 119,
   "metadata": {},
   "outputs": [
    {
     "data": {
      "text/plain": [
       "array([[<matplotlib.axes._subplots.AxesSubplot object at 0x000001D5E176E2C8>,\n",
       "        <matplotlib.axes._subplots.AxesSubplot object at 0x000001D5E17C1BC8>,\n",
       "        <matplotlib.axes._subplots.AxesSubplot object at 0x000001D5E13250C8>,\n",
       "        <matplotlib.axes._subplots.AxesSubplot object at 0x000001D5E135BA88>,\n",
       "        <matplotlib.axes._subplots.AxesSubplot object at 0x000001D5E1394508>,\n",
       "        <matplotlib.axes._subplots.AxesSubplot object at 0x000001D5E13D2E48>,\n",
       "        <matplotlib.axes._subplots.AxesSubplot object at 0x000001D5E14056C8>,\n",
       "        <matplotlib.axes._subplots.AxesSubplot object at 0x000001D5E143E7C8>]],\n",
       "      dtype=object)"
      ]
     },
     "execution_count": 119,
     "metadata": {},
     "output_type": "execute_result"
    },
    {
     "data": {
      "image/png": "[encoded data removed]",
      "text/plain": [
       "<Figure size 1296x864 with 8 Axes>"
      ]
     },
     "metadata": {},
     "output_type": "display_data"
    }
   ],
   "source": [
    "df.plot(kind='density',subplots=True,layout=(1,8),sharex=False,fontsize=1,figsize=(18,12))"
   ]
  },
  {
   "cell_type": "code",
   "execution_count": 120,
   "metadata": {},
   "outputs": [
    {
     "data": {
      "text/plain": [
       "EMI                 -0.494019\n",
       "Price               -0.498961\n",
       "Kilometers Driven    1.010348\n",
       "Owner                2.129177\n",
       "Year of Purchase    -0.802328\n",
       "Fuel Type           -0.475472\n",
       "Location             2.129358\n",
       "Brand                0.900200\n",
       "dtype: float64"
      ]
     },
     "execution_count": 120,
     "metadata": {},
     "output_type": "execute_result"
    }
   ],
   "source": [
    "df.skew()"
   ]
  },
  {
   "cell_type": "raw",
   "metadata": {},
   "source": [
    "Observations :-\n",
    "    \n",
    "1. Kilometers Driven, Owner, Location and Brand are righ skewed.\n",
    "2. Year of Purchase is left skewed."
   ]
  },
  {
   "cell_type": "code",
   "execution_count": 121,
   "metadata": {},
   "outputs": [],
   "source": [
    "df_rs=['Kilometers Driven','Owner','Location','Brand']\n",
    "for val in df_rs:\n",
    "    if df.skew().loc[val]>0.55:\n",
    "        df[val]=np.sqrt(df[val])"
   ]
  },
  {
   "cell_type": "code",
   "execution_count": 122,
   "metadata": {},
   "outputs": [
    {
     "data": {
      "text/plain": [
       "EMI                 -0.494019\n",
       "Price               -0.498961\n",
       "Kilometers Driven    0.405884\n",
       "Owner                2.129177\n",
       "Year of Purchase    -0.802328\n",
       "Fuel Type           -0.475472\n",
       "Location             1.556927\n",
       "Brand                0.698134\n",
       "dtype: float64"
      ]
     },
     "execution_count": 122,
     "metadata": {},
     "output_type": "execute_result"
    }
   ],
   "source": [
    "df.skew()"
   ]
  },
  {
   "cell_type": "code",
   "execution_count": 123,
   "metadata": {},
   "outputs": [],
   "source": [
    "df_rs=['Owner','Location','Brand']\n",
    "for val in df_rs:\n",
    "    if df.skew().loc[val]>0.55:\n",
    "        df[val]=np.sqrt(df[val])"
   ]
  },
  {
   "cell_type": "code",
   "execution_count": 124,
   "metadata": {},
   "outputs": [
    {
     "data": {
      "text/plain": [
       "EMI                 -0.494019\n",
       "Price               -0.498961\n",
       "Kilometers Driven    0.405884\n",
       "Owner                2.129177\n",
       "Year of Purchase    -0.802328\n",
       "Fuel Type           -0.475472\n",
       "Location             1.321100\n",
       "Brand                0.174003\n",
       "dtype: float64"
      ]
     },
     "execution_count": 124,
     "metadata": {},
     "output_type": "execute_result"
    }
   ],
   "source": [
    "df.skew()"
   ]
  },
  {
   "cell_type": "markdown",
   "metadata": {},
   "source": [
    "# Train Test Split"
   ]
  },
  {
   "cell_type": "code",
   "execution_count": 125,
   "metadata": {},
   "outputs": [
    {
     "data": {
      "text/plain": [
       "Index(['EMI', 'Price', 'Kilometers Driven', 'Owner', 'Year of Purchase',\n",
       "       'Fuel Type', 'Location', 'Brand'],\n",
       "      dtype='object')"
      ]
     },
     "execution_count": 125,
     "metadata": {},
     "output_type": "execute_result"
    }
   ],
   "source": [
    "df.columns"
   ]
  },
  {
   "cell_type": "code",
   "execution_count": 126,
   "metadata": {},
   "outputs": [],
   "source": [
    "x=df[['EMI','Kilometers Driven', 'Owner', 'Year of Purchase',\n",
    "       'Fuel Type', 'Location', 'Brand']]\n",
    "y=df['Price']"
   ]
  },
  {
   "cell_type": "markdown",
   "metadata": {},
   "source": [
    "# Scaling of Data"
   ]
  },
  {
   "cell_type": "code",
   "execution_count": 127,
   "metadata": {},
   "outputs": [],
   "source": [
    "#scaling the input data\n",
    "from sklearn.preprocessing import StandardScaler\n",
    "sc=StandardScaler()\n",
    "x=sc.fit_transform(x)"
   ]
  },
  {
   "cell_type": "code",
   "execution_count": 128,
   "metadata": {},
   "outputs": [],
   "source": [
    "x=pd.DataFrame(x)"
   ]
  },
  {
   "cell_type": "code",
   "execution_count": 129,
   "metadata": {},
   "outputs": [],
   "source": [
    "x.columns=['EMI','Kilometers Driven', 'Owner', 'Year of Purchase',\n",
    "       'Fuel Type', 'Location', 'Brand']"
   ]
  },
  {
   "cell_type": "markdown",
   "metadata": {},
   "source": [
    "# Algorithms"
   ]
  },
  {
   "cell_type": "code",
   "execution_count": 130,
   "metadata": {},
   "outputs": [
    {
     "name": "stdout",
     "output_type": "stream",
     "text": [
      "0.9996469593576028\n",
      "error:\n",
      "Mean absolute error: 1253.1421509429595\n",
      "Mean squared error: 13048631.240194967\n",
      "Root Mean squared error: 3612.2889198117814\n",
      "0.9997746610543948\n",
      "error:\n",
      "Mean absolute error: 1026.6942653972244\n",
      "Mean squared error: 8784719.004584093\n",
      "Root Mean squared error: 2963.902664492222\n",
      "0.9996398520553985\n",
      "error:\n",
      "Mean absolute error: 1238.5990283351996\n",
      "Mean squared error: 14099018.825077666\n",
      "Root Mean squared error: 3754.866019590801\n",
      "0.9998011466827172\n",
      "error:\n",
      "Mean absolute error: 1127.5828641008118\n",
      "Mean squared error: 7842335.423597711\n",
      "Root Mean squared error: 2800.417008875234\n",
      "0.9996130429925937\n",
      "error:\n",
      "Mean absolute error: 1262.8210639932481\n",
      "Mean squared error: 14781881.085848497\n",
      "Root Mean squared error: 3844.7211974145143\n",
      "0.9995804189714039\n",
      "error:\n",
      "Mean absolute error: 1180.3976057534126\n",
      "Mean squared error: 14244937.78398457\n",
      "Root Mean squared error: 3774.246651185448\n",
      "0.999663320216169\n",
      "error:\n",
      "Mean absolute error: 1058.5879187684168\n",
      "Mean squared error: 12073496.894353723\n",
      "Root Mean squared error: 3474.693784256927\n",
      "0.9997528148948412\n",
      "error:\n",
      "Mean absolute error: 1115.7307416942792\n",
      "Mean squared error: 8991646.58559033\n",
      "Root Mean squared error: 2998.6074410616557\n",
      "0.9997376778332467\n",
      "error:\n",
      "Mean absolute error: 1071.0149062002934\n",
      "Mean squared error: 9553270.518525565\n",
      "Root Mean squared error: 3090.8365402469226\n",
      "0.9995785747844753\n",
      "error:\n",
      "Mean absolute error: 1270.2196463556527\n",
      "Mean squared error: 15524349.661959454\n",
      "Root Mean squared error: 3940.0951336178996\n",
      "0.9998684841721377\n",
      "error:\n",
      "Mean absolute error: 938.1405224492929\n",
      "Mean squared error: 5223939.0286908\n",
      "Root Mean squared error: 2285.5938022078203\n",
      "0.9997607261070678\n",
      "error:\n",
      "Mean absolute error: 1067.384346795087\n",
      "Mean squared error: 8524082.556724502\n",
      "Root Mean squared error: 2919.6031505539418\n",
      "0.9997306181242949\n",
      "error:\n",
      "Mean absolute error: 1144.1582694611454\n",
      "Mean squared error: 10034409.774786664\n",
      "Root Mean squared error: 3167.713651008668\n",
      "0.9996467623689658\n",
      "error:\n",
      "Mean absolute error: 1178.2563487436546\n",
      "Mean squared error: 12419171.90563363\n",
      "Root Mean squared error: 3524.0845485932414\n",
      "0.9995741358908693\n",
      "error:\n",
      "Mean absolute error: 1369.9899867080128\n",
      "Mean squared error: 16496821.040271495\n",
      "Root Mean squared error: 4061.627880575902\n",
      "0.9997051979861297\n",
      "error:\n",
      "Mean absolute error: 1049.2776631315899\n",
      "Mean squared error: 10842737.032985037\n",
      "Root Mean squared error: 3292.8311576795186\n",
      "0.9995992264506323\n",
      "error:\n",
      "Mean absolute error: 1181.294942341454\n",
      "Mean squared error: 14775174.090888957\n",
      "Root Mean squared error: 3843.8488642100583\n",
      "0.9996244533604348\n",
      "error:\n",
      "Mean absolute error: 1180.2216433726287\n",
      "Mean squared error: 13084003.33068094\n",
      "Root Mean squared error: 3617.1816833939847\n",
      "0.9997182432625609\n",
      "error:\n",
      "Mean absolute error: 1186.3412720854494\n",
      "Mean squared error: 10354007.545642281\n",
      "Root Mean squared error: 3217.764370745981\n",
      "0.9996708781280341\n",
      "error:\n",
      "Mean absolute error: 1173.6818051997093\n",
      "Mean squared error: 12711497.431851126\n",
      "Root Mean squared error: 3565.3186998992287\n",
      "0.9997868869286206\n",
      "error:\n",
      "Mean absolute error: 989.200751152934\n",
      "Mean squared error: 8179238.512000991\n",
      "Root Mean squared error: 2859.9368020991287\n",
      "0.9997683344612844\n",
      "error:\n",
      "Mean absolute error: 1070.8800461965936\n",
      "Mean squared error: 9231574.224732507\n",
      "Root Mean squared error: 3038.350576337844\n",
      "0.9996155283190595\n",
      "error:\n",
      "Mean absolute error: 1112.9289299110796\n",
      "Mean squared error: 14013853.842263019\n",
      "Root Mean squared error: 3743.508226552069\n",
      "0.9996419304032064\n",
      "error:\n",
      "Mean absolute error: 1196.6280939006465\n",
      "Mean squared error: 13199930.022412311\n",
      "Root Mean squared error: 3633.1707945556745\n",
      "0.9997126053130009\n",
      "error:\n",
      "Mean absolute error: 1191.2100277311476\n",
      "Mean squared error: 10658356.070393454\n",
      "Root Mean squared error: 3264.7137807767244\n",
      "0.9997818514696531\n",
      "error:\n",
      "Mean absolute error: 1040.1848352991658\n",
      "Mean squared error: 8719849.022240039\n",
      "Root Mean squared error: 2952.9390481755695\n",
      "0.9997169062924294\n",
      "error:\n",
      "Mean absolute error: 1217.1992233629267\n",
      "Mean squared error: 11349061.376395212\n",
      "Root Mean squared error: 3368.8367987178026\n",
      "0.9997352461562697\n",
      "error:\n",
      "Mean absolute error: 1057.3302243405208\n",
      "Mean squared error: 9677587.690482995\n",
      "Root Mean squared error: 3110.8821402430203\n",
      "0.9998281395195399\n",
      "error:\n",
      "Mean absolute error: 946.7540167129389\n",
      "Mean squared error: 6481149.512052635\n",
      "Root Mean squared error: 2545.8101877501854\n",
      "0.9995533322002752\n",
      "error:\n",
      "Mean absolute error: 1244.3687633205757\n",
      "Mean squared error: 17831207.035609998\n",
      "Root Mean squared error: 4222.701390769894\n",
      "0.9996004003946188\n",
      "error:\n",
      "Mean absolute error: 1328.1633375277513\n",
      "Mean squared error: 15975807.076098379\n",
      "Root Mean squared error: 3996.974740487908\n",
      "0.9997837759905049\n",
      "error:\n",
      "Mean absolute error: 904.0624781599095\n",
      "Mean squared error: 7351248.972052462\n",
      "Root Mean squared error: 2711.318677701399\n",
      "0.9997467400362483\n",
      "error:\n",
      "Mean absolute error: 1138.9917577556487\n",
      "Mean squared error: 10102009.41418082\n",
      "Root Mean squared error: 3178.365840204809\n",
      "0.9997542343963154\n",
      "error:\n",
      "Mean absolute error: 1065.0891370651939\n",
      "Mean squared error: 9849431.795633331\n",
      "Root Mean squared error: 3138.3804415069458\n",
      "0.9997415739267186\n",
      "error:\n",
      "Mean absolute error: 1047.6328915721735\n",
      "Mean squared error: 9880024.70950612\n",
      "Root Mean squared error: 3143.250659668446\n",
      "0.9997727180312086\n",
      "error:\n",
      "Mean absolute error: 936.5214252745241\n",
      "Mean squared error: 8309526.334662648\n",
      "Root Mean squared error: 2882.6249035666515\n",
      "0.9995967659637234\n",
      "error:\n",
      "Mean absolute error: 1202.522172218649\n",
      "Mean squared error: 15037941.633380294\n",
      "Root Mean squared error: 3877.878496469467\n",
      "0.999787818954693\n",
      "error:\n",
      "Mean absolute error: 1051.6973972217095\n",
      "Mean squared error: 7844669.580721109\n",
      "Root Mean squared error: 2800.8337295743045\n",
      "0.9998146527354717\n",
      "error:\n",
      "Mean absolute error: 1038.924191635887\n",
      "Mean squared error: 6664758.308902769\n",
      "Root Mean squared error: 2581.6193191295206\n",
      "0.9996570784235443\n",
      "error:\n",
      "Mean absolute error: 1054.2485344050533\n",
      "Mean squared error: 11460332.79098916\n",
      "Root Mean squared error: 3385.3113285175355\n",
      "0.9996355102836122\n",
      "error:\n",
      "Mean absolute error: 1165.3913580941799\n",
      "Mean squared error: 13813733.343147416\n",
      "Root Mean squared error: 3716.6831104019907\n",
      "0.999758355904267\n",
      "error:\n",
      "Mean absolute error: 1046.1197640467408\n",
      "Mean squared error: 8897491.348387627\n",
      "Root Mean squared error: 2982.8662974373538\n",
      "0.9997937182676871\n",
      "error:\n",
      "Mean absolute error: 981.7318566746428\n",
      "Mean squared error: 7594191.555807874\n",
      "Root Mean squared error: 2755.756076979215\n",
      "0.9997412547649718\n",
      "error:\n",
      "Mean absolute error: 1009.5436000077739\n",
      "Mean squared error: 9398002.583574126\n",
      "Root Mean squared error: 3065.6161833429387\n",
      "0.9994922641396812\n",
      "error:\n",
      "Mean absolute error: 1225.6193273733018\n",
      "Mean squared error: 17914965.09865954\n",
      "Root Mean squared error: 4232.607364103071\n",
      "0.9996608274262063\n",
      "error:\n",
      "Mean absolute error: 1181.7619418174409\n",
      "Mean squared error: 13415892.474131245\n",
      "Root Mean squared error: 3662.7711468410425\n",
      "0.9996596350535638\n",
      "error:\n",
      "Mean absolute error: 1157.119380510596\n",
      "Mean squared error: 13736052.83266802\n",
      "Root Mean squared error: 3706.218130745682\n",
      "0.9996932995997906\n",
      "error:\n",
      "Mean absolute error: 1043.9592918915832\n",
      "Mean squared error: 10812112.486851105\n",
      "Root Mean squared error: 3288.1776848052336\n",
      "0.999663852724343\n",
      "error:\n",
      "Mean absolute error: 1164.049072382934\n",
      "Mean squared error: 12690222.238265237\n",
      "Root Mean squared error: 3562.333819038474\n",
      "0.999709192418389\n",
      "error:\n",
      "Mean absolute error: 1153.4063905404985\n",
      "Mean squared error: 10437010.988107054\n",
      "Root Mean squared error: 3230.6363131908015\n",
      "0.9997571751670091\n",
      "error:\n",
      "Mean absolute error: 1168.9444734731721\n",
      "Mean squared error: 10332917.050065687\n",
      "Root Mean squared error: 3214.4855031662046\n",
      "0.999681198215486\n",
      "error:\n",
      "Mean absolute error: 1110.0748276486931\n",
      "Mean squared error: 11536336.830649406\n",
      "Root Mean squared error: 3396.5183395131853\n",
      "0.9996540902605721\n",
      "error:\n",
      "Mean absolute error: 1114.093506867981\n",
      "Mean squared error: 13492272.778294418\n",
      "Root Mean squared error: 3673.1829219757647\n",
      "0.9996109165670416\n",
      "error:\n",
      "Mean absolute error: 1159.1306733814642\n",
      "Mean squared error: 14604530.133862006\n",
      "Root Mean squared error: 3821.5873840410877\n",
      "0.9997732022334961\n",
      "error:\n",
      "Mean absolute error: 969.8732629569772\n",
      "Mean squared error: 8665079.299859164\n",
      "Root Mean squared error: 2943.650675582815\n",
      "0.9995461793602737\n",
      "error:\n",
      "Mean absolute error: 1216.7184769064336\n",
      "Mean squared error: 15866588.270512694\n",
      "Root Mean squared error: 3983.2886250575284\n",
      "0.9997897855172911\n",
      "error:\n",
      "Mean absolute error: 902.944532782998\n",
      "Mean squared error: 7095034.443657756\n",
      "Root Mean squared error: 2663.6505858797914\n",
      "0.9996908410352915\n",
      "error:\n",
      "Mean absolute error: 1159.519303396826\n",
      "Mean squared error: 11902576.618949553\n",
      "Root Mean squared error: 3450.0111041777172\n",
      "0.999764303562853\n",
      "error:\n",
      "Mean absolute error: 1036.6610269996322\n",
      "Mean squared error: 8649292.326588947\n",
      "Root Mean squared error: 2940.967923420612\n",
      "0.999538455412794\n",
      "error:\n",
      "Mean absolute error: 1301.3411879183516\n",
      "Mean squared error: 15916375.844435222\n",
      "Root Mean squared error: 3989.533286543079\n",
      "0.999793756167942\n",
      "error:\n",
      "Mean absolute error: 952.7531745730305\n",
      "Mean squared error: 7749543.672353351\n",
      "Root Mean squared error: 2783.800221343721\n",
      "0.9997216411164522\n",
      "error:\n",
      "Mean absolute error: 1143.6483155736096\n",
      "Mean squared error: 10901528.791886391\n",
      "Root Mean squared error: 3301.7463245813406\n",
      "0.9996103854087589\n",
      "error:\n",
      "Mean absolute error: 1283.5221967903294\n",
      "Mean squared error: 14663533.229300885\n",
      "Root Mean squared error: 3829.2993130990535\n",
      "0.9997159019240905\n",
      "error:\n",
      "Mean absolute error: 1113.176949962525\n",
      "Mean squared error: 10916541.361449879\n",
      "Root Mean squared error: 3304.018971109258\n",
      "0.999730139117703\n",
      "error:\n",
      "Mean absolute error: 993.1150421910921\n",
      "Mean squared error: 10079576.73279626\n",
      "Root Mean squared error: 3174.8349142587335\n",
      "0.9996438333387347\n",
      "error:\n",
      "Mean absolute error: 1089.9484744366682\n",
      "Mean squared error: 12446152.09722295\n",
      "Root Mean squared error: 3527.910443481091\n",
      "0.9995501166512321\n",
      "error:\n",
      "Mean absolute error: 1257.254324538137\n",
      "Mean squared error: 16489959.4373758\n",
      "Root Mean squared error: 4060.783106418736\n",
      "0.999633972384257\n",
      "error:\n",
      "Mean absolute error: 1150.0426690662332\n",
      "Mean squared error: 13417980.695023533\n",
      "Root Mean squared error: 3663.0561959958427\n",
      "0.999825609522853\n",
      "error:\n",
      "Mean absolute error: 945.4839984465898\n",
      "Mean squared error: 6491074.15294926\n",
      "Root Mean squared error: 2547.758652806278\n",
      "0.9997540677097775\n",
      "error:\n",
      "Mean absolute error: 1114.135656572857\n",
      "Mean squared error: 8884287.638441127\n",
      "Root Mean squared error: 2980.6522169553978\n",
      "0.9996780763369594\n",
      "error:\n",
      "Mean absolute error: 1217.3937126668932\n",
      "Mean squared error: 12583587.703804499\n",
      "Root Mean squared error: 3547.3352962194735\n",
      "0.999645864823321\n",
      "error:\n",
      "Mean absolute error: 1105.060061800231\n",
      "Mean squared error: 13155696.262980422\n",
      "Root Mean squared error: 3627.0781991818735\n",
      "0.9997070399498392\n",
      "error:\n",
      "Mean absolute error: 1166.7247439423359\n",
      "Mean squared error: 11052089.731207345\n",
      "Root Mean squared error: 3324.4683381267664\n",
      "0.9996558099088592\n",
      "error:\n",
      "Mean absolute error: 1270.1714876307312\n",
      "Mean squared error: 12015363.922378337\n",
      "Root Mean squared error: 3466.3184969616304\n",
      "0.9996226572046637\n",
      "error:\n",
      "Mean absolute error: 1206.8998655715138\n",
      "Mean squared error: 14096422.710984968\n",
      "Root Mean squared error: 3754.5203037119095\n",
      "0.9995320470588851\n",
      "error:\n",
      "Mean absolute error: 1284.9702197447277\n",
      "Mean squared error: 17062390.945491675\n",
      "Root Mean squared error: 4130.664709885284\n",
      "0.9998535112368249\n",
      "error:\n",
      "Mean absolute error: 997.3302189738896\n",
      "Mean squared error: 5876689.982682655\n",
      "Root Mean squared error: 2424.188520450226\n",
      "0.9996482598773654\n",
      "error:\n",
      "Mean absolute error: 1256.4492364589946\n",
      "Mean squared error: 13499189.623563755\n",
      "Root Mean squared error: 3674.124334254865\n",
      "0.9996207321092568\n",
      "error:\n",
      "Mean absolute error: 1232.787686809174\n",
      "Mean squared error: 14474301.328383468\n",
      "Root Mean squared error: 3804.5106555749676\n",
      "0.9997502270933412\n",
      "error:\n",
      "Mean absolute error: 1090.716074904099\n",
      "Mean squared error: 10170785.139016455\n",
      "Root Mean squared error: 3189.1668408875153\n",
      "0.9995930979457054\n",
      "error:\n",
      "Mean absolute error: 1333.8406888911027\n",
      "Mean squared error: 14525035.033187179\n",
      "Root Mean squared error: 3811.1723961515017\n",
      "0.9997992419109724\n",
      "error:\n",
      "Mean absolute error: 898.0448001493316\n",
      "Mean squared error: 6943643.083572961\n",
      "Root Mean squared error: 2635.079331552081\n",
      "0.9998326523607257\n",
      "error:\n",
      "Mean absolute error: 992.0299642813242\n",
      "Mean squared error: 6502352.557079218\n",
      "Root Mean squared error: 2549.97108945949\n",
      "0.9996266115662729\n",
      "error:\n",
      "Mean absolute error: 1242.6645689229485\n",
      "Mean squared error: 14334432.85401332\n",
      "Root Mean squared error: 3786.084105512359\n",
      "0.9995776515011001\n",
      "error:\n",
      "Mean absolute error: 1311.6568584698778\n",
      "Mean squared error: 16058975.215338139\n",
      "Root Mean squared error: 4007.365121290814\n",
      "0.9997348259225319\n",
      "error:\n",
      "Mean absolute error: 1106.85204224657\n",
      "Mean squared error: 10044392.85104646\n",
      "Root Mean squared error: 3169.2890134928466\n",
      "0.9997184654791275\n",
      "error:\n",
      "Mean absolute error: 1171.1757331763333\n",
      "Mean squared error: 10740100.857357457\n",
      "Root Mean squared error: 3277.2093093602457\n",
      "0.9996213453136581\n",
      "error:\n",
      "Mean absolute error: 1187.604969745089\n",
      "Mean squared error: 13731887.054763213\n",
      "Root Mean squared error: 3705.656089650416\n",
      "0.9996360714971583\n",
      "error:\n",
      "Mean absolute error: 1325.6982046166129\n",
      "Mean squared error: 14889724.246429062\n",
      "Root Mean squared error: 3858.7205452622584\n",
      "0.99970205256797\n",
      "error:\n",
      "Mean absolute error: 1032.7198856355099\n",
      "Mean squared error: 10506518.930431044\n",
      "Root Mean squared error: 3241.37608592879\n",
      "0.9996841883491707\n",
      "error:\n",
      "Mean absolute error: 1128.8675847591505\n",
      "Mean squared error: 11359368.187795417\n",
      "Root Mean squared error: 3370.366180075307\n",
      "0.9997078868525455\n",
      "error:\n",
      "Mean absolute error: 1039.1926715677057\n",
      "Mean squared error: 10813338.653777378\n",
      "Root Mean squared error: 3288.3641303507397\n",
      "0.999666458488399\n",
      "error:\n",
      "Mean absolute error: 1199.9575146298182\n",
      "Mean squared error: 12983268.942159235\n",
      "Root Mean squared error: 3603.2303481958015\n",
      "0.9996444327609559\n",
      "error:\n",
      "Mean absolute error: 1102.608664464505\n",
      "Mean squared error: 12724999.09343963\n",
      "Root Mean squared error: 3567.2116692789104\n",
      "0.9996515114439837\n",
      "error:\n",
      "Mean absolute error: 1230.0437382325088\n",
      "Mean squared error: 13407936.297245111\n",
      "Root Mean squared error: 3661.68489868327\n",
      "0.999668090030366\n",
      "error:\n",
      "Mean absolute error: 1243.6614382113187\n",
      "Mean squared error: 11295441.65873636\n",
      "Root Mean squared error: 3360.8691820325826\n",
      "0.9996512970682396\n",
      "error:\n",
      "Mean absolute error: 1132.0825379927314\n",
      "Mean squared error: 13135281.871057909\n",
      "Root Mean squared error: 3624.2629417659405\n",
      "0.9997265096670888\n",
      "error:\n",
      "Mean absolute error: 1050.5985885569464\n",
      "Mean squared error: 10887104.433739783\n",
      "Root Mean squared error: 3299.561248672281\n",
      "0.9998181682732284\n",
      "error:\n",
      "Mean absolute error: 917.1423081840848\n",
      "Mean squared error: 6814639.815607912\n",
      "Root Mean squared error: 2610.4865093709855\n",
      "0.999738571227209\n",
      "error:\n",
      "Mean absolute error: 1232.1478564938625\n",
      "Mean squared error: 10466726.318237072\n",
      "Root Mean squared error: 3235.232034682686\n",
      "0.9997329080165779\n",
      "error:\n",
      "Mean absolute error: 1095.8780955127284\n",
      "Mean squared error: 10427959.909151623\n",
      "Root Mean squared error: 3229.2351895072034\n",
      "0.9995637170694016\n",
      "error:\n",
      "Mean absolute error: 1360.3213634584126\n",
      "Mean squared error: 16736553.405582467\n",
      "Root Mean squared error: 4091.0332931403123\n",
      "0.9996940948817515\n",
      "error:\n",
      "Mean absolute error: 1128.5557498225585\n",
      "Mean squared error: 12307380.85096096\n",
      "Root Mean squared error: 3508.1876875334024\n",
      "0.9996944096664545\n",
      "error:\n",
      "Mean absolute error: 1093.7005103344281\n",
      "Mean squared error: 10433054.815871302\n",
      "Root Mean squared error: 3230.0239652162495\n",
      "0.999628913712246\n",
      "error:\n",
      "Mean absolute error: 1234.6311791353796\n",
      "Mean squared error: 13880615.969120909\n",
      "Root Mean squared error: 3725.6698685096762\n",
      "0.9997715384511623\n",
      "error:\n",
      "Mean absolute error: 1017.6414009504786\n",
      "Mean squared error: 8341873.192734866\n",
      "Root Mean squared error: 2888.230114228239\n",
      "0.9996695945609252\n",
      "error:\n",
      "Mean absolute error: 1295.4420260358697\n",
      "Mean squared error: 12949412.080882335\n",
      "Root Mean squared error: 3598.529155208046\n",
      "0.9997193382130989\n",
      "error:\n",
      "Mean absolute error: 1157.2673429086142\n",
      "Mean squared error: 11228341.853660446\n",
      "Root Mean squared error: 3350.8718050173816\n",
      "0.999714087345835\n",
      "error:\n",
      "Mean absolute error: 1097.9734861218158\n",
      "Mean squared error: 9867704.042582162\n",
      "Root Mean squared error: 3141.290187579327\n",
      "0.9996988345250566\n",
      "error:\n",
      "Mean absolute error: 1078.6075834734975\n",
      "Mean squared error: 11380226.986423654\n",
      "Root Mean squared error: 3373.4592018318012\n",
      "0.9996618030950711\n",
      "error:\n",
      "Mean absolute error: 1287.6870602185716\n",
      "Mean squared error: 12806512.944758652\n",
      "Root Mean squared error: 3578.6188599456427\n",
      "0.9997605281120105\n",
      "error:\n",
      "Mean absolute error: 1063.582969095079\n",
      "Mean squared error: 9225881.9350926\n",
      "Root Mean squared error: 3037.413691793168\n",
      "0.9997235323345411\n",
      "error:\n",
      "Mean absolute error: 1075.3406426237132\n",
      "Mean squared error: 9795879.618174145\n",
      "Root Mean squared error: 3129.8369954638442\n",
      "0.9996610639899774\n",
      "error:\n",
      "Mean absolute error: 1265.126319168731\n",
      "Mean squared error: 14024884.355684634\n",
      "Root Mean squared error: 3744.9812223407253\n",
      "0.9995861538532176\n",
      "error:\n",
      "Mean absolute error: 1225.3629576740277\n",
      "Mean squared error: 15074939.55353925\n",
      "Root Mean squared error: 3882.645947487261\n",
      "0.9998362840290526\n",
      "error:\n",
      "Mean absolute error: 950.748830008068\n",
      "Mean squared error: 6244086.791410232\n",
      "Root Mean squared error: 2498.817078421354\n",
      "0.9997900927568784\n",
      "error:\n",
      "Mean absolute error: 974.5811927809074\n",
      "Mean squared error: 7882422.8571673045\n",
      "Root Mean squared error: 2807.5652899206643\n",
      "0.9996147878590318\n",
      "error:\n",
      "Mean absolute error: 1179.3660909874031\n",
      "Mean squared error: 14171092.460701495\n",
      "Root Mean squared error: 3764.451149995374\n",
      "0.9996548714495893\n",
      "error:\n",
      "Mean absolute error: 1007.8251903080975\n",
      "Mean squared error: 11914620.436886987\n",
      "Root Mean squared error: 3451.7561380965176\n",
      "0.9996894999908484\n",
      "error:\n",
      "Mean absolute error: 1071.2393380399978\n",
      "Mean squared error: 10691321.450355822\n",
      "Root Mean squared error: 3269.758622644158\n",
      "0.9997759105605003\n",
      "error:\n",
      "Mean absolute error: 1034.7460805087937\n",
      "Mean squared error: 9598443.616279894\n",
      "Root Mean squared error: 3098.135506442527\n",
      "0.9995923981622087\n",
      "error:\n",
      "Mean absolute error: 1281.9780737985434\n",
      "Mean squared error: 15639982.468412077\n",
      "Root Mean squared error: 3954.7417701301406\n",
      "0.9997097274897929\n",
      "error:\n",
      "Mean absolute error: 993.2717547117229\n",
      "Mean squared error: 10041978.007939909\n",
      "Root Mean squared error: 3168.908015064481\n",
      "0.9997188146930471\n",
      "error:\n",
      "Mean absolute error: 1101.369521039141\n",
      "Mean squared error: 10515358.797275618\n",
      "Root Mean squared error: 3242.739397064713\n",
      "0.9997896519224253\n",
      "error:\n",
      "Mean absolute error: 943.1629183283837\n",
      "Mean squared error: 7565451.348848228\n",
      "Root Mean squared error: 2750.536556537329\n",
      "0.9997556824864566\n",
      "error:\n",
      "Mean absolute error: 1042.6242459615644\n",
      "Mean squared error: 9145919.433857495\n",
      "Root Mean squared error: 3024.222120456349\n",
      "0.9997200103273555\n",
      "error:\n",
      "Mean absolute error: 1115.7479680007643\n",
      "Mean squared error: 10365362.875909977\n",
      "Root Mean squared error: 3219.528362339735\n",
      "0.9997600081522283\n",
      "error:\n",
      "Mean absolute error: 1018.6479354607219\n",
      "Mean squared error: 8769077.978284042\n",
      "Root Mean squared error: 2961.2629025947767\n",
      "0.9996773480901359\n",
      "error:\n",
      "Mean absolute error: 1077.4025717631635\n",
      "Mean squared error: 11456515.19833353\n",
      "Root Mean squared error: 3384.747434940092\n",
      "0.9994949237167982\n",
      "error:\n",
      "Mean absolute error: 1421.2336440777465\n",
      "Mean squared error: 18488441.553744365\n",
      "Root Mean squared error: 4299.81878150049\n",
      "0.9996129346546381\n",
      "error:\n",
      "Mean absolute error: 1218.4985926884303\n",
      "Mean squared error: 14819425.769365724\n",
      "Root Mean squared error: 3849.600728564681\n",
      "0.9996648464306506\n",
      "error:\n",
      "Mean absolute error: 1053.9121941755388\n",
      "Mean squared error: 12209494.910722507\n",
      "Root Mean squared error: 3494.208767478341\n",
      "0.9997108835222275\n",
      "error:\n",
      "Mean absolute error: 1049.890081084904\n",
      "Mean squared error: 11400678.173409225\n",
      "Root Mean squared error: 3376.489030547741\n",
      "0.9996633434832717\n",
      "error:\n",
      "Mean absolute error: 1221.7079139109867\n",
      "Mean squared error: 12926345.65240409\n",
      "Root Mean squared error: 3595.3227466256894\n",
      "0.9996683831938777\n",
      "error:\n",
      "Mean absolute error: 1160.2032393280983\n",
      "Mean squared error: 12404939.262640297\n",
      "Root Mean squared error: 3522.064630673364\n",
      "0.9997573761072869\n",
      "error:\n",
      "Mean absolute error: 1143.8271320142014\n",
      "Mean squared error: 8656803.112583065\n",
      "Root Mean squared error: 2942.2445704908805\n",
      "0.9996490765501675\n",
      "error:\n",
      "Mean absolute error: 1080.7559609261884\n",
      "Mean squared error: 13182407.891178817\n",
      "Root Mean squared error: 3630.758583433883\n",
      "0.9995718503674134\n",
      "error:\n",
      "Mean absolute error: 1269.382240125039\n",
      "Mean squared error: 15889410.344369095\n",
      "Root Mean squared error: 3986.1523232773097\n",
      "0.9996432051792224\n",
      "error:\n",
      "Mean absolute error: 1184.867920997104\n",
      "Mean squared error: 13740189.900491925\n",
      "Root Mean squared error: 3706.776213975147\n",
      "0.9996163116092173\n",
      "error:\n",
      "Mean absolute error: 1138.2435644684904\n",
      "Mean squared error: 14125302.10467221\n",
      "Root Mean squared error: 3758.3642857860664\n",
      "0.9996629049498316\n",
      "error:\n",
      "Mean absolute error: 1247.9496183410336\n",
      "Mean squared error: 12944754.965794759\n",
      "Root Mean squared error: 3597.882011099691\n",
      "0.9997673058378109\n",
      "error:\n",
      "Mean absolute error: 1026.6151554895018\n",
      "Mean squared error: 8428493.41936719\n",
      "Root Mean squared error: 2903.1867696321556\n",
      "0.999650389260993\n",
      "error:\n",
      "Mean absolute error: 1190.3774334130412\n",
      "Mean squared error: 12633875.348821133\n",
      "Root Mean squared error: 3554.416316193298\n",
      "0.9997260945809948\n",
      "error:\n",
      "Mean absolute error: 1068.0838230636168\n",
      "Mean squared error: 9720452.430183617\n",
      "Root Mean squared error: 3117.764011304194\n",
      "0.999828957292306\n",
      "error:\n",
      "Mean absolute error: 894.6631809911963\n",
      "Mean squared error: 6462038.241439619\n",
      "Root Mean squared error: 2542.053941488972\n",
      "0.9997821623828046\n",
      "error:\n",
      "Mean absolute error: 1099.2640844474618\n",
      "Mean squared error: 8887897.090926839\n",
      "Root Mean squared error: 2981.257635785079\n",
      "0.9998511532283011\n",
      "error:\n",
      "Mean absolute error: 915.2067552614205\n",
      "Mean squared error: 5421684.45948444\n",
      "Root Mean squared error: 2328.4510859119287\n",
      "0.9997466675621132\n",
      "error:\n",
      "Mean absolute error: 1106.2987546021461\n",
      "Mean squared error: 8789377.228652366\n",
      "Root Mean squared error: 2964.68838643328\n",
      "0.9997767335028714\n",
      "error:\n",
      "Mean absolute error: 998.9429400746884\n",
      "Mean squared error: 7800821.91599693\n",
      "Root Mean squared error: 2792.9951514452955\n",
      "0.9996685527569549\n",
      "error:\n",
      "Mean absolute error: 1195.34214515089\n",
      "Mean squared error: 12163203.310238842\n",
      "Root Mean squared error: 3487.578430693544\n",
      "0.9997031501674797\n",
      "error:\n",
      "Mean absolute error: 1064.568940125927\n",
      "Mean squared error: 10686593.522471761\n",
      "Root Mean squared error: 3269.0355645773816\n",
      "0.9995959543414054\n",
      "error:\n",
      "Mean absolute error: 1321.7903085385578\n",
      "Mean squared error: 15239816.279079933\n",
      "Root Mean squared error: 3903.820728348054\n",
      "0.999737887621471\n",
      "error:\n",
      "Mean absolute error: 1191.0320460690837\n",
      "Mean squared error: 10357421.985249214\n",
      "Root Mean squared error: 3218.294887863636\n",
      "0.9996811228352418\n",
      "error:\n",
      "Mean absolute error: 1033.8286067470299\n",
      "Mean squared error: 12116808.219133025\n",
      "Root Mean squared error: 3480.9205993721007\n",
      "0.9996760958698799\n",
      "error:\n",
      "Mean absolute error: 1225.1485843416692\n",
      "Mean squared error: 13174616.100754194\n",
      "Root Mean squared error: 3629.685399694331\n",
      "0.9996987919290734\n",
      "error:\n",
      "Mean absolute error: 1147.3998272848382\n",
      "Mean squared error: 10345789.609612243\n",
      "Root Mean squared error: 3216.487153652606\n",
      "0.9996011098326197\n",
      "error:\n",
      "Mean absolute error: 1290.8039769018212\n",
      "Mean squared error: 15374476.83333251\n",
      "Root Mean squared error: 3921.0300729951705\n",
      "0.9997403755893924\n",
      "error:\n",
      "Mean absolute error: 960.3207383882067\n",
      "Mean squared error: 8755013.235256117\n",
      "Root Mean squared error: 2958.88716162954\n",
      "0.9997196546859427\n",
      "error:\n",
      "Mean absolute error: 1149.5069782966805\n",
      "Mean squared error: 11202693.629198361\n",
      "Root Mean squared error: 3347.0425197774766\n",
      "0.9997650838720831\n",
      "error:\n",
      "Mean absolute error: 986.6422643044643\n",
      "Mean squared error: 8192895.709586874\n",
      "Root Mean squared error: 2862.3234809481046\n",
      "0.9995477508737638\n",
      "error:\n",
      "Mean absolute error: 1311.878900346236\n",
      "Mean squared error: 16827416.2873843\n",
      "Root Mean squared error: 4102.123387635274\n",
      "0.9997252743791398\n",
      "error:\n",
      "Mean absolute error: 1033.213307904633\n",
      "Mean squared error: 9851663.219966331\n",
      "Root Mean squared error: 3138.735927083757\n",
      "0.9997290646498355\n",
      "error:\n",
      "Mean absolute error: 1124.533189509005\n",
      "Mean squared error: 10649294.986942802\n",
      "Root Mean squared error: 3263.325755566367\n",
      "0.9996602999338292\n",
      "error:\n",
      "Mean absolute error: 1125.3738166805513\n",
      "Mean squared error: 11901005.828175774\n",
      "Root Mean squared error: 3449.783446562374\n",
      "0.9996295984742928\n",
      "error:\n",
      "Mean absolute error: 1207.9860584831133\n",
      "Mean squared error: 13847406.144053562\n",
      "Root Mean squared error: 3721.210306345714\n",
      "0.9998191508540788\n",
      "error:\n",
      "Mean absolute error: 907.5236489623004\n",
      "Mean squared error: 6315905.035693945\n",
      "Root Mean squared error: 2513.1464413547305\n",
      "0.9996519023186115\n",
      "error:\n",
      "Mean absolute error: 1140.2083332034626\n",
      "Mean squared error: 12228716.767210286\n",
      "Root Mean squared error: 3496.9582163946834\n",
      "0.9996438819378868\n",
      "error:\n",
      "Mean absolute error: 1070.2015056489668\n",
      "Mean squared error: 13416084.168881698\n",
      "Root Mean squared error: 3662.797314742067\n",
      "0.9997416614026251\n",
      "error:\n",
      "Mean absolute error: 1174.5909970481862\n",
      "Mean squared error: 9910321.44582656\n",
      "Root Mean squared error: 3148.0663026414422\n",
      "0.9996868992474008\n",
      "error:\n",
      "Mean absolute error: 1203.5658936436864\n",
      "Mean squared error: 12996335.25928725\n",
      "Root Mean squared error: 3605.043031544457\n",
      "0.9996455878615098\n",
      "error:\n",
      "Mean absolute error: 1171.9127364959056\n",
      "Mean squared error: 13583510.37954937\n",
      "Root Mean squared error: 3685.581416757656\n",
      "0.9998093648628389\n",
      "error:\n",
      "Mean absolute error: 909.5548320254918\n",
      "Mean squared error: 7175544.305160353\n",
      "Root Mean squared error: 2678.720647092629\n",
      "0.9996551067766581\n",
      "error:\n",
      "Mean absolute error: 1023.9593791626555\n",
      "Mean squared error: 11357166.833745403\n",
      "Root Mean squared error: 3370.03958934393\n",
      "0.9997111754701334\n",
      "error:\n",
      "Mean absolute error: 1085.6298368084852\n",
      "Mean squared error: 10390434.217286875\n",
      "Root Mean squared error: 3223.4196464759093\n",
      "0.9996689460806949\n",
      "error:\n",
      "Mean absolute error: 1157.6151932585583\n",
      "Mean squared error: 12802691.050490972\n",
      "Root Mean squared error: 3578.084829974126\n",
      "0.9995702930501584\n",
      "error:\n",
      "Mean absolute error: 1274.9823551496359\n",
      "Mean squared error: 15227465.177768035\n",
      "Root Mean squared error: 3902.2384829438647\n",
      "0.999707153025569\n",
      "error:\n",
      "Mean absolute error: 1040.6145528463874\n",
      "Mean squared error: 10538900.42422778\n",
      "Root Mean squared error: 3246.3672657645775\n",
      "0.9996029446565334\n",
      "error:\n",
      "Mean absolute error: 1260.3420597131792\n",
      "Mean squared error: 15107643.980567861\n",
      "Root Mean squared error: 3886.8552816599517\n",
      "0.9996428479336309\n",
      "error:\n",
      "Mean absolute error: 1226.6440887455403\n",
      "Mean squared error: 13247433.956571937\n",
      "Root Mean squared error: 3639.7024544009\n",
      "0.9996127412063257\n",
      "error:\n",
      "Mean absolute error: 1206.3771101817267\n",
      "Mean squared error: 14785387.983345106\n",
      "Root Mean squared error: 3845.17723692226\n",
      "0.999598570271954\n",
      "error:\n",
      "Mean absolute error: 1207.854903138447\n",
      "Mean squared error: 14172721.92206509\n",
      "Root Mean squared error: 3764.6675712558063\n",
      "0.9995112430580202\n",
      "error:\n",
      "Mean absolute error: 1208.4829776223735\n",
      "Mean squared error: 17231156.278344546\n",
      "Root Mean squared error: 4151.042794087354\n",
      "0.9997020851102492\n",
      "error:\n",
      "Mean absolute error: 1161.5571448948324\n",
      "Mean squared error: 11027330.565333208\n",
      "Root Mean squared error: 3320.742471998274\n",
      "0.9998281408017674\n",
      "error:\n",
      "Mean absolute error: 971.7742110508028\n",
      "Mean squared error: 6764012.723036768\n",
      "Root Mean squared error: 2600.7715630244743\n",
      "0.9997396896378482\n",
      "error:\n",
      "Mean absolute error: 1067.2664054697536\n",
      "Mean squared error: 9523783.305321194\n",
      "Root Mean squared error: 3086.0627513583054\n",
      "0.9997543255925447\n",
      "error:\n",
      "Mean absolute error: 1174.8727623681661\n",
      "Mean squared error: 10050547.887381561\n",
      "Root Mean squared error: 3170.2599084904004\n",
      "0.9997438130635935\n",
      "error:\n",
      "Mean absolute error: 1086.3742225403332\n",
      "Mean squared error: 9525928.269768719\n",
      "Root Mean squared error: 3086.4102562311314\n",
      "0.999798095546135\n",
      "error:\n",
      "Mean absolute error: 973.5163027407978\n",
      "Mean squared error: 8454820.80886808\n",
      "Root Mean squared error: 2907.7174568496303\n",
      "0.9997178597652272\n",
      "error:\n",
      "Mean absolute error: 1175.5241167384775\n",
      "Mean squared error: 10886665.296728872\n",
      "Root Mean squared error: 3299.494703243039\n",
      "0.9996587398467778\n",
      "error:\n",
      "Mean absolute error: 1167.9117450094254\n",
      "Mean squared error: 12399999.21634024\n",
      "Root Mean squared error: 3521.3632610595914\n",
      "0.9997019840702861\n",
      "error:\n",
      "Mean absolute error: 1133.8784489346758\n",
      "Mean squared error: 12234613.61979036\n",
      "Root Mean squared error: 3497.801255044426\n",
      "0.9996991858058364\n",
      "error:\n",
      "Mean absolute error: 1106.8053880596494\n",
      "Mean squared error: 11151905.353834389\n",
      "Root Mean squared error: 3339.446863454244\n",
      "0.9996733944986279\n",
      "error:\n",
      "Mean absolute error: 1080.6636918303248\n",
      "Mean squared error: 11692648.173283463\n",
      "Root Mean squared error: 3419.4514433288073\n",
      "0.9996892786261573\n",
      "error:\n",
      "Mean absolute error: 1191.8335359743878\n",
      "Mean squared error: 12251927.558544459\n",
      "Root Mean squared error: 3500.2753546748945\n",
      "0.999633323151078\n",
      "error:\n",
      "Mean absolute error: 1208.9091323626265\n",
      "Mean squared error: 14748680.619482048\n",
      "Root Mean squared error: 3840.4011013801733\n",
      "0.999769117312414\n",
      "error:\n",
      "Mean absolute error: 1155.191338489081\n",
      "Mean squared error: 9123779.754506852\n",
      "Root Mean squared error: 3020.559510174705\n",
      "0.9996807492193928\n",
      "error:\n",
      "Mean absolute error: 1063.2340718294242\n",
      "Mean squared error: 12377643.211686043\n",
      "Root Mean squared error: 3518.1874895585147\n",
      "0.9996997976220655\n",
      "error:\n",
      "Mean absolute error: 1115.396921062766\n",
      "Mean squared error: 11015910.94955166\n",
      "Root Mean squared error: 3319.0225894910177\n",
      "0.999643277523807\n",
      "error:\n",
      "Mean absolute error: 1202.2618822272864\n",
      "Mean squared error: 12794035.545903744\n",
      "Root Mean squared error: 3576.875109072687\n",
      "Best accuracy is 0.9998684841721377 on Random_state 11\n"
     ]
    }
   ],
   "source": [
    "from sklearn.model_selection import train_test_split\n",
    "maxAccu=0\n",
    "maxRS=0\n",
    "for i in range(1,200):\n",
    "    x_train,x_test,y_train,y_test=train_test_split(x,y,test_size=0.22,random_state=i)\n",
    "    lm=LinearRegression()\n",
    "    lm.fit(x_train,y_train)\n",
    "    pred=lm.predict(x_test)\n",
    "    r2score=r2_score(y_test,pred)\n",
    "    print(r2_score(y_test,pred))\n",
    "    print('error:')\n",
    "    print('Mean absolute error:',mean_absolute_error(y_test,pred))\n",
    "    print('Mean squared error:',mean_squared_error(y_test,pred))\n",
    "    print('Root Mean squared error:',np.sqrt(mean_squared_error(y_test,pred)))\n",
    "    if r2score>maxAccu:\n",
    "        maxAccu=r2score\n",
    "        maxRS=i\n",
    "        \n",
    "print(\"Best accuracy is\",maxAccu,\"on Random_state\",maxRS)"
   ]
  },
  {
   "cell_type": "code",
   "execution_count": 131,
   "metadata": {},
   "outputs": [],
   "source": [
    "#splitting the data into training and testing\n",
    "x_train,x_test,y_train,y_test=train_test_split(x,y,test_size=0.22,random_state=11)"
   ]
  },
  {
   "cell_type": "code",
   "execution_count": 132,
   "metadata": {},
   "outputs": [
    {
     "name": "stdout",
     "output_type": "stream",
     "text": [
      "(1891, 7) (534, 7)\n"
     ]
    }
   ],
   "source": [
    "#checking the shape of training and testing data\n",
    "print(x_train.shape,x_test.shape)"
   ]
  },
  {
   "cell_type": "code",
   "execution_count": 133,
   "metadata": {},
   "outputs": [
    {
     "name": "stdout",
     "output_type": "stream",
     "text": [
      "(1891,) (534,)\n"
     ]
    }
   ],
   "source": [
    "print(y_train.shape,y_test.shape)"
   ]
  },
  {
   "cell_type": "code",
   "execution_count": 134,
   "metadata": {},
   "outputs": [],
   "source": [
    "from sklearn.linear_model import Lasso,Ridge,ElasticNet\n",
    "from sklearn.ensemble import RandomForestRegressor\n",
    "from sklearn.ensemble import AdaBoostRegressor\n"
   ]
  },
  {
   "cell_type": "code",
   "execution_count": 135,
   "metadata": {},
   "outputs": [
    {
     "name": "stdout",
     "output_type": "stream",
     "text": [
      "score of LinearRegression() is: 0.9996474512305902\n",
      "Mean absolute error: 938.1405224492929\n",
      "Mean squared error: 5223939.0286908\n",
      "Root Mean squared error: 2285.5938022078203\n",
      "r2_score: 0.9998684841721377\n",
      "**********************************\n",
      "\n",
      "\n",
      "score of Lasso() is: 0.9996474509430812\n",
      "Mean absolute error: 938.3311622977559\n",
      "Mean squared error: 5225181.8003501985\n",
      "Root Mean squared error: 2285.8656566714935\n",
      "r2_score: 0.9998684528846087\n",
      "**********************************\n",
      "\n",
      "\n",
      "score of Ridge() is: 0.999647018760119\n",
      "Mean absolute error: 988.3007251449081\n",
      "Mean squared error: 5357283.331562456\n",
      "Root Mean squared error: 2314.5805951753887\n",
      "r2_score: 0.9998651271485801\n",
      "**********************************\n",
      "\n",
      "\n",
      "score of ElasticNet() is: 0.8898039215810964\n",
      "Mean absolute error: 50919.51219759205\n",
      "Mean squared error: 4425749574.889732\n",
      "Root Mean squared error: 66526.3073895563\n",
      "r2_score: 0.888579074898045\n",
      "**********************************\n",
      "\n",
      "\n",
      "score of SVR() is: -0.38621729485742606\n",
      "Mean absolute error: 137696.69377704128\n",
      "Mean squared error: 52316165220.66113\n",
      "Root Mean squared error: 228727.27257732325\n",
      "r2_score: -0.3170911340635487\n",
      "**********************************\n",
      "\n",
      "\n",
      "score of DecisionTreeRegressor() is: 1.0\n",
      "Mean absolute error: 1238.0168539325844\n",
      "Mean squared error: 13912936.754681649\n",
      "Root Mean squared error: 3730.0049268977714\n",
      "r2_score: 0.9996497333936636\n",
      "**********************************\n",
      "\n",
      "\n",
      "score of KNeighborsRegressor() is: 0.9742776439704852\n",
      "Mean absolute error: 16583.583146067416\n",
      "Mean squared error: 1543516953.9985769\n",
      "Root Mean squared error: 39287.61832942507\n",
      "r2_score: 0.9611410261663171\n",
      "**********************************\n",
      "\n",
      "\n",
      "score of RandomForestRegressor() is: 0.9999531832717073\n",
      "Mean absolute error: 1161.6185955056185\n",
      "Mean squared error: 14439655.838344378\n",
      "Root Mean squared error: 3799.9547153017993\n",
      "r2_score: 0.9996364729218322\n",
      "**********************************\n",
      "\n",
      "\n",
      "score of AdaBoostRegressor() is: 0.9960832181526895\n",
      "Mean absolute error: 8070.509495049599\n",
      "Mean squared error: 189023441.42608553\n",
      "Root Mean squared error: 13748.579614857876\n",
      "r2_score: 0.9952412204185379\n",
      "**********************************\n",
      "\n",
      "\n"
     ]
    }
   ],
   "source": [
    "# All algorithms using loop\n",
    "model=[LinearRegression(), Lasso(),Ridge(), ElasticNet(), SVR(), DecisionTreeRegressor(), KNeighborsRegressor()\n",
    "       ,RandomForestRegressor(),AdaBoostRegressor()]\n",
    "for m in model:\n",
    "    m.fit(x_train,y_train)\n",
    "    score=m.score(x_train,y_train)\n",
    "    pred=m.predict(x_test)\n",
    "    print('score of',m,'is:',score)\n",
    "    print('Mean absolute error:',mean_absolute_error(y_test,pred))\n",
    "    mean_squared_error_lm=mean_squared_error(y_test,pred)\n",
    "    print('Mean squared error:',mean_squared_error_lm)\n",
    "    print('Root Mean squared error:',np.sqrt(mean_squared_error(y_test,pred)))\n",
    "    r2score=r2_score(y_test,pred)\n",
    "    print('r2_score:',r2_score(y_test,pred))\n",
    "    print('**********************************')\n",
    "    print('\\n')\n",
    "    "
   ]
  },
  {
   "cell_type": "markdown",
   "metadata": {},
   "source": [
    "Decision Tree Regressor is the best algoritm with 100% accuracy."
   ]
  },
  {
   "cell_type": "markdown",
   "metadata": {},
   "source": [
    "# Cross Validation Score"
   ]
  },
  {
   "cell_type": "code",
   "execution_count": 136,
   "metadata": {},
   "outputs": [
    {
     "name": "stdout",
     "output_type": "stream",
     "text": [
      "[0.9986206  0.99880938 0.99999934 0.99996769 0.99813251]\n",
      "0.9991059037832872 0.0007499134725229028\n"
     ]
    }
   ],
   "source": [
    "from sklearn.model_selection import cross_val_score\n",
    "lrscores=cross_val_score(DecisionTreeRegressor(),x,y,cv=5)\n",
    "print(lrscores)\n",
    "print(lrscores.mean(),lrscores.std())"
   ]
  },
  {
   "cell_type": "markdown",
   "metadata": {},
   "source": [
    "As the difference between accuracy scores and cross validation scores of Decision Tree Regressor is only 9%. \n",
    "So, It is verified that Decision Tree Regressor is the best algorithm for this model with accuracy of 100 %."
   ]
  },
  {
   "cell_type": "markdown",
   "metadata": {},
   "source": [
    "No need to apply hyper parameter tuning as the model has already perfect accuracy."
   ]
  },
  {
   "cell_type": "markdown",
   "metadata": {},
   "source": [
    "# Saving the model"
   ]
  },
  {
   "cell_type": "code",
   "execution_count": 138,
   "metadata": {},
   "outputs": [
    {
     "data": {
      "text/plain": [
       "['dtr_car_pricing.obj']"
      ]
     },
     "execution_count": 138,
     "metadata": {},
     "output_type": "execute_result"
    }
   ],
   "source": [
    "import joblib\n",
    "joblib.dump(DecisionTreeRegressor(),\"dtr_car_pricing.obj\")"
   ]
  },
  {
   "cell_type": "code",
   "execution_count": null,
   "metadata": {},
   "outputs": [],
   "source": []
  }
 ],
 "metadata": {
  "kernelspec": {
   "display_name": "Python 3",
   "language": "python",
   "name": "python3"
  },
  "language_info": {
   "codemirror_mode": {
    "name": "ipython",
    "version": 3
   },
   "file_extension": ".py",
   "mimetype": "text/x-python",
   "name": "python",
   "nbconvert_exporter": "python",
   "pygments_lexer": "ipython3",
   "version": "3.7.6"
  }
 },
 "nbformat": 4,
 "nbformat_minor": 4
}
