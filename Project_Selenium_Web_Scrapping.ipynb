{
 "cells": [
  {
   "cell_type": "raw",
   "metadata": {},
   "source": [
    "Q1: Write a python program to scrape data for “Data Analyst” Job position in “Bangalore” location. You have to scrape the job-\n",
    "    title, job-location, company_name, experience_required. You have to scrape first 10 jobs data.\n",
    "This task will be done in following steps:\n",
    "1. first get the webpage https://www.naukri.com/\n",
    "2. Enter “Data Analyst” in “Skill,Designations,Companies” field and enter “Bangalore” in “enter the location” field.\n",
    "3. Then click the search button.\n",
    "4. Then scrape the data for the first 10 jobs results you get.\n",
    "5. Finally create a dataframe of the scraped data.\n",
    "Note- All of the above steps have to be done in code. No step is to be done manually."
   ]
  },
  {
   "cell_type": "code",
   "execution_count": 1,
   "metadata": {},
   "outputs": [],
   "source": [
    "import selenium\n",
    "import pandas as pd\n",
    "from selenium import webdriver\n",
    "import warnings\n",
    "warnings.filterwarnings('ignore')"
   ]
  },
  {
   "cell_type": "code",
   "execution_count": 2,
   "metadata": {},
   "outputs": [],
   "source": [
    "driver=webdriver.Chrome(r\"C:\\Users\\ChesthaS\\Downloads\\chromedriver_win32 (1)\\chromedriver.exe\")"
   ]
  },
  {
   "cell_type": "code",
   "execution_count": 3,
   "metadata": {},
   "outputs": [],
   "source": [
    "url='https://www.naukri.com/'\n",
    "driver.get(url)"
   ]
  },
  {
   "cell_type": "code",
   "execution_count": 4,
   "metadata": {},
   "outputs": [
    {
     "data": {
      "text/plain": [
       "<selenium.webdriver.remote.webelement.WebElement (session=\"7e6f87d28d6407f09db2cd2cca3353f6\", element=\"02456d17-0648-420d-ad29-345ecc68e2b5\")>"
      ]
     },
     "execution_count": 4,
     "metadata": {},
     "output_type": "execute_result"
    }
   ],
   "source": [
    "search_job=driver.find_element_by_id(\"qsb-keyword-sugg\")\n",
    "search_job"
   ]
  },
  {
   "cell_type": "code",
   "execution_count": 5,
   "metadata": {},
   "outputs": [],
   "source": [
    "search_job.send_keys(\"Data Analyst\")"
   ]
  },
  {
   "cell_type": "code",
   "execution_count": 6,
   "metadata": {},
   "outputs": [
    {
     "data": {
      "text/plain": [
       "<selenium.webdriver.remote.webelement.WebElement (session=\"7e6f87d28d6407f09db2cd2cca3353f6\", element=\"7a451b74-0ba5-47f7-a55f-9d18dd845abb\")>"
      ]
     },
     "execution_count": 6,
     "metadata": {},
     "output_type": "execute_result"
    }
   ],
   "source": [
    "search_loc=driver.find_element_by_id(\"qsb-location-sugg\")\n",
    "search_loc"
   ]
  },
  {
   "cell_type": "code",
   "execution_count": 7,
   "metadata": {},
   "outputs": [],
   "source": [
    "search_loc.send_keys(\"Banglore\")"
   ]
  },
  {
   "cell_type": "code",
   "execution_count": 8,
   "metadata": {},
   "outputs": [
    {
     "data": {
      "text/plain": [
       "<selenium.webdriver.remote.webelement.WebElement (session=\"7e6f87d28d6407f09db2cd2cca3353f6\", element=\"8607ec53-494b-4ad0-9c88-fa7f638aca8c\")>"
      ]
     },
     "execution_count": 8,
     "metadata": {},
     "output_type": "execute_result"
    }
   ],
   "source": [
    "search_btn=driver.find_element_by_xpath(\"//button[@class='btn']\")\n",
    "search_btn"
   ]
  },
  {
   "cell_type": "code",
   "execution_count": 9,
   "metadata": {},
   "outputs": [],
   "source": [
    "search_btn=driver.find_element_by_class_name(\"btn\")\n",
    "search_btn.click()"
   ]
  },
  {
   "cell_type": "code",
   "execution_count": 11,
   "metadata": {},
   "outputs": [
    {
     "data": {
      "text/plain": [
       "[<selenium.webdriver.remote.webelement.WebElement (session=\"7e6f87d28d6407f09db2cd2cca3353f6\", element=\"b5894044-35f3-4ab2-87ec-bcd91d64842d\")>,\n",
       " <selenium.webdriver.remote.webelement.WebElement (session=\"7e6f87d28d6407f09db2cd2cca3353f6\", element=\"1fbcdb41-3fb6-44f7-bbe1-477f33651d60\")>,\n",
       " <selenium.webdriver.remote.webelement.WebElement (session=\"7e6f87d28d6407f09db2cd2cca3353f6\", element=\"e38d05a1-803c-4fc9-96da-75ab85289b6e\")>,\n",
       " <selenium.webdriver.remote.webelement.WebElement (session=\"7e6f87d28d6407f09db2cd2cca3353f6\", element=\"23585318-c68e-4ac8-8c56-1d91f8bab3aa\")>,\n",
       " <selenium.webdriver.remote.webelement.WebElement (session=\"7e6f87d28d6407f09db2cd2cca3353f6\", element=\"d1681092-6926-4ff6-9b24-d307ff825919\")>,\n",
       " <selenium.webdriver.remote.webelement.WebElement (session=\"7e6f87d28d6407f09db2cd2cca3353f6\", element=\"0fd08fbf-c978-40dd-b29f-43d63a22d667\")>,\n",
       " <selenium.webdriver.remote.webelement.WebElement (session=\"7e6f87d28d6407f09db2cd2cca3353f6\", element=\"01dd7ab3-049e-4e1f-b15f-87a0633867ee\")>,\n",
       " <selenium.webdriver.remote.webelement.WebElement (session=\"7e6f87d28d6407f09db2cd2cca3353f6\", element=\"5e9d7be5-5941-40af-97ab-1ce962fc7763\")>,\n",
       " <selenium.webdriver.remote.webelement.WebElement (session=\"7e6f87d28d6407f09db2cd2cca3353f6\", element=\"048878a7-03a0-4e2b-97a7-f3281b787a9a\")>,\n",
       " <selenium.webdriver.remote.webelement.WebElement (session=\"7e6f87d28d6407f09db2cd2cca3353f6\", element=\"59b1f071-5e36-4286-b82b-4f17c89e4ef3\")>,\n",
       " <selenium.webdriver.remote.webelement.WebElement (session=\"7e6f87d28d6407f09db2cd2cca3353f6\", element=\"fb1fa19f-410c-4248-9497-0b8d04bcb7d5\")>,\n",
       " <selenium.webdriver.remote.webelement.WebElement (session=\"7e6f87d28d6407f09db2cd2cca3353f6\", element=\"fe7eba8c-79a9-4854-9512-b372ef7bc88e\")>,\n",
       " <selenium.webdriver.remote.webelement.WebElement (session=\"7e6f87d28d6407f09db2cd2cca3353f6\", element=\"8603ac29-b2c8-49f2-bfca-87a1622d76d3\")>,\n",
       " <selenium.webdriver.remote.webelement.WebElement (session=\"7e6f87d28d6407f09db2cd2cca3353f6\", element=\"2dabf8ba-d769-4ccb-8d74-be414201dc98\")>,\n",
       " <selenium.webdriver.remote.webelement.WebElement (session=\"7e6f87d28d6407f09db2cd2cca3353f6\", element=\"089d8525-aa1f-43f5-b298-4fc02f2fa8db\")>,\n",
       " <selenium.webdriver.remote.webelement.WebElement (session=\"7e6f87d28d6407f09db2cd2cca3353f6\", element=\"c4cd5019-11b6-42b5-857c-faa4ab460a16\")>,\n",
       " <selenium.webdriver.remote.webelement.WebElement (session=\"7e6f87d28d6407f09db2cd2cca3353f6\", element=\"dce23877-9110-4189-b45a-6f9ac2049db8\")>,\n",
       " <selenium.webdriver.remote.webelement.WebElement (session=\"7e6f87d28d6407f09db2cd2cca3353f6\", element=\"b8015c16-1e8c-4732-ad39-3c62a44bbb4c\")>,\n",
       " <selenium.webdriver.remote.webelement.WebElement (session=\"7e6f87d28d6407f09db2cd2cca3353f6\", element=\"f6a1c0a1-9880-489b-b3b8-457d14a8a2f2\")>,\n",
       " <selenium.webdriver.remote.webelement.WebElement (session=\"7e6f87d28d6407f09db2cd2cca3353f6\", element=\"628369a3-8249-4a38-896b-d4c4c46099ff\")>]"
      ]
     },
     "execution_count": 11,
     "metadata": {},
     "output_type": "execute_result"
    }
   ],
   "source": [
    "title_tags=driver.find_elements_by_xpath(\"//a[@class='title fw500 ellipsis']\")\n",
    "title_tags"
   ]
  },
  {
   "cell_type": "code",
   "execution_count": 12,
   "metadata": {},
   "outputs": [
    {
     "data": {
      "text/plain": [
       "['Senior Data Analyst - Data Lineage',\n",
       " 'Data Analyst - Informatica MDM',\n",
       " 'Data analysts',\n",
       " 'Excel VBA Jobs Bangalore | VBA data analyst Jobs',\n",
       " 'Data Analyst (2positions)//immediate Joiners//bangalore',\n",
       " 'Business/Data Analyst - SSE/LA',\n",
       " 'Business Data Analyst',\n",
       " 'Data Analyst',\n",
       " 'Data Analyst',\n",
       " 'Data Analyst - Category Demand Management (Revenue & Growth)',\n",
       " 'data analyst',\n",
       " 'RC HIA - Data Analyst - A2',\n",
       " 'Data Analyst (Contractual)',\n",
       " 'Procurement Data Analyst',\n",
       " 'Data Analyst',\n",
       " 'Hiring Consultant Data Analyst Contractual',\n",
       " 'Data Analyst/ Data Consultant (Various Levels – Senior/ Mid/ Junior)',\n",
       " 'Data Scientist / Data Analyst -Business Analyst',\n",
       " 'Senior Data Analyst',\n",
       " 'Sr Data Analyst 1']"
      ]
     },
     "execution_count": 12,
     "metadata": {},
     "output_type": "execute_result"
    }
   ],
   "source": [
    "job_titles=[]\n",
    "for i in title_tags:\n",
    "    job_titles.append(i.text)\n",
    "job_titles\n"
   ]
  },
  {
   "cell_type": "code",
   "execution_count": 13,
   "metadata": {},
   "outputs": [
    {
     "data": {
      "text/plain": [
       "['Senior Data Analyst - Data Lineage',\n",
       " 'Data Analyst - Informatica MDM',\n",
       " 'Data analysts',\n",
       " 'Excel VBA Jobs Bangalore | VBA data analyst Jobs',\n",
       " 'Data Analyst (2positions)//immediate Joiners//bangalore',\n",
       " 'Business/Data Analyst - SSE/LA',\n",
       " 'Business Data Analyst',\n",
       " 'Data Analyst',\n",
       " 'Data Analyst',\n",
       " 'Data Analyst - Category Demand Management (Revenue & Growth)']"
      ]
     },
     "execution_count": 13,
     "metadata": {},
     "output_type": "execute_result"
    }
   ],
   "source": [
    "ten_job_titles=job_titles[:10]\n",
    "ten_job_titles\n"
   ]
  },
  {
   "cell_type": "code",
   "execution_count": 14,
   "metadata": {},
   "outputs": [
    {
     "data": {
      "text/plain": [
       "[<selenium.webdriver.remote.webelement.WebElement (session=\"7e6f87d28d6407f09db2cd2cca3353f6\", element=\"312a60a8-751a-412e-a39c-ac08b0b00de7\")>,\n",
       " <selenium.webdriver.remote.webelement.WebElement (session=\"7e6f87d28d6407f09db2cd2cca3353f6\", element=\"0b5af68e-b425-44b0-a958-70354897e660\")>,\n",
       " <selenium.webdriver.remote.webelement.WebElement (session=\"7e6f87d28d6407f09db2cd2cca3353f6\", element=\"ffdf52cc-ee23-49ec-a92f-87d93d187b0c\")>,\n",
       " <selenium.webdriver.remote.webelement.WebElement (session=\"7e6f87d28d6407f09db2cd2cca3353f6\", element=\"fa0e9998-03d2-41e1-84a9-703bf1a52387\")>,\n",
       " <selenium.webdriver.remote.webelement.WebElement (session=\"7e6f87d28d6407f09db2cd2cca3353f6\", element=\"6987febf-1822-4494-a852-f916d173222b\")>,\n",
       " <selenium.webdriver.remote.webelement.WebElement (session=\"7e6f87d28d6407f09db2cd2cca3353f6\", element=\"5a2ec7c2-986e-4c44-ab6d-cdb476a6c0c0\")>,\n",
       " <selenium.webdriver.remote.webelement.WebElement (session=\"7e6f87d28d6407f09db2cd2cca3353f6\", element=\"2ac55454-0814-48df-87e3-92a483c0fee4\")>,\n",
       " <selenium.webdriver.remote.webelement.WebElement (session=\"7e6f87d28d6407f09db2cd2cca3353f6\", element=\"300d7082-8659-4f6d-9dc0-b45a76cb8a48\")>,\n",
       " <selenium.webdriver.remote.webelement.WebElement (session=\"7e6f87d28d6407f09db2cd2cca3353f6\", element=\"3b8bf931-9563-445e-b8c3-1c635b34c4d7\")>,\n",
       " <selenium.webdriver.remote.webelement.WebElement (session=\"7e6f87d28d6407f09db2cd2cca3353f6\", element=\"b90a29ec-b2bf-49b0-93d3-ad4b6724005b\")>,\n",
       " <selenium.webdriver.remote.webelement.WebElement (session=\"7e6f87d28d6407f09db2cd2cca3353f6\", element=\"c5c6196f-5a1f-4028-bcda-dc168e1c5f27\")>,\n",
       " <selenium.webdriver.remote.webelement.WebElement (session=\"7e6f87d28d6407f09db2cd2cca3353f6\", element=\"83be5b87-320f-4ac1-a63b-f5cb1d0f862f\")>,\n",
       " <selenium.webdriver.remote.webelement.WebElement (session=\"7e6f87d28d6407f09db2cd2cca3353f6\", element=\"fb8d3396-395d-44d8-b486-fc6f8a12bc71\")>,\n",
       " <selenium.webdriver.remote.webelement.WebElement (session=\"7e6f87d28d6407f09db2cd2cca3353f6\", element=\"7fc449fb-f332-40f1-bfe5-c58e9fc1fefb\")>,\n",
       " <selenium.webdriver.remote.webelement.WebElement (session=\"7e6f87d28d6407f09db2cd2cca3353f6\", element=\"927e7463-0a61-44c4-ba93-ad559b44ec09\")>,\n",
       " <selenium.webdriver.remote.webelement.WebElement (session=\"7e6f87d28d6407f09db2cd2cca3353f6\", element=\"542f6cdc-06d7-4fb5-80ac-3a23005270c7\")>,\n",
       " <selenium.webdriver.remote.webelement.WebElement (session=\"7e6f87d28d6407f09db2cd2cca3353f6\", element=\"26d2123f-2856-4206-9759-0cb4f5f2ca97\")>,\n",
       " <selenium.webdriver.remote.webelement.WebElement (session=\"7e6f87d28d6407f09db2cd2cca3353f6\", element=\"639ed1ae-c802-4789-9b33-f4c475fb0bf9\")>,\n",
       " <selenium.webdriver.remote.webelement.WebElement (session=\"7e6f87d28d6407f09db2cd2cca3353f6\", element=\"b6b6b9bf-ec49-4e4b-9a3b-f59ddf689aa4\")>,\n",
       " <selenium.webdriver.remote.webelement.WebElement (session=\"7e6f87d28d6407f09db2cd2cca3353f6\", element=\"a89acc2f-e1c4-48dc-9f79-3622a2a346f8\")>]"
      ]
     },
     "execution_count": 14,
     "metadata": {},
     "output_type": "execute_result"
    }
   ],
   "source": [
    "location_tags=driver.find_elements_by_xpath(\"//li[@class='fleft grey-text br2 placeHolderLi location']\")\n",
    "location_tags"
   ]
  },
  {
   "cell_type": "code",
   "execution_count": 15,
   "metadata": {},
   "outputs": [
    {
     "data": {
      "text/plain": [
       "['Bangalore/Bengaluru',\n",
       " 'Bangalore/Bengaluru',\n",
       " 'Bangalore/Bengaluru',\n",
       " 'Mysore/Mysuru, Coimbatore, Bangalore/Bengaluru',\n",
       " 'Bangalore/Bengaluru',\n",
       " 'Bangalore/Bengaluru',\n",
       " 'Chennai, Bangalore/Bengaluru, Mumbai (All Areas)',\n",
       " 'Bangalore/Bengaluru',\n",
       " 'Bangalore/Bengaluru',\n",
       " 'Bangalore/Bengaluru',\n",
       " 'Pune, Chennai, Jaipur, Bangalore/Bengaluru',\n",
       " 'Bangalore/Bengaluru',\n",
       " 'Bangalore/Bengaluru(Bellandur)',\n",
       " 'Bangalore/Bengaluru',\n",
       " 'Bangalore/Bengaluru',\n",
       " 'Bangalore/Bengaluru',\n",
       " 'Bangalore/Bengaluru',\n",
       " 'Mumbai, Hyderabad/Secunderabad, Pune, Gurgaon/Gurugram, Chennai, Bangalore/Bengaluru',\n",
       " 'Bangalore/Bengaluru',\n",
       " 'Bangalore/Bengaluru']"
      ]
     },
     "execution_count": 15,
     "metadata": {},
     "output_type": "execute_result"
    }
   ],
   "source": [
    "job_locations=[]\n",
    "for i in location_tags:\n",
    "    job_locations.append(i.text)\n",
    "    \n",
    "job_locations"
   ]
  },
  {
   "cell_type": "code",
   "execution_count": 16,
   "metadata": {},
   "outputs": [
    {
     "data": {
      "text/plain": [
       "['Bangalore/Bengaluru',\n",
       " 'Bangalore/Bengaluru',\n",
       " 'Bangalore/Bengaluru',\n",
       " 'Mysore/Mysuru, Coimbatore, Bangalore/Bengaluru',\n",
       " 'Bangalore/Bengaluru',\n",
       " 'Bangalore/Bengaluru',\n",
       " 'Chennai, Bangalore/Bengaluru, Mumbai (All Areas)',\n",
       " 'Bangalore/Bengaluru',\n",
       " 'Bangalore/Bengaluru',\n",
       " 'Bangalore/Bengaluru']"
      ]
     },
     "execution_count": 16,
     "metadata": {},
     "output_type": "execute_result"
    }
   ],
   "source": [
    "ten_job_locations=job_locations[:10]\n",
    "ten_job_locations"
   ]
  },
  {
   "cell_type": "code",
   "execution_count": 17,
   "metadata": {},
   "outputs": [
    {
     "data": {
      "text/plain": [
       "[<selenium.webdriver.remote.webelement.WebElement (session=\"7e6f87d28d6407f09db2cd2cca3353f6\", element=\"d1c7cdb1-f4b2-480c-9816-6d7f0e594109\")>,\n",
       " <selenium.webdriver.remote.webelement.WebElement (session=\"7e6f87d28d6407f09db2cd2cca3353f6\", element=\"74eb79de-486a-4698-870b-d472fd76f401\")>,\n",
       " <selenium.webdriver.remote.webelement.WebElement (session=\"7e6f87d28d6407f09db2cd2cca3353f6\", element=\"6d320ec4-a995-47be-a1e8-5e7a939eae88\")>,\n",
       " <selenium.webdriver.remote.webelement.WebElement (session=\"7e6f87d28d6407f09db2cd2cca3353f6\", element=\"ff330164-7fba-4e7e-a32e-aabc79268564\")>,\n",
       " <selenium.webdriver.remote.webelement.WebElement (session=\"7e6f87d28d6407f09db2cd2cca3353f6\", element=\"c54d9d42-df81-4f7f-b628-c6531d9a7290\")>,\n",
       " <selenium.webdriver.remote.webelement.WebElement (session=\"7e6f87d28d6407f09db2cd2cca3353f6\", element=\"e954abda-a7d6-436e-9a9d-fe8fd0f70bee\")>,\n",
       " <selenium.webdriver.remote.webelement.WebElement (session=\"7e6f87d28d6407f09db2cd2cca3353f6\", element=\"fcf76f14-8e89-4cdd-b8b6-d8cb5fe60b41\")>,\n",
       " <selenium.webdriver.remote.webelement.WebElement (session=\"7e6f87d28d6407f09db2cd2cca3353f6\", element=\"9ac21aeb-9d98-4af0-9732-155cb5c7fbb0\")>,\n",
       " <selenium.webdriver.remote.webelement.WebElement (session=\"7e6f87d28d6407f09db2cd2cca3353f6\", element=\"7f182c17-4aaa-469b-a1c2-17092bb69298\")>,\n",
       " <selenium.webdriver.remote.webelement.WebElement (session=\"7e6f87d28d6407f09db2cd2cca3353f6\", element=\"ac605821-8e84-430e-ba3b-f225132bce29\")>,\n",
       " <selenium.webdriver.remote.webelement.WebElement (session=\"7e6f87d28d6407f09db2cd2cca3353f6\", element=\"50f31c8a-07b4-43e1-9cf4-f54ac269ab57\")>,\n",
       " <selenium.webdriver.remote.webelement.WebElement (session=\"7e6f87d28d6407f09db2cd2cca3353f6\", element=\"f5913db4-f63e-4adc-af33-7d5902948fc1\")>,\n",
       " <selenium.webdriver.remote.webelement.WebElement (session=\"7e6f87d28d6407f09db2cd2cca3353f6\", element=\"7177e08f-808f-40d5-a60b-e33edd7b4c51\")>,\n",
       " <selenium.webdriver.remote.webelement.WebElement (session=\"7e6f87d28d6407f09db2cd2cca3353f6\", element=\"541ef880-3851-441f-ae12-cbd88ead7b21\")>,\n",
       " <selenium.webdriver.remote.webelement.WebElement (session=\"7e6f87d28d6407f09db2cd2cca3353f6\", element=\"81e390c8-f3d2-477f-8b96-1c850ada33ff\")>,\n",
       " <selenium.webdriver.remote.webelement.WebElement (session=\"7e6f87d28d6407f09db2cd2cca3353f6\", element=\"ce46bdd8-213a-4a7b-87c4-46c563932df5\")>,\n",
       " <selenium.webdriver.remote.webelement.WebElement (session=\"7e6f87d28d6407f09db2cd2cca3353f6\", element=\"d7f01388-636e-4cbf-a062-2ad5a0b95939\")>,\n",
       " <selenium.webdriver.remote.webelement.WebElement (session=\"7e6f87d28d6407f09db2cd2cca3353f6\", element=\"9b86fb42-5948-4606-82bf-1358cf97f6ca\")>,\n",
       " <selenium.webdriver.remote.webelement.WebElement (session=\"7e6f87d28d6407f09db2cd2cca3353f6\", element=\"e211475a-7a43-4123-9bf7-2e58999a5ce2\")>,\n",
       " <selenium.webdriver.remote.webelement.WebElement (session=\"7e6f87d28d6407f09db2cd2cca3353f6\", element=\"00bead1e-376e-4df7-ae1c-449ada3cd947\")>]"
      ]
     },
     "execution_count": 17,
     "metadata": {},
     "output_type": "execute_result"
    }
   ],
   "source": [
    "companies_tags=driver.find_elements_by_xpath(\"//a[@class='subTitle ellipsis fleft']\")\n",
    "companies_tags"
   ]
  },
  {
   "cell_type": "code",
   "execution_count": 18,
   "metadata": {},
   "outputs": [
    {
     "data": {
      "text/plain": [
       "['Opex Global Services',\n",
       " 'Shell India Markets Private Limited',\n",
       " 'IBM India Pvt. Limited',\n",
       " 'Mind Circus Innovation',\n",
       " 'Tech Mahindra Ltd.',\n",
       " 'CGI Information Systems and Management Consultants',\n",
       " 'dotSolved India Pvt., Ltd.',\n",
       " 'Myntra Designs Pvt. Ltd.',\n",
       " 'Myntra Designs Pvt. Ltd.',\n",
       " 'Myntra Designs Pvt. Ltd.',\n",
       " 'Disha Consultants',\n",
       " 'Pricewaterhouse Coopers Private Limited',\n",
       " 'Flipkart Internet Private Limited',\n",
       " 'Schneider Electric',\n",
       " 'IBM India Pvt. Limited',\n",
       " 'Flipkart Internet Private Limited',\n",
       " 'DVSUM INDIA PRIVATE LIMITED',\n",
       " 'Inflexion Analytix Private Limited',\n",
       " 'Cimpress India Private Limited',\n",
       " 'IHS Markit']"
      ]
     },
     "execution_count": 18,
     "metadata": {},
     "output_type": "execute_result"
    }
   ],
   "source": [
    "company_names=[]\n",
    "for i in companies_tags:\n",
    "    company_names.append(i.text)\n",
    "    \n",
    "company_names"
   ]
  },
  {
   "cell_type": "code",
   "execution_count": 19,
   "metadata": {},
   "outputs": [
    {
     "data": {
      "text/plain": [
       "['Opex Global Services',\n",
       " 'Shell India Markets Private Limited',\n",
       " 'IBM India Pvt. Limited',\n",
       " 'Mind Circus Innovation',\n",
       " 'Tech Mahindra Ltd.',\n",
       " 'CGI Information Systems and Management Consultants',\n",
       " 'dotSolved India Pvt., Ltd.',\n",
       " 'Myntra Designs Pvt. Ltd.',\n",
       " 'Myntra Designs Pvt. Ltd.',\n",
       " 'Myntra Designs Pvt. Ltd.']"
      ]
     },
     "execution_count": 19,
     "metadata": {},
     "output_type": "execute_result"
    }
   ],
   "source": [
    "ten_company_names=company_names[:10]\n",
    "ten_company_names\n"
   ]
  },
  {
   "cell_type": "code",
   "execution_count": 20,
   "metadata": {},
   "outputs": [
    {
     "data": {
      "text/plain": [
       "[<selenium.webdriver.remote.webelement.WebElement (session=\"7e6f87d28d6407f09db2cd2cca3353f6\", element=\"76a49a6f-df2a-442a-a4c7-3965cf017c7e\")>,\n",
       " <selenium.webdriver.remote.webelement.WebElement (session=\"7e6f87d28d6407f09db2cd2cca3353f6\", element=\"dc9cf569-18e5-43fb-b312-04b508bd4d3c\")>,\n",
       " <selenium.webdriver.remote.webelement.WebElement (session=\"7e6f87d28d6407f09db2cd2cca3353f6\", element=\"65eecc2a-f260-4780-a0a5-08b92df60ff7\")>,\n",
       " <selenium.webdriver.remote.webelement.WebElement (session=\"7e6f87d28d6407f09db2cd2cca3353f6\", element=\"37c26716-bfac-46c1-8314-2970746ed57c\")>,\n",
       " <selenium.webdriver.remote.webelement.WebElement (session=\"7e6f87d28d6407f09db2cd2cca3353f6\", element=\"1ff018b4-6794-494a-a9a7-eca7c85ccf60\")>,\n",
       " <selenium.webdriver.remote.webelement.WebElement (session=\"7e6f87d28d6407f09db2cd2cca3353f6\", element=\"8e1cc9f3-21a5-4307-ab25-2c7d28e34ee0\")>,\n",
       " <selenium.webdriver.remote.webelement.WebElement (session=\"7e6f87d28d6407f09db2cd2cca3353f6\", element=\"d907260c-17d5-41b7-9979-7d4907722a8e\")>,\n",
       " <selenium.webdriver.remote.webelement.WebElement (session=\"7e6f87d28d6407f09db2cd2cca3353f6\", element=\"1dcf117a-8145-4abc-817c-c28be05254a6\")>,\n",
       " <selenium.webdriver.remote.webelement.WebElement (session=\"7e6f87d28d6407f09db2cd2cca3353f6\", element=\"10587b3a-2ffb-4fed-895d-0b6361263204\")>,\n",
       " <selenium.webdriver.remote.webelement.WebElement (session=\"7e6f87d28d6407f09db2cd2cca3353f6\", element=\"7f293fa7-746f-417d-a845-6ef01cdf1b23\")>,\n",
       " <selenium.webdriver.remote.webelement.WebElement (session=\"7e6f87d28d6407f09db2cd2cca3353f6\", element=\"e12cab14-4104-437e-8b2f-58ed4aa4bfbb\")>,\n",
       " <selenium.webdriver.remote.webelement.WebElement (session=\"7e6f87d28d6407f09db2cd2cca3353f6\", element=\"bbfa45bb-fc87-48df-932d-c9f6edfd2e38\")>,\n",
       " <selenium.webdriver.remote.webelement.WebElement (session=\"7e6f87d28d6407f09db2cd2cca3353f6\", element=\"6ba0cb92-5b93-4f3f-af69-65f40655ed55\")>,\n",
       " <selenium.webdriver.remote.webelement.WebElement (session=\"7e6f87d28d6407f09db2cd2cca3353f6\", element=\"5aac57b5-879f-47fa-ae94-f7386ec5a0b2\")>,\n",
       " <selenium.webdriver.remote.webelement.WebElement (session=\"7e6f87d28d6407f09db2cd2cca3353f6\", element=\"4cd2cb14-4d63-46c1-8fbc-2433f560afb0\")>,\n",
       " <selenium.webdriver.remote.webelement.WebElement (session=\"7e6f87d28d6407f09db2cd2cca3353f6\", element=\"31b180a8-ce8e-4cf0-9ea9-deae650f7e44\")>,\n",
       " <selenium.webdriver.remote.webelement.WebElement (session=\"7e6f87d28d6407f09db2cd2cca3353f6\", element=\"254b072d-fe1b-4533-a82f-17df6cc59da8\")>,\n",
       " <selenium.webdriver.remote.webelement.WebElement (session=\"7e6f87d28d6407f09db2cd2cca3353f6\", element=\"a4bbce1b-da07-4256-90da-19e6dc729b40\")>,\n",
       " <selenium.webdriver.remote.webelement.WebElement (session=\"7e6f87d28d6407f09db2cd2cca3353f6\", element=\"ace0cb5b-cec3-49f5-b2a6-b39874d3bbcf\")>,\n",
       " <selenium.webdriver.remote.webelement.WebElement (session=\"7e6f87d28d6407f09db2cd2cca3353f6\", element=\"2004e237-2baf-44ae-928b-60c3c783d460\")>]"
      ]
     },
     "execution_count": 20,
     "metadata": {},
     "output_type": "execute_result"
    }
   ],
   "source": [
    "experience_tags=driver.find_elements_by_xpath(\"//li[@class='fleft grey-text br2 placeHolderLi experience']\")\n",
    "experience_tags"
   ]
  },
  {
   "cell_type": "code",
   "execution_count": 21,
   "metadata": {},
   "outputs": [
    {
     "data": {
      "text/plain": [
       "['5-10 Yrs',\n",
       " '6-9 Yrs',\n",
       " '3-5 Yrs',\n",
       " '0-1 Yrs',\n",
       " '4-8 Yrs',\n",
       " '2-5 Yrs',\n",
       " '9-13 Yrs',\n",
       " '3-5 Yrs',\n",
       " '3-8 Yrs',\n",
       " '1-4 Yrs',\n",
       " '2-4 Yrs',\n",
       " '4-6 Yrs',\n",
       " '1-4 Yrs',\n",
       " '1-3 Yrs',\n",
       " '5-10 Yrs',\n",
       " '2-6 Yrs',\n",
       " '5-10 Yrs',\n",
       " '0-3 Yrs',\n",
       " '3-8 Yrs',\n",
       " '3-6 Yrs']"
      ]
     },
     "execution_count": 21,
     "metadata": {},
     "output_type": "execute_result"
    }
   ],
   "source": [
    "experience_list=[]\n",
    "for i in experience_tags:\n",
    "    experience_list.append(i.text)\n",
    "    \n",
    "experience_list"
   ]
  },
  {
   "cell_type": "code",
   "execution_count": 22,
   "metadata": {},
   "outputs": [
    {
     "data": {
      "text/plain": [
       "['5-10 Yrs',\n",
       " '6-9 Yrs',\n",
       " '3-5 Yrs',\n",
       " '0-1 Yrs',\n",
       " '4-8 Yrs',\n",
       " '2-5 Yrs',\n",
       " '9-13 Yrs',\n",
       " '3-5 Yrs',\n",
       " '3-8 Yrs',\n",
       " '1-4 Yrs']"
      ]
     },
     "execution_count": 22,
     "metadata": {},
     "output_type": "execute_result"
    }
   ],
   "source": [
    "ten_experience_list=experience_list[:10]\n",
    "ten_experience_list"
   ]
  },
  {
   "cell_type": "code",
   "execution_count": 23,
   "metadata": {},
   "outputs": [],
   "source": [
    "jobs=pd.DataFrame({})\n",
    "jobs['title']=ten_job_titles\n",
    "jobs['comapny']=ten_company_names\n",
    "jobs['experience_required']=ten_experience_list\n",
    "jobs['location']=ten_job_locations"
   ]
  },
  {
   "cell_type": "code",
   "execution_count": 24,
   "metadata": {},
   "outputs": [
    {
     "data": {
      "text/html": [
       "<div>\n",
       "<style scoped>\n",
       "    .dataframe tbody tr th:only-of-type {\n",
       "        vertical-align: middle;\n",
       "    }\n",
       "\n",
       "    .dataframe tbody tr th {\n",
       "        vertical-align: top;\n",
       "    }\n",
       "\n",
       "    .dataframe thead th {\n",
       "        text-align: right;\n",
       "    }\n",
       "</style>\n",
       "<table border=\"1\" class=\"dataframe\">\n",
       "  <thead>\n",
       "    <tr style=\"text-align: right;\">\n",
       "      <th></th>\n",
       "      <th>title</th>\n",
       "      <th>comapny</th>\n",
       "      <th>experience_required</th>\n",
       "      <th>location</th>\n",
       "    </tr>\n",
       "  </thead>\n",
       "  <tbody>\n",
       "    <tr>\n",
       "      <th>0</th>\n",
       "      <td>Senior Data Analyst - Data Lineage</td>\n",
       "      <td>Opex Global Services</td>\n",
       "      <td>5-10 Yrs</td>\n",
       "      <td>Bangalore/Bengaluru</td>\n",
       "    </tr>\n",
       "    <tr>\n",
       "      <th>1</th>\n",
       "      <td>Data Analyst - Informatica MDM</td>\n",
       "      <td>Shell India Markets Private Limited</td>\n",
       "      <td>6-9 Yrs</td>\n",
       "      <td>Bangalore/Bengaluru</td>\n",
       "    </tr>\n",
       "    <tr>\n",
       "      <th>2</th>\n",
       "      <td>Data analysts</td>\n",
       "      <td>IBM India Pvt. Limited</td>\n",
       "      <td>3-5 Yrs</td>\n",
       "      <td>Bangalore/Bengaluru</td>\n",
       "    </tr>\n",
       "    <tr>\n",
       "      <th>3</th>\n",
       "      <td>Excel VBA Jobs Bangalore | VBA data analyst Jobs</td>\n",
       "      <td>Mind Circus Innovation</td>\n",
       "      <td>0-1 Yrs</td>\n",
       "      <td>Mysore/Mysuru, Coimbatore, Bangalore/Bengaluru</td>\n",
       "    </tr>\n",
       "    <tr>\n",
       "      <th>4</th>\n",
       "      <td>Data Analyst (2positions)//immediate Joiners//...</td>\n",
       "      <td>Tech Mahindra Ltd.</td>\n",
       "      <td>4-8 Yrs</td>\n",
       "      <td>Bangalore/Bengaluru</td>\n",
       "    </tr>\n",
       "    <tr>\n",
       "      <th>5</th>\n",
       "      <td>Business/Data Analyst - SSE/LA</td>\n",
       "      <td>CGI Information Systems and Management Consult...</td>\n",
       "      <td>2-5 Yrs</td>\n",
       "      <td>Bangalore/Bengaluru</td>\n",
       "    </tr>\n",
       "    <tr>\n",
       "      <th>6</th>\n",
       "      <td>Business Data Analyst</td>\n",
       "      <td>dotSolved India Pvt., Ltd.</td>\n",
       "      <td>9-13 Yrs</td>\n",
       "      <td>Chennai, Bangalore/Bengaluru, Mumbai (All Areas)</td>\n",
       "    </tr>\n",
       "    <tr>\n",
       "      <th>7</th>\n",
       "      <td>Data Analyst</td>\n",
       "      <td>Myntra Designs Pvt. Ltd.</td>\n",
       "      <td>3-5 Yrs</td>\n",
       "      <td>Bangalore/Bengaluru</td>\n",
       "    </tr>\n",
       "    <tr>\n",
       "      <th>8</th>\n",
       "      <td>Data Analyst</td>\n",
       "      <td>Myntra Designs Pvt. Ltd.</td>\n",
       "      <td>3-8 Yrs</td>\n",
       "      <td>Bangalore/Bengaluru</td>\n",
       "    </tr>\n",
       "    <tr>\n",
       "      <th>9</th>\n",
       "      <td>Data Analyst - Category Demand Management (Rev...</td>\n",
       "      <td>Myntra Designs Pvt. Ltd.</td>\n",
       "      <td>1-4 Yrs</td>\n",
       "      <td>Bangalore/Bengaluru</td>\n",
       "    </tr>\n",
       "  </tbody>\n",
       "</table>\n",
       "</div>"
      ],
      "text/plain": [
       "                                               title  \\\n",
       "0                 Senior Data Analyst - Data Lineage   \n",
       "1                     Data Analyst - Informatica MDM   \n",
       "2                                      Data analysts   \n",
       "3   Excel VBA Jobs Bangalore | VBA data analyst Jobs   \n",
       "4  Data Analyst (2positions)//immediate Joiners//...   \n",
       "5                     Business/Data Analyst - SSE/LA   \n",
       "6                              Business Data Analyst   \n",
       "7                                       Data Analyst   \n",
       "8                                       Data Analyst   \n",
       "9  Data Analyst - Category Demand Management (Rev...   \n",
       "\n",
       "                                             comapny experience_required  \\\n",
       "0                               Opex Global Services            5-10 Yrs   \n",
       "1                Shell India Markets Private Limited             6-9 Yrs   \n",
       "2                             IBM India Pvt. Limited             3-5 Yrs   \n",
       "3                             Mind Circus Innovation             0-1 Yrs   \n",
       "4                                 Tech Mahindra Ltd.             4-8 Yrs   \n",
       "5  CGI Information Systems and Management Consult...             2-5 Yrs   \n",
       "6                         dotSolved India Pvt., Ltd.            9-13 Yrs   \n",
       "7                           Myntra Designs Pvt. Ltd.             3-5 Yrs   \n",
       "8                           Myntra Designs Pvt. Ltd.             3-8 Yrs   \n",
       "9                           Myntra Designs Pvt. Ltd.             1-4 Yrs   \n",
       "\n",
       "                                           location  \n",
       "0                               Bangalore/Bengaluru  \n",
       "1                               Bangalore/Bengaluru  \n",
       "2                               Bangalore/Bengaluru  \n",
       "3    Mysore/Mysuru, Coimbatore, Bangalore/Bengaluru  \n",
       "4                               Bangalore/Bengaluru  \n",
       "5                               Bangalore/Bengaluru  \n",
       "6  Chennai, Bangalore/Bengaluru, Mumbai (All Areas)  \n",
       "7                               Bangalore/Bengaluru  \n",
       "8                               Bangalore/Bengaluru  \n",
       "9                               Bangalore/Bengaluru  "
      ]
     },
     "execution_count": 24,
     "metadata": {},
     "output_type": "execute_result"
    }
   ],
   "source": [
    "jobs"
   ]
  },
  {
   "cell_type": "raw",
   "metadata": {},
   "source": [
    "Q2: Write a python program to scrape data for “Data Scientist” Job position in “Bangalore” location. You have to scrape the job\n",
    "    -title, job-location, company_name, full job-description. You have to scrape first 10 jobs data.\n",
    "This task will be done in following steps:\n",
    "1. first get the webpage https://www.naukri.com/\n",
    "2. Enter “Data Scientist” in “Skill,Designations,Companies” field and enter “Bangalore” in “enter the location” field.\n",
    "3. Then click the search button.\n",
    "4. Then scrape the data for the first 10 jobs results you get.\n",
    "5. Finally create a dataframe of the scraped data.\n",
    "Note- 1. All of the above steps have to be done in code. No step is to be done manually."
   ]
  },
  {
   "cell_type": "code",
   "execution_count": 25,
   "metadata": {},
   "outputs": [],
   "source": [
    "import selenium\n",
    "import pandas as pd\n",
    "from selenium import webdriver\n",
    "import warnings\n",
    "warnings.filterwarnings('ignore')"
   ]
  },
  {
   "cell_type": "code",
   "execution_count": 26,
   "metadata": {},
   "outputs": [],
   "source": [
    "driver=webdriver.Chrome(r\"C:\\Users\\ChesthaS\\Downloads\\chromedriver_win32 (1)\\chromedriver.exe\")"
   ]
  },
  {
   "cell_type": "code",
   "execution_count": 27,
   "metadata": {},
   "outputs": [],
   "source": [
    "url='https://www.naukri.com/'\n",
    "driver.get(url)"
   ]
  },
  {
   "cell_type": "code",
   "execution_count": 28,
   "metadata": {},
   "outputs": [
    {
     "data": {
      "text/plain": [
       "<selenium.webdriver.remote.webelement.WebElement (session=\"46044c5f38474cf90df61f7d476ea1bd\", element=\"457717a9-d73e-4424-9d41-2481e22ff361\")>"
      ]
     },
     "execution_count": 28,
     "metadata": {},
     "output_type": "execute_result"
    }
   ],
   "source": [
    "search_job=driver.find_element_by_id(\"qsb-keyword-sugg\")\n",
    "search_job"
   ]
  },
  {
   "cell_type": "code",
   "execution_count": 29,
   "metadata": {},
   "outputs": [],
   "source": [
    "search_job.send_keys(\"Data Scientist\")"
   ]
  },
  {
   "cell_type": "code",
   "execution_count": 30,
   "metadata": {},
   "outputs": [
    {
     "data": {
      "text/plain": [
       "<selenium.webdriver.remote.webelement.WebElement (session=\"46044c5f38474cf90df61f7d476ea1bd\", element=\"d7b108b9-090b-477b-bea2-1762f726f5d2\")>"
      ]
     },
     "execution_count": 30,
     "metadata": {},
     "output_type": "execute_result"
    }
   ],
   "source": [
    "search_loc=driver.find_element_by_id(\"qsb-location-sugg\")\n",
    "search_loc"
   ]
  },
  {
   "cell_type": "code",
   "execution_count": 31,
   "metadata": {},
   "outputs": [],
   "source": [
    "search_loc.send_keys(\"Banglore\")"
   ]
  },
  {
   "cell_type": "code",
   "execution_count": 32,
   "metadata": {},
   "outputs": [
    {
     "data": {
      "text/plain": [
       "<selenium.webdriver.remote.webelement.WebElement (session=\"46044c5f38474cf90df61f7d476ea1bd\", element=\"7f5e6b0f-8243-4c94-9f20-22ed996c2aeb\")>"
      ]
     },
     "execution_count": 32,
     "metadata": {},
     "output_type": "execute_result"
    }
   ],
   "source": [
    "search_btn=driver.find_element_by_xpath(\"//button[@class='btn']\")\n",
    "search_btn"
   ]
  },
  {
   "cell_type": "code",
   "execution_count": 33,
   "metadata": {},
   "outputs": [],
   "source": [
    "search_btn.click()"
   ]
  },
  {
   "cell_type": "code",
   "execution_count": 35,
   "metadata": {},
   "outputs": [
    {
     "data": {
      "text/plain": [
       "[<selenium.webdriver.remote.webelement.WebElement (session=\"46044c5f38474cf90df61f7d476ea1bd\", element=\"60280899-fa84-4587-a6b9-f85b1a4bb353\")>,\n",
       " <selenium.webdriver.remote.webelement.WebElement (session=\"46044c5f38474cf90df61f7d476ea1bd\", element=\"e5217503-082d-45a6-a74e-03e31d5adfa4\")>,\n",
       " <selenium.webdriver.remote.webelement.WebElement (session=\"46044c5f38474cf90df61f7d476ea1bd\", element=\"a1bd3eb1-ff21-464a-ab67-6507f2769a69\")>,\n",
       " <selenium.webdriver.remote.webelement.WebElement (session=\"46044c5f38474cf90df61f7d476ea1bd\", element=\"8476082e-6041-43a5-aca0-c2699f84e0af\")>,\n",
       " <selenium.webdriver.remote.webelement.WebElement (session=\"46044c5f38474cf90df61f7d476ea1bd\", element=\"369caefa-63d4-4b5a-aca0-02e19c35de96\")>,\n",
       " <selenium.webdriver.remote.webelement.WebElement (session=\"46044c5f38474cf90df61f7d476ea1bd\", element=\"aea34f3f-9d88-4b01-882e-ca9ad557bb28\")>,\n",
       " <selenium.webdriver.remote.webelement.WebElement (session=\"46044c5f38474cf90df61f7d476ea1bd\", element=\"375bd361-84b5-4adc-a485-e5aeae4fc9a6\")>,\n",
       " <selenium.webdriver.remote.webelement.WebElement (session=\"46044c5f38474cf90df61f7d476ea1bd\", element=\"ca587ff7-a753-4ffd-9e0e-70ce6c9bd6f0\")>,\n",
       " <selenium.webdriver.remote.webelement.WebElement (session=\"46044c5f38474cf90df61f7d476ea1bd\", element=\"44d02749-7de2-438c-9062-d2e555a0cb58\")>,\n",
       " <selenium.webdriver.remote.webelement.WebElement (session=\"46044c5f38474cf90df61f7d476ea1bd\", element=\"cb804d57-405f-4e74-b045-568a677935fa\")>,\n",
       " <selenium.webdriver.remote.webelement.WebElement (session=\"46044c5f38474cf90df61f7d476ea1bd\", element=\"bf20b994-7c36-4170-8600-71b02a611833\")>,\n",
       " <selenium.webdriver.remote.webelement.WebElement (session=\"46044c5f38474cf90df61f7d476ea1bd\", element=\"1bc4cf37-6926-4014-9568-51f93ea508d4\")>,\n",
       " <selenium.webdriver.remote.webelement.WebElement (session=\"46044c5f38474cf90df61f7d476ea1bd\", element=\"81ea5ffb-02d4-4fec-80a1-b3face716fd7\")>,\n",
       " <selenium.webdriver.remote.webelement.WebElement (session=\"46044c5f38474cf90df61f7d476ea1bd\", element=\"6277cba1-6f52-4279-be6b-ac34f796e349\")>,\n",
       " <selenium.webdriver.remote.webelement.WebElement (session=\"46044c5f38474cf90df61f7d476ea1bd\", element=\"00f227f4-d14f-4662-81b0-50d5d90d85d8\")>,\n",
       " <selenium.webdriver.remote.webelement.WebElement (session=\"46044c5f38474cf90df61f7d476ea1bd\", element=\"13f6e36e-c590-4a82-abaf-c9639c441d9e\")>,\n",
       " <selenium.webdriver.remote.webelement.WebElement (session=\"46044c5f38474cf90df61f7d476ea1bd\", element=\"d64d4f96-b5f9-46d2-9cf7-cbabd57d7da3\")>,\n",
       " <selenium.webdriver.remote.webelement.WebElement (session=\"46044c5f38474cf90df61f7d476ea1bd\", element=\"ea3020b4-1025-4f42-8ff2-70b2d8a3e60c\")>,\n",
       " <selenium.webdriver.remote.webelement.WebElement (session=\"46044c5f38474cf90df61f7d476ea1bd\", element=\"e95dc006-089c-4a94-b70a-5714fbc728b8\")>,\n",
       " <selenium.webdriver.remote.webelement.WebElement (session=\"46044c5f38474cf90df61f7d476ea1bd\", element=\"0e29ebf0-f8a2-4c10-a202-c6d047fcc410\")>]"
      ]
     },
     "execution_count": 35,
     "metadata": {},
     "output_type": "execute_result"
    }
   ],
   "source": [
    "title_tags=driver.find_elements_by_xpath(\"//a[@class='title fw500 ellipsis']\")\n",
    "title_tags"
   ]
  },
  {
   "cell_type": "code",
   "execution_count": 36,
   "metadata": {},
   "outputs": [
    {
     "data": {
      "text/plain": [
       "['Senior Data Scientist',\n",
       " 'Immediate job opening - Senior Data Scientist',\n",
       " 'Senior Data Scientist',\n",
       " 'Lead Data Scientist',\n",
       " 'Lead Data Scientist',\n",
       " 'Data analytics / Data scientist intern (work from Home)',\n",
       " 'Data Scientist - IBM Garage',\n",
       " 'Digital Enterprise Architect (Data Scientist)',\n",
       " 'Data Scientist',\n",
       " 'Data Scientist',\n",
       " 'Senior Data Scientist',\n",
       " 'Senior Data Scientist',\n",
       " 'Senior Data Scientist with Python',\n",
       " 'Senior Data Scientist',\n",
       " 'Sr Data Scientist',\n",
       " 'Staff Data Scientist - Machine Learning, BigData',\n",
       " 'Data Scientist - Machine Learning, BigData',\n",
       " 'Data Scientist (Visualization)',\n",
       " 'Data Scientist',\n",
       " 'Manager - Data Scientist']"
      ]
     },
     "execution_count": 36,
     "metadata": {},
     "output_type": "execute_result"
    }
   ],
   "source": [
    "job_titles=[]\n",
    "for i in title_tags:\n",
    "    job_titles.append(i.text)\n",
    "job_titles"
   ]
  },
  {
   "cell_type": "code",
   "execution_count": 37,
   "metadata": {},
   "outputs": [
    {
     "data": {
      "text/plain": [
       "['Senior Data Scientist',\n",
       " 'Immediate job opening - Senior Data Scientist',\n",
       " 'Senior Data Scientist',\n",
       " 'Lead Data Scientist',\n",
       " 'Lead Data Scientist',\n",
       " 'Data analytics / Data scientist intern (work from Home)',\n",
       " 'Data Scientist - IBM Garage',\n",
       " 'Digital Enterprise Architect (Data Scientist)',\n",
       " 'Data Scientist',\n",
       " 'Data Scientist']"
      ]
     },
     "execution_count": 37,
     "metadata": {},
     "output_type": "execute_result"
    }
   ],
   "source": [
    "ten_job_titles=job_titles[:10]\n",
    "ten_job_titles"
   ]
  },
  {
   "cell_type": "code",
   "execution_count": 38,
   "metadata": {},
   "outputs": [
    {
     "data": {
      "text/plain": [
       "[<selenium.webdriver.remote.webelement.WebElement (session=\"46044c5f38474cf90df61f7d476ea1bd\", element=\"70ea7800-33c4-4b56-a26e-866ccfb25e60\")>,\n",
       " <selenium.webdriver.remote.webelement.WebElement (session=\"46044c5f38474cf90df61f7d476ea1bd\", element=\"da4addee-806b-4ba2-827b-ad9ab63f4b14\")>,\n",
       " <selenium.webdriver.remote.webelement.WebElement (session=\"46044c5f38474cf90df61f7d476ea1bd\", element=\"1bf02043-8c15-45a9-8ba6-c2c22719cbff\")>,\n",
       " <selenium.webdriver.remote.webelement.WebElement (session=\"46044c5f38474cf90df61f7d476ea1bd\", element=\"b5463a7c-d9a2-4747-9623-638f89cbc5c9\")>,\n",
       " <selenium.webdriver.remote.webelement.WebElement (session=\"46044c5f38474cf90df61f7d476ea1bd\", element=\"3b0e0ba0-9987-492a-98a5-891f25e9aaa8\")>,\n",
       " <selenium.webdriver.remote.webelement.WebElement (session=\"46044c5f38474cf90df61f7d476ea1bd\", element=\"da3f16fb-ce9f-44b1-8e34-ae59932b8b82\")>,\n",
       " <selenium.webdriver.remote.webelement.WebElement (session=\"46044c5f38474cf90df61f7d476ea1bd\", element=\"f12c5b48-027c-4b92-99af-3f97ec048c0c\")>,\n",
       " <selenium.webdriver.remote.webelement.WebElement (session=\"46044c5f38474cf90df61f7d476ea1bd\", element=\"82e696df-f470-4f45-8db7-06229e14bd66\")>,\n",
       " <selenium.webdriver.remote.webelement.WebElement (session=\"46044c5f38474cf90df61f7d476ea1bd\", element=\"a388d41a-ab30-4bbe-ae84-eee20ba6b4de\")>,\n",
       " <selenium.webdriver.remote.webelement.WebElement (session=\"46044c5f38474cf90df61f7d476ea1bd\", element=\"e34136f0-eac1-4028-808e-a6670fd96836\")>,\n",
       " <selenium.webdriver.remote.webelement.WebElement (session=\"46044c5f38474cf90df61f7d476ea1bd\", element=\"dfe16738-0dae-4929-b716-1c28ccb53873\")>,\n",
       " <selenium.webdriver.remote.webelement.WebElement (session=\"46044c5f38474cf90df61f7d476ea1bd\", element=\"a996c910-3d6f-4af5-b3bb-972f5b315ea0\")>,\n",
       " <selenium.webdriver.remote.webelement.WebElement (session=\"46044c5f38474cf90df61f7d476ea1bd\", element=\"35c5027a-f987-4db4-b135-db5e0379484d\")>,\n",
       " <selenium.webdriver.remote.webelement.WebElement (session=\"46044c5f38474cf90df61f7d476ea1bd\", element=\"5d1d66ea-5c89-45a7-aa60-9b809041ea9a\")>,\n",
       " <selenium.webdriver.remote.webelement.WebElement (session=\"46044c5f38474cf90df61f7d476ea1bd\", element=\"2a1f5a28-77bf-4250-a97b-a5e1698d752c\")>,\n",
       " <selenium.webdriver.remote.webelement.WebElement (session=\"46044c5f38474cf90df61f7d476ea1bd\", element=\"b8ff9e4c-4c36-4218-a9fc-17980c706919\")>,\n",
       " <selenium.webdriver.remote.webelement.WebElement (session=\"46044c5f38474cf90df61f7d476ea1bd\", element=\"85e45e1f-494b-4511-9593-862dd64584ba\")>,\n",
       " <selenium.webdriver.remote.webelement.WebElement (session=\"46044c5f38474cf90df61f7d476ea1bd\", element=\"ca9b1f96-86b2-4151-99e1-85c08169e0d4\")>,\n",
       " <selenium.webdriver.remote.webelement.WebElement (session=\"46044c5f38474cf90df61f7d476ea1bd\", element=\"1ffc2cbc-ff84-4b3b-b2ae-0c542895d475\")>,\n",
       " <selenium.webdriver.remote.webelement.WebElement (session=\"46044c5f38474cf90df61f7d476ea1bd\", element=\"cdc38d0e-809f-42eb-b1eb-459b0e03bf2e\")>]"
      ]
     },
     "execution_count": 38,
     "metadata": {},
     "output_type": "execute_result"
    }
   ],
   "source": [
    "location_tags=driver.find_elements_by_xpath(\"//li[@class='fleft grey-text br2 placeHolderLi location']\")\n",
    "location_tags"
   ]
  },
  {
   "cell_type": "code",
   "execution_count": 39,
   "metadata": {},
   "outputs": [
    {
     "data": {
      "text/plain": [
       "['Bangalore/Bengaluru',\n",
       " 'Bangalore/Bengaluru',\n",
       " 'Mumbai, Gurgaon/Gurugram, Bangalore/Bengaluru',\n",
       " 'Bangalore/Bengaluru',\n",
       " 'Gurgaon/Gurugram, Bangalore/Bengaluru, Mumbai (All Areas)',\n",
       " 'Kolkata, Bangalore/Bengaluru, Delhi / NCR',\n",
       " 'Bengaluru/Bangalore',\n",
       " 'Bangalore/Bengaluru',\n",
       " 'Bangalore/Bengaluru',\n",
       " 'Bangalore/Bengaluru',\n",
       " 'Bangalore/Bengaluru',\n",
       " 'Bangalore/Bengaluru',\n",
       " 'Kolkata, Chandigarh, Hyderabad/Secunderabad, Pune, Ahmedabad, Chennai, Bangalore/Bengaluru, Delhi / NCR, Mumbai (All Areas)',\n",
       " 'Bangalore/Bengaluru',\n",
       " 'Bangalore/Bengaluru, Mumbai (All Areas)',\n",
       " 'Bangalore/Bengaluru',\n",
       " 'Bangalore/Bengaluru',\n",
       " 'Bangalore/Bengaluru',\n",
       " 'Mumbai, Gurgaon/Gurugram, Bangalore/Bengaluru',\n",
       " 'Bangalore/Bengaluru']"
      ]
     },
     "execution_count": 39,
     "metadata": {},
     "output_type": "execute_result"
    }
   ],
   "source": [
    "job_locations=[]\n",
    "for i in location_tags:\n",
    "    job_locations.append(i.text)\n",
    "    \n",
    "job_locations"
   ]
  },
  {
   "cell_type": "code",
   "execution_count": 40,
   "metadata": {},
   "outputs": [
    {
     "data": {
      "text/plain": [
       "['Bangalore/Bengaluru',\n",
       " 'Bangalore/Bengaluru',\n",
       " 'Mumbai, Gurgaon/Gurugram, Bangalore/Bengaluru',\n",
       " 'Bangalore/Bengaluru',\n",
       " 'Gurgaon/Gurugram, Bangalore/Bengaluru, Mumbai (All Areas)',\n",
       " 'Kolkata, Bangalore/Bengaluru, Delhi / NCR',\n",
       " 'Bengaluru/Bangalore',\n",
       " 'Bangalore/Bengaluru',\n",
       " 'Bangalore/Bengaluru',\n",
       " 'Bangalore/Bengaluru']"
      ]
     },
     "execution_count": 40,
     "metadata": {},
     "output_type": "execute_result"
    }
   ],
   "source": [
    "ten_job_locations=job_locations[:10]\n",
    "ten_job_locations"
   ]
  },
  {
   "cell_type": "code",
   "execution_count": 41,
   "metadata": {},
   "outputs": [
    {
     "data": {
      "text/plain": [
       "[<selenium.webdriver.remote.webelement.WebElement (session=\"46044c5f38474cf90df61f7d476ea1bd\", element=\"0828ca59-95b1-4374-bbad-a8b76e490723\")>,\n",
       " <selenium.webdriver.remote.webelement.WebElement (session=\"46044c5f38474cf90df61f7d476ea1bd\", element=\"cee73bca-472e-4640-aa1a-a59aaff87ab4\")>,\n",
       " <selenium.webdriver.remote.webelement.WebElement (session=\"46044c5f38474cf90df61f7d476ea1bd\", element=\"2f6a1afa-f947-49a7-b9a0-3dac450e32b0\")>,\n",
       " <selenium.webdriver.remote.webelement.WebElement (session=\"46044c5f38474cf90df61f7d476ea1bd\", element=\"2f7c5bd3-b4de-446a-b895-a42ad2887e7a\")>,\n",
       " <selenium.webdriver.remote.webelement.WebElement (session=\"46044c5f38474cf90df61f7d476ea1bd\", element=\"72544ed5-77a4-46d9-bbf1-c6f1975060f1\")>,\n",
       " <selenium.webdriver.remote.webelement.WebElement (session=\"46044c5f38474cf90df61f7d476ea1bd\", element=\"90908865-0c2e-433c-beb9-3a1072fc789b\")>,\n",
       " <selenium.webdriver.remote.webelement.WebElement (session=\"46044c5f38474cf90df61f7d476ea1bd\", element=\"abe121d5-8ec1-4837-9d63-940dc61a445a\")>,\n",
       " <selenium.webdriver.remote.webelement.WebElement (session=\"46044c5f38474cf90df61f7d476ea1bd\", element=\"53c79f77-ccbd-4913-a628-7531cc0698b5\")>,\n",
       " <selenium.webdriver.remote.webelement.WebElement (session=\"46044c5f38474cf90df61f7d476ea1bd\", element=\"85766063-45e0-45e7-9248-edd245fff0e6\")>,\n",
       " <selenium.webdriver.remote.webelement.WebElement (session=\"46044c5f38474cf90df61f7d476ea1bd\", element=\"8cea6665-ec47-433d-942b-7f888eafb171\")>,\n",
       " <selenium.webdriver.remote.webelement.WebElement (session=\"46044c5f38474cf90df61f7d476ea1bd\", element=\"76c6c52c-fded-4512-873e-ac041b5e1492\")>,\n",
       " <selenium.webdriver.remote.webelement.WebElement (session=\"46044c5f38474cf90df61f7d476ea1bd\", element=\"f376570d-755a-480c-bc79-0e53163c7ee1\")>,\n",
       " <selenium.webdriver.remote.webelement.WebElement (session=\"46044c5f38474cf90df61f7d476ea1bd\", element=\"623015c0-2bab-4a9d-8687-075baba60b45\")>,\n",
       " <selenium.webdriver.remote.webelement.WebElement (session=\"46044c5f38474cf90df61f7d476ea1bd\", element=\"64fcb34a-70ee-48e2-b20b-25f6e56bd11e\")>,\n",
       " <selenium.webdriver.remote.webelement.WebElement (session=\"46044c5f38474cf90df61f7d476ea1bd\", element=\"1ba49b7a-91f8-4e11-af5b-72354619affe\")>,\n",
       " <selenium.webdriver.remote.webelement.WebElement (session=\"46044c5f38474cf90df61f7d476ea1bd\", element=\"8b5a4b2d-131a-45ed-a93e-39ff173a8fee\")>,\n",
       " <selenium.webdriver.remote.webelement.WebElement (session=\"46044c5f38474cf90df61f7d476ea1bd\", element=\"0bd541b8-6e3e-41e9-92ac-92696b0b6387\")>,\n",
       " <selenium.webdriver.remote.webelement.WebElement (session=\"46044c5f38474cf90df61f7d476ea1bd\", element=\"249275e2-e1a4-4f77-8a33-a1e535479a60\")>,\n",
       " <selenium.webdriver.remote.webelement.WebElement (session=\"46044c5f38474cf90df61f7d476ea1bd\", element=\"64aa983a-45e6-412f-9afa-244d3b0b8414\")>,\n",
       " <selenium.webdriver.remote.webelement.WebElement (session=\"46044c5f38474cf90df61f7d476ea1bd\", element=\"5213b8d4-aa9b-4c2b-b881-3b4fbe55ce66\")>]"
      ]
     },
     "execution_count": 41,
     "metadata": {},
     "output_type": "execute_result"
    }
   ],
   "source": [
    "company_tags=driver.find_elements_by_xpath(\"//a[@class='subTitle ellipsis fleft']\")\n",
    "company_tags"
   ]
  },
  {
   "cell_type": "code",
   "execution_count": 42,
   "metadata": {},
   "outputs": [
    {
     "data": {
      "text/plain": [
       "['RedBus',\n",
       " 'RedBus',\n",
       " 'Fractal Analytics',\n",
       " 'FICO',\n",
       " 'Fractal Analytics',\n",
       " 'TalkValley LLC',\n",
       " 'IBM India Pvt. Limited',\n",
       " 'Mphasis Limited',\n",
       " 'IBM India Pvt. Limited',\n",
       " 'IBM India Pvt. Limited',\n",
       " 'Walmart Labs',\n",
       " 'ExecBoardinAsia',\n",
       " 'Next Bee Corporation',\n",
       " 'Publicis Groupe',\n",
       " 'intelligent industrial internet systems pvt ltd.',\n",
       " 'Juniper Networks India Pvt Ltd',\n",
       " 'Juniper Networks India Pvt Ltd',\n",
       " 'Aruba Networks',\n",
       " 'Fractal Analytics',\n",
       " 'Applied Materials']"
      ]
     },
     "execution_count": 42,
     "metadata": {},
     "output_type": "execute_result"
    }
   ],
   "source": [
    "company_names=[]\n",
    "for i in company_tags:\n",
    "    company_names.append(i.text)\n",
    "    \n",
    "company_names\n",
    "    "
   ]
  },
  {
   "cell_type": "code",
   "execution_count": 43,
   "metadata": {},
   "outputs": [
    {
     "data": {
      "text/plain": [
       "['RedBus',\n",
       " 'RedBus',\n",
       " 'Fractal Analytics',\n",
       " 'FICO',\n",
       " 'Fractal Analytics',\n",
       " 'TalkValley LLC',\n",
       " 'IBM India Pvt. Limited',\n",
       " 'Mphasis Limited',\n",
       " 'IBM India Pvt. Limited',\n",
       " 'IBM India Pvt. Limited']"
      ]
     },
     "execution_count": 43,
     "metadata": {},
     "output_type": "execute_result"
    }
   ],
   "source": [
    "ten_company_names=company_names[:10]\n",
    "ten_company_names\n"
   ]
  },
  {
   "cell_type": "code",
   "execution_count": 44,
   "metadata": {},
   "outputs": [
    {
     "data": {
      "text/plain": [
       "[<selenium.webdriver.remote.webelement.WebElement (session=\"46044c5f38474cf90df61f7d476ea1bd\", element=\"bd30def8-a48a-49ea-ab31-b68a4fd1a0b8\")>,\n",
       " <selenium.webdriver.remote.webelement.WebElement (session=\"46044c5f38474cf90df61f7d476ea1bd\", element=\"ab31612e-7b2c-4c52-bf78-3cd6feaaabd9\")>,\n",
       " <selenium.webdriver.remote.webelement.WebElement (session=\"46044c5f38474cf90df61f7d476ea1bd\", element=\"0e2a8054-9811-49af-a007-e4382c19058d\")>,\n",
       " <selenium.webdriver.remote.webelement.WebElement (session=\"46044c5f38474cf90df61f7d476ea1bd\", element=\"d24b95ea-9eed-4560-a4f6-e36a18954ea4\")>,\n",
       " <selenium.webdriver.remote.webelement.WebElement (session=\"46044c5f38474cf90df61f7d476ea1bd\", element=\"9c894840-7e6a-4a25-877c-469c77649106\")>,\n",
       " <selenium.webdriver.remote.webelement.WebElement (session=\"46044c5f38474cf90df61f7d476ea1bd\", element=\"c071cedd-85c2-400e-8498-4f5d348cc540\")>,\n",
       " <selenium.webdriver.remote.webelement.WebElement (session=\"46044c5f38474cf90df61f7d476ea1bd\", element=\"c4feddfb-8ab8-4588-9b54-577939a7af3b\")>,\n",
       " <selenium.webdriver.remote.webelement.WebElement (session=\"46044c5f38474cf90df61f7d476ea1bd\", element=\"e2656792-5906-446e-b0e0-e66606873acc\")>,\n",
       " <selenium.webdriver.remote.webelement.WebElement (session=\"46044c5f38474cf90df61f7d476ea1bd\", element=\"2bfded27-520f-4ee8-92ec-d2ade449bc7f\")>,\n",
       " <selenium.webdriver.remote.webelement.WebElement (session=\"46044c5f38474cf90df61f7d476ea1bd\", element=\"99aafe0e-e4c5-4e76-b0ac-e77d522072cc\")>,\n",
       " <selenium.webdriver.remote.webelement.WebElement (session=\"46044c5f38474cf90df61f7d476ea1bd\", element=\"28dcaced-79f8-488e-8e28-80d810ec31d5\")>,\n",
       " <selenium.webdriver.remote.webelement.WebElement (session=\"46044c5f38474cf90df61f7d476ea1bd\", element=\"e03905bf-175a-4b0b-b6a5-3d374ccf0933\")>,\n",
       " <selenium.webdriver.remote.webelement.WebElement (session=\"46044c5f38474cf90df61f7d476ea1bd\", element=\"ea446508-24ff-4ed1-adb1-964864cecc7e\")>,\n",
       " <selenium.webdriver.remote.webelement.WebElement (session=\"46044c5f38474cf90df61f7d476ea1bd\", element=\"3814d0f2-7a76-4fd1-89ff-22bccde2eab3\")>,\n",
       " <selenium.webdriver.remote.webelement.WebElement (session=\"46044c5f38474cf90df61f7d476ea1bd\", element=\"ddbe0c54-e7c9-4047-8cb4-e4e9c941e2e5\")>,\n",
       " <selenium.webdriver.remote.webelement.WebElement (session=\"46044c5f38474cf90df61f7d476ea1bd\", element=\"76e0187e-77f1-4db1-b30f-342876ae7384\")>,\n",
       " <selenium.webdriver.remote.webelement.WebElement (session=\"46044c5f38474cf90df61f7d476ea1bd\", element=\"029b7b22-84a2-4b96-906b-3e9673e80091\")>,\n",
       " <selenium.webdriver.remote.webelement.WebElement (session=\"46044c5f38474cf90df61f7d476ea1bd\", element=\"acb2be34-5974-4ac1-8d90-7eb053154595\")>,\n",
       " <selenium.webdriver.remote.webelement.WebElement (session=\"46044c5f38474cf90df61f7d476ea1bd\", element=\"751e7f7c-e81f-4078-8912-0e06cd14d064\")>,\n",
       " <selenium.webdriver.remote.webelement.WebElement (session=\"46044c5f38474cf90df61f7d476ea1bd\", element=\"34408374-3627-4706-b4b0-7fd8b83c6a8d\")>]"
      ]
     },
     "execution_count": 44,
     "metadata": {},
     "output_type": "execute_result"
    }
   ],
   "source": [
    "description_tags=driver.find_elements_by_xpath(\"//div[@class='job-description fs12 grey-text']\")\n",
    "description_tags"
   ]
  },
  {
   "cell_type": "code",
   "execution_count": 45,
   "metadata": {},
   "outputs": [
    {
     "data": {
      "text/plain": [
       "['Job Role: Senior Data Scientist Reporting To: Head of Data Science Total Exp: 5 - 7 yea...',\n",
       " 'Post-Graduation in Statistics / Computer Science or related field from Premier Institut...',\n",
       " 'Serve as primary technical lead on all phases of the projects from providing solutionin...',\n",
       " 'The candidate should be a Cybersecurity Data Scientist with a background in machine lea...',\n",
       " 'Experience of working on end-to-end data science pipeline: problem scoping, data gather...',\n",
       " 'Duration of the internship: 3 months+ internship completion certificate We are a group ...',\n",
       " 'Required Technical and Professional ExpertisePreferred Technical and Professional Exper...',\n",
       " 'Experience working with enterprise architecture for the complex solutions solving busin...',\n",
       " 'Experience in creating and using advanced machine learning algorithms and statistics su...',\n",
       " 'Should have hired and nurtured talent and grow them in market facing specialists and co...',\n",
       " 'Experience with Python, Pyspark, Tensorflow, PyTorch or other related big data and mach...',\n",
       " 'The Senior Data Scientist is an exciting role in the Data Science Centre of Excellence ...',\n",
       " 'Familiarity with Agile Methodology, Test-Driven Development, and software design patter...',\n",
       " 'Bachelor s or Master s degree in a quantitative discipline (e.g., data science, statist...',\n",
       " 'Roles and Responsibilities - Create an industry-changing product from scratch without a...',\n",
       " 'We are looking for a Data Scientist to join our growing data science team. This hire wi...',\n",
       " 'Experience with AWS cloud services: EC2, EMR, RDS, Redshift Master in Computer Science,...',\n",
       " 'Our Minimum Requirements for this role are Additional preferred skills Experience with ...',\n",
       " 'Experience of working on end-to-end data science pipeline: problem scoping, data gather...',\n",
       " 'Technical Skills and ExperienceCandidates must have 4+ years of R programming experienc...']"
      ]
     },
     "execution_count": 45,
     "metadata": {},
     "output_type": "execute_result"
    }
   ],
   "source": [
    "jobs_description=[]\n",
    "for i in description_tags:\n",
    "    jobs_description.append(i.text)\n",
    "    \n",
    "jobs_description"
   ]
  },
  {
   "cell_type": "code",
   "execution_count": 46,
   "metadata": {},
   "outputs": [
    {
     "data": {
      "text/plain": [
       "['Job Role: Senior Data Scientist Reporting To: Head of Data Science Total Exp: 5 - 7 yea...',\n",
       " 'Post-Graduation in Statistics / Computer Science or related field from Premier Institut...',\n",
       " 'Serve as primary technical lead on all phases of the projects from providing solutionin...',\n",
       " 'The candidate should be a Cybersecurity Data Scientist with a background in machine lea...',\n",
       " 'Experience of working on end-to-end data science pipeline: problem scoping, data gather...',\n",
       " 'Duration of the internship: 3 months+ internship completion certificate We are a group ...',\n",
       " 'Required Technical and Professional ExpertisePreferred Technical and Professional Exper...',\n",
       " 'Experience working with enterprise architecture for the complex solutions solving busin...',\n",
       " 'Experience in creating and using advanced machine learning algorithms and statistics su...',\n",
       " 'Should have hired and nurtured talent and grow them in market facing specialists and co...']"
      ]
     },
     "execution_count": 46,
     "metadata": {},
     "output_type": "execute_result"
    }
   ],
   "source": [
    "ten_job_description=jobs_description[:10]\n",
    "ten_job_description\n"
   ]
  },
  {
   "cell_type": "code",
   "execution_count": 47,
   "metadata": {},
   "outputs": [],
   "source": [
    "jobs_ds=pd.DataFrame({})\n",
    "jobs_ds['title']=ten_job_titles\n",
    "jobs_ds['comapny']=ten_company_names\n",
    "jobs_ds['description']=ten_job_description\n",
    "jobs_ds['location']=ten_job_locations"
   ]
  },
  {
   "cell_type": "code",
   "execution_count": 48,
   "metadata": {},
   "outputs": [
    {
     "data": {
      "text/html": [
       "<div>\n",
       "<style scoped>\n",
       "    .dataframe tbody tr th:only-of-type {\n",
       "        vertical-align: middle;\n",
       "    }\n",
       "\n",
       "    .dataframe tbody tr th {\n",
       "        vertical-align: top;\n",
       "    }\n",
       "\n",
       "    .dataframe thead th {\n",
       "        text-align: right;\n",
       "    }\n",
       "</style>\n",
       "<table border=\"1\" class=\"dataframe\">\n",
       "  <thead>\n",
       "    <tr style=\"text-align: right;\">\n",
       "      <th></th>\n",
       "      <th>title</th>\n",
       "      <th>comapny</th>\n",
       "      <th>description</th>\n",
       "      <th>location</th>\n",
       "    </tr>\n",
       "  </thead>\n",
       "  <tbody>\n",
       "    <tr>\n",
       "      <th>0</th>\n",
       "      <td>Senior Data Scientist</td>\n",
       "      <td>RedBus</td>\n",
       "      <td>Job Role: Senior Data Scientist Reporting To: ...</td>\n",
       "      <td>Bangalore/Bengaluru</td>\n",
       "    </tr>\n",
       "    <tr>\n",
       "      <th>1</th>\n",
       "      <td>Immediate job opening - Senior Data Scientist</td>\n",
       "      <td>RedBus</td>\n",
       "      <td>Post-Graduation in Statistics / Computer Scien...</td>\n",
       "      <td>Bangalore/Bengaluru</td>\n",
       "    </tr>\n",
       "    <tr>\n",
       "      <th>2</th>\n",
       "      <td>Senior Data Scientist</td>\n",
       "      <td>Fractal Analytics</td>\n",
       "      <td>Serve as primary technical lead on all phases ...</td>\n",
       "      <td>Mumbai, Gurgaon/Gurugram, Bangalore/Bengaluru</td>\n",
       "    </tr>\n",
       "    <tr>\n",
       "      <th>3</th>\n",
       "      <td>Lead Data Scientist</td>\n",
       "      <td>FICO</td>\n",
       "      <td>The candidate should be a Cybersecurity Data S...</td>\n",
       "      <td>Bangalore/Bengaluru</td>\n",
       "    </tr>\n",
       "    <tr>\n",
       "      <th>4</th>\n",
       "      <td>Lead Data Scientist</td>\n",
       "      <td>Fractal Analytics</td>\n",
       "      <td>Experience of working on end-to-end data scien...</td>\n",
       "      <td>Gurgaon/Gurugram, Bangalore/Bengaluru, Mumbai ...</td>\n",
       "    </tr>\n",
       "    <tr>\n",
       "      <th>5</th>\n",
       "      <td>Data analytics / Data scientist intern (work f...</td>\n",
       "      <td>TalkValley LLC</td>\n",
       "      <td>Duration of the internship: 3 months+ internsh...</td>\n",
       "      <td>Kolkata, Bangalore/Bengaluru, Delhi / NCR</td>\n",
       "    </tr>\n",
       "    <tr>\n",
       "      <th>6</th>\n",
       "      <td>Data Scientist - IBM Garage</td>\n",
       "      <td>IBM India Pvt. Limited</td>\n",
       "      <td>Required Technical and Professional ExpertiseP...</td>\n",
       "      <td>Bengaluru/Bangalore</td>\n",
       "    </tr>\n",
       "    <tr>\n",
       "      <th>7</th>\n",
       "      <td>Digital Enterprise Architect (Data Scientist)</td>\n",
       "      <td>Mphasis Limited</td>\n",
       "      <td>Experience working with enterprise architectur...</td>\n",
       "      <td>Bangalore/Bengaluru</td>\n",
       "    </tr>\n",
       "    <tr>\n",
       "      <th>8</th>\n",
       "      <td>Data Scientist</td>\n",
       "      <td>IBM India Pvt. Limited</td>\n",
       "      <td>Experience in creating and using advanced mach...</td>\n",
       "      <td>Bangalore/Bengaluru</td>\n",
       "    </tr>\n",
       "    <tr>\n",
       "      <th>9</th>\n",
       "      <td>Data Scientist</td>\n",
       "      <td>IBM India Pvt. Limited</td>\n",
       "      <td>Should have hired and nurtured talent and grow...</td>\n",
       "      <td>Bangalore/Bengaluru</td>\n",
       "    </tr>\n",
       "  </tbody>\n",
       "</table>\n",
       "</div>"
      ],
      "text/plain": [
       "                                               title                 comapny  \\\n",
       "0                              Senior Data Scientist                  RedBus   \n",
       "1      Immediate job opening - Senior Data Scientist                  RedBus   \n",
       "2                              Senior Data Scientist       Fractal Analytics   \n",
       "3                                Lead Data Scientist                    FICO   \n",
       "4                                Lead Data Scientist       Fractal Analytics   \n",
       "5  Data analytics / Data scientist intern (work f...          TalkValley LLC   \n",
       "6                        Data Scientist - IBM Garage  IBM India Pvt. Limited   \n",
       "7      Digital Enterprise Architect (Data Scientist)         Mphasis Limited   \n",
       "8                                     Data Scientist  IBM India Pvt. Limited   \n",
       "9                                     Data Scientist  IBM India Pvt. Limited   \n",
       "\n",
       "                                         description  \\\n",
       "0  Job Role: Senior Data Scientist Reporting To: ...   \n",
       "1  Post-Graduation in Statistics / Computer Scien...   \n",
       "2  Serve as primary technical lead on all phases ...   \n",
       "3  The candidate should be a Cybersecurity Data S...   \n",
       "4  Experience of working on end-to-end data scien...   \n",
       "5  Duration of the internship: 3 months+ internsh...   \n",
       "6  Required Technical and Professional ExpertiseP...   \n",
       "7  Experience working with enterprise architectur...   \n",
       "8  Experience in creating and using advanced mach...   \n",
       "9  Should have hired and nurtured talent and grow...   \n",
       "\n",
       "                                            location  \n",
       "0                                Bangalore/Bengaluru  \n",
       "1                                Bangalore/Bengaluru  \n",
       "2      Mumbai, Gurgaon/Gurugram, Bangalore/Bengaluru  \n",
       "3                                Bangalore/Bengaluru  \n",
       "4  Gurgaon/Gurugram, Bangalore/Bengaluru, Mumbai ...  \n",
       "5          Kolkata, Bangalore/Bengaluru, Delhi / NCR  \n",
       "6                                Bengaluru/Bangalore  \n",
       "7                                Bangalore/Bengaluru  \n",
       "8                                Bangalore/Bengaluru  \n",
       "9                                Bangalore/Bengaluru  "
      ]
     },
     "execution_count": 48,
     "metadata": {},
     "output_type": "execute_result"
    }
   ],
   "source": [
    "jobs_ds"
   ]
  },
  {
   "cell_type": "raw",
   "metadata": {},
   "source": [
    "Q3: In this question you have to scrape data using the filters available on the webpage as shown below:\n",
    "    \n",
    "    You have to use the location and salary filter.\n",
    "    You have to scrape data for “Data Scientist” designation for first 10 job results.\n",
    "    You have to scrape the job-title, job-location, company_name, experience_required.\n",
    "    The location filter to be used is “Delhi/NCR”\n",
    "    The salary filter to be used is “3-6” lakhs\n",
    "    The task will be done as shown in the below steps:\n",
    "    1. first get the webpage https://www.naukri.com/\n",
    "    2. Enter “Data Scientist” in “Skill,Designations,Companies” field .\n",
    "    3. Then click the search button.\n",
    "    4. Then apply the location filter and salary filter by checking the respective boxes\n",
    "    5. Then scrape the data for the first 10 jobs results you get.\n",
    "    6. Finally create a dataframe of the scraped data.\n",
    "Note- All of the above steps have to be done in code. No step is to be done manually."
   ]
  },
  {
   "cell_type": "code",
   "execution_count": 49,
   "metadata": {},
   "outputs": [],
   "source": [
    "import selenium\n",
    "import pandas as pd\n",
    "from selenium import webdriver\n",
    "import warnings\n",
    "warnings.filterwarnings('ignore')"
   ]
  },
  {
   "cell_type": "code",
   "execution_count": 50,
   "metadata": {},
   "outputs": [],
   "source": [
    "driver=webdriver.Chrome(r\"C:\\Users\\ChesthaS\\Downloads\\chromedriver_win32 (1)\\chromedriver.exe\")"
   ]
  },
  {
   "cell_type": "code",
   "execution_count": 51,
   "metadata": {},
   "outputs": [],
   "source": [
    "url='https://www.naukri.com/'\n",
    "driver.get(url)"
   ]
  },
  {
   "cell_type": "code",
   "execution_count": 52,
   "metadata": {},
   "outputs": [
    {
     "data": {
      "text/plain": [
       "<selenium.webdriver.remote.webelement.WebElement (session=\"fbbbc92f37454dc3f93e045e742bade9\", element=\"70fb2ce1-a429-4ec2-81e8-3ed1ffb86865\")>"
      ]
     },
     "execution_count": 52,
     "metadata": {},
     "output_type": "execute_result"
    }
   ],
   "source": [
    "search_job=driver.find_element_by_id(\"qsb-keyword-sugg\")\n",
    "search_job"
   ]
  },
  {
   "cell_type": "code",
   "execution_count": 53,
   "metadata": {},
   "outputs": [],
   "source": [
    "search_job.send_keys(\"Data Scientist\")"
   ]
  },
  {
   "cell_type": "code",
   "execution_count": 54,
   "metadata": {},
   "outputs": [
    {
     "data": {
      "text/plain": [
       "<selenium.webdriver.remote.webelement.WebElement (session=\"fbbbc92f37454dc3f93e045e742bade9\", element=\"922001c2-f548-4704-8dd8-b07b527f8e40\")>"
      ]
     },
     "execution_count": 54,
     "metadata": {},
     "output_type": "execute_result"
    }
   ],
   "source": [
    "search_btn=driver.find_element_by_xpath(\"//button[@class='btn']\")\n",
    "search_btn\n"
   ]
  },
  {
   "cell_type": "code",
   "execution_count": 55,
   "metadata": {},
   "outputs": [],
   "source": [
    "search_btn.click()"
   ]
  },
  {
   "cell_type": "code",
   "execution_count": 57,
   "metadata": {},
   "outputs": [],
   "source": [
    "search_filter=driver.find_element_by_xpath(\"//div[@class='filterOptns']/div[2]/label/i\")"
   ]
  },
  {
   "cell_type": "code",
   "execution_count": 58,
   "metadata": {},
   "outputs": [],
   "source": [
    "search_filter.click()"
   ]
  },
  {
   "cell_type": "code",
   "execution_count": 59,
   "metadata": {},
   "outputs": [],
   "source": [
    "search_2nd_filter=driver.find_element_by_xpath(\"//div[@class='filters']/div[3]/div[2]/div[2]/label/i\")"
   ]
  },
  {
   "cell_type": "code",
   "execution_count": 60,
   "metadata": {},
   "outputs": [],
   "source": [
    "search_2nd_filter.click()"
   ]
  },
  {
   "cell_type": "code",
   "execution_count": 62,
   "metadata": {},
   "outputs": [
    {
     "data": {
      "text/plain": [
       "[<selenium.webdriver.remote.webelement.WebElement (session=\"fbbbc92f37454dc3f93e045e742bade9\", element=\"6d64a677-91c2-4219-b9f8-f43699a86604\")>,\n",
       " <selenium.webdriver.remote.webelement.WebElement (session=\"fbbbc92f37454dc3f93e045e742bade9\", element=\"10a3d340-6a20-43fc-9e82-221ad13746c5\")>,\n",
       " <selenium.webdriver.remote.webelement.WebElement (session=\"fbbbc92f37454dc3f93e045e742bade9\", element=\"d968a3cd-8aec-4d0d-afd4-920348827c07\")>,\n",
       " <selenium.webdriver.remote.webelement.WebElement (session=\"fbbbc92f37454dc3f93e045e742bade9\", element=\"d826c792-01c8-4e9f-8c03-4878931e3bf0\")>,\n",
       " <selenium.webdriver.remote.webelement.WebElement (session=\"fbbbc92f37454dc3f93e045e742bade9\", element=\"fb43892b-d8da-4b96-bafd-a18661a81554\")>,\n",
       " <selenium.webdriver.remote.webelement.WebElement (session=\"fbbbc92f37454dc3f93e045e742bade9\", element=\"7e72f10f-5b40-45c4-9f93-c9b2d6ce8e83\")>,\n",
       " <selenium.webdriver.remote.webelement.WebElement (session=\"fbbbc92f37454dc3f93e045e742bade9\", element=\"07150b3c-4e1c-4aa2-8c1e-035ba0e7de7a\")>,\n",
       " <selenium.webdriver.remote.webelement.WebElement (session=\"fbbbc92f37454dc3f93e045e742bade9\", element=\"83c90ae1-6486-4c6f-8393-58d48c481f0c\")>,\n",
       " <selenium.webdriver.remote.webelement.WebElement (session=\"fbbbc92f37454dc3f93e045e742bade9\", element=\"f8c58b6a-f1e3-445a-a7de-985f8e4b5960\")>,\n",
       " <selenium.webdriver.remote.webelement.WebElement (session=\"fbbbc92f37454dc3f93e045e742bade9\", element=\"db3b4c04-1500-4aea-bfa3-eec180af4bf7\")>,\n",
       " <selenium.webdriver.remote.webelement.WebElement (session=\"fbbbc92f37454dc3f93e045e742bade9\", element=\"876ef576-ab32-4769-a6d6-4ec24e8415a7\")>,\n",
       " <selenium.webdriver.remote.webelement.WebElement (session=\"fbbbc92f37454dc3f93e045e742bade9\", element=\"eea779f1-77ee-4e8b-8ed8-addef54147b1\")>,\n",
       " <selenium.webdriver.remote.webelement.WebElement (session=\"fbbbc92f37454dc3f93e045e742bade9\", element=\"abecb11a-f6f1-4a0f-b42a-6b75f5339d4a\")>,\n",
       " <selenium.webdriver.remote.webelement.WebElement (session=\"fbbbc92f37454dc3f93e045e742bade9\", element=\"ced1c4ad-aa6d-46a7-b4dd-f028ea0ee8b1\")>,\n",
       " <selenium.webdriver.remote.webelement.WebElement (session=\"fbbbc92f37454dc3f93e045e742bade9\", element=\"f3574792-96b0-415e-8fd8-bf5ff555dd18\")>,\n",
       " <selenium.webdriver.remote.webelement.WebElement (session=\"fbbbc92f37454dc3f93e045e742bade9\", element=\"0baa4759-fd78-4ea8-bdaf-b31c6e4e5c39\")>,\n",
       " <selenium.webdriver.remote.webelement.WebElement (session=\"fbbbc92f37454dc3f93e045e742bade9\", element=\"c6e23257-1c7e-4e5f-8eb8-38d29036c2c4\")>,\n",
       " <selenium.webdriver.remote.webelement.WebElement (session=\"fbbbc92f37454dc3f93e045e742bade9\", element=\"b4b7c9c5-2d53-4e3e-bb3a-321da0479c02\")>,\n",
       " <selenium.webdriver.remote.webelement.WebElement (session=\"fbbbc92f37454dc3f93e045e742bade9\", element=\"7d0ad81f-6189-4eac-8bb7-1164c5493008\")>,\n",
       " <selenium.webdriver.remote.webelement.WebElement (session=\"fbbbc92f37454dc3f93e045e742bade9\", element=\"d93bc73a-d0c3-4b26-a8c1-4caf2d912635\")>]"
      ]
     },
     "execution_count": 62,
     "metadata": {},
     "output_type": "execute_result"
    }
   ],
   "source": [
    "title_tags=driver.find_elements_by_xpath(\"//a[@class='title fw500 ellipsis']\")\n",
    "title_tags"
   ]
  },
  {
   "cell_type": "code",
   "execution_count": 63,
   "metadata": {},
   "outputs": [
    {
     "data": {
      "text/plain": [
       "['Data analytics / Data scientist intern (work from Home)',\n",
       " 'Chaayos is Looking For Data Scientist',\n",
       " 'Data Scientist',\n",
       " 'Data Scientist / Data Analyst -Business Analyst',\n",
       " 'Junior Data Scientist',\n",
       " 'We are hiring- Data Scientist +Python- Noida',\n",
       " 'Data Scientist',\n",
       " 'Data Scientist',\n",
       " 'Data Analyst/Scientist Big Data, Statistical Techniques',\n",
       " 'Business Analyst- Data Scientist']"
      ]
     },
     "execution_count": 63,
     "metadata": {},
     "output_type": "execute_result"
    }
   ],
   "source": [
    "job_titles=[]\n",
    "for i in title_tags[0:10]:\n",
    "    job_titles.append(i.text)\n",
    "    \n",
    "job_titles\n",
    "    "
   ]
  },
  {
   "cell_type": "code",
   "execution_count": 64,
   "metadata": {},
   "outputs": [
    {
     "data": {
      "text/plain": [
       "[<selenium.webdriver.remote.webelement.WebElement (session=\"fbbbc92f37454dc3f93e045e742bade9\", element=\"a50bb0a5-3ea6-4a28-8cc7-0d9514be6ee4\")>,\n",
       " <selenium.webdriver.remote.webelement.WebElement (session=\"fbbbc92f37454dc3f93e045e742bade9\", element=\"d3c81ac6-8a44-401b-8346-4ae217fe68ab\")>,\n",
       " <selenium.webdriver.remote.webelement.WebElement (session=\"fbbbc92f37454dc3f93e045e742bade9\", element=\"2074beae-c91a-4ef4-8c78-a0b28981f152\")>,\n",
       " <selenium.webdriver.remote.webelement.WebElement (session=\"fbbbc92f37454dc3f93e045e742bade9\", element=\"5fa32dcc-cbb3-42c7-bf62-303014ea6111\")>,\n",
       " <selenium.webdriver.remote.webelement.WebElement (session=\"fbbbc92f37454dc3f93e045e742bade9\", element=\"a37d983d-bab1-410f-8579-7430278bed64\")>,\n",
       " <selenium.webdriver.remote.webelement.WebElement (session=\"fbbbc92f37454dc3f93e045e742bade9\", element=\"d1c7ce7e-420a-4529-9265-94700e911c1f\")>,\n",
       " <selenium.webdriver.remote.webelement.WebElement (session=\"fbbbc92f37454dc3f93e045e742bade9\", element=\"7fb9944a-7375-485b-8456-2aa5ac24d3e4\")>,\n",
       " <selenium.webdriver.remote.webelement.WebElement (session=\"fbbbc92f37454dc3f93e045e742bade9\", element=\"3153fb50-aae3-4ad4-a350-6d0cd519be0c\")>,\n",
       " <selenium.webdriver.remote.webelement.WebElement (session=\"fbbbc92f37454dc3f93e045e742bade9\", element=\"53e59da8-f2cb-45f1-93a6-6e7de0c18cef\")>,\n",
       " <selenium.webdriver.remote.webelement.WebElement (session=\"fbbbc92f37454dc3f93e045e742bade9\", element=\"fd46cecb-832f-493f-be30-bc617e454303\")>,\n",
       " <selenium.webdriver.remote.webelement.WebElement (session=\"fbbbc92f37454dc3f93e045e742bade9\", element=\"7d384312-ea17-41dd-b3e1-26f59c0a9b9a\")>,\n",
       " <selenium.webdriver.remote.webelement.WebElement (session=\"fbbbc92f37454dc3f93e045e742bade9\", element=\"b77f0144-3fd1-477d-8f59-e864a7bc6284\")>,\n",
       " <selenium.webdriver.remote.webelement.WebElement (session=\"fbbbc92f37454dc3f93e045e742bade9\", element=\"2f24f696-6233-4702-88d0-4675452067be\")>,\n",
       " <selenium.webdriver.remote.webelement.WebElement (session=\"fbbbc92f37454dc3f93e045e742bade9\", element=\"9a455efc-e739-44ae-9bdf-53366c00fb46\")>,\n",
       " <selenium.webdriver.remote.webelement.WebElement (session=\"fbbbc92f37454dc3f93e045e742bade9\", element=\"313175fd-fe6d-4345-96fb-a431416139dd\")>,\n",
       " <selenium.webdriver.remote.webelement.WebElement (session=\"fbbbc92f37454dc3f93e045e742bade9\", element=\"53f6d50b-c4be-4a8a-940f-30244ac9fcae\")>,\n",
       " <selenium.webdriver.remote.webelement.WebElement (session=\"fbbbc92f37454dc3f93e045e742bade9\", element=\"89b81dfe-1f97-412e-80e9-d5bd6e5578d6\")>,\n",
       " <selenium.webdriver.remote.webelement.WebElement (session=\"fbbbc92f37454dc3f93e045e742bade9\", element=\"f549f46e-2ece-4160-9bbc-4252b605e0cc\")>,\n",
       " <selenium.webdriver.remote.webelement.WebElement (session=\"fbbbc92f37454dc3f93e045e742bade9\", element=\"82eeff1e-40df-437b-afe6-63a0082a1c26\")>,\n",
       " <selenium.webdriver.remote.webelement.WebElement (session=\"fbbbc92f37454dc3f93e045e742bade9\", element=\"f1ed8d4c-c266-4fa1-a5ea-521490cb6db9\")>]"
      ]
     },
     "execution_count": 64,
     "metadata": {},
     "output_type": "execute_result"
    }
   ],
   "source": [
    "company_tags=driver.find_elements_by_xpath(\"//a[@class='subTitle ellipsis fleft']\")\n",
    "company_tags"
   ]
  },
  {
   "cell_type": "code",
   "execution_count": 65,
   "metadata": {},
   "outputs": [
    {
     "data": {
      "text/plain": [
       "['TalkValley LLC',\n",
       " 'Chaayos (Sunshine Teahouse Pvt. Ltd.)',\n",
       " 'Fractal Analytics',\n",
       " 'Inflexion Analytix Private Limited',\n",
       " 'R Systems International Ltd.',\n",
       " 'RANDSTAD INDIA PVT LTD',\n",
       " 'Milliman India Pvt Ltd',\n",
       " 'NEC CORPORATION INDIA PRIVATE LIMITED',\n",
       " 'The Search House (A Div of JSD Search House Pvt. L td.)',\n",
       " 'Wipro']"
      ]
     },
     "execution_count": 65,
     "metadata": {},
     "output_type": "execute_result"
    }
   ],
   "source": [
    "company_names=[]\n",
    "for i in company_tags[0:10]:\n",
    "    company_names.append(i.text)\n",
    "    \n",
    "company_names\n",
    "    "
   ]
  },
  {
   "cell_type": "code",
   "execution_count": 66,
   "metadata": {},
   "outputs": [
    {
     "data": {
      "text/plain": [
       "[<selenium.webdriver.remote.webelement.WebElement (session=\"fbbbc92f37454dc3f93e045e742bade9\", element=\"69bf4f27-2af5-444c-bea6-d8a443fe109e\")>,\n",
       " <selenium.webdriver.remote.webelement.WebElement (session=\"fbbbc92f37454dc3f93e045e742bade9\", element=\"a1930d2b-e85d-476a-a5fc-bc9e1cd15ba7\")>,\n",
       " <selenium.webdriver.remote.webelement.WebElement (session=\"fbbbc92f37454dc3f93e045e742bade9\", element=\"2cdfb239-ba82-4d52-8284-fac6917f3631\")>,\n",
       " <selenium.webdriver.remote.webelement.WebElement (session=\"fbbbc92f37454dc3f93e045e742bade9\", element=\"48389495-92a8-45a1-a444-9faaf699ab7e\")>,\n",
       " <selenium.webdriver.remote.webelement.WebElement (session=\"fbbbc92f37454dc3f93e045e742bade9\", element=\"a16fdee7-9009-46d8-abdd-a6a87b4f30d0\")>,\n",
       " <selenium.webdriver.remote.webelement.WebElement (session=\"fbbbc92f37454dc3f93e045e742bade9\", element=\"9de11a01-41a2-48db-a796-549a4e9da0bc\")>,\n",
       " <selenium.webdriver.remote.webelement.WebElement (session=\"fbbbc92f37454dc3f93e045e742bade9\", element=\"8892fb4f-c806-4cf5-a2a8-a6f649745917\")>,\n",
       " <selenium.webdriver.remote.webelement.WebElement (session=\"fbbbc92f37454dc3f93e045e742bade9\", element=\"bf829dde-fd6e-4bad-a4a5-7d8c93609a29\")>,\n",
       " <selenium.webdriver.remote.webelement.WebElement (session=\"fbbbc92f37454dc3f93e045e742bade9\", element=\"e27fac9c-5b98-4da6-bf44-1c0dda26d86f\")>,\n",
       " <selenium.webdriver.remote.webelement.WebElement (session=\"fbbbc92f37454dc3f93e045e742bade9\", element=\"5899732a-2e13-4130-a544-9fdaf08d83b1\")>,\n",
       " <selenium.webdriver.remote.webelement.WebElement (session=\"fbbbc92f37454dc3f93e045e742bade9\", element=\"d1b3e5a7-3862-4cd9-a25e-81595299ea77\")>,\n",
       " <selenium.webdriver.remote.webelement.WebElement (session=\"fbbbc92f37454dc3f93e045e742bade9\", element=\"e9306bc9-7d80-4ea6-a69f-1f29e01fef69\")>,\n",
       " <selenium.webdriver.remote.webelement.WebElement (session=\"fbbbc92f37454dc3f93e045e742bade9\", element=\"c4e38a41-40be-469f-9897-4a51237c6d85\")>,\n",
       " <selenium.webdriver.remote.webelement.WebElement (session=\"fbbbc92f37454dc3f93e045e742bade9\", element=\"ce4114b5-ecf5-454b-a5ed-881dff04d10e\")>,\n",
       " <selenium.webdriver.remote.webelement.WebElement (session=\"fbbbc92f37454dc3f93e045e742bade9\", element=\"23f9eb2c-b183-4959-ab6c-bc9a591a50a8\")>,\n",
       " <selenium.webdriver.remote.webelement.WebElement (session=\"fbbbc92f37454dc3f93e045e742bade9\", element=\"23921c01-6f16-4ad0-87b1-3d08ad8350c6\")>,\n",
       " <selenium.webdriver.remote.webelement.WebElement (session=\"fbbbc92f37454dc3f93e045e742bade9\", element=\"ba8fb8d0-9664-46b5-a479-dc497be7a996\")>,\n",
       " <selenium.webdriver.remote.webelement.WebElement (session=\"fbbbc92f37454dc3f93e045e742bade9\", element=\"d072ca2f-012a-486c-8c3d-02a711e4308b\")>,\n",
       " <selenium.webdriver.remote.webelement.WebElement (session=\"fbbbc92f37454dc3f93e045e742bade9\", element=\"d035650a-981b-4d27-a149-87d291259caf\")>,\n",
       " <selenium.webdriver.remote.webelement.WebElement (session=\"fbbbc92f37454dc3f93e045e742bade9\", element=\"cae36358-5c29-4446-a88f-658a3ce0d57e\")>]"
      ]
     },
     "execution_count": 66,
     "metadata": {},
     "output_type": "execute_result"
    }
   ],
   "source": [
    "experience_tags=driver.find_elements_by_xpath(\"//li[@class='fleft grey-text br2 placeHolderLi experience']\")\n",
    "experience_tags"
   ]
  },
  {
   "cell_type": "code",
   "execution_count": 67,
   "metadata": {},
   "outputs": [
    {
     "data": {
      "text/plain": [
       "['0-5 Yrs',\n",
       " '0-5 Yrs',\n",
       " '3-7 Yrs',\n",
       " '0-3 Yrs',\n",
       " '3-5 Yrs',\n",
       " '4-7 Yrs',\n",
       " '2-5 Yrs',\n",
       " '3-8 Yrs',\n",
       " '2-7 Yrs',\n",
       " '2-5 Yrs']"
      ]
     },
     "execution_count": 67,
     "metadata": {},
     "output_type": "execute_result"
    }
   ],
   "source": [
    "job_experiences=[]\n",
    "for i in experience_tags[0:10]:\n",
    "    job_experiences.append(i.text)\n",
    "    \n",
    "job_experiences\n",
    "    \n"
   ]
  },
  {
   "cell_type": "code",
   "execution_count": 68,
   "metadata": {},
   "outputs": [
    {
     "data": {
      "text/plain": [
       "[<selenium.webdriver.remote.webelement.WebElement (session=\"fbbbc92f37454dc3f93e045e742bade9\", element=\"4d4cda60-22d8-4dad-beab-58ab3433d4ed\")>,\n",
       " <selenium.webdriver.remote.webelement.WebElement (session=\"fbbbc92f37454dc3f93e045e742bade9\", element=\"ec905e55-85b4-49c8-acd4-4f104ae5e1dc\")>,\n",
       " <selenium.webdriver.remote.webelement.WebElement (session=\"fbbbc92f37454dc3f93e045e742bade9\", element=\"48769d64-0f83-45e5-9afa-1a71bcef1206\")>,\n",
       " <selenium.webdriver.remote.webelement.WebElement (session=\"fbbbc92f37454dc3f93e045e742bade9\", element=\"2ff3a447-d8db-4561-b937-2f9b71828bb3\")>,\n",
       " <selenium.webdriver.remote.webelement.WebElement (session=\"fbbbc92f37454dc3f93e045e742bade9\", element=\"48a866a8-74e6-456e-a193-3f6521475899\")>,\n",
       " <selenium.webdriver.remote.webelement.WebElement (session=\"fbbbc92f37454dc3f93e045e742bade9\", element=\"a8d214c4-af60-4011-ae4f-a5cfd93a6de1\")>,\n",
       " <selenium.webdriver.remote.webelement.WebElement (session=\"fbbbc92f37454dc3f93e045e742bade9\", element=\"bf393f48-0849-4f08-ba3a-f02bd2c95029\")>,\n",
       " <selenium.webdriver.remote.webelement.WebElement (session=\"fbbbc92f37454dc3f93e045e742bade9\", element=\"4d23391c-266d-4c64-a880-69fd749a6fe6\")>,\n",
       " <selenium.webdriver.remote.webelement.WebElement (session=\"fbbbc92f37454dc3f93e045e742bade9\", element=\"3cd07410-bf4a-40e7-a669-35edafd9f2fc\")>,\n",
       " <selenium.webdriver.remote.webelement.WebElement (session=\"fbbbc92f37454dc3f93e045e742bade9\", element=\"7ea5fe44-e506-4cc4-a3cb-9618cbc5ee02\")>,\n",
       " <selenium.webdriver.remote.webelement.WebElement (session=\"fbbbc92f37454dc3f93e045e742bade9\", element=\"22f5d929-3b96-4dcb-8a8c-5d5860240927\")>,\n",
       " <selenium.webdriver.remote.webelement.WebElement (session=\"fbbbc92f37454dc3f93e045e742bade9\", element=\"6fdf01f4-1f86-4ee0-a95e-9dbe8f50cf4d\")>,\n",
       " <selenium.webdriver.remote.webelement.WebElement (session=\"fbbbc92f37454dc3f93e045e742bade9\", element=\"a7af7382-cb3f-43ce-9105-9f87d6f4a8d3\")>,\n",
       " <selenium.webdriver.remote.webelement.WebElement (session=\"fbbbc92f37454dc3f93e045e742bade9\", element=\"4b4042fe-35f9-4866-99e9-0a9591dd7a57\")>,\n",
       " <selenium.webdriver.remote.webelement.WebElement (session=\"fbbbc92f37454dc3f93e045e742bade9\", element=\"08dd4be2-57fe-43e0-abc8-cf5d75386d0f\")>,\n",
       " <selenium.webdriver.remote.webelement.WebElement (session=\"fbbbc92f37454dc3f93e045e742bade9\", element=\"daae88bb-4a69-45bd-9148-d55f4f70bef3\")>,\n",
       " <selenium.webdriver.remote.webelement.WebElement (session=\"fbbbc92f37454dc3f93e045e742bade9\", element=\"b55dcd0c-dc21-445b-923f-1b490096580c\")>,\n",
       " <selenium.webdriver.remote.webelement.WebElement (session=\"fbbbc92f37454dc3f93e045e742bade9\", element=\"a31eb292-e4ab-4b94-8c61-854e93faf9c1\")>,\n",
       " <selenium.webdriver.remote.webelement.WebElement (session=\"fbbbc92f37454dc3f93e045e742bade9\", element=\"f4ebfb62-9e02-47e6-8d16-a01b583df837\")>,\n",
       " <selenium.webdriver.remote.webelement.WebElement (session=\"fbbbc92f37454dc3f93e045e742bade9\", element=\"fa9784da-0445-40a4-b772-cac498701ff4\")>]"
      ]
     },
     "execution_count": 68,
     "metadata": {},
     "output_type": "execute_result"
    }
   ],
   "source": [
    "location_tags=driver.find_elements_by_xpath(\"//li[@class='fleft grey-text br2 placeHolderLi location']\")\n",
    "location_tags"
   ]
  },
  {
   "cell_type": "code",
   "execution_count": 69,
   "metadata": {},
   "outputs": [
    {
     "data": {
      "text/plain": [
       "['Kolkata, Bangalore/Bengaluru, Delhi / NCR',\n",
       " 'New Delhi',\n",
       " 'Mumbai, Gurgaon/Gurugram, Bangalore/Bengaluru',\n",
       " 'Mumbai, Hyderabad/Secunderabad, Pune, Gurgaon/Gurugram, Chennai, Bangalore/Bengaluru',\n",
       " 'Noida(Sector-59 Noida)',\n",
       " 'Noida, Gurgaon/Gurugram, Delhi / NCR',\n",
       " 'Gurgaon/Gurugram, Delhi / NCR',\n",
       " 'Noida',\n",
       " 'Gurgaon/Gurugram',\n",
       " 'Noida, Gurgaon/Gurugram']"
      ]
     },
     "execution_count": 69,
     "metadata": {},
     "output_type": "execute_result"
    }
   ],
   "source": [
    "job_locations=[]\n",
    "for i in location_tags[0:10]:\n",
    "    job_locations.append(i.text)\n",
    "    \n",
    "job_locations"
   ]
  },
  {
   "cell_type": "code",
   "execution_count": 70,
   "metadata": {},
   "outputs": [],
   "source": [
    "jobs_ds=pd.DataFrame({})\n",
    "jobs_ds['title']=job_titles\n",
    "jobs_ds['comapny']=company_names\n",
    "jobs_ds['experience']=job_experiences\n",
    "jobs_ds['location']=job_locations"
   ]
  },
  {
   "cell_type": "code",
   "execution_count": 71,
   "metadata": {},
   "outputs": [
    {
     "data": {
      "text/html": [
       "<div>\n",
       "<style scoped>\n",
       "    .dataframe tbody tr th:only-of-type {\n",
       "        vertical-align: middle;\n",
       "    }\n",
       "\n",
       "    .dataframe tbody tr th {\n",
       "        vertical-align: top;\n",
       "    }\n",
       "\n",
       "    .dataframe thead th {\n",
       "        text-align: right;\n",
       "    }\n",
       "</style>\n",
       "<table border=\"1\" class=\"dataframe\">\n",
       "  <thead>\n",
       "    <tr style=\"text-align: right;\">\n",
       "      <th></th>\n",
       "      <th>title</th>\n",
       "      <th>comapny</th>\n",
       "      <th>experience</th>\n",
       "      <th>location</th>\n",
       "    </tr>\n",
       "  </thead>\n",
       "  <tbody>\n",
       "    <tr>\n",
       "      <th>0</th>\n",
       "      <td>Data analytics / Data scientist intern (work f...</td>\n",
       "      <td>TalkValley LLC</td>\n",
       "      <td>0-5 Yrs</td>\n",
       "      <td>Kolkata, Bangalore/Bengaluru, Delhi / NCR</td>\n",
       "    </tr>\n",
       "    <tr>\n",
       "      <th>1</th>\n",
       "      <td>Chaayos is Looking For Data Scientist</td>\n",
       "      <td>Chaayos (Sunshine Teahouse Pvt. Ltd.)</td>\n",
       "      <td>0-5 Yrs</td>\n",
       "      <td>New Delhi</td>\n",
       "    </tr>\n",
       "    <tr>\n",
       "      <th>2</th>\n",
       "      <td>Data Scientist</td>\n",
       "      <td>Fractal Analytics</td>\n",
       "      <td>3-7 Yrs</td>\n",
       "      <td>Mumbai, Gurgaon/Gurugram, Bangalore/Bengaluru</td>\n",
       "    </tr>\n",
       "    <tr>\n",
       "      <th>3</th>\n",
       "      <td>Data Scientist / Data Analyst -Business Analyst</td>\n",
       "      <td>Inflexion Analytix Private Limited</td>\n",
       "      <td>0-3 Yrs</td>\n",
       "      <td>Mumbai, Hyderabad/Secunderabad, Pune, Gurgaon/...</td>\n",
       "    </tr>\n",
       "    <tr>\n",
       "      <th>4</th>\n",
       "      <td>Junior Data Scientist</td>\n",
       "      <td>R Systems International Ltd.</td>\n",
       "      <td>3-5 Yrs</td>\n",
       "      <td>Noida(Sector-59 Noida)</td>\n",
       "    </tr>\n",
       "    <tr>\n",
       "      <th>5</th>\n",
       "      <td>We are hiring- Data Scientist +Python- Noida</td>\n",
       "      <td>RANDSTAD INDIA PVT LTD</td>\n",
       "      <td>4-7 Yrs</td>\n",
       "      <td>Noida, Gurgaon/Gurugram, Delhi / NCR</td>\n",
       "    </tr>\n",
       "    <tr>\n",
       "      <th>6</th>\n",
       "      <td>Data Scientist</td>\n",
       "      <td>Milliman India Pvt Ltd</td>\n",
       "      <td>2-5 Yrs</td>\n",
       "      <td>Gurgaon/Gurugram, Delhi / NCR</td>\n",
       "    </tr>\n",
       "    <tr>\n",
       "      <th>7</th>\n",
       "      <td>Data Scientist</td>\n",
       "      <td>NEC CORPORATION INDIA PRIVATE LIMITED</td>\n",
       "      <td>3-8 Yrs</td>\n",
       "      <td>Noida</td>\n",
       "    </tr>\n",
       "    <tr>\n",
       "      <th>8</th>\n",
       "      <td>Data Analyst/Scientist Big Data, Statistical T...</td>\n",
       "      <td>The Search House (A Div of JSD Search House Pv...</td>\n",
       "      <td>2-7 Yrs</td>\n",
       "      <td>Gurgaon/Gurugram</td>\n",
       "    </tr>\n",
       "    <tr>\n",
       "      <th>9</th>\n",
       "      <td>Business Analyst- Data Scientist</td>\n",
       "      <td>Wipro</td>\n",
       "      <td>2-5 Yrs</td>\n",
       "      <td>Noida, Gurgaon/Gurugram</td>\n",
       "    </tr>\n",
       "  </tbody>\n",
       "</table>\n",
       "</div>"
      ],
      "text/plain": [
       "                                               title  \\\n",
       "0  Data analytics / Data scientist intern (work f...   \n",
       "1              Chaayos is Looking For Data Scientist   \n",
       "2                                     Data Scientist   \n",
       "3    Data Scientist / Data Analyst -Business Analyst   \n",
       "4                              Junior Data Scientist   \n",
       "5       We are hiring- Data Scientist +Python- Noida   \n",
       "6                                     Data Scientist   \n",
       "7                                     Data Scientist   \n",
       "8  Data Analyst/Scientist Big Data, Statistical T...   \n",
       "9                   Business Analyst- Data Scientist   \n",
       "\n",
       "                                             comapny experience  \\\n",
       "0                                     TalkValley LLC    0-5 Yrs   \n",
       "1              Chaayos (Sunshine Teahouse Pvt. Ltd.)    0-5 Yrs   \n",
       "2                                  Fractal Analytics    3-7 Yrs   \n",
       "3                 Inflexion Analytix Private Limited    0-3 Yrs   \n",
       "4                       R Systems International Ltd.    3-5 Yrs   \n",
       "5                             RANDSTAD INDIA PVT LTD    4-7 Yrs   \n",
       "6                             Milliman India Pvt Ltd    2-5 Yrs   \n",
       "7              NEC CORPORATION INDIA PRIVATE LIMITED    3-8 Yrs   \n",
       "8  The Search House (A Div of JSD Search House Pv...    2-7 Yrs   \n",
       "9                                              Wipro    2-5 Yrs   \n",
       "\n",
       "                                            location  \n",
       "0          Kolkata, Bangalore/Bengaluru, Delhi / NCR  \n",
       "1                                          New Delhi  \n",
       "2      Mumbai, Gurgaon/Gurugram, Bangalore/Bengaluru  \n",
       "3  Mumbai, Hyderabad/Secunderabad, Pune, Gurgaon/...  \n",
       "4                             Noida(Sector-59 Noida)  \n",
       "5               Noida, Gurgaon/Gurugram, Delhi / NCR  \n",
       "6                      Gurgaon/Gurugram, Delhi / NCR  \n",
       "7                                              Noida  \n",
       "8                                   Gurgaon/Gurugram  \n",
       "9                            Noida, Gurgaon/Gurugram  "
      ]
     },
     "execution_count": 71,
     "metadata": {},
     "output_type": "execute_result"
    }
   ],
   "source": [
    "jobs_ds"
   ]
  },
  {
   "cell_type": "raw",
   "metadata": {},
   "source": [
    "Q6 : Scrape data of first 100 sunglasses listings on flipkart.com. You have to scrape four attributes:\n",
    "        \n",
    "1. Brand\n",
    "2. Product Description\n",
    "3. Price\n",
    "4. Discount %\n",
    "\n",
    "The attributes which you have to scrape is ticked marked in the below image.\n",
    "\n",
    "To scrape the data you have to go through following steps:\n",
    "1. Go to flipkart webpage by url https://www.flipkart.com/\n",
    "2. Enter “sunglasses” in the search field where “search for products, brands and more” is written and click the search icon\n",
    "3. after that you will reach to a webpage having a lot of sunglasses. From this page you can scrap the required data as usual.\n",
    "4. after scraping data from the first page, go to the “Next” Button at the bottom of the page , then click on it\n",
    "5. Now scrape data from this page as usual\n",
    "6. repeat this until you get data for 100 sunglasses.\n",
    "Note that all of the above steps have to be done by coding only and not manually."
   ]
  },
  {
   "cell_type": "code",
   "execution_count": 72,
   "metadata": {},
   "outputs": [],
   "source": [
    "import selenium\n",
    "import pandas as pd\n",
    "from selenium import webdriver\n",
    "import warnings\n",
    "warnings.filterwarnings('ignore')"
   ]
  },
  {
   "cell_type": "code",
   "execution_count": 74,
   "metadata": {},
   "outputs": [],
   "source": [
    "driver=webdriver.Chrome(r\"C:\\Users\\ChesthaS\\Downloads\\chromedriver_win32 (1)\\chromedriver.exe\")"
   ]
  },
  {
   "cell_type": "code",
   "execution_count": 75,
   "metadata": {},
   "outputs": [],
   "source": [
    "url='https://www.flipkart.com/'\n",
    "driver.get(url)"
   ]
  },
  {
   "cell_type": "code",
   "execution_count": 76,
   "metadata": {},
   "outputs": [
    {
     "data": {
      "text/plain": [
       "<selenium.webdriver.remote.webelement.WebElement (session=\"f3b41b182ec65c761599809f7ffbc226\", element=\"cdae56b7-eeec-44c5-9eb3-65785c8b3796\")>"
      ]
     },
     "execution_count": 76,
     "metadata": {},
     "output_type": "execute_result"
    }
   ],
   "source": [
    "search_products=driver.find_element_by_xpath(\"//input[@class='_3704LK']\")\n",
    "search_products"
   ]
  },
  {
   "cell_type": "code",
   "execution_count": 77,
   "metadata": {},
   "outputs": [],
   "source": [
    "search_products.send_keys(\"sunglasses\")"
   ]
  },
  {
   "cell_type": "code",
   "execution_count": 82,
   "metadata": {},
   "outputs": [],
   "source": [
    "search_btn=driver.find_element_by_xpath(\"//button[@class='L0Z3Pu']\")"
   ]
  },
  {
   "cell_type": "code",
   "execution_count": 83,
   "metadata": {},
   "outputs": [],
   "source": [
    "search_btn.click()"
   ]
  },
  {
   "cell_type": "code",
   "execution_count": 84,
   "metadata": {},
   "outputs": [
    {
     "data": {
      "text/plain": [
       "[<selenium.webdriver.remote.webelement.WebElement (session=\"f3b41b182ec65c761599809f7ffbc226\", element=\"6f7f9c3d-f6fa-435a-8308-0d90b02b0fd3\")>,\n",
       " <selenium.webdriver.remote.webelement.WebElement (session=\"f3b41b182ec65c761599809f7ffbc226\", element=\"966c4094-ea46-45b2-b135-b906c3c6393b\")>,\n",
       " <selenium.webdriver.remote.webelement.WebElement (session=\"f3b41b182ec65c761599809f7ffbc226\", element=\"aed5d1df-9df2-4ef6-88e4-07c68946afc5\")>,\n",
       " <selenium.webdriver.remote.webelement.WebElement (session=\"f3b41b182ec65c761599809f7ffbc226\", element=\"244e3a59-ceac-41b0-a442-10798293a99e\")>,\n",
       " <selenium.webdriver.remote.webelement.WebElement (session=\"f3b41b182ec65c761599809f7ffbc226\", element=\"cf13ee52-a9c4-42c6-bd68-81ef222723c5\")>,\n",
       " <selenium.webdriver.remote.webelement.WebElement (session=\"f3b41b182ec65c761599809f7ffbc226\", element=\"f8a9cc61-1414-4a0c-904d-6b7acdd526c1\")>,\n",
       " <selenium.webdriver.remote.webelement.WebElement (session=\"f3b41b182ec65c761599809f7ffbc226\", element=\"31bf3830-432e-4dd7-8859-2bcbd7ccc002\")>,\n",
       " <selenium.webdriver.remote.webelement.WebElement (session=\"f3b41b182ec65c761599809f7ffbc226\", element=\"bfa46aea-736b-4480-bd85-9454c8562141\")>,\n",
       " <selenium.webdriver.remote.webelement.WebElement (session=\"f3b41b182ec65c761599809f7ffbc226\", element=\"e986f4f1-0c46-459c-9442-9fcc011e8999\")>,\n",
       " <selenium.webdriver.remote.webelement.WebElement (session=\"f3b41b182ec65c761599809f7ffbc226\", element=\"b1520f19-ad39-4719-9a50-dc27222ec229\")>,\n",
       " <selenium.webdriver.remote.webelement.WebElement (session=\"f3b41b182ec65c761599809f7ffbc226\", element=\"2379bcfd-ce21-4900-9e92-6c1074a6d8e7\")>,\n",
       " <selenium.webdriver.remote.webelement.WebElement (session=\"f3b41b182ec65c761599809f7ffbc226\", element=\"e36d0c65-18ee-41b4-9edf-e6b98db15849\")>,\n",
       " <selenium.webdriver.remote.webelement.WebElement (session=\"f3b41b182ec65c761599809f7ffbc226\", element=\"c92c481a-2b3c-4821-93bf-46064ca3c9cb\")>,\n",
       " <selenium.webdriver.remote.webelement.WebElement (session=\"f3b41b182ec65c761599809f7ffbc226\", element=\"020b906b-9b8a-4d78-bafa-23bca147383d\")>,\n",
       " <selenium.webdriver.remote.webelement.WebElement (session=\"f3b41b182ec65c761599809f7ffbc226\", element=\"310493c1-9469-4560-bce3-2dd0abd1d751\")>,\n",
       " <selenium.webdriver.remote.webelement.WebElement (session=\"f3b41b182ec65c761599809f7ffbc226\", element=\"b343ceab-5397-4bfd-afb1-fa080bfe7c3a\")>,\n",
       " <selenium.webdriver.remote.webelement.WebElement (session=\"f3b41b182ec65c761599809f7ffbc226\", element=\"6f619357-e547-4aa4-bcdf-c10d65a69bee\")>,\n",
       " <selenium.webdriver.remote.webelement.WebElement (session=\"f3b41b182ec65c761599809f7ffbc226\", element=\"9bd2054c-a5c7-467e-bc1b-a8e344ac6512\")>,\n",
       " <selenium.webdriver.remote.webelement.WebElement (session=\"f3b41b182ec65c761599809f7ffbc226\", element=\"acb4fcda-3029-4c9a-837f-3398ed5b454f\")>,\n",
       " <selenium.webdriver.remote.webelement.WebElement (session=\"f3b41b182ec65c761599809f7ffbc226\", element=\"03ff9040-dbc6-42f5-8ec1-e00eb62f10bc\")>,\n",
       " <selenium.webdriver.remote.webelement.WebElement (session=\"f3b41b182ec65c761599809f7ffbc226\", element=\"62b7b76d-67ab-427f-92dc-ffb1767f0a2c\")>,\n",
       " <selenium.webdriver.remote.webelement.WebElement (session=\"f3b41b182ec65c761599809f7ffbc226\", element=\"bda42d45-6f66-4501-8612-afa3d9310970\")>,\n",
       " <selenium.webdriver.remote.webelement.WebElement (session=\"f3b41b182ec65c761599809f7ffbc226\", element=\"e488c6eb-2b93-4ce8-a4d0-dd35fb4aeae6\")>,\n",
       " <selenium.webdriver.remote.webelement.WebElement (session=\"f3b41b182ec65c761599809f7ffbc226\", element=\"00704e9f-702e-41f4-ba56-c6f4340ae689\")>,\n",
       " <selenium.webdriver.remote.webelement.WebElement (session=\"f3b41b182ec65c761599809f7ffbc226\", element=\"e34bfd08-a2d9-4d53-bc83-da50a8e09527\")>,\n",
       " <selenium.webdriver.remote.webelement.WebElement (session=\"f3b41b182ec65c761599809f7ffbc226\", element=\"5bb66085-592a-4496-92ab-8d69f84835f1\")>,\n",
       " <selenium.webdriver.remote.webelement.WebElement (session=\"f3b41b182ec65c761599809f7ffbc226\", element=\"58a517d4-cf6e-42df-bc49-7261ebe6f30a\")>,\n",
       " <selenium.webdriver.remote.webelement.WebElement (session=\"f3b41b182ec65c761599809f7ffbc226\", element=\"b776a18d-00b3-4ec5-a612-1c2a770c2d03\")>,\n",
       " <selenium.webdriver.remote.webelement.WebElement (session=\"f3b41b182ec65c761599809f7ffbc226\", element=\"f1be1507-8846-481b-8c2a-85ca2690622f\")>,\n",
       " <selenium.webdriver.remote.webelement.WebElement (session=\"f3b41b182ec65c761599809f7ffbc226\", element=\"24984fb6-b3ea-414d-ada5-bea01cd058ab\")>,\n",
       " <selenium.webdriver.remote.webelement.WebElement (session=\"f3b41b182ec65c761599809f7ffbc226\", element=\"fa941660-b717-41db-8914-5c85abb9f322\")>,\n",
       " <selenium.webdriver.remote.webelement.WebElement (session=\"f3b41b182ec65c761599809f7ffbc226\", element=\"ff4a686d-a978-43fc-955d-952b0cfe5c8a\")>,\n",
       " <selenium.webdriver.remote.webelement.WebElement (session=\"f3b41b182ec65c761599809f7ffbc226\", element=\"37552d94-5a21-4fcd-ad49-989a496a8449\")>,\n",
       " <selenium.webdriver.remote.webelement.WebElement (session=\"f3b41b182ec65c761599809f7ffbc226\", element=\"a0997922-66c9-4caf-84a8-4eb4fd829af9\")>,\n",
       " <selenium.webdriver.remote.webelement.WebElement (session=\"f3b41b182ec65c761599809f7ffbc226\", element=\"4ecfc72a-ebd0-4890-84a0-84bdf73fd9aa\")>,\n",
       " <selenium.webdriver.remote.webelement.WebElement (session=\"f3b41b182ec65c761599809f7ffbc226\", element=\"8c713bb5-1942-4892-b0a3-1776ea06d3b7\")>,\n",
       " <selenium.webdriver.remote.webelement.WebElement (session=\"f3b41b182ec65c761599809f7ffbc226\", element=\"6333ce4e-2c00-4db3-b3ff-f335fe26527a\")>,\n",
       " <selenium.webdriver.remote.webelement.WebElement (session=\"f3b41b182ec65c761599809f7ffbc226\", element=\"6d7108e9-fef5-43ba-a5d2-5507a0014b67\")>,\n",
       " <selenium.webdriver.remote.webelement.WebElement (session=\"f3b41b182ec65c761599809f7ffbc226\", element=\"6185daec-4409-4800-992c-42fc74418ea0\")>,\n",
       " <selenium.webdriver.remote.webelement.WebElement (session=\"f3b41b182ec65c761599809f7ffbc226\", element=\"cb5352a7-4b11-45b1-82e2-02cbd2cc7bf5\")>]"
      ]
     },
     "execution_count": 84,
     "metadata": {},
     "output_type": "execute_result"
    }
   ],
   "source": [
    "brand_tags=driver.find_elements_by_xpath(\"//div[@class='_2WkVRV']\")\n",
    "brand_tags"
   ]
  },
  {
   "cell_type": "code",
   "execution_count": 85,
   "metadata": {},
   "outputs": [
    {
     "data": {
      "text/plain": [
       "['PIRASO',\n",
       " 'Fastrack',\n",
       " 'Fastrack',\n",
       " 'kingsunglasses',\n",
       " 'PIRASO',\n",
       " 'Fastrack',\n",
       " 'PIRASO',\n",
       " 'DEIXELS',\n",
       " 'ROZZETTA CRAFT',\n",
       " 'Fastrack',\n",
       " 'PIRASO',\n",
       " 'GANSTA',\n",
       " 'PIRASO',\n",
       " 'PHENOMENAL',\n",
       " 'Singco',\n",
       " 'PHENOMENAL',\n",
       " 'elegante',\n",
       " 'NuVew',\n",
       " 'Silver Kartz',\n",
       " 'ROZZETTA CRAFT',\n",
       " 'HIPPON',\n",
       " 'Singco India',\n",
       " 'Singco India',\n",
       " 'ROYAL SON',\n",
       " 'ROYAL SON',\n",
       " 'Singco India',\n",
       " 'ROZZETTA CRAFT',\n",
       " 'NuVew',\n",
       " 'ROYAL SON',\n",
       " 'Fastrack',\n",
       " 'Singco India',\n",
       " 'hipe',\n",
       " 'ROZZETTA CRAFT',\n",
       " 'ROYAL SON',\n",
       " 'NuVew',\n",
       " 'ROZZETTA CRAFT',\n",
       " 'GANSTA',\n",
       " 'PHENOMENAL',\n",
       " 'PIRASO',\n",
       " 'ROZZETTA CRAFT']"
      ]
     },
     "execution_count": 85,
     "metadata": {},
     "output_type": "execute_result"
    }
   ],
   "source": [
    "brand_names=[]\n",
    "for i in brand_tags:\n",
    "    brand_names.append(i.text)\n",
    "    \n",
    "brand_names"
   ]
  },
  {
   "cell_type": "code",
   "execution_count": 86,
   "metadata": {},
   "outputs": [
    {
     "data": {
      "text/plain": [
       "40"
      ]
     },
     "execution_count": 86,
     "metadata": {},
     "output_type": "execute_result"
    }
   ],
   "source": [
    "len(brand_names)"
   ]
  },
  {
   "cell_type": "code",
   "execution_count": 87,
   "metadata": {},
   "outputs": [
    {
     "data": {
      "text/plain": [
       "[<selenium.webdriver.remote.webelement.WebElement (session=\"f3b41b182ec65c761599809f7ffbc226\", element=\"c962a683-beef-4d0f-ab85-410c0e28e3ac\")>,\n",
       " <selenium.webdriver.remote.webelement.WebElement (session=\"f3b41b182ec65c761599809f7ffbc226\", element=\"b98ecff1-6b92-4401-b2e1-58c629a94c06\")>,\n",
       " <selenium.webdriver.remote.webelement.WebElement (session=\"f3b41b182ec65c761599809f7ffbc226\", element=\"40219119-919c-4d58-989e-2649aa76443f\")>,\n",
       " <selenium.webdriver.remote.webelement.WebElement (session=\"f3b41b182ec65c761599809f7ffbc226\", element=\"37ab6ab1-0529-4c42-a1aa-af7bf58849cd\")>,\n",
       " <selenium.webdriver.remote.webelement.WebElement (session=\"f3b41b182ec65c761599809f7ffbc226\", element=\"1da7b096-3ac4-4bfc-b92a-3a121e9cf47c\")>,\n",
       " <selenium.webdriver.remote.webelement.WebElement (session=\"f3b41b182ec65c761599809f7ffbc226\", element=\"e786518d-9b8a-4d71-b53e-a406604b6925\")>,\n",
       " <selenium.webdriver.remote.webelement.WebElement (session=\"f3b41b182ec65c761599809f7ffbc226\", element=\"db5e103e-9162-4a99-88bb-564b993a8cef\")>,\n",
       " <selenium.webdriver.remote.webelement.WebElement (session=\"f3b41b182ec65c761599809f7ffbc226\", element=\"8de569e4-4999-4cc7-bdcc-80236c35cc78\")>,\n",
       " <selenium.webdriver.remote.webelement.WebElement (session=\"f3b41b182ec65c761599809f7ffbc226\", element=\"4c020f3b-1653-44e7-a954-a9392ab0a763\")>,\n",
       " <selenium.webdriver.remote.webelement.WebElement (session=\"f3b41b182ec65c761599809f7ffbc226\", element=\"2c9b2271-bec1-4355-91a9-972047d87464\")>,\n",
       " <selenium.webdriver.remote.webelement.WebElement (session=\"f3b41b182ec65c761599809f7ffbc226\", element=\"0ecb1de4-a37d-4ca7-a9ee-c9ae09db84fe\")>,\n",
       " <selenium.webdriver.remote.webelement.WebElement (session=\"f3b41b182ec65c761599809f7ffbc226\", element=\"49f917ba-9ad6-4a70-9aa8-a02486febcda\")>,\n",
       " <selenium.webdriver.remote.webelement.WebElement (session=\"f3b41b182ec65c761599809f7ffbc226\", element=\"8528ae7f-e485-408e-8ed7-7f4b48fbe594\")>,\n",
       " <selenium.webdriver.remote.webelement.WebElement (session=\"f3b41b182ec65c761599809f7ffbc226\", element=\"70517708-ca8a-4250-96fa-7503fd015dfa\")>,\n",
       " <selenium.webdriver.remote.webelement.WebElement (session=\"f3b41b182ec65c761599809f7ffbc226\", element=\"11050917-2592-4b1d-a731-cd48af93855c\")>,\n",
       " <selenium.webdriver.remote.webelement.WebElement (session=\"f3b41b182ec65c761599809f7ffbc226\", element=\"98cf5222-8493-462b-bcba-6770a7f5264f\")>,\n",
       " <selenium.webdriver.remote.webelement.WebElement (session=\"f3b41b182ec65c761599809f7ffbc226\", element=\"cbb0518f-7695-4fd1-834e-ede53c3dbb20\")>,\n",
       " <selenium.webdriver.remote.webelement.WebElement (session=\"f3b41b182ec65c761599809f7ffbc226\", element=\"59cc29b2-2851-40a4-8b32-b0560c0861d1\")>,\n",
       " <selenium.webdriver.remote.webelement.WebElement (session=\"f3b41b182ec65c761599809f7ffbc226\", element=\"ec0169e7-e232-4983-9735-77becf424e85\")>,\n",
       " <selenium.webdriver.remote.webelement.WebElement (session=\"f3b41b182ec65c761599809f7ffbc226\", element=\"9dd689ea-eca6-4f4a-845c-f0f708321786\")>,\n",
       " <selenium.webdriver.remote.webelement.WebElement (session=\"f3b41b182ec65c761599809f7ffbc226\", element=\"8c644ebf-9509-4afa-974d-f57f2785ca30\")>,\n",
       " <selenium.webdriver.remote.webelement.WebElement (session=\"f3b41b182ec65c761599809f7ffbc226\", element=\"5e5e5539-1300-4244-9c61-7318321121be\")>,\n",
       " <selenium.webdriver.remote.webelement.WebElement (session=\"f3b41b182ec65c761599809f7ffbc226\", element=\"7987477d-1ec0-4ca0-a490-cd0a0ca86160\")>,\n",
       " <selenium.webdriver.remote.webelement.WebElement (session=\"f3b41b182ec65c761599809f7ffbc226\", element=\"9f35ca6b-81f5-4e39-b796-f4f471f62476\")>,\n",
       " <selenium.webdriver.remote.webelement.WebElement (session=\"f3b41b182ec65c761599809f7ffbc226\", element=\"f30ad1db-11cb-43c3-8fa4-03bfafb4a978\")>,\n",
       " <selenium.webdriver.remote.webelement.WebElement (session=\"f3b41b182ec65c761599809f7ffbc226\", element=\"b9d9d908-33e4-4f88-b026-b6c04fe87e25\")>,\n",
       " <selenium.webdriver.remote.webelement.WebElement (session=\"f3b41b182ec65c761599809f7ffbc226\", element=\"5322dba9-2c14-4132-b5e7-d283c2a6c763\")>,\n",
       " <selenium.webdriver.remote.webelement.WebElement (session=\"f3b41b182ec65c761599809f7ffbc226\", element=\"8209992f-af1b-4d2c-8a76-c1a504a3a78e\")>,\n",
       " <selenium.webdriver.remote.webelement.WebElement (session=\"f3b41b182ec65c761599809f7ffbc226\", element=\"56071d56-d316-41a1-8a0c-81d938a00968\")>,\n",
       " <selenium.webdriver.remote.webelement.WebElement (session=\"f3b41b182ec65c761599809f7ffbc226\", element=\"b23cefa7-9cf2-4254-99bb-af564f1ff7d8\")>,\n",
       " <selenium.webdriver.remote.webelement.WebElement (session=\"f3b41b182ec65c761599809f7ffbc226\", element=\"1cabb414-e67f-4a25-8c9c-c8f7de5c8d12\")>,\n",
       " <selenium.webdriver.remote.webelement.WebElement (session=\"f3b41b182ec65c761599809f7ffbc226\", element=\"1c57a85a-d195-4914-b424-c7896d38c1ac\")>,\n",
       " <selenium.webdriver.remote.webelement.WebElement (session=\"f3b41b182ec65c761599809f7ffbc226\", element=\"14ce6c22-e152-4c34-8b5e-f020d0a45772\")>,\n",
       " <selenium.webdriver.remote.webelement.WebElement (session=\"f3b41b182ec65c761599809f7ffbc226\", element=\"303b399c-b90b-45c5-852b-4554d658e93e\")>,\n",
       " <selenium.webdriver.remote.webelement.WebElement (session=\"f3b41b182ec65c761599809f7ffbc226\", element=\"e96d8e57-b6a8-45cf-9a45-a007f299b2a1\")>,\n",
       " <selenium.webdriver.remote.webelement.WebElement (session=\"f3b41b182ec65c761599809f7ffbc226\", element=\"bcc2c1d0-9fe6-428d-a6a8-c4805d36e3a8\")>,\n",
       " <selenium.webdriver.remote.webelement.WebElement (session=\"f3b41b182ec65c761599809f7ffbc226\", element=\"ceb1e513-60ac-49a8-b982-314d780cf0b4\")>,\n",
       " <selenium.webdriver.remote.webelement.WebElement (session=\"f3b41b182ec65c761599809f7ffbc226\", element=\"5a7f3b28-9a14-408a-a9ae-27e9b36ea8bd\")>,\n",
       " <selenium.webdriver.remote.webelement.WebElement (session=\"f3b41b182ec65c761599809f7ffbc226\", element=\"a97d79e9-8798-450d-a8c9-cad27e0f62ce\")>,\n",
       " <selenium.webdriver.remote.webelement.WebElement (session=\"f3b41b182ec65c761599809f7ffbc226\", element=\"e7918af5-9955-492e-8cc1-47b9cd87725e\")>]"
      ]
     },
     "execution_count": 87,
     "metadata": {},
     "output_type": "execute_result"
    }
   ],
   "source": [
    "desc_tags=driver.find_elements_by_xpath(\"//a[@class='IRpwTa']\")\n",
    "desc_tags"
   ]
  },
  {
   "cell_type": "code",
   "execution_count": 88,
   "metadata": {},
   "outputs": [
    {
     "data": {
      "text/plain": [
       "['UV Protection Aviator Sunglasses (54)',\n",
       " 'UV Protection Rectangular Sunglasses (Free Size)',\n",
       " 'Gradient, UV Protection Wayfarer Sunglasses (Free Size)',\n",
       " 'Mirrored, UV Protection Wayfarer Sunglasses (Free Size)',\n",
       " 'UV Protection Aviator Sunglasses (54)',\n",
       " 'UV Protection Wayfarer Sunglasses (Free Size)',\n",
       " 'UV Protection Aviator Sunglasses (Free Size)',\n",
       " 'UV Protection Aviator, Wayfarer Sunglasses (Free Size)',\n",
       " 'UV Protection, Gradient Rectangular Sunglasses (Free Si...',\n",
       " 'UV Protection Aviator Sunglasses (Free Size)',\n",
       " 'UV Protection Aviator Sunglasses (58)',\n",
       " 'UV Protection Aviator Sunglasses (57)',\n",
       " 'UV Protection Aviator Sunglasses (54)',\n",
       " 'UV Protection Retro Square Sunglasses (Free Size)',\n",
       " 'Mirrored Aviator Sunglasses (53)',\n",
       " 'UV Protection, Mirrored Retro Square Sunglasses (53)',\n",
       " 'UV Protection Round Sunglasses (Free Size)',\n",
       " 'UV Protection Aviator Sunglasses (57)',\n",
       " 'UV Protection Wayfarer Sunglasses (Free Size)',\n",
       " 'UV Protection, Gradient Rectangular Sunglasses (Free Si...',\n",
       " 'UV Protection Wayfarer Sunglasses (55)',\n",
       " 'UV Protection Aviator Sunglasses (Free Size)',\n",
       " 'Mirrored, Riding Glasses, Others Sports Sunglasses (50)',\n",
       " 'Mirrored Aviator Sunglasses (55)',\n",
       " 'UV Protection, Gradient Wayfarer Sunglasses (55)',\n",
       " 'UV Protection, Riding Glasses, Others Aviator, Wayfarer...',\n",
       " 'UV Protection Retro Square Sunglasses (Free Size)',\n",
       " 'UV Protection, Gradient, Night Vision, Mirrored Aviator...',\n",
       " 'UV Protection Rectangular Sunglasses (58)',\n",
       " 'UV Protection Aviator Sunglasses (58)',\n",
       " 'UV Protection Round Sunglasses (Free Size)',\n",
       " 'Mirrored, UV Protection, Gradient Round Sunglasses (55)',\n",
       " 'UV Protection, Riding Glasses Rectangular Sunglasses (F...',\n",
       " 'UV Protection Wayfarer Sunglasses (55)',\n",
       " 'UV Protection Aviator Sunglasses (58)',\n",
       " 'Gradient, UV Protection Round Sunglasses (Free Size)',\n",
       " 'UV Protection, Mirrored Wayfarer Sunglasses (53)',\n",
       " 'UV Protection Clubmaster Sunglasses (Free Size)',\n",
       " 'UV Protection Butterfly Sunglasses (65)',\n",
       " 'UV Protection, Gradient Round Sunglasses (Free Size)']"
      ]
     },
     "execution_count": 88,
     "metadata": {},
     "output_type": "execute_result"
    }
   ],
   "source": [
    "brand_desc=[]\n",
    "for i in desc_tags:\n",
    "    brand_desc.append(i.text)\n",
    "    \n",
    "brand_desc"
   ]
  },
  {
   "cell_type": "code",
   "execution_count": 89,
   "metadata": {},
   "outputs": [
    {
     "data": {
      "text/plain": [
       "40"
      ]
     },
     "execution_count": 89,
     "metadata": {},
     "output_type": "execute_result"
    }
   ],
   "source": [
    "len(brand_desc)"
   ]
  },
  {
   "cell_type": "code",
   "execution_count": 90,
   "metadata": {},
   "outputs": [
    {
     "data": {
      "text/plain": [
       "[<selenium.webdriver.remote.webelement.WebElement (session=\"f3b41b182ec65c761599809f7ffbc226\", element=\"8d5cd281-bb8d-4496-a4c8-ffc40f269735\")>,\n",
       " <selenium.webdriver.remote.webelement.WebElement (session=\"f3b41b182ec65c761599809f7ffbc226\", element=\"4fb62c8a-72c9-473b-9a2a-d1ac18a002b1\")>,\n",
       " <selenium.webdriver.remote.webelement.WebElement (session=\"f3b41b182ec65c761599809f7ffbc226\", element=\"48d16441-111e-4a8d-8cbe-e49f7f32343e\")>,\n",
       " <selenium.webdriver.remote.webelement.WebElement (session=\"f3b41b182ec65c761599809f7ffbc226\", element=\"ef31b582-3ed6-4034-820c-89715f60cd0b\")>,\n",
       " <selenium.webdriver.remote.webelement.WebElement (session=\"f3b41b182ec65c761599809f7ffbc226\", element=\"00066889-cd2c-46ca-abeb-947a935cb050\")>,\n",
       " <selenium.webdriver.remote.webelement.WebElement (session=\"f3b41b182ec65c761599809f7ffbc226\", element=\"b5edfaad-b7c5-4476-ab97-a23a0f1f5889\")>,\n",
       " <selenium.webdriver.remote.webelement.WebElement (session=\"f3b41b182ec65c761599809f7ffbc226\", element=\"8b116a33-83cb-4f65-b795-8dd2f03f4452\")>,\n",
       " <selenium.webdriver.remote.webelement.WebElement (session=\"f3b41b182ec65c761599809f7ffbc226\", element=\"d92b8c84-ea78-43c8-ba71-78bac19e9399\")>,\n",
       " <selenium.webdriver.remote.webelement.WebElement (session=\"f3b41b182ec65c761599809f7ffbc226\", element=\"0ba45f3a-662a-4bad-86ba-bf9246b192cc\")>,\n",
       " <selenium.webdriver.remote.webelement.WebElement (session=\"f3b41b182ec65c761599809f7ffbc226\", element=\"4c5ca683-23b0-490d-9129-b0fdf29a2b14\")>,\n",
       " <selenium.webdriver.remote.webelement.WebElement (session=\"f3b41b182ec65c761599809f7ffbc226\", element=\"6e7fe036-6b57-45d5-b4d7-43a318e880cc\")>,\n",
       " <selenium.webdriver.remote.webelement.WebElement (session=\"f3b41b182ec65c761599809f7ffbc226\", element=\"553af11f-ce07-4e92-b989-60304a3cab94\")>,\n",
       " <selenium.webdriver.remote.webelement.WebElement (session=\"f3b41b182ec65c761599809f7ffbc226\", element=\"4eda2e69-d6ef-4167-908c-fc95d5449342\")>,\n",
       " <selenium.webdriver.remote.webelement.WebElement (session=\"f3b41b182ec65c761599809f7ffbc226\", element=\"aef96b93-fdf3-4cfb-9886-ec27f52976fd\")>,\n",
       " <selenium.webdriver.remote.webelement.WebElement (session=\"f3b41b182ec65c761599809f7ffbc226\", element=\"30eaa2c0-1f6e-4c78-9c50-61da394bcc7b\")>,\n",
       " <selenium.webdriver.remote.webelement.WebElement (session=\"f3b41b182ec65c761599809f7ffbc226\", element=\"15d475dd-5f49-4d72-96f4-57d9fee1d9ae\")>,\n",
       " <selenium.webdriver.remote.webelement.WebElement (session=\"f3b41b182ec65c761599809f7ffbc226\", element=\"41f8467e-4d79-41bb-b521-26d5aa0b5175\")>,\n",
       " <selenium.webdriver.remote.webelement.WebElement (session=\"f3b41b182ec65c761599809f7ffbc226\", element=\"87082468-071b-4ace-9dda-3da6201b148f\")>,\n",
       " <selenium.webdriver.remote.webelement.WebElement (session=\"f3b41b182ec65c761599809f7ffbc226\", element=\"47765606-d9e4-4862-b6af-0756463eed6c\")>,\n",
       " <selenium.webdriver.remote.webelement.WebElement (session=\"f3b41b182ec65c761599809f7ffbc226\", element=\"80638345-5038-4748-b7e5-8e0710b186c2\")>,\n",
       " <selenium.webdriver.remote.webelement.WebElement (session=\"f3b41b182ec65c761599809f7ffbc226\", element=\"01b437ae-086b-4778-9930-e44963b3872d\")>,\n",
       " <selenium.webdriver.remote.webelement.WebElement (session=\"f3b41b182ec65c761599809f7ffbc226\", element=\"2951a839-31e7-4a98-a011-343c1d73513a\")>,\n",
       " <selenium.webdriver.remote.webelement.WebElement (session=\"f3b41b182ec65c761599809f7ffbc226\", element=\"99b379dc-f0ca-4deb-a28a-f84356b61287\")>,\n",
       " <selenium.webdriver.remote.webelement.WebElement (session=\"f3b41b182ec65c761599809f7ffbc226\", element=\"653d5d0f-f135-40c9-9d05-06f46f2aee6f\")>,\n",
       " <selenium.webdriver.remote.webelement.WebElement (session=\"f3b41b182ec65c761599809f7ffbc226\", element=\"e8f30540-d503-4174-8f3f-3920bc5aaa89\")>,\n",
       " <selenium.webdriver.remote.webelement.WebElement (session=\"f3b41b182ec65c761599809f7ffbc226\", element=\"a7dd49b6-b45c-4ce3-b668-fc96b92c9307\")>,\n",
       " <selenium.webdriver.remote.webelement.WebElement (session=\"f3b41b182ec65c761599809f7ffbc226\", element=\"e7f88a3c-239f-4475-ba9a-1a77db03ffbe\")>,\n",
       " <selenium.webdriver.remote.webelement.WebElement (session=\"f3b41b182ec65c761599809f7ffbc226\", element=\"0041a836-9e01-4adf-b364-0905033293fe\")>,\n",
       " <selenium.webdriver.remote.webelement.WebElement (session=\"f3b41b182ec65c761599809f7ffbc226\", element=\"9277fe56-04aa-4ce8-bd3f-8f2926466436\")>,\n",
       " <selenium.webdriver.remote.webelement.WebElement (session=\"f3b41b182ec65c761599809f7ffbc226\", element=\"2db16222-bf8c-40df-b18b-ab95b6901cfb\")>,\n",
       " <selenium.webdriver.remote.webelement.WebElement (session=\"f3b41b182ec65c761599809f7ffbc226\", element=\"da0a57bc-4068-4d0d-bb8e-bda9051dd138\")>,\n",
       " <selenium.webdriver.remote.webelement.WebElement (session=\"f3b41b182ec65c761599809f7ffbc226\", element=\"23df7c5d-da52-49e9-aa63-e0a0f2587792\")>,\n",
       " <selenium.webdriver.remote.webelement.WebElement (session=\"f3b41b182ec65c761599809f7ffbc226\", element=\"e495e444-7011-40f1-9d43-077207be7d46\")>,\n",
       " <selenium.webdriver.remote.webelement.WebElement (session=\"f3b41b182ec65c761599809f7ffbc226\", element=\"d12a9c11-c3df-4171-8aac-aaa1b459eeb6\")>,\n",
       " <selenium.webdriver.remote.webelement.WebElement (session=\"f3b41b182ec65c761599809f7ffbc226\", element=\"b62576f9-bc88-4be7-ab5c-581415fad6d9\")>,\n",
       " <selenium.webdriver.remote.webelement.WebElement (session=\"f3b41b182ec65c761599809f7ffbc226\", element=\"137ec4bd-a5fd-4a67-a415-bb8993e459dd\")>,\n",
       " <selenium.webdriver.remote.webelement.WebElement (session=\"f3b41b182ec65c761599809f7ffbc226\", element=\"2a150b94-f121-4d24-a8cc-df761c149024\")>,\n",
       " <selenium.webdriver.remote.webelement.WebElement (session=\"f3b41b182ec65c761599809f7ffbc226\", element=\"5dbb8042-1dd0-4b6f-9400-a6136a73ffd8\")>,\n",
       " <selenium.webdriver.remote.webelement.WebElement (session=\"f3b41b182ec65c761599809f7ffbc226\", element=\"071406d8-4ee5-4aee-bcb5-53cf1c4d9d4e\")>,\n",
       " <selenium.webdriver.remote.webelement.WebElement (session=\"f3b41b182ec65c761599809f7ffbc226\", element=\"9bb0074c-bb45-4769-9dd1-609ba959c05f\")>]"
      ]
     },
     "execution_count": 90,
     "metadata": {},
     "output_type": "execute_result"
    }
   ],
   "source": [
    "price_tags=driver.find_elements_by_xpath(\"//div[@class='_30jeq3']\")\n",
    "price_tags"
   ]
  },
  {
   "cell_type": "code",
   "execution_count": 91,
   "metadata": {},
   "outputs": [
    {
     "data": {
      "text/plain": [
       "['₹237',\n",
       " '₹570',\n",
       " '₹621',\n",
       " '₹299',\n",
       " '₹237',\n",
       " '₹733',\n",
       " '₹331',\n",
       " '₹213',\n",
       " '₹404',\n",
       " '₹674',\n",
       " '₹331',\n",
       " '₹281',\n",
       " '₹237',\n",
       " '₹399',\n",
       " '₹249',\n",
       " '₹399',\n",
       " '₹199',\n",
       " '₹156',\n",
       " '₹246',\n",
       " '₹499',\n",
       " '₹251',\n",
       " '₹349',\n",
       " '₹252',\n",
       " '₹319',\n",
       " '₹217',\n",
       " '₹214',\n",
       " '₹499',\n",
       " '₹282',\n",
       " '₹399',\n",
       " '₹1,085',\n",
       " '₹209',\n",
       " '₹210',\n",
       " '₹449',\n",
       " '₹265',\n",
       " '₹227',\n",
       " '₹449',\n",
       " '₹199',\n",
       " '₹319',\n",
       " '₹323',\n",
       " '₹449']"
      ]
     },
     "execution_count": 91,
     "metadata": {},
     "output_type": "execute_result"
    }
   ],
   "source": [
    "brand_price=[]\n",
    "for i in price_tags:\n",
    "    brand_price.append(i.text)\n",
    "    \n",
    "brand_price"
   ]
  },
  {
   "cell_type": "code",
   "execution_count": 92,
   "metadata": {},
   "outputs": [
    {
     "data": {
      "text/plain": [
       "40"
      ]
     },
     "execution_count": 92,
     "metadata": {},
     "output_type": "execute_result"
    }
   ],
   "source": [
    "len(brand_price)"
   ]
  },
  {
   "cell_type": "code",
   "execution_count": 93,
   "metadata": {},
   "outputs": [
    {
     "data": {
      "text/plain": [
       "[<selenium.webdriver.remote.webelement.WebElement (session=\"f3b41b182ec65c761599809f7ffbc226\", element=\"736e6c7c-87d1-48a1-9bd8-9c70f13928aa\")>,\n",
       " <selenium.webdriver.remote.webelement.WebElement (session=\"f3b41b182ec65c761599809f7ffbc226\", element=\"0c8fba7f-4920-495a-9061-7a5ce88137a6\")>,\n",
       " <selenium.webdriver.remote.webelement.WebElement (session=\"f3b41b182ec65c761599809f7ffbc226\", element=\"1833a9d8-7d16-4db6-8de7-838682c36021\")>,\n",
       " <selenium.webdriver.remote.webelement.WebElement (session=\"f3b41b182ec65c761599809f7ffbc226\", element=\"b212df7f-fd8c-46e4-a86a-c97a62df2eeb\")>,\n",
       " <selenium.webdriver.remote.webelement.WebElement (session=\"f3b41b182ec65c761599809f7ffbc226\", element=\"7b4818ab-8559-40d9-b7fd-2bf24ccbd422\")>,\n",
       " <selenium.webdriver.remote.webelement.WebElement (session=\"f3b41b182ec65c761599809f7ffbc226\", element=\"4345742d-1aa3-4b4a-8a18-0b74c218725f\")>,\n",
       " <selenium.webdriver.remote.webelement.WebElement (session=\"f3b41b182ec65c761599809f7ffbc226\", element=\"3f24ead9-989b-4cc0-854f-a24577595f7d\")>,\n",
       " <selenium.webdriver.remote.webelement.WebElement (session=\"f3b41b182ec65c761599809f7ffbc226\", element=\"f9d0d4aa-be0c-429f-9f8e-ae947ba37446\")>,\n",
       " <selenium.webdriver.remote.webelement.WebElement (session=\"f3b41b182ec65c761599809f7ffbc226\", element=\"79d8b1f6-2764-4c0d-8ca1-92e8d774488b\")>,\n",
       " <selenium.webdriver.remote.webelement.WebElement (session=\"f3b41b182ec65c761599809f7ffbc226\", element=\"9c81826f-7f6a-48e7-800c-102fbc2a780b\")>,\n",
       " <selenium.webdriver.remote.webelement.WebElement (session=\"f3b41b182ec65c761599809f7ffbc226\", element=\"ba0b2839-9a1f-4111-a13b-a31c96415d49\")>,\n",
       " <selenium.webdriver.remote.webelement.WebElement (session=\"f3b41b182ec65c761599809f7ffbc226\", element=\"6b9b5ec4-9f26-4dea-bfe8-c0c3f7f5b4b6\")>,\n",
       " <selenium.webdriver.remote.webelement.WebElement (session=\"f3b41b182ec65c761599809f7ffbc226\", element=\"95db7392-f09e-470d-b3a7-17b4d79b07d4\")>,\n",
       " <selenium.webdriver.remote.webelement.WebElement (session=\"f3b41b182ec65c761599809f7ffbc226\", element=\"ff6779cc-0dfe-45b4-bfa0-ff0a00a0839d\")>,\n",
       " <selenium.webdriver.remote.webelement.WebElement (session=\"f3b41b182ec65c761599809f7ffbc226\", element=\"759ccc11-7d07-4f4b-99b2-1b27ff0b297c\")>,\n",
       " <selenium.webdriver.remote.webelement.WebElement (session=\"f3b41b182ec65c761599809f7ffbc226\", element=\"37c283d5-0900-42a9-9a7b-d22a90710dba\")>,\n",
       " <selenium.webdriver.remote.webelement.WebElement (session=\"f3b41b182ec65c761599809f7ffbc226\", element=\"8032afa0-9401-4eac-83be-91d6a3cf54cb\")>,\n",
       " <selenium.webdriver.remote.webelement.WebElement (session=\"f3b41b182ec65c761599809f7ffbc226\", element=\"ded94e69-8f61-4771-ab24-166c190cd326\")>,\n",
       " <selenium.webdriver.remote.webelement.WebElement (session=\"f3b41b182ec65c761599809f7ffbc226\", element=\"f6455941-e4f4-4bce-bd7f-0e1a02d8cdf2\")>,\n",
       " <selenium.webdriver.remote.webelement.WebElement (session=\"f3b41b182ec65c761599809f7ffbc226\", element=\"8452a55b-544a-445c-b470-91ffc9311e4c\")>,\n",
       " <selenium.webdriver.remote.webelement.WebElement (session=\"f3b41b182ec65c761599809f7ffbc226\", element=\"a8a15ac2-a4d6-4b5a-b31d-574f553b0c77\")>,\n",
       " <selenium.webdriver.remote.webelement.WebElement (session=\"f3b41b182ec65c761599809f7ffbc226\", element=\"f16774d4-7a72-4750-9b6d-2c554bfdeeaf\")>,\n",
       " <selenium.webdriver.remote.webelement.WebElement (session=\"f3b41b182ec65c761599809f7ffbc226\", element=\"8c78dccc-6f18-4a03-ac71-7667fba6cc27\")>,\n",
       " <selenium.webdriver.remote.webelement.WebElement (session=\"f3b41b182ec65c761599809f7ffbc226\", element=\"d9510695-fd13-4a68-b13a-3a8beec69b79\")>,\n",
       " <selenium.webdriver.remote.webelement.WebElement (session=\"f3b41b182ec65c761599809f7ffbc226\", element=\"8f37ac79-e0c1-4df6-9a50-69625d586801\")>,\n",
       " <selenium.webdriver.remote.webelement.WebElement (session=\"f3b41b182ec65c761599809f7ffbc226\", element=\"9fc045c3-6b99-4c70-b2cd-0cb4c533e93e\")>,\n",
       " <selenium.webdriver.remote.webelement.WebElement (session=\"f3b41b182ec65c761599809f7ffbc226\", element=\"35b626ed-d5ba-46cf-9f8e-8c56bc965deb\")>,\n",
       " <selenium.webdriver.remote.webelement.WebElement (session=\"f3b41b182ec65c761599809f7ffbc226\", element=\"a7709c0e-fd8e-419f-85a6-0267cf068176\")>,\n",
       " <selenium.webdriver.remote.webelement.WebElement (session=\"f3b41b182ec65c761599809f7ffbc226\", element=\"4c8c216c-6e95-41c9-8193-198d61a1c4de\")>,\n",
       " <selenium.webdriver.remote.webelement.WebElement (session=\"f3b41b182ec65c761599809f7ffbc226\", element=\"5a7a09ae-4c6a-4023-ab27-931acc666386\")>,\n",
       " <selenium.webdriver.remote.webelement.WebElement (session=\"f3b41b182ec65c761599809f7ffbc226\", element=\"684eb4d7-a1e7-4a1b-8645-308f73d7da50\")>,\n",
       " <selenium.webdriver.remote.webelement.WebElement (session=\"f3b41b182ec65c761599809f7ffbc226\", element=\"8adbcd07-82e4-4b3b-9424-53d0745a881d\")>,\n",
       " <selenium.webdriver.remote.webelement.WebElement (session=\"f3b41b182ec65c761599809f7ffbc226\", element=\"bdf53b04-61ea-4940-a747-6f056f58cac1\")>,\n",
       " <selenium.webdriver.remote.webelement.WebElement (session=\"f3b41b182ec65c761599809f7ffbc226\", element=\"9fcba4e3-5563-4013-8b31-1e3a100ed699\")>,\n",
       " <selenium.webdriver.remote.webelement.WebElement (session=\"f3b41b182ec65c761599809f7ffbc226\", element=\"627fcef5-8b5b-4f06-b1cf-0af3504b7b5d\")>,\n",
       " <selenium.webdriver.remote.webelement.WebElement (session=\"f3b41b182ec65c761599809f7ffbc226\", element=\"93a5f531-4717-424a-aaba-f7827550342a\")>,\n",
       " <selenium.webdriver.remote.webelement.WebElement (session=\"f3b41b182ec65c761599809f7ffbc226\", element=\"bdf03beb-ccb1-4978-828d-3cab47359753\")>,\n",
       " <selenium.webdriver.remote.webelement.WebElement (session=\"f3b41b182ec65c761599809f7ffbc226\", element=\"4131e80a-76f7-4747-800f-c83766ee9140\")>,\n",
       " <selenium.webdriver.remote.webelement.WebElement (session=\"f3b41b182ec65c761599809f7ffbc226\", element=\"25047d35-1e55-4952-bedc-e31a08d09e04\")>,\n",
       " <selenium.webdriver.remote.webelement.WebElement (session=\"f3b41b182ec65c761599809f7ffbc226\", element=\"f90b58a1-53fe-4405-9921-695ec7493a43\")>]"
      ]
     },
     "execution_count": 93,
     "metadata": {},
     "output_type": "execute_result"
    }
   ],
   "source": [
    "images_tags=driver.find_elements_by_xpath(\"//img[@class='_2r_T1I']\")\n",
    "images_tags"
   ]
  },
  {
   "cell_type": "code",
   "execution_count": 94,
   "metadata": {},
   "outputs": [
    {
     "data": {
      "text/plain": [
       "['https://rukminim1.flixcart.com/image/329/395/kelptow0-0/sunglass/n/9/6/3077-black-v-s-black-m-piraso-original-imafv8xzcygwmafq.jpeg?q=50',\n",
       " 'https://rukminim1.flixcart.com/image/329/395/jp780i80/sunglass/g/y/f/free-size-nbp357bk1-fastrack-original-imafbhwkz2ntuvhz.jpeg?q=50',\n",
       " 'https://rukminim1.flixcart.com/image/329/395/kgtqhe80-0/sunglass/1/s/c/p448gr1t-m-fastrack-original-imafwz5epdsgebq8.jpeg?q=50',\n",
       " 'https://rukminim1.flixcart.com/image/329/395/ko62xzk0/sunglass/i/x/j/medium-wayfarer-5-kingsunglasses-original-imag2zy9vghannhh.jpeg?q=50',\n",
       " 'https://rukminim1.flixcart.com/image/329/395/k6mibgw0/sunglass/w/s/v/free-size-3077-green-lens-piraso-original-imafpfgyyugpckvm.jpeg?q=50',\n",
       " 'https://rukminim1.flixcart.com/image/329/395/kf1fo280-0/sunglass/g/r/8/p428bk1-one-size-fits-all-fastrack-original-imafvh29ra8pjn4q.jpeg?q=50',\n",
       " 'https://rukminim1.flixcart.com/image/329/395/k5vcya80/sunglass/g/r/p/m-3026-gold-black-b-piraso-original-imafzggcnn5urwcw.jpeg?q=50',\n",
       " 'https://rukminim1.flixcart.com/image/329/395/jd3epow0/sunglass/a/c/v/combo-wf03-av01-m-deixels-original-imaf2yz397hdfdxp.jpeg?q=50',\n",
       " 'https://rukminim1.flixcart.com/image/329/395/kbpeoi80/sunglass/f/k/s/m-iron-man-tony-stark-avengers-infinity-war-endgame-unisex-original-imafszt2pg5t4kfw.jpeg?q=50',\n",
       " 'https://rukminim1.flixcart.com/image/329/395/kgtqhe80-0/sunglass/3/d/t/p430gr3-one-size-fits-all-fastrack-original-imafwyqy9gybnrgg.jpeg?q=50',\n",
       " 'https://rukminim1.flixcart.com/image/329/395/kbqu4cw0/sunglass/f/q/s/m-4494-black-gold-piraso-original-imaftyy5gngzhez4.jpeg?q=50',\n",
       " 'https://rukminim1.flixcart.com/image/329/395/kd3f3bk0pkrrdj/sunglass/n/d/f/medium-3002-blk-blk-3002-sil-blk-gansta-original-imafu656n5kmgrxw.jpeg?q=50',\n",
       " 'https://rukminim1.flixcart.com/image/329/395/kgcl7680-0/sunglass/w/q/l/3077-black-lens-m-piraso-original-imafwhwmyfqgkmbm.jpeg?q=50',\n",
       " 'https://rukminim1.flixcart.com/image/329/395/ke5zzbk0-0/sunglass/n/c/j/kabirsingh-combo-022-m-phenomenal-original-imafuwzasgfkrbsh.jpeg?q=50',\n",
       " 'https://rukminim1.flixcart.com/image/329/395/jle1qq80/sunglass/b/s/w/90041000-normal-singco-original-imaf8j65z99ywypw.jpeg?q=50',\n",
       " 'https://rukminim1.flixcart.com/image/329/395/kd94uq80/sunglass/f/d/r/m-carry-combo-2-35-badfella-original-imafu7c8jfqy6dzf.jpeg?q=50',\n",
       " 'https://rukminim1.flixcart.com/image/329/395/k5jxfgw0/sunglass/e/g/h/m-2071-elegante-original-imafz6xetkg2jzup.jpeg?q=50',\n",
       " 'https://rukminim1.flixcart.com/image/329/395/k0wqwsw0/sunglass/5/c/h/s-nw-av-c4-51123-nuvew-original-imaf9qyyy4hgztvg.jpeg?q=50',\n",
       " 'https://rukminim1.flixcart.com/image/329/395/km0x5zk0/sunglass/8/y/y/m-wc35-silver-kartz-original-imagfyn8pddz6sss.jpeg?q=50',\n",
       " 'https://rukminim1.flixcart.com/image/329/395/kc6jyq80/sunglass/m/s/q/m-millionaire-style-wayfarer-rozzetta-craft-original-imaftdd2ghaf5gms.jpeg?q=50',\n",
       " 'https://rukminim1.flixcart.com/image/329/395/k2f1n680/sunglass/k/n/g/55-wayf-new-3-hippon-original-imafhry2zrbeg3pe.jpeg?q=50',\n",
       " 'https://rukminim1.flixcart.com/image/329/395/k1nw9zk0/sunglass/5/d/p/free-size-avtr-blk-gld-blk-blk-nkl-blue-gld-brwn-singco-original-imafh6kp5guqrymg.jpeg?q=50',\n",
       " 'https://rukminim1.flixcart.com/image/329/395/kfikya80-0/sunglass/j/f/a/r-gld-red-mono-slvr-blue-mrc-medium-singco-india-original-imafvykgqavg2w5s.jpeg?q=50',\n",
       " 'https://rukminim1.flixcart.com/image/329/395/jx7uykw0/sunglass/t/j/t/m-rs006av-royal-son-original-imafeb2yvwwnbrpg.jpeg?q=50',\n",
       " 'https://rukminim1.flixcart.com/image/329/395/jxqfonk0/sunglass/5/f/h/medium-sunglasses-combo-royal-son-original-imaffyuygpkdggtx.jpeg?q=50',\n",
       " 'https://rukminim1.flixcart.com/image/329/395/kerfl3k0-0/sunglass/u/v/4/bk-212-free-singco-india-original-imafvdff2uxx6ved.jpeg?q=50',\n",
       " 'https://rukminim1.flixcart.com/image/329/395/k5fn3ww0/sunglass/2/n/w/m-4028-ivy-vacker-original-imafz27hdfqwy7yu.jpeg?q=50',\n",
       " 'https://rukminim1.flixcart.com/image/329/395/k0wqwsw0/sunglass/4/q/e/m-nw-av-c4-51112-nuvew-original-imafkh6khgf487he.jpeg?q=50',\n",
       " 'https://rukminim1.flixcart.com/image/329/395/k65d18w0/sunglass/x/3/h/m-rs0038av-royal-son-original-imafzzdm2vh2rgyp.jpeg?q=50',\n",
       " 'https://rukminim1.flixcart.com/image/329/395/k0zlsi80/sunglass/g/g/g/l-m242bk2t-fastrack-original-imafkz5mzkkdhv72.jpeg?q=50',\n",
       " 'https://rukminim1.flixcart.com/image/329/395/k29bvrk0/sunglass/j/t/h/free-size-r-gld-red-mono-slvr-blue-mrc-eyevitals-original-imafhngdggetggk5.jpeg?q=50',\n",
       " 'https://rukminim1.flixcart.com/image/329/395/k8et4sw0/sunglass/r/p/x/55-silver-and-blue-mercury-hipe-original-imafqfwjnhntzx5h.jpeg?q=50',\n",
       " 'https://rukminim1.flixcart.com/image/329/395/kh5607k0-0/sunglass/z/x/a/m-iron-man-tony-stark-avengers-infinity-war-endgame-unisex-original-imafx84mqrqc72xx.jpeg?q=50',\n",
       " 'https://rukminim1.flixcart.com/image/329/395/jxqfonk0/sunglass/j/2/n/medium-sunglasses-combo-royal-son-original-imaffytm3hhzjqup.jpeg?q=50',\n",
       " 'https://rukminim1.flixcart.com/image/329/395/k0wqwsw0/sunglass/m/y/u/m-nw-av-c2-51347-nuvew-original-imafkh8rwxp4mg6g.jpeg?q=50',\n",
       " 'https://rukminim1.flixcart.com/image/329/395/kdhphu80/sunglass/e/w/p/steampunk-retro-round-4011-m-rozzetta-craft-original-imafudfbmrv9zmhh.jpeg?q=50',\n",
       " 'https://rukminim1.flixcart.com/image/329/395/jm3ro280/sunglass/s/9/8/gn11096-gld-grn-mr-m-gansta-original-imaf926hzgfkdsmh.jpeg?q=50',\n",
       " 'https://rukminim1.flixcart.com/image/329/395/jv44mfk0/sunglass/q/b/s/s-club-kids-011-phenomenal-original-imafbnwtdf5r6du3.jpeg?q=50',\n",
       " 'https://rukminim1.flixcart.com/image/329/395/klmmrgw0/sunglass/k/m/y/over-size-blue-black-vcb4-piraso-original-imagypzwqtsgbhh7.jpeg?q=50',\n",
       " 'https://rukminim1.flixcart.com/image/329/395/k6l2vm80/sunglass/3/7/b/medium-allu-arjun-adam-jones-original-imafzyfypmnbpfu3.jpeg?q=50']"
      ]
     },
     "execution_count": 94,
     "metadata": {},
     "output_type": "execute_result"
    }
   ],
   "source": [
    "brand_images=[]\n",
    "for i in images_tags:\n",
    "    brand_images.append(i.get_attribute('src'))\n",
    "    \n",
    "brand_images"
   ]
  },
  {
   "cell_type": "code",
   "execution_count": 95,
   "metadata": {},
   "outputs": [
    {
     "data": {
      "text/plain": [
       "40"
      ]
     },
     "execution_count": 95,
     "metadata": {},
     "output_type": "execute_result"
    }
   ],
   "source": [
    "len(brand_images)"
   ]
  },
  {
   "cell_type": "code",
   "execution_count": 96,
   "metadata": {},
   "outputs": [],
   "source": [
    "next_btn=driver.find_element_by_xpath(\"//a[@class='_1LKTO3']\")\n",
    "next_btn.click()"
   ]
  },
  {
   "cell_type": "code",
   "execution_count": 97,
   "metadata": {},
   "outputs": [
    {
     "data": {
      "text/plain": [
       "[<selenium.webdriver.remote.webelement.WebElement (session=\"f3b41b182ec65c761599809f7ffbc226\", element=\"ee9fb294-3a7d-4b4b-9c2e-c8a5e8d3b72d\")>,\n",
       " <selenium.webdriver.remote.webelement.WebElement (session=\"f3b41b182ec65c761599809f7ffbc226\", element=\"bf609575-a1c7-4a2b-bee1-70fffb764f44\")>,\n",
       " <selenium.webdriver.remote.webelement.WebElement (session=\"f3b41b182ec65c761599809f7ffbc226\", element=\"5b8d788b-c3c8-498c-b2db-8303b9263086\")>,\n",
       " <selenium.webdriver.remote.webelement.WebElement (session=\"f3b41b182ec65c761599809f7ffbc226\", element=\"26ba916f-a922-4358-998e-92825df2312d\")>,\n",
       " <selenium.webdriver.remote.webelement.WebElement (session=\"f3b41b182ec65c761599809f7ffbc226\", element=\"181b0ae4-05d8-400c-b6a4-c2c9913a1a88\")>,\n",
       " <selenium.webdriver.remote.webelement.WebElement (session=\"f3b41b182ec65c761599809f7ffbc226\", element=\"54ce6b61-7350-41f5-a914-10450a2ce785\")>,\n",
       " <selenium.webdriver.remote.webelement.WebElement (session=\"f3b41b182ec65c761599809f7ffbc226\", element=\"40647c1c-a5e9-4599-b7e2-61d028cd1da3\")>,\n",
       " <selenium.webdriver.remote.webelement.WebElement (session=\"f3b41b182ec65c761599809f7ffbc226\", element=\"cd725d32-d531-49f5-ab2e-b5222d818a45\")>,\n",
       " <selenium.webdriver.remote.webelement.WebElement (session=\"f3b41b182ec65c761599809f7ffbc226\", element=\"9090f642-e5d2-4fa1-8dfb-be43f7aa291d\")>,\n",
       " <selenium.webdriver.remote.webelement.WebElement (session=\"f3b41b182ec65c761599809f7ffbc226\", element=\"d82052fe-ebbd-416d-b2f6-1d9215402cc2\")>,\n",
       " <selenium.webdriver.remote.webelement.WebElement (session=\"f3b41b182ec65c761599809f7ffbc226\", element=\"122037f2-0094-44f7-bd2f-17faaf3ab051\")>,\n",
       " <selenium.webdriver.remote.webelement.WebElement (session=\"f3b41b182ec65c761599809f7ffbc226\", element=\"9f341515-62c9-46a2-bd0e-3caceee6ca7b\")>,\n",
       " <selenium.webdriver.remote.webelement.WebElement (session=\"f3b41b182ec65c761599809f7ffbc226\", element=\"866ccdc6-a44a-489e-90d9-8eb171cbc155\")>,\n",
       " <selenium.webdriver.remote.webelement.WebElement (session=\"f3b41b182ec65c761599809f7ffbc226\", element=\"061a7af2-1ef5-47e9-a0e3-6b5ae6d36d13\")>,\n",
       " <selenium.webdriver.remote.webelement.WebElement (session=\"f3b41b182ec65c761599809f7ffbc226\", element=\"a9f294bc-d15c-471e-9b6e-517633d7b3f2\")>,\n",
       " <selenium.webdriver.remote.webelement.WebElement (session=\"f3b41b182ec65c761599809f7ffbc226\", element=\"d2f7c51d-8df8-4e7b-a209-c957598e9dea\")>,\n",
       " <selenium.webdriver.remote.webelement.WebElement (session=\"f3b41b182ec65c761599809f7ffbc226\", element=\"1d71b5bd-6b7c-4ebc-be5c-749cb2d37592\")>,\n",
       " <selenium.webdriver.remote.webelement.WebElement (session=\"f3b41b182ec65c761599809f7ffbc226\", element=\"e6303712-a36c-4816-9eeb-5faa4321db5a\")>,\n",
       " <selenium.webdriver.remote.webelement.WebElement (session=\"f3b41b182ec65c761599809f7ffbc226\", element=\"0bd8fd14-d296-435e-acc2-dc5912f8cdce\")>,\n",
       " <selenium.webdriver.remote.webelement.WebElement (session=\"f3b41b182ec65c761599809f7ffbc226\", element=\"13153c8d-5b12-4e42-a073-cefca3f06d0e\")>,\n",
       " <selenium.webdriver.remote.webelement.WebElement (session=\"f3b41b182ec65c761599809f7ffbc226\", element=\"09351a93-79c3-42f4-b8c9-5528e5e50dd9\")>,\n",
       " <selenium.webdriver.remote.webelement.WebElement (session=\"f3b41b182ec65c761599809f7ffbc226\", element=\"7ddd7560-ee58-4f18-8544-09be62ed942a\")>,\n",
       " <selenium.webdriver.remote.webelement.WebElement (session=\"f3b41b182ec65c761599809f7ffbc226\", element=\"98a819f4-b24d-452d-855b-ff9f7eb502f7\")>,\n",
       " <selenium.webdriver.remote.webelement.WebElement (session=\"f3b41b182ec65c761599809f7ffbc226\", element=\"e97e7867-f0c5-4f2e-a325-5ee2c14600f5\")>,\n",
       " <selenium.webdriver.remote.webelement.WebElement (session=\"f3b41b182ec65c761599809f7ffbc226\", element=\"83214f41-bff8-496d-a76a-0e78bf9bc70f\")>,\n",
       " <selenium.webdriver.remote.webelement.WebElement (session=\"f3b41b182ec65c761599809f7ffbc226\", element=\"cb115eb3-4138-4ac1-a0f9-a8ba6d260e0c\")>,\n",
       " <selenium.webdriver.remote.webelement.WebElement (session=\"f3b41b182ec65c761599809f7ffbc226\", element=\"ac33e114-7f09-4a1a-8bfb-cb7dd9e3d723\")>,\n",
       " <selenium.webdriver.remote.webelement.WebElement (session=\"f3b41b182ec65c761599809f7ffbc226\", element=\"7a89c183-59f1-4e1f-824e-5bc8f3ca6ada\")>,\n",
       " <selenium.webdriver.remote.webelement.WebElement (session=\"f3b41b182ec65c761599809f7ffbc226\", element=\"fc40564d-6bef-4cdb-8ca5-8d368a07b4f7\")>,\n",
       " <selenium.webdriver.remote.webelement.WebElement (session=\"f3b41b182ec65c761599809f7ffbc226\", element=\"dfab4d70-277b-4b19-97b9-786ce37b0438\")>,\n",
       " <selenium.webdriver.remote.webelement.WebElement (session=\"f3b41b182ec65c761599809f7ffbc226\", element=\"611a3ce3-faff-4911-a52f-7105d29d6c0d\")>,\n",
       " <selenium.webdriver.remote.webelement.WebElement (session=\"f3b41b182ec65c761599809f7ffbc226\", element=\"ef690b2a-a870-4449-a175-c7d1bd9d0081\")>,\n",
       " <selenium.webdriver.remote.webelement.WebElement (session=\"f3b41b182ec65c761599809f7ffbc226\", element=\"ea29dc30-057b-4753-823f-63a2d605f718\")>,\n",
       " <selenium.webdriver.remote.webelement.WebElement (session=\"f3b41b182ec65c761599809f7ffbc226\", element=\"76a4fc4c-853d-4ea7-b74d-96b4aebcc3ae\")>,\n",
       " <selenium.webdriver.remote.webelement.WebElement (session=\"f3b41b182ec65c761599809f7ffbc226\", element=\"2da6b713-fd8d-423c-b832-bf63f4b7e528\")>,\n",
       " <selenium.webdriver.remote.webelement.WebElement (session=\"f3b41b182ec65c761599809f7ffbc226\", element=\"09022131-7861-4963-b84b-7fd5a6a52557\")>,\n",
       " <selenium.webdriver.remote.webelement.WebElement (session=\"f3b41b182ec65c761599809f7ffbc226\", element=\"87c1dcd2-f570-4880-802d-803bf6ea0038\")>,\n",
       " <selenium.webdriver.remote.webelement.WebElement (session=\"f3b41b182ec65c761599809f7ffbc226\", element=\"3780b12f-edb1-412c-9c0d-ebf4897eb0b0\")>,\n",
       " <selenium.webdriver.remote.webelement.WebElement (session=\"f3b41b182ec65c761599809f7ffbc226\", element=\"8dc09df6-5568-492e-9ffc-f9420d00faa7\")>,\n",
       " <selenium.webdriver.remote.webelement.WebElement (session=\"f3b41b182ec65c761599809f7ffbc226\", element=\"7e4b1c23-976f-4e38-b7a3-6c5569993e61\")>]"
      ]
     },
     "execution_count": 97,
     "metadata": {},
     "output_type": "execute_result"
    }
   ],
   "source": [
    "brand_tags_second=driver.find_elements_by_xpath(\"//div[@class='_2WkVRV']\")\n",
    "brand_tags_second"
   ]
  },
  {
   "cell_type": "code",
   "execution_count": 98,
   "metadata": {},
   "outputs": [
    {
     "data": {
      "text/plain": [
       "['PIRASO',\n",
       " 'Fravy',\n",
       " 'ROYAL SON',\n",
       " 'Fastrack',\n",
       " 'Fastrack',\n",
       " 'PHENOMENAL',\n",
       " 'Poland',\n",
       " 'Cristiano Ronnie',\n",
       " 'ROZZETTA CRAFT',\n",
       " 'Fastrack',\n",
       " 'DEIXELS',\n",
       " 'Fastrack',\n",
       " 'Fravy',\n",
       " 'Fastrack',\n",
       " 'elegante',\n",
       " 'ROZZETTA CRAFT',\n",
       " 'hipe',\n",
       " 'AISLIN',\n",
       " 'hipe',\n",
       " 'GANSTA',\n",
       " 'GANSTA',\n",
       " 'NuVew',\n",
       " 'AISLIN',\n",
       " 'PHENOMENAL',\n",
       " 'Fastrack',\n",
       " 'NuVew',\n",
       " 'Flizz',\n",
       " 'DEIXELS',\n",
       " 'NuVew',\n",
       " 'PHENOMENAL',\n",
       " 'NuVew',\n",
       " 'kingsunglasses',\n",
       " 'NuVew',\n",
       " 'GANSTA',\n",
       " 'Flizz',\n",
       " 'PIRASO',\n",
       " 'Fastrack',\n",
       " 'PIRASO',\n",
       " 'kingsunglasses',\n",
       " 'kingsunglasses']"
      ]
     },
     "execution_count": 98,
     "metadata": {},
     "output_type": "execute_result"
    }
   ],
   "source": [
    "brand_names_second=[]\n",
    "for i in brand_tags_second:\n",
    "    brand_names_second.append(i.text)\n",
    "    \n",
    "brand_names_second"
   ]
  },
  {
   "cell_type": "code",
   "execution_count": 99,
   "metadata": {},
   "outputs": [
    {
     "data": {
      "text/plain": [
       "40"
      ]
     },
     "execution_count": 99,
     "metadata": {},
     "output_type": "execute_result"
    }
   ],
   "source": [
    "len(brand_names_second)"
   ]
  },
  {
   "cell_type": "code",
   "execution_count": 100,
   "metadata": {},
   "outputs": [
    {
     "data": {
      "text/plain": [
       "['UV Protection Wayfarer Sunglasses (32)',\n",
       " 'UV Protection, Gradient, Night Vision Retro Square Sung...',\n",
       " 'UV Protection Retro Square Sunglasses (58)',\n",
       " 'UV Protection Wrap-around Sunglasses (Free Size)',\n",
       " 'Gradient, UV Protection Wayfarer Sunglasses (Free Size)',\n",
       " 'UV Protection, Mirrored Retro Square Sunglasses (53)',\n",
       " 'UV Protection Wayfarer Sunglasses (Free Size)',\n",
       " 'UV Protection, Riding Glasses Aviator Sunglasses (57)',\n",
       " 'UV Protection, Gradient Round Sunglasses (Free Size)',\n",
       " 'Gradient, UV Protection Wayfarer Sunglasses (Free Size)',\n",
       " 'Polarized, UV Protection, Riding Glasses Wayfarer Sungl...',\n",
       " 'UV Protection Shield Sunglasses (Free Size)',\n",
       " 'UV Protection Retro Square Sunglasses (Free Size)',\n",
       " 'UV Protection Wayfarer Sunglasses (Free Size)',\n",
       " 'UV Protection Round Sunglasses (Free Size)',\n",
       " 'UV Protection, Gradient Retro Square Sunglasses (Free S...',\n",
       " 'UV Protection Sports Sunglasses (Free Size)',\n",
       " 'UV Protection Oval Sunglasses (60)',\n",
       " 'Mirrored Wayfarer Sunglasses (55)',\n",
       " 'UV Protection, Night Vision, Riding Glasses Aviator Sun...',\n",
       " 'UV Protection, Riding Glasses Wayfarer Sunglasses (53)',\n",
       " 'UV Protection, Riding Glasses Wayfarer Sunglasses (56)',\n",
       " 'UV Protection, Gradient Butterfly, Retro Square Sunglas...',\n",
       " 'UV Protection, Mirrored Clubmaster Sunglasses (Free Siz...',\n",
       " 'UV Protection Aviator Sunglasses (58)',\n",
       " 'UV Protection, Riding Glasses Aviator Sunglasses (58)',\n",
       " 'UV Protection Retro Square Sunglasses (Free Size)',\n",
       " 'UV Protection Round Sunglasses (Free Size)',\n",
       " 'UV Protection, Mirrored Sports Sunglasses (73)',\n",
       " 'UV Protection, Mirrored Retro Square Sunglasses (Free S...',\n",
       " 'UV Protection, Riding Glasses Aviator Sunglasses (58)',\n",
       " 'UV Protection Round Sunglasses (Free Size)',\n",
       " 'UV Protection, Mirrored, Gradient, Riding Glasses, Nigh...',\n",
       " 'UV Protection, Gradient Wayfarer Sunglasses (53)',\n",
       " 'UV Protection, Polarized Rectangular Sunglasses (Free S...',\n",
       " 'UV Protection Aviator Sunglasses (50)',\n",
       " 'Mirrored, UV Protection Wayfarer Sunglasses (Free Size)',\n",
       " 'UV Protection Aviator Sunglasses (54)',\n",
       " 'Mirrored, UV Protection Wayfarer Sunglasses (Free Size)',\n",
       " 'UV Protection Round Sunglasses (Free Size)']"
      ]
     },
     "execution_count": 100,
     "metadata": {},
     "output_type": "execute_result"
    }
   ],
   "source": [
    "brand_desc_secound=[]\n",
    "for i in driver.find_elements_by_xpath(\"//a[@class='IRpwTa']\"):\n",
    "    brand_desc_secound.append(i.text)\n",
    "    \n",
    "brand_desc_secound"
   ]
  },
  {
   "cell_type": "code",
   "execution_count": 101,
   "metadata": {},
   "outputs": [
    {
     "data": {
      "text/plain": [
       "40"
      ]
     },
     "execution_count": 101,
     "metadata": {},
     "output_type": "execute_result"
    }
   ],
   "source": [
    "len(brand_desc_secound)"
   ]
  },
  {
   "cell_type": "code",
   "execution_count": 102,
   "metadata": {},
   "outputs": [
    {
     "data": {
      "text/plain": [
       "['₹237',\n",
       " '₹329',\n",
       " '₹499',\n",
       " '₹607',\n",
       " '₹638',\n",
       " '₹399',\n",
       " '₹162',\n",
       " '₹399',\n",
       " '₹449',\n",
       " '₹621',\n",
       " '₹249',\n",
       " '₹759',\n",
       " '₹289',\n",
       " '₹647',\n",
       " '₹199',\n",
       " '₹449',\n",
       " '₹319',\n",
       " '₹764',\n",
       " '₹219',\n",
       " '₹292',\n",
       " '₹260',\n",
       " '₹248',\n",
       " '₹574',\n",
       " '₹319',\n",
       " '₹1,148',\n",
       " '₹437',\n",
       " '₹399',\n",
       " '₹219',\n",
       " '₹367',\n",
       " '₹399',\n",
       " '₹206',\n",
       " '₹339',\n",
       " '₹310',\n",
       " '₹296',\n",
       " '₹279',\n",
       " '₹331',\n",
       " '₹901',\n",
       " '₹237',\n",
       " '₹299',\n",
       " '₹339']"
      ]
     },
     "execution_count": 102,
     "metadata": {},
     "output_type": "execute_result"
    }
   ],
   "source": [
    "brand_prices_second=[]\n",
    "for i in driver.find_elements_by_xpath(\"//div[@class='_30jeq3']\"):\n",
    "    brand_prices_second.append(i.text)\n",
    "    \n",
    "brand_prices_second\n",
    "    "
   ]
  },
  {
   "cell_type": "code",
   "execution_count": 103,
   "metadata": {},
   "outputs": [
    {
     "data": {
      "text/plain": [
       "['https://rukminim1.flixcart.com/image/329/395/jxz0brk0/sunglass/e/k/d/m-9102-wayfarer-black-b-piraso-original-imafgacht33ghjgx.jpeg?q=50',\n",
       " 'https://rukminim1.flixcart.com/image/329/395/kl8ccy80/sunglass/m/e/g/free-aqua-blue-square-sunglasses-fravy-original-imagyeangw6uupry.jpeg?q=50',\n",
       " 'https://rukminim1.flixcart.com/image/329/395/k65d18w0/sunglass/y/z/d/m-rs0039av-royal-son-original-imafzzdmrtmzdd7m.jpeg?q=50',\n",
       " 'https://rukminim1.flixcart.com/image/329/395/jmxrwy80/sunglass/h/p/8/free-size-nbp089gr3-fastrack-original-imaf9qh3hrfpjzfs.jpeg?q=50',\n",
       " 'https://rukminim1.flixcart.com/image/329/395/k0jvy4w0/sunglass/s/2/f/m-p449gr1t-fastrack-original-imafkbezmkfchuzb.jpeg?q=50',\n",
       " 'https://rukminim1.flixcart.com/image/329/395/kd3f3bk0/sunglass/k/b/f/m-carry-combo-2-18-badfella-original-imafu2z29scc5hyn.jpeg?q=50',\n",
       " 'https://rukminim1.flixcart.com/image/329/395/jlqwpe80/sunglass/u/d/g/sunglass-rect-black-mme-free-size-ferret-original-imaf3dv2yvznjsyp.jpeg?q=50',\n",
       " 'https://rukminim1.flixcart.com/image/329/395/kk76wsw0/sunglass/d/n/b/medium-medium-rn1062-sil-blk-cristiano-ronnie-original-imafzhqgfyhdssxt.jpeg?q=50',\n",
       " 'https://rukminim1.flixcart.com/image/329/395/k6l2vm80/sunglass/f/s/5/m-allu-arjun-shades-rozzetta-craft-original-imafpyfahqdtwgn4.jpeg?q=50',\n",
       " 'https://rukminim1.flixcart.com/image/329/395/k0jvy4w0/sunglass/8/x/r/m-p448bk5t-fastrack-original-imafkbeztaqbggfz.jpeg?q=50',\n",
       " 'https://rukminim1.flixcart.com/image/329/395/klo27bk0/sunglass/7/w/1/m-fld-bl-deixels-original-imagyqjegfxcc4kt.jpeg?q=50',\n",
       " 'https://rukminim1.flixcart.com/image/329/395/kgtqhe80-0/sunglass/p/g/p/p427bk1-one-size-fits-all-fastrack-original-imafwyqxmhpcaagg.jpeg?q=50',\n",
       " 'https://rukminim1.flixcart.com/image/329/395/kmi2g7k0/sunglass/3/p/x/free-square-silver-frem-blue-glass-fravy-original-imagfdcxvkjhzp3g.jpeg?q=50',\n",
       " 'https://rukminim1.flixcart.com/image/329/395/jnkmykw0/sunglass/y/v/y/p429bu4-one-size-fits-all-fastrack-original-imafa8fgbc2ec6pd.jpeg?q=50',\n",
       " 'https://rukminim1.flixcart.com/image/329/395/k5msb680/sunglass/b/k/8/m-2062-ivy-vacker-original-imafz4pymrnabbqw.jpeg?q=50',\n",
       " 'https://rukminim1.flixcart.com/image/329/395/kjiwfbk0-0/sunglass/7/6/m/one-piece-trendy-sunglass-m-rozzetta-craft-original-imafz2tekftq35hk.jpeg?q=50',\n",
       " 'https://rukminim1.flixcart.com/image/329/395/jzygccw0/sunglass/h/c/b/free-size-atx-sun-uv-p-sports-f-blue-green-brown-atxp-original-imafgxpmw8zwxe4z.jpeg?q=50',\n",
       " 'https://rukminim1.flixcart.com/image/329/395/js3j5ow0/sunglass/d/j/s/as-8336-82-brw963-women-l-aislin-original-imafdr43zaxvvxag.jpeg?q=50',\n",
       " 'https://rukminim1.flixcart.com/image/329/395/k5o7r0w0/sunglass/s/n/e/55-ice-blue-2148-hipe-original-imafzaecfzcjkypv.jpeg?q=50',\n",
       " 'https://rukminim1.flixcart.com/image/329/395/kazor680/sunglass/a/m/n/m-gn-3002-sil-yel-gn-3002-sil-clr-gansta-original-imafsg69g7fwhnep.jpeg?q=50',\n",
       " 'https://rukminim1.flixcart.com/image/329/395/kehfi4w0-0/sunglass/k/e/u/gn3006-blk-blu-grn-mr-com-m-gansta-original-imafv5gbgyjq42fd.jpeg?q=50',\n",
       " 'https://rukminim1.flixcart.com/image/329/395/kbv4fww0/sunglass/6/a/i/one-size-fits-all-nw-wf-c2-51661-nuvew-original-imaft46zren4etjf.jpeg?q=50',\n",
       " 'https://rukminim1.flixcart.com/image/329/395/k9u8zgw0/sunglass/g/8/4/m-as-18004-89-14580-aislin-original-imafrgy9hwbjgzpp.jpeg?q=50',\n",
       " 'https://rukminim1.flixcart.com/image/329/395/kk4c13k0/sunglass/v/g/p/large-m-clubmaster-2combo-001-badfella-original-imaf6jvaycqmmkge.jpeg?q=50',\n",
       " 'https://rukminim1.flixcart.com/image/329/395/k4n2avk0/sunglass/f/h/z/l-m242gr3t-fastrack-original-imafnhsfvfgbpy6t.jpeg?q=50',\n",
       " 'https://rukminim1.flixcart.com/image/329/395/kbv4fww0/sunglass/5/c/8/one-size-fits-all-nw-av-c5-51459-nuvew-original-imaft45rggbkf7cd.jpeg?q=50',\n",
       " 'https://rukminim1.flixcart.com/image/329/395/kgjqefk0-0/sunglass/r/i/z/flizz-kb-mt-br-g001-free-size-flizz-original-imafwqp8frsa9vgh.jpeg?q=50',\n",
       " 'https://rukminim1.flixcart.com/image/329/395/jzeg6fk0/sunglass/q/z/k/m-com-rol1-rol18-dx-deixels-original-imafj7yzsjmyzkdg.jpeg?q=50',\n",
       " 'https://rukminim1.flixcart.com/image/329/395/k0r15e80/sunglass/b/u/z/l-nw-81008-28-16012-nuvew-original-imafkhhhsa5j7q3y.jpeg?q=50',\n",
       " 'https://rukminim1.flixcart.com/image/329/395/ke5zzbk0-0/sunglass/x/q/z/kabirsingh-combo-027-m-phenomenal-original-imafuwz4xks2wwng.jpeg?q=50',\n",
       " 'https://rukminim1.flixcart.com/image/329/395/kbv4fww0/sunglass/i/k/d/one-size-fits-all-nw-av-c2-51714-nuvew-original-imaft46z8qf4hwzg.jpeg?q=50',\n",
       " 'https://rukminim1.flixcart.com/image/329/395/kihqz680-0/sunglass/q/y/b/free-size-ganmon-kingsunglasses-original-imafya5rkzntakpj.jpeg?q=50',\n",
       " 'https://rukminim1.flixcart.com/image/329/395/kbv4fww0/sunglass/t/g/8/one-size-fits-all-nw-wf-c5-51453-nuvew-original-imaft45qrm7wvxgf.jpeg?q=50',\n",
       " 'https://rukminim1.flixcart.com/image/329/395/jmmce4w0/sunglass/v/x/5/gn3006-blk-gd-gn11096-blk-gd-m-gansta-original-imaf6rncrnj9fdwq.jpeg?q=50',\n",
       " 'https://rukminim1.flixcart.com/image/329/395/kbcjpu80/sunglass/r/7/g/free-size-flizzmtkb001-flizz-original-imafsphj79uspq68.jpeg?q=50',\n",
       " 'https://rukminim1.flixcart.com/image/329/395/jwnusnk0/sunglass/h/5/v/m-3026-gold-green-b-piraso-original-imafhby58ttweeqm.jpeg?q=50',\n",
       " 'https://rukminim1.flixcart.com/image/329/395/k0jvy4w0/sunglass/t/z/e/m-p448gr2t-fastrack-original-imafkbez5cgyvrtf.jpeg?q=50',\n",
       " 'https://rukminim1.flixcart.com/image/329/395/kic17rk0-0/sunglass/b/q/6/m-3077-brown-lens-piraso-original-imafy5cshz2yckue.jpeg?q=50',\n",
       " 'https://rukminim1.flixcart.com/image/329/395/ko62xzk0/sunglass/h/m/w/medium-wayfarer-5-kingsunglasses-original-imag2zy2yzvhbqkj.jpeg?q=50',\n",
       " 'https://rukminim1.flixcart.com/image/329/395/kb1470w0/sunglass/a/1/n/medium-combo-six-mono-shah-collections-original-imafsh5ynyzjhbxa.jpeg?q=50']"
      ]
     },
     "execution_count": 103,
     "metadata": {},
     "output_type": "execute_result"
    }
   ],
   "source": [
    "brand_images_second=[]\n",
    "for i in driver.find_elements_by_xpath(\"//img[@class='_2r_T1I']\"):\n",
    "    brand_images_second.append(i.get_attribute('src'))\n",
    "    \n",
    "brand_images_second\n",
    "    "
   ]
  },
  {
   "cell_type": "code",
   "execution_count": 104,
   "metadata": {},
   "outputs": [
    {
     "data": {
      "text/plain": [
       "40"
      ]
     },
     "execution_count": 104,
     "metadata": {},
     "output_type": "execute_result"
    }
   ],
   "source": [
    "len(brand_images_second)"
   ]
  },
  {
   "cell_type": "code",
   "execution_count": 105,
   "metadata": {},
   "outputs": [],
   "source": [
    "next_btn=driver.find_element_by_xpath(\"//div[@class='_2MImiq']/nav/a[4]\")\n",
    "next_btn.click()"
   ]
  },
  {
   "cell_type": "code",
   "execution_count": 106,
   "metadata": {},
   "outputs": [
    {
     "data": {
      "text/plain": [
       "['hipe',\n",
       " 'hipe',\n",
       " 'ROYAL SON',\n",
       " 'Fastrack',\n",
       " 'GANSTA',\n",
       " 'ROZZETTA CRAFT',\n",
       " 'Fastrack',\n",
       " 'Fastrack',\n",
       " 'FOSSIL',\n",
       " 'ROYAL SON',\n",
       " 'ROYAL SON',\n",
       " 'GANSTA',\n",
       " 'Poloport',\n",
       " 'PHENOMENAL',\n",
       " 'elegante',\n",
       " 'ROZZETTA CRAFT',\n",
       " 'agera',\n",
       " 'elegante',\n",
       " 'GANSTA',\n",
       " 'NuVew']"
      ]
     },
     "execution_count": 106,
     "metadata": {},
     "output_type": "execute_result"
    }
   ],
   "source": [
    "brand_names_third=[]\n",
    "for i in driver.find_elements_by_xpath(\"//div[@class='_2WkVRV']\")[:20]:\n",
    "    brand_names_third.append(i.text)\n",
    "    \n",
    "brand_names_third\n",
    "    "
   ]
  },
  {
   "cell_type": "code",
   "execution_count": 107,
   "metadata": {},
   "outputs": [
    {
     "data": {
      "text/plain": [
       "20"
      ]
     },
     "execution_count": 107,
     "metadata": {},
     "output_type": "execute_result"
    }
   ],
   "source": [
    "len(brand_names_third)"
   ]
  },
  {
   "cell_type": "code",
   "execution_count": 108,
   "metadata": {},
   "outputs": [
    {
     "data": {
      "text/plain": [
       "['UV Protection, Gradient, Riding Glasses Wayfarer Sungla...',\n",
       " 'UV Protection, Mirrored Aviator Sunglasses (Free Size)',\n",
       " 'Mirrored Aviator Sunglasses (55)',\n",
       " 'Gradient, UV Protection Wayfarer Sunglasses (Free Size)',\n",
       " 'UV Protection, Night Vision, Riding Glasses Aviator Sun...',\n",
       " 'UV Protection, Gradient Round Sunglasses (Free Size)',\n",
       " 'UV Protection Wayfarer Sunglasses (Free Size)',\n",
       " 'UV Protection Wayfarer Sunglasses (56)',\n",
       " 'Mirrored Round Sunglasses (51)',\n",
       " 'Mirrored Aviator Sunglasses (Free Size)',\n",
       " 'Mirrored Aviator Sunglasses (55)',\n",
       " 'UV Protection, Gradient Aviator Sunglasses (57)',\n",
       " 'UV Protection Wayfarer Sunglasses (Free Size)',\n",
       " 'UV Protection, Mirrored, Gradient Retro Square Sunglass...',\n",
       " 'UV Protection Wayfarer Sunglasses (Free Size)',\n",
       " 'Polarized, UV Protection Aviator Sunglasses (Free Size)',\n",
       " 'UV Protection Round Sunglasses (54)',\n",
       " 'UV Protection Round Sunglasses (Free Size)',\n",
       " 'UV Protection, Gradient Aviator Sunglasses (55)',\n",
       " 'UV Protection, Night Vision, Riding Glasses Sports Sung...']"
      ]
     },
     "execution_count": 108,
     "metadata": {},
     "output_type": "execute_result"
    }
   ],
   "source": [
    "brand_desc_third=[]\n",
    "for i in driver.find_elements_by_xpath(\"//a[@class='IRpwTa']\")[:20]:\n",
    "    brand_desc_third.append(i.text)\n",
    "    \n",
    "brand_desc_third"
   ]
  },
  {
   "cell_type": "code",
   "execution_count": 109,
   "metadata": {},
   "outputs": [
    {
     "data": {
      "text/plain": [
       "20"
      ]
     },
     "execution_count": 109,
     "metadata": {},
     "output_type": "execute_result"
    }
   ],
   "source": [
    "len(brand_desc_third)"
   ]
  },
  {
   "cell_type": "code",
   "execution_count": 110,
   "metadata": {},
   "outputs": [
    {
     "data": {
      "text/plain": [
       "['₹249',\n",
       " '₹199',\n",
       " '₹399',\n",
       " '₹687',\n",
       " '₹223',\n",
       " '₹449',\n",
       " '₹758',\n",
       " '₹759',\n",
       " '₹2,136',\n",
       " '₹399',\n",
       " '₹399',\n",
       " '₹233',\n",
       " '₹249',\n",
       " '₹259',\n",
       " '₹449',\n",
       " '₹449',\n",
       " '₹207',\n",
       " '₹449',\n",
       " '₹286',\n",
       " '₹209']"
      ]
     },
     "execution_count": 110,
     "metadata": {},
     "output_type": "execute_result"
    }
   ],
   "source": [
    "brand_prices_third=[]\n",
    "for i in driver.find_elements_by_xpath(\"//div[@class='_30jeq3']\")[:20]:\n",
    "    brand_prices_third.append(i.text)\n",
    "    \n",
    "brand_prices_third\n",
    "    "
   ]
  },
  {
   "cell_type": "code",
   "execution_count": 111,
   "metadata": {},
   "outputs": [
    {
     "data": {
      "text/plain": [
       "20"
      ]
     },
     "execution_count": 111,
     "metadata": {},
     "output_type": "execute_result"
    }
   ],
   "source": [
    "len(brand_prices_third  )"
   ]
  },
  {
   "cell_type": "code",
   "execution_count": 112,
   "metadata": {},
   "outputs": [
    {
     "data": {
      "text/plain": [
       "['https://rukminim1.flixcart.com/image/329/395/kf75fgw0-0/sunglass/l/c/u/wayfarer-1-3-medium-2211-the-fashion-hub-original-imafvphzhugabu8z.jpeg?q=50',\n",
       " 'https://rukminim1.flixcart.com/image/329/395/jt1tq4w0/sunglass/s/y/f/m-9114-hipe-original-imafefhfydypfhd4.jpeg?q=50',\n",
       " 'https://rukminim1.flixcart.com/image/329/395/jx6fiq80/sunglass/y/c/5/m-rs0014av-royal-son-original-imaegufy6ctyjzg4.jpeg?q=50',\n",
       " 'https://rukminim1.flixcart.com/image/329/395/k0jvy4w0/sunglass/m/p/h/m-p448yl4t-fastrack-original-imafkbezgc8fzsqg.jpeg?q=50',\n",
       " 'https://rukminim1.flixcart.com/image/329/395/kaijgy80/sunglass/m/g/n/m-gn-3002-sil-yel-gansta-original-imafs2gszz5gfger.jpeg?q=50',\n",
       " 'https://rukminim1.flixcart.com/image/329/395/kd3f3bk0/sunglass/q/c/n/m-allu-arjun-style-rozzetta-craft-original-imafu3ytrceucyhn.jpeg?q=50',\n",
       " 'https://rukminim1.flixcart.com/image/329/395/jo4n4i80/sunglass/v/8/3/p428bk4-onesize-fits-all-fastrack-original-imafammyzpvrw89v.jpeg?q=50',\n",
       " 'https://rukminim1.flixcart.com/image/329/395/k0bbb0w0/sunglass/z/g/q/m-p425gr4-fastrack-original-imafk4phmuhhcnxz.jpeg?q=50',\n",
       " 'https://rukminim1.flixcart.com/image/329/395/kfpq5jk0-0/sunglass/s/l/v/200915-m-fossil-original-imafw4fyyy7edgeq.jpeg?q=50',\n",
       " 'https://rukminim1.flixcart.com/image/329/395/jx6fiq80/sunglass/w/a/p/m-rs0019av-royal-son-original-imafhpa5hf5jergz.jpeg?q=50',\n",
       " 'https://rukminim1.flixcart.com/image/329/395/jx6fiq80/sunglass/c/b/g/m-rs0013av-royal-son-original-imaegueznqnxacgx.jpeg?q=50',\n",
       " 'https://rukminim1.flixcart.com/image/329/395/kd3f3bk0pkrrdj/sunglass/m/y/9/medium-pj-gn-3002-sil-blu-gansta-original-imafu652rz2kpb4u.jpeg?q=50',\n",
       " 'https://rukminim1.flixcart.com/image/329/395/sunglass/h/5/p/cm02-np3-poloport-one-size-fits-all-original-imaegrsfgfypd2jg.jpeg?q=50',\n",
       " 'https://rukminim1.flixcart.com/image/329/395/k37mg7k0/sunglass/9/w/4/l-retrosq-ltstcmb-001-phenomenal-original-imafme6wxdzrwhz7.jpeg?q=50',\n",
       " 'https://rukminim1.flixcart.com/image/329/395/kar44280/sunglass/z/q/e/m-v30022-c-1-elegante-original-imafs9cphb9nuabj.jpeg?q=50',\n",
       " 'https://rukminim1.flixcart.com/image/329/395/kkimfm80/sunglass/j/s/f/free-size-m-aviator-classic-polarized-uv-400-men-women-sunglass-original-imafzum8v96eumna.jpeg?q=50',\n",
       " 'https://rukminim1.flixcart.com/image/329/395/kerfl3k0-0/sunglass/c/f/5/bd720-blk-clr-m-agera-original-imaeztgharhhsvmz.jpeg?q=50',\n",
       " 'https://rukminim1.flixcart.com/image/329/395/kj4m0sw0-0/sunglass/4/2/k/4040-m-elegante-original-imafyrpcu9fgu6bw.jpeg?q=50',\n",
       " 'https://rukminim1.flixcart.com/image/329/395/j6mhxu80/sunglass/h/t/g/gn-3002-blk-blu-gn-3002-blk-grn-m-gansta-original-imaexfw4hy2hxytw.jpeg?q=50',\n",
       " 'https://rukminim1.flixcart.com/image/329/395/k0r15e80/sunglass/f/z/8/m-nw-729-26-15429-nuvew-original-imafkhg3bnggptzz.jpeg?q=50']"
      ]
     },
     "execution_count": 112,
     "metadata": {},
     "output_type": "execute_result"
    }
   ],
   "source": [
    "brand_images_third=[]\n",
    "for i in driver.find_elements_by_xpath(\"//img[@class='_2r_T1I']\")[:20]:\n",
    "    brand_images_third.append(i.get_attribute('src'))\n",
    "    \n",
    "brand_images_third"
   ]
  },
  {
   "cell_type": "code",
   "execution_count": 113,
   "metadata": {},
   "outputs": [
    {
     "data": {
      "text/plain": [
       "20"
      ]
     },
     "execution_count": 113,
     "metadata": {},
     "output_type": "execute_result"
    }
   ],
   "source": [
    "len(brand_images_third)"
   ]
  },
  {
   "cell_type": "code",
   "execution_count": 114,
   "metadata": {},
   "outputs": [
    {
     "data": {
      "text/plain": [
       "['PIRASO',\n",
       " 'Fastrack',\n",
       " 'Fastrack',\n",
       " 'kingsunglasses',\n",
       " 'PIRASO',\n",
       " 'Fastrack',\n",
       " 'PIRASO',\n",
       " 'DEIXELS',\n",
       " 'ROZZETTA CRAFT',\n",
       " 'Fastrack',\n",
       " 'PIRASO',\n",
       " 'GANSTA',\n",
       " 'PIRASO',\n",
       " 'PHENOMENAL',\n",
       " 'Singco',\n",
       " 'PHENOMENAL',\n",
       " 'elegante',\n",
       " 'NuVew',\n",
       " 'Silver Kartz',\n",
       " 'ROZZETTA CRAFT',\n",
       " 'HIPPON',\n",
       " 'Singco India',\n",
       " 'Singco India',\n",
       " 'ROYAL SON',\n",
       " 'ROYAL SON',\n",
       " 'Singco India',\n",
       " 'ROZZETTA CRAFT',\n",
       " 'NuVew',\n",
       " 'ROYAL SON',\n",
       " 'Fastrack',\n",
       " 'Singco India',\n",
       " 'hipe',\n",
       " 'ROZZETTA CRAFT',\n",
       " 'ROYAL SON',\n",
       " 'NuVew',\n",
       " 'ROZZETTA CRAFT',\n",
       " 'GANSTA',\n",
       " 'PHENOMENAL',\n",
       " 'PIRASO',\n",
       " 'ROZZETTA CRAFT',\n",
       " 'PIRASO',\n",
       " 'Fravy',\n",
       " 'ROYAL SON',\n",
       " 'Fastrack',\n",
       " 'Fastrack',\n",
       " 'PHENOMENAL',\n",
       " 'Poland',\n",
       " 'Cristiano Ronnie',\n",
       " 'ROZZETTA CRAFT',\n",
       " 'Fastrack',\n",
       " 'DEIXELS',\n",
       " 'Fastrack',\n",
       " 'Fravy',\n",
       " 'Fastrack',\n",
       " 'elegante',\n",
       " 'ROZZETTA CRAFT',\n",
       " 'hipe',\n",
       " 'AISLIN',\n",
       " 'hipe',\n",
       " 'GANSTA',\n",
       " 'GANSTA',\n",
       " 'NuVew',\n",
       " 'AISLIN',\n",
       " 'PHENOMENAL',\n",
       " 'Fastrack',\n",
       " 'NuVew',\n",
       " 'Flizz',\n",
       " 'DEIXELS',\n",
       " 'NuVew',\n",
       " 'PHENOMENAL',\n",
       " 'NuVew',\n",
       " 'kingsunglasses',\n",
       " 'NuVew',\n",
       " 'GANSTA',\n",
       " 'Flizz',\n",
       " 'PIRASO',\n",
       " 'Fastrack',\n",
       " 'PIRASO',\n",
       " 'kingsunglasses',\n",
       " 'kingsunglasses',\n",
       " 'hipe',\n",
       " 'hipe',\n",
       " 'ROYAL SON',\n",
       " 'Fastrack',\n",
       " 'GANSTA',\n",
       " 'ROZZETTA CRAFT',\n",
       " 'Fastrack',\n",
       " 'Fastrack',\n",
       " 'FOSSIL',\n",
       " 'ROYAL SON',\n",
       " 'ROYAL SON',\n",
       " 'GANSTA',\n",
       " 'Poloport',\n",
       " 'PHENOMENAL',\n",
       " 'elegante',\n",
       " 'ROZZETTA CRAFT',\n",
       " 'agera',\n",
       " 'elegante',\n",
       " 'GANSTA',\n",
       " 'NuVew']"
      ]
     },
     "execution_count": 114,
     "metadata": {},
     "output_type": "execute_result"
    }
   ],
   "source": [
    "final_brand_names=brand_names+brand_names_second+brand_names_third\n",
    "final_brand_names"
   ]
  },
  {
   "cell_type": "code",
   "execution_count": 115,
   "metadata": {},
   "outputs": [
    {
     "data": {
      "text/plain": [
       "100"
      ]
     },
     "execution_count": 115,
     "metadata": {},
     "output_type": "execute_result"
    }
   ],
   "source": [
    "len(final_brand_names)"
   ]
  },
  {
   "cell_type": "code",
   "execution_count": 116,
   "metadata": {},
   "outputs": [
    {
     "data": {
      "text/plain": [
       "['UV Protection Aviator Sunglasses (54)',\n",
       " 'UV Protection Rectangular Sunglasses (Free Size)',\n",
       " 'Gradient, UV Protection Wayfarer Sunglasses (Free Size)',\n",
       " 'Mirrored, UV Protection Wayfarer Sunglasses (Free Size)',\n",
       " 'UV Protection Aviator Sunglasses (54)',\n",
       " 'UV Protection Wayfarer Sunglasses (Free Size)',\n",
       " 'UV Protection Aviator Sunglasses (Free Size)',\n",
       " 'UV Protection Aviator, Wayfarer Sunglasses (Free Size)',\n",
       " 'UV Protection, Gradient Rectangular Sunglasses (Free Si...',\n",
       " 'UV Protection Aviator Sunglasses (Free Size)',\n",
       " 'UV Protection Aviator Sunglasses (58)',\n",
       " 'UV Protection Aviator Sunglasses (57)',\n",
       " 'UV Protection Aviator Sunglasses (54)',\n",
       " 'UV Protection Retro Square Sunglasses (Free Size)',\n",
       " 'Mirrored Aviator Sunglasses (53)',\n",
       " 'UV Protection, Mirrored Retro Square Sunglasses (53)',\n",
       " 'UV Protection Round Sunglasses (Free Size)',\n",
       " 'UV Protection Aviator Sunglasses (57)',\n",
       " 'UV Protection Wayfarer Sunglasses (Free Size)',\n",
       " 'UV Protection, Gradient Rectangular Sunglasses (Free Si...',\n",
       " 'UV Protection Wayfarer Sunglasses (55)',\n",
       " 'UV Protection Aviator Sunglasses (Free Size)',\n",
       " 'Mirrored, Riding Glasses, Others Sports Sunglasses (50)',\n",
       " 'Mirrored Aviator Sunglasses (55)',\n",
       " 'UV Protection, Gradient Wayfarer Sunglasses (55)',\n",
       " 'UV Protection, Riding Glasses, Others Aviator, Wayfarer...',\n",
       " 'UV Protection Retro Square Sunglasses (Free Size)',\n",
       " 'UV Protection, Gradient, Night Vision, Mirrored Aviator...',\n",
       " 'UV Protection Rectangular Sunglasses (58)',\n",
       " 'UV Protection Aviator Sunglasses (58)',\n",
       " 'UV Protection Round Sunglasses (Free Size)',\n",
       " 'Mirrored, UV Protection, Gradient Round Sunglasses (55)',\n",
       " 'UV Protection, Riding Glasses Rectangular Sunglasses (F...',\n",
       " 'UV Protection Wayfarer Sunglasses (55)',\n",
       " 'UV Protection Aviator Sunglasses (58)',\n",
       " 'Gradient, UV Protection Round Sunglasses (Free Size)',\n",
       " 'UV Protection, Mirrored Wayfarer Sunglasses (53)',\n",
       " 'UV Protection Clubmaster Sunglasses (Free Size)',\n",
       " 'UV Protection Butterfly Sunglasses (65)',\n",
       " 'UV Protection, Gradient Round Sunglasses (Free Size)',\n",
       " 'UV Protection Wayfarer Sunglasses (32)',\n",
       " 'UV Protection, Gradient, Night Vision Retro Square Sung...',\n",
       " 'UV Protection Retro Square Sunglasses (58)',\n",
       " 'UV Protection Wrap-around Sunglasses (Free Size)',\n",
       " 'Gradient, UV Protection Wayfarer Sunglasses (Free Size)',\n",
       " 'UV Protection, Mirrored Retro Square Sunglasses (53)',\n",
       " 'UV Protection Wayfarer Sunglasses (Free Size)',\n",
       " 'UV Protection, Riding Glasses Aviator Sunglasses (57)',\n",
       " 'UV Protection, Gradient Round Sunglasses (Free Size)',\n",
       " 'Gradient, UV Protection Wayfarer Sunglasses (Free Size)',\n",
       " 'Polarized, UV Protection, Riding Glasses Wayfarer Sungl...',\n",
       " 'UV Protection Shield Sunglasses (Free Size)',\n",
       " 'UV Protection Retro Square Sunglasses (Free Size)',\n",
       " 'UV Protection Wayfarer Sunglasses (Free Size)',\n",
       " 'UV Protection Round Sunglasses (Free Size)',\n",
       " 'UV Protection, Gradient Retro Square Sunglasses (Free S...',\n",
       " 'UV Protection Sports Sunglasses (Free Size)',\n",
       " 'UV Protection Oval Sunglasses (60)',\n",
       " 'Mirrored Wayfarer Sunglasses (55)',\n",
       " 'UV Protection, Night Vision, Riding Glasses Aviator Sun...',\n",
       " 'UV Protection, Riding Glasses Wayfarer Sunglasses (53)',\n",
       " 'UV Protection, Riding Glasses Wayfarer Sunglasses (56)',\n",
       " 'UV Protection, Gradient Butterfly, Retro Square Sunglas...',\n",
       " 'UV Protection, Mirrored Clubmaster Sunglasses (Free Siz...',\n",
       " 'UV Protection Aviator Sunglasses (58)',\n",
       " 'UV Protection, Riding Glasses Aviator Sunglasses (58)',\n",
       " 'UV Protection Retro Square Sunglasses (Free Size)',\n",
       " 'UV Protection Round Sunglasses (Free Size)',\n",
       " 'UV Protection, Mirrored Sports Sunglasses (73)',\n",
       " 'UV Protection, Mirrored Retro Square Sunglasses (Free S...',\n",
       " 'UV Protection, Riding Glasses Aviator Sunglasses (58)',\n",
       " 'UV Protection Round Sunglasses (Free Size)',\n",
       " 'UV Protection, Mirrored, Gradient, Riding Glasses, Nigh...',\n",
       " 'UV Protection, Gradient Wayfarer Sunglasses (53)',\n",
       " 'UV Protection, Polarized Rectangular Sunglasses (Free S...',\n",
       " 'UV Protection Aviator Sunglasses (50)',\n",
       " 'Mirrored, UV Protection Wayfarer Sunglasses (Free Size)',\n",
       " 'UV Protection Aviator Sunglasses (54)',\n",
       " 'Mirrored, UV Protection Wayfarer Sunglasses (Free Size)',\n",
       " 'UV Protection Round Sunglasses (Free Size)',\n",
       " 'UV Protection, Gradient, Riding Glasses Wayfarer Sungla...',\n",
       " 'UV Protection, Mirrored Aviator Sunglasses (Free Size)',\n",
       " 'Mirrored Aviator Sunglasses (55)',\n",
       " 'Gradient, UV Protection Wayfarer Sunglasses (Free Size)',\n",
       " 'UV Protection, Night Vision, Riding Glasses Aviator Sun...',\n",
       " 'UV Protection, Gradient Round Sunglasses (Free Size)',\n",
       " 'UV Protection Wayfarer Sunglasses (Free Size)',\n",
       " 'UV Protection Wayfarer Sunglasses (56)',\n",
       " 'Mirrored Round Sunglasses (51)',\n",
       " 'Mirrored Aviator Sunglasses (Free Size)',\n",
       " 'Mirrored Aviator Sunglasses (55)',\n",
       " 'UV Protection, Gradient Aviator Sunglasses (57)',\n",
       " 'UV Protection Wayfarer Sunglasses (Free Size)',\n",
       " 'UV Protection, Mirrored, Gradient Retro Square Sunglass...',\n",
       " 'UV Protection Wayfarer Sunglasses (Free Size)',\n",
       " 'Polarized, UV Protection Aviator Sunglasses (Free Size)',\n",
       " 'UV Protection Round Sunglasses (54)',\n",
       " 'UV Protection Round Sunglasses (Free Size)',\n",
       " 'UV Protection, Gradient Aviator Sunglasses (55)',\n",
       " 'UV Protection, Night Vision, Riding Glasses Sports Sung...']"
      ]
     },
     "execution_count": 116,
     "metadata": {},
     "output_type": "execute_result"
    }
   ],
   "source": [
    "final_brand_desc=brand_desc+brand_desc_secound+brand_desc_third\n",
    "final_brand_desc"
   ]
  },
  {
   "cell_type": "code",
   "execution_count": 117,
   "metadata": {},
   "outputs": [
    {
     "data": {
      "text/plain": [
       "100"
      ]
     },
     "execution_count": 117,
     "metadata": {},
     "output_type": "execute_result"
    }
   ],
   "source": [
    "len(final_brand_desc)"
   ]
  },
  {
   "cell_type": "code",
   "execution_count": 118,
   "metadata": {},
   "outputs": [
    {
     "data": {
      "text/plain": [
       "['₹237',\n",
       " '₹570',\n",
       " '₹621',\n",
       " '₹299',\n",
       " '₹237',\n",
       " '₹733',\n",
       " '₹331',\n",
       " '₹213',\n",
       " '₹404',\n",
       " '₹674',\n",
       " '₹331',\n",
       " '₹281',\n",
       " '₹237',\n",
       " '₹399',\n",
       " '₹249',\n",
       " '₹399',\n",
       " '₹199',\n",
       " '₹156',\n",
       " '₹246',\n",
       " '₹499',\n",
       " '₹251',\n",
       " '₹349',\n",
       " '₹252',\n",
       " '₹319',\n",
       " '₹217',\n",
       " '₹214',\n",
       " '₹499',\n",
       " '₹282',\n",
       " '₹399',\n",
       " '₹1,085',\n",
       " '₹209',\n",
       " '₹210',\n",
       " '₹449',\n",
       " '₹265',\n",
       " '₹227',\n",
       " '₹449',\n",
       " '₹199',\n",
       " '₹319',\n",
       " '₹323',\n",
       " '₹449',\n",
       " '₹237',\n",
       " '₹329',\n",
       " '₹499',\n",
       " '₹607',\n",
       " '₹638',\n",
       " '₹399',\n",
       " '₹162',\n",
       " '₹399',\n",
       " '₹449',\n",
       " '₹621',\n",
       " '₹249',\n",
       " '₹759',\n",
       " '₹289',\n",
       " '₹647',\n",
       " '₹199',\n",
       " '₹449',\n",
       " '₹319',\n",
       " '₹764',\n",
       " '₹219',\n",
       " '₹292',\n",
       " '₹260',\n",
       " '₹248',\n",
       " '₹574',\n",
       " '₹319',\n",
       " '₹1,148',\n",
       " '₹437',\n",
       " '₹399',\n",
       " '₹219',\n",
       " '₹367',\n",
       " '₹399',\n",
       " '₹206',\n",
       " '₹339',\n",
       " '₹310',\n",
       " '₹296',\n",
       " '₹279',\n",
       " '₹331',\n",
       " '₹901',\n",
       " '₹237',\n",
       " '₹299',\n",
       " '₹339',\n",
       " '₹249',\n",
       " '₹199',\n",
       " '₹399',\n",
       " '₹687',\n",
       " '₹223',\n",
       " '₹449',\n",
       " '₹758',\n",
       " '₹759',\n",
       " '₹2,136',\n",
       " '₹399',\n",
       " '₹399',\n",
       " '₹233',\n",
       " '₹249',\n",
       " '₹259',\n",
       " '₹449',\n",
       " '₹449',\n",
       " '₹207',\n",
       " '₹449',\n",
       " '₹286',\n",
       " '₹209']"
      ]
     },
     "execution_count": 118,
     "metadata": {},
     "output_type": "execute_result"
    }
   ],
   "source": [
    "final_brand_prices=brand_price+brand_prices_second+brand_prices_third\n",
    "final_brand_prices"
   ]
  },
  {
   "cell_type": "code",
   "execution_count": 119,
   "metadata": {},
   "outputs": [
    {
     "data": {
      "text/plain": [
       "100"
      ]
     },
     "execution_count": 119,
     "metadata": {},
     "output_type": "execute_result"
    }
   ],
   "source": [
    "len(final_brand_prices)"
   ]
  },
  {
   "cell_type": "code",
   "execution_count": 120,
   "metadata": {},
   "outputs": [
    {
     "data": {
      "text/plain": [
       "['https://rukminim1.flixcart.com/image/329/395/kelptow0-0/sunglass/n/9/6/3077-black-v-s-black-m-piraso-original-imafv8xzcygwmafq.jpeg?q=50',\n",
       " 'https://rukminim1.flixcart.com/image/329/395/jp780i80/sunglass/g/y/f/free-size-nbp357bk1-fastrack-original-imafbhwkz2ntuvhz.jpeg?q=50',\n",
       " 'https://rukminim1.flixcart.com/image/329/395/kgtqhe80-0/sunglass/1/s/c/p448gr1t-m-fastrack-original-imafwz5epdsgebq8.jpeg?q=50',\n",
       " 'https://rukminim1.flixcart.com/image/329/395/ko62xzk0/sunglass/i/x/j/medium-wayfarer-5-kingsunglasses-original-imag2zy9vghannhh.jpeg?q=50',\n",
       " 'https://rukminim1.flixcart.com/image/329/395/k6mibgw0/sunglass/w/s/v/free-size-3077-green-lens-piraso-original-imafpfgyyugpckvm.jpeg?q=50',\n",
       " 'https://rukminim1.flixcart.com/image/329/395/kf1fo280-0/sunglass/g/r/8/p428bk1-one-size-fits-all-fastrack-original-imafvh29ra8pjn4q.jpeg?q=50',\n",
       " 'https://rukminim1.flixcart.com/image/329/395/k5vcya80/sunglass/g/r/p/m-3026-gold-black-b-piraso-original-imafzggcnn5urwcw.jpeg?q=50',\n",
       " 'https://rukminim1.flixcart.com/image/329/395/jd3epow0/sunglass/a/c/v/combo-wf03-av01-m-deixels-original-imaf2yz397hdfdxp.jpeg?q=50',\n",
       " 'https://rukminim1.flixcart.com/image/329/395/kbpeoi80/sunglass/f/k/s/m-iron-man-tony-stark-avengers-infinity-war-endgame-unisex-original-imafszt2pg5t4kfw.jpeg?q=50',\n",
       " 'https://rukminim1.flixcart.com/image/329/395/kgtqhe80-0/sunglass/3/d/t/p430gr3-one-size-fits-all-fastrack-original-imafwyqy9gybnrgg.jpeg?q=50',\n",
       " 'https://rukminim1.flixcart.com/image/329/395/kbqu4cw0/sunglass/f/q/s/m-4494-black-gold-piraso-original-imaftyy5gngzhez4.jpeg?q=50',\n",
       " 'https://rukminim1.flixcart.com/image/329/395/kd3f3bk0pkrrdj/sunglass/n/d/f/medium-3002-blk-blk-3002-sil-blk-gansta-original-imafu656n5kmgrxw.jpeg?q=50',\n",
       " 'https://rukminim1.flixcart.com/image/329/395/kgcl7680-0/sunglass/w/q/l/3077-black-lens-m-piraso-original-imafwhwmyfqgkmbm.jpeg?q=50',\n",
       " 'https://rukminim1.flixcart.com/image/329/395/ke5zzbk0-0/sunglass/n/c/j/kabirsingh-combo-022-m-phenomenal-original-imafuwzasgfkrbsh.jpeg?q=50',\n",
       " 'https://rukminim1.flixcart.com/image/329/395/jle1qq80/sunglass/b/s/w/90041000-normal-singco-original-imaf8j65z99ywypw.jpeg?q=50',\n",
       " 'https://rukminim1.flixcart.com/image/329/395/kd94uq80/sunglass/f/d/r/m-carry-combo-2-35-badfella-original-imafu7c8jfqy6dzf.jpeg?q=50',\n",
       " 'https://rukminim1.flixcart.com/image/329/395/k5jxfgw0/sunglass/e/g/h/m-2071-elegante-original-imafz6xetkg2jzup.jpeg?q=50',\n",
       " 'https://rukminim1.flixcart.com/image/329/395/k0wqwsw0/sunglass/5/c/h/s-nw-av-c4-51123-nuvew-original-imaf9qyyy4hgztvg.jpeg?q=50',\n",
       " 'https://rukminim1.flixcart.com/image/329/395/km0x5zk0/sunglass/8/y/y/m-wc35-silver-kartz-original-imagfyn8pddz6sss.jpeg?q=50',\n",
       " 'https://rukminim1.flixcart.com/image/329/395/kc6jyq80/sunglass/m/s/q/m-millionaire-style-wayfarer-rozzetta-craft-original-imaftdd2ghaf5gms.jpeg?q=50',\n",
       " 'https://rukminim1.flixcart.com/image/329/395/k2f1n680/sunglass/k/n/g/55-wayf-new-3-hippon-original-imafhry2zrbeg3pe.jpeg?q=50',\n",
       " 'https://rukminim1.flixcart.com/image/329/395/k1nw9zk0/sunglass/5/d/p/free-size-avtr-blk-gld-blk-blk-nkl-blue-gld-brwn-singco-original-imafh6kp5guqrymg.jpeg?q=50',\n",
       " 'https://rukminim1.flixcart.com/image/329/395/kfikya80-0/sunglass/j/f/a/r-gld-red-mono-slvr-blue-mrc-medium-singco-india-original-imafvykgqavg2w5s.jpeg?q=50',\n",
       " 'https://rukminim1.flixcart.com/image/329/395/jx7uykw0/sunglass/t/j/t/m-rs006av-royal-son-original-imafeb2yvwwnbrpg.jpeg?q=50',\n",
       " 'https://rukminim1.flixcart.com/image/329/395/jxqfonk0/sunglass/5/f/h/medium-sunglasses-combo-royal-son-original-imaffyuygpkdggtx.jpeg?q=50',\n",
       " 'https://rukminim1.flixcart.com/image/329/395/kerfl3k0-0/sunglass/u/v/4/bk-212-free-singco-india-original-imafvdff2uxx6ved.jpeg?q=50',\n",
       " 'https://rukminim1.flixcart.com/image/329/395/k5fn3ww0/sunglass/2/n/w/m-4028-ivy-vacker-original-imafz27hdfqwy7yu.jpeg?q=50',\n",
       " 'https://rukminim1.flixcart.com/image/329/395/k0wqwsw0/sunglass/4/q/e/m-nw-av-c4-51112-nuvew-original-imafkh6khgf487he.jpeg?q=50',\n",
       " 'https://rukminim1.flixcart.com/image/329/395/k65d18w0/sunglass/x/3/h/m-rs0038av-royal-son-original-imafzzdm2vh2rgyp.jpeg?q=50',\n",
       " 'https://rukminim1.flixcart.com/image/329/395/k0zlsi80/sunglass/g/g/g/l-m242bk2t-fastrack-original-imafkz5mzkkdhv72.jpeg?q=50',\n",
       " 'https://rukminim1.flixcart.com/image/329/395/k29bvrk0/sunglass/j/t/h/free-size-r-gld-red-mono-slvr-blue-mrc-eyevitals-original-imafhngdggetggk5.jpeg?q=50',\n",
       " 'https://rukminim1.flixcart.com/image/329/395/k8et4sw0/sunglass/r/p/x/55-silver-and-blue-mercury-hipe-original-imafqfwjnhntzx5h.jpeg?q=50',\n",
       " 'https://rukminim1.flixcart.com/image/329/395/kh5607k0-0/sunglass/z/x/a/m-iron-man-tony-stark-avengers-infinity-war-endgame-unisex-original-imafx84mqrqc72xx.jpeg?q=50',\n",
       " 'https://rukminim1.flixcart.com/image/329/395/jxqfonk0/sunglass/j/2/n/medium-sunglasses-combo-royal-son-original-imaffytm3hhzjqup.jpeg?q=50',\n",
       " 'https://rukminim1.flixcart.com/image/329/395/k0wqwsw0/sunglass/m/y/u/m-nw-av-c2-51347-nuvew-original-imafkh8rwxp4mg6g.jpeg?q=50',\n",
       " 'https://rukminim1.flixcart.com/image/329/395/kdhphu80/sunglass/e/w/p/steampunk-retro-round-4011-m-rozzetta-craft-original-imafudfbmrv9zmhh.jpeg?q=50',\n",
       " 'https://rukminim1.flixcart.com/image/329/395/jm3ro280/sunglass/s/9/8/gn11096-gld-grn-mr-m-gansta-original-imaf926hzgfkdsmh.jpeg?q=50',\n",
       " 'https://rukminim1.flixcart.com/image/329/395/jv44mfk0/sunglass/q/b/s/s-club-kids-011-phenomenal-original-imafbnwtdf5r6du3.jpeg?q=50',\n",
       " 'https://rukminim1.flixcart.com/image/329/395/klmmrgw0/sunglass/k/m/y/over-size-blue-black-vcb4-piraso-original-imagypzwqtsgbhh7.jpeg?q=50',\n",
       " 'https://rukminim1.flixcart.com/image/329/395/k6l2vm80/sunglass/3/7/b/medium-allu-arjun-adam-jones-original-imafzyfypmnbpfu3.jpeg?q=50',\n",
       " 'https://rukminim1.flixcart.com/image/329/395/jxz0brk0/sunglass/e/k/d/m-9102-wayfarer-black-b-piraso-original-imafgacht33ghjgx.jpeg?q=50',\n",
       " 'https://rukminim1.flixcart.com/image/329/395/kl8ccy80/sunglass/m/e/g/free-aqua-blue-square-sunglasses-fravy-original-imagyeangw6uupry.jpeg?q=50',\n",
       " 'https://rukminim1.flixcart.com/image/329/395/k65d18w0/sunglass/y/z/d/m-rs0039av-royal-son-original-imafzzdmrtmzdd7m.jpeg?q=50',\n",
       " 'https://rukminim1.flixcart.com/image/329/395/jmxrwy80/sunglass/h/p/8/free-size-nbp089gr3-fastrack-original-imaf9qh3hrfpjzfs.jpeg?q=50',\n",
       " 'https://rukminim1.flixcart.com/image/329/395/k0jvy4w0/sunglass/s/2/f/m-p449gr1t-fastrack-original-imafkbezmkfchuzb.jpeg?q=50',\n",
       " 'https://rukminim1.flixcart.com/image/329/395/kd3f3bk0/sunglass/k/b/f/m-carry-combo-2-18-badfella-original-imafu2z29scc5hyn.jpeg?q=50',\n",
       " 'https://rukminim1.flixcart.com/image/329/395/jlqwpe80/sunglass/u/d/g/sunglass-rect-black-mme-free-size-ferret-original-imaf3dv2yvznjsyp.jpeg?q=50',\n",
       " 'https://rukminim1.flixcart.com/image/329/395/kk76wsw0/sunglass/d/n/b/medium-medium-rn1062-sil-blk-cristiano-ronnie-original-imafzhqgfyhdssxt.jpeg?q=50',\n",
       " 'https://rukminim1.flixcart.com/image/329/395/k6l2vm80/sunglass/f/s/5/m-allu-arjun-shades-rozzetta-craft-original-imafpyfahqdtwgn4.jpeg?q=50',\n",
       " 'https://rukminim1.flixcart.com/image/329/395/k0jvy4w0/sunglass/8/x/r/m-p448bk5t-fastrack-original-imafkbeztaqbggfz.jpeg?q=50',\n",
       " 'https://rukminim1.flixcart.com/image/329/395/klo27bk0/sunglass/7/w/1/m-fld-bl-deixels-original-imagyqjegfxcc4kt.jpeg?q=50',\n",
       " 'https://rukminim1.flixcart.com/image/329/395/kgtqhe80-0/sunglass/p/g/p/p427bk1-one-size-fits-all-fastrack-original-imafwyqxmhpcaagg.jpeg?q=50',\n",
       " 'https://rukminim1.flixcart.com/image/329/395/kmi2g7k0/sunglass/3/p/x/free-square-silver-frem-blue-glass-fravy-original-imagfdcxvkjhzp3g.jpeg?q=50',\n",
       " 'https://rukminim1.flixcart.com/image/329/395/jnkmykw0/sunglass/y/v/y/p429bu4-one-size-fits-all-fastrack-original-imafa8fgbc2ec6pd.jpeg?q=50',\n",
       " 'https://rukminim1.flixcart.com/image/329/395/k5msb680/sunglass/b/k/8/m-2062-ivy-vacker-original-imafz4pymrnabbqw.jpeg?q=50',\n",
       " 'https://rukminim1.flixcart.com/image/329/395/kjiwfbk0-0/sunglass/7/6/m/one-piece-trendy-sunglass-m-rozzetta-craft-original-imafz2tekftq35hk.jpeg?q=50',\n",
       " 'https://rukminim1.flixcart.com/image/329/395/jzygccw0/sunglass/h/c/b/free-size-atx-sun-uv-p-sports-f-blue-green-brown-atxp-original-imafgxpmw8zwxe4z.jpeg?q=50',\n",
       " 'https://rukminim1.flixcart.com/image/329/395/js3j5ow0/sunglass/d/j/s/as-8336-82-brw963-women-l-aislin-original-imafdr43zaxvvxag.jpeg?q=50',\n",
       " 'https://rukminim1.flixcart.com/image/329/395/k5o7r0w0/sunglass/s/n/e/55-ice-blue-2148-hipe-original-imafzaecfzcjkypv.jpeg?q=50',\n",
       " 'https://rukminim1.flixcart.com/image/329/395/kazor680/sunglass/a/m/n/m-gn-3002-sil-yel-gn-3002-sil-clr-gansta-original-imafsg69g7fwhnep.jpeg?q=50',\n",
       " 'https://rukminim1.flixcart.com/image/329/395/kehfi4w0-0/sunglass/k/e/u/gn3006-blk-blu-grn-mr-com-m-gansta-original-imafv5gbgyjq42fd.jpeg?q=50',\n",
       " 'https://rukminim1.flixcart.com/image/329/395/kbv4fww0/sunglass/6/a/i/one-size-fits-all-nw-wf-c2-51661-nuvew-original-imaft46zren4etjf.jpeg?q=50',\n",
       " 'https://rukminim1.flixcart.com/image/329/395/k9u8zgw0/sunglass/g/8/4/m-as-18004-89-14580-aislin-original-imafrgy9hwbjgzpp.jpeg?q=50',\n",
       " 'https://rukminim1.flixcart.com/image/329/395/kk4c13k0/sunglass/v/g/p/large-m-clubmaster-2combo-001-badfella-original-imaf6jvaycqmmkge.jpeg?q=50',\n",
       " 'https://rukminim1.flixcart.com/image/329/395/k4n2avk0/sunglass/f/h/z/l-m242gr3t-fastrack-original-imafnhsfvfgbpy6t.jpeg?q=50',\n",
       " 'https://rukminim1.flixcart.com/image/329/395/kbv4fww0/sunglass/5/c/8/one-size-fits-all-nw-av-c5-51459-nuvew-original-imaft45rggbkf7cd.jpeg?q=50',\n",
       " 'https://rukminim1.flixcart.com/image/329/395/kgjqefk0-0/sunglass/r/i/z/flizz-kb-mt-br-g001-free-size-flizz-original-imafwqp8frsa9vgh.jpeg?q=50',\n",
       " 'https://rukminim1.flixcart.com/image/329/395/jzeg6fk0/sunglass/q/z/k/m-com-rol1-rol18-dx-deixels-original-imafj7yzsjmyzkdg.jpeg?q=50',\n",
       " 'https://rukminim1.flixcart.com/image/329/395/k0r15e80/sunglass/b/u/z/l-nw-81008-28-16012-nuvew-original-imafkhhhsa5j7q3y.jpeg?q=50',\n",
       " 'https://rukminim1.flixcart.com/image/329/395/ke5zzbk0-0/sunglass/x/q/z/kabirsingh-combo-027-m-phenomenal-original-imafuwz4xks2wwng.jpeg?q=50',\n",
       " 'https://rukminim1.flixcart.com/image/329/395/kbv4fww0/sunglass/i/k/d/one-size-fits-all-nw-av-c2-51714-nuvew-original-imaft46z8qf4hwzg.jpeg?q=50',\n",
       " 'https://rukminim1.flixcart.com/image/329/395/kihqz680-0/sunglass/q/y/b/free-size-ganmon-kingsunglasses-original-imafya5rkzntakpj.jpeg?q=50',\n",
       " 'https://rukminim1.flixcart.com/image/329/395/kbv4fww0/sunglass/t/g/8/one-size-fits-all-nw-wf-c5-51453-nuvew-original-imaft45qrm7wvxgf.jpeg?q=50',\n",
       " 'https://rukminim1.flixcart.com/image/329/395/jmmce4w0/sunglass/v/x/5/gn3006-blk-gd-gn11096-blk-gd-m-gansta-original-imaf6rncrnj9fdwq.jpeg?q=50',\n",
       " 'https://rukminim1.flixcart.com/image/329/395/kbcjpu80/sunglass/r/7/g/free-size-flizzmtkb001-flizz-original-imafsphj79uspq68.jpeg?q=50',\n",
       " 'https://rukminim1.flixcart.com/image/329/395/jwnusnk0/sunglass/h/5/v/m-3026-gold-green-b-piraso-original-imafhby58ttweeqm.jpeg?q=50',\n",
       " 'https://rukminim1.flixcart.com/image/329/395/k0jvy4w0/sunglass/t/z/e/m-p448gr2t-fastrack-original-imafkbez5cgyvrtf.jpeg?q=50',\n",
       " 'https://rukminim1.flixcart.com/image/329/395/kic17rk0-0/sunglass/b/q/6/m-3077-brown-lens-piraso-original-imafy5cshz2yckue.jpeg?q=50',\n",
       " 'https://rukminim1.flixcart.com/image/329/395/ko62xzk0/sunglass/h/m/w/medium-wayfarer-5-kingsunglasses-original-imag2zy2yzvhbqkj.jpeg?q=50',\n",
       " 'https://rukminim1.flixcart.com/image/329/395/kb1470w0/sunglass/a/1/n/medium-combo-six-mono-shah-collections-original-imafsh5ynyzjhbxa.jpeg?q=50',\n",
       " 'https://rukminim1.flixcart.com/image/329/395/kf75fgw0-0/sunglass/l/c/u/wayfarer-1-3-medium-2211-the-fashion-hub-original-imafvphzhugabu8z.jpeg?q=50',\n",
       " 'https://rukminim1.flixcart.com/image/329/395/jt1tq4w0/sunglass/s/y/f/m-9114-hipe-original-imafefhfydypfhd4.jpeg?q=50',\n",
       " 'https://rukminim1.flixcart.com/image/329/395/jx6fiq80/sunglass/y/c/5/m-rs0014av-royal-son-original-imaegufy6ctyjzg4.jpeg?q=50',\n",
       " 'https://rukminim1.flixcart.com/image/329/395/k0jvy4w0/sunglass/m/p/h/m-p448yl4t-fastrack-original-imafkbezgc8fzsqg.jpeg?q=50',\n",
       " 'https://rukminim1.flixcart.com/image/329/395/kaijgy80/sunglass/m/g/n/m-gn-3002-sil-yel-gansta-original-imafs2gszz5gfger.jpeg?q=50',\n",
       " 'https://rukminim1.flixcart.com/image/329/395/kd3f3bk0/sunglass/q/c/n/m-allu-arjun-style-rozzetta-craft-original-imafu3ytrceucyhn.jpeg?q=50',\n",
       " 'https://rukminim1.flixcart.com/image/329/395/jo4n4i80/sunglass/v/8/3/p428bk4-onesize-fits-all-fastrack-original-imafammyzpvrw89v.jpeg?q=50',\n",
       " 'https://rukminim1.flixcart.com/image/329/395/k0bbb0w0/sunglass/z/g/q/m-p425gr4-fastrack-original-imafk4phmuhhcnxz.jpeg?q=50',\n",
       " 'https://rukminim1.flixcart.com/image/329/395/kfpq5jk0-0/sunglass/s/l/v/200915-m-fossil-original-imafw4fyyy7edgeq.jpeg?q=50',\n",
       " 'https://rukminim1.flixcart.com/image/329/395/jx6fiq80/sunglass/w/a/p/m-rs0019av-royal-son-original-imafhpa5hf5jergz.jpeg?q=50',\n",
       " 'https://rukminim1.flixcart.com/image/329/395/jx6fiq80/sunglass/c/b/g/m-rs0013av-royal-son-original-imaegueznqnxacgx.jpeg?q=50',\n",
       " 'https://rukminim1.flixcart.com/image/329/395/kd3f3bk0pkrrdj/sunglass/m/y/9/medium-pj-gn-3002-sil-blu-gansta-original-imafu652rz2kpb4u.jpeg?q=50',\n",
       " 'https://rukminim1.flixcart.com/image/329/395/sunglass/h/5/p/cm02-np3-poloport-one-size-fits-all-original-imaegrsfgfypd2jg.jpeg?q=50',\n",
       " 'https://rukminim1.flixcart.com/image/329/395/k37mg7k0/sunglass/9/w/4/l-retrosq-ltstcmb-001-phenomenal-original-imafme6wxdzrwhz7.jpeg?q=50',\n",
       " 'https://rukminim1.flixcart.com/image/329/395/kar44280/sunglass/z/q/e/m-v30022-c-1-elegante-original-imafs9cphb9nuabj.jpeg?q=50',\n",
       " 'https://rukminim1.flixcart.com/image/329/395/kkimfm80/sunglass/j/s/f/free-size-m-aviator-classic-polarized-uv-400-men-women-sunglass-original-imafzum8v96eumna.jpeg?q=50',\n",
       " 'https://rukminim1.flixcart.com/image/329/395/kerfl3k0-0/sunglass/c/f/5/bd720-blk-clr-m-agera-original-imaeztgharhhsvmz.jpeg?q=50',\n",
       " 'https://rukminim1.flixcart.com/image/329/395/kj4m0sw0-0/sunglass/4/2/k/4040-m-elegante-original-imafyrpcu9fgu6bw.jpeg?q=50',\n",
       " 'https://rukminim1.flixcart.com/image/329/395/j6mhxu80/sunglass/h/t/g/gn-3002-blk-blu-gn-3002-blk-grn-m-gansta-original-imaexfw4hy2hxytw.jpeg?q=50',\n",
       " 'https://rukminim1.flixcart.com/image/329/395/k0r15e80/sunglass/f/z/8/m-nw-729-26-15429-nuvew-original-imafkhg3bnggptzz.jpeg?q=50']"
      ]
     },
     "execution_count": 120,
     "metadata": {},
     "output_type": "execute_result"
    }
   ],
   "source": [
    "final_brand_images=brand_images+brand_images_second+brand_images_third\n",
    "final_brand_images"
   ]
  },
  {
   "cell_type": "code",
   "execution_count": 121,
   "metadata": {},
   "outputs": [
    {
     "data": {
      "text/plain": [
       "100"
      ]
     },
     "execution_count": 121,
     "metadata": {},
     "output_type": "execute_result"
    }
   ],
   "source": [
    "len(final_brand_images)"
   ]
  },
  {
   "cell_type": "code",
   "execution_count": 122,
   "metadata": {},
   "outputs": [],
   "source": [
    "flipkart_sg=pd.DataFrame({})\n",
    "flipkart_sg['brand']=final_brand_names\n",
    "flipkart_sg['price']=final_brand_prices\n",
    "flipkart_sg['image url']=final_brand_images\n",
    "flipkart_sg['description']=final_brand_desc"
   ]
  },
  {
   "cell_type": "code",
   "execution_count": 123,
   "metadata": {},
   "outputs": [
    {
     "data": {
      "text/html": [
       "<div>\n",
       "<style scoped>\n",
       "    .dataframe tbody tr th:only-of-type {\n",
       "        vertical-align: middle;\n",
       "    }\n",
       "\n",
       "    .dataframe tbody tr th {\n",
       "        vertical-align: top;\n",
       "    }\n",
       "\n",
       "    .dataframe thead th {\n",
       "        text-align: right;\n",
       "    }\n",
       "</style>\n",
       "<table border=\"1\" class=\"dataframe\">\n",
       "  <thead>\n",
       "    <tr style=\"text-align: right;\">\n",
       "      <th></th>\n",
       "      <th>brand</th>\n",
       "      <th>price</th>\n",
       "      <th>image url</th>\n",
       "      <th>description</th>\n",
       "    </tr>\n",
       "  </thead>\n",
       "  <tbody>\n",
       "    <tr>\n",
       "      <th>0</th>\n",
       "      <td>PIRASO</td>\n",
       "      <td>₹237</td>\n",
       "      <td>https://rukminim1.flixcart.com/image/329/395/k...</td>\n",
       "      <td>UV Protection Aviator Sunglasses (54)</td>\n",
       "    </tr>\n",
       "    <tr>\n",
       "      <th>1</th>\n",
       "      <td>Fastrack</td>\n",
       "      <td>₹570</td>\n",
       "      <td>https://rukminim1.flixcart.com/image/329/395/j...</td>\n",
       "      <td>UV Protection Rectangular Sunglasses (Free Size)</td>\n",
       "    </tr>\n",
       "    <tr>\n",
       "      <th>2</th>\n",
       "      <td>Fastrack</td>\n",
       "      <td>₹621</td>\n",
       "      <td>https://rukminim1.flixcart.com/image/329/395/k...</td>\n",
       "      <td>Gradient, UV Protection Wayfarer Sunglasses (F...</td>\n",
       "    </tr>\n",
       "    <tr>\n",
       "      <th>3</th>\n",
       "      <td>kingsunglasses</td>\n",
       "      <td>₹299</td>\n",
       "      <td>https://rukminim1.flixcart.com/image/329/395/k...</td>\n",
       "      <td>Mirrored, UV Protection Wayfarer Sunglasses (F...</td>\n",
       "    </tr>\n",
       "    <tr>\n",
       "      <th>4</th>\n",
       "      <td>PIRASO</td>\n",
       "      <td>₹237</td>\n",
       "      <td>https://rukminim1.flixcart.com/image/329/395/k...</td>\n",
       "      <td>UV Protection Aviator Sunglasses (54)</td>\n",
       "    </tr>\n",
       "    <tr>\n",
       "      <th>...</th>\n",
       "      <td>...</td>\n",
       "      <td>...</td>\n",
       "      <td>...</td>\n",
       "      <td>...</td>\n",
       "    </tr>\n",
       "    <tr>\n",
       "      <th>95</th>\n",
       "      <td>ROZZETTA CRAFT</td>\n",
       "      <td>₹449</td>\n",
       "      <td>https://rukminim1.flixcart.com/image/329/395/k...</td>\n",
       "      <td>Polarized, UV Protection Aviator Sunglasses (F...</td>\n",
       "    </tr>\n",
       "    <tr>\n",
       "      <th>96</th>\n",
       "      <td>agera</td>\n",
       "      <td>₹207</td>\n",
       "      <td>https://rukminim1.flixcart.com/image/329/395/k...</td>\n",
       "      <td>UV Protection Round Sunglasses (54)</td>\n",
       "    </tr>\n",
       "    <tr>\n",
       "      <th>97</th>\n",
       "      <td>elegante</td>\n",
       "      <td>₹449</td>\n",
       "      <td>https://rukminim1.flixcart.com/image/329/395/k...</td>\n",
       "      <td>UV Protection Round Sunglasses (Free Size)</td>\n",
       "    </tr>\n",
       "    <tr>\n",
       "      <th>98</th>\n",
       "      <td>GANSTA</td>\n",
       "      <td>₹286</td>\n",
       "      <td>https://rukminim1.flixcart.com/image/329/395/j...</td>\n",
       "      <td>UV Protection, Gradient Aviator Sunglasses (55)</td>\n",
       "    </tr>\n",
       "    <tr>\n",
       "      <th>99</th>\n",
       "      <td>NuVew</td>\n",
       "      <td>₹209</td>\n",
       "      <td>https://rukminim1.flixcart.com/image/329/395/k...</td>\n",
       "      <td>UV Protection, Night Vision, Riding Glasses Sp...</td>\n",
       "    </tr>\n",
       "  </tbody>\n",
       "</table>\n",
       "<p>100 rows × 4 columns</p>\n",
       "</div>"
      ],
      "text/plain": [
       "             brand price                                          image url  \\\n",
       "0           PIRASO  ₹237  https://rukminim1.flixcart.com/image/329/395/k...   \n",
       "1         Fastrack  ₹570  https://rukminim1.flixcart.com/image/329/395/j...   \n",
       "2         Fastrack  ₹621  https://rukminim1.flixcart.com/image/329/395/k...   \n",
       "3   kingsunglasses  ₹299  https://rukminim1.flixcart.com/image/329/395/k...   \n",
       "4           PIRASO  ₹237  https://rukminim1.flixcart.com/image/329/395/k...   \n",
       "..             ...   ...                                                ...   \n",
       "95  ROZZETTA CRAFT  ₹449  https://rukminim1.flixcart.com/image/329/395/k...   \n",
       "96           agera  ₹207  https://rukminim1.flixcart.com/image/329/395/k...   \n",
       "97        elegante  ₹449  https://rukminim1.flixcart.com/image/329/395/k...   \n",
       "98          GANSTA  ₹286  https://rukminim1.flixcart.com/image/329/395/j...   \n",
       "99           NuVew  ₹209  https://rukminim1.flixcart.com/image/329/395/k...   \n",
       "\n",
       "                                          description  \n",
       "0               UV Protection Aviator Sunglasses (54)  \n",
       "1    UV Protection Rectangular Sunglasses (Free Size)  \n",
       "2   Gradient, UV Protection Wayfarer Sunglasses (F...  \n",
       "3   Mirrored, UV Protection Wayfarer Sunglasses (F...  \n",
       "4               UV Protection Aviator Sunglasses (54)  \n",
       "..                                                ...  \n",
       "95  Polarized, UV Protection Aviator Sunglasses (F...  \n",
       "96                UV Protection Round Sunglasses (54)  \n",
       "97         UV Protection Round Sunglasses (Free Size)  \n",
       "98    UV Protection, Gradient Aviator Sunglasses (55)  \n",
       "99  UV Protection, Night Vision, Riding Glasses Sp...  \n",
       "\n",
       "[100 rows x 4 columns]"
      ]
     },
     "execution_count": 123,
     "metadata": {},
     "output_type": "execute_result"
    }
   ],
   "source": [
    "flipkart_sg"
   ]
  },
  {
   "cell_type": "raw",
   "metadata": {},
   "source": [
    "Q4: Write a python program to scrape data for first 10 job results for Data scientist Designation in Noida location. You have to scrape company_name, No. of days ago when job was posted, Rating of the company.\n",
    "\n",
    "This task will be done in following steps:\n",
    "\n",
    "1. first get the webpage https://www.glassdoor.co.in/index.htm\n",
    "2. Enter “Data Scientist” in “Job Title,Keyword,Company” field and enter “Noida” in “location” field.\n",
    "3. Then click the search button. You will land up in the below page:\n",
    "4. Then scrape the data for the first 10 jobs results you get in the above shown page.\n",
    "5. Finally create a dataframe of the scraped data.\n",
    "Note- All of the above steps have to be done in code. No step is to be done manually."
   ]
  },
  {
   "cell_type": "code",
   "execution_count": 124,
   "metadata": {},
   "outputs": [],
   "source": [
    "import selenium\n",
    "import pandas as pd\n",
    "from selenium import webdriver\n",
    "import warnings\n",
    "warnings.filterwarnings('ignore')"
   ]
  },
  {
   "cell_type": "code",
   "execution_count": 125,
   "metadata": {},
   "outputs": [],
   "source": [
    "driver=webdriver.Chrome(r\"C:\\Users\\ChesthaS\\Downloads\\chromedriver_win32 (1)\\chromedriver.exe\")"
   ]
  },
  {
   "cell_type": "code",
   "execution_count": 126,
   "metadata": {},
   "outputs": [],
   "source": [
    "url='https://www.glassdoor.co.in/index.htm'\n",
    "driver.get(url)"
   ]
  },
  {
   "cell_type": "code",
   "execution_count": 128,
   "metadata": {},
   "outputs": [],
   "source": [
    "search_job=driver.find_element_by_id(\"sc.keyword\")\n",
    "search_job.send_keys(\"Data Scientist\")"
   ]
  },
  {
   "cell_type": "code",
   "execution_count": 129,
   "metadata": {},
   "outputs": [],
   "source": [
    "search_loc=driver.find_element_by_id(\"sc.location\")\n",
    "search_loc.send_keys(\"Noida\")"
   ]
  },
  {
   "cell_type": "code",
   "execution_count": 130,
   "metadata": {},
   "outputs": [],
   "source": [
    "btn=driver.find_element_by_xpath(\"//button[@class='gd-ui-button ml-std col-auto SearchStyles__newSearchButton css-iixdfr']/span\")\n",
    "btn.click()"
   ]
  },
  {
   "cell_type": "code",
   "execution_count": 131,
   "metadata": {},
   "outputs": [
    {
     "data": {
      "text/plain": [
       "[<selenium.webdriver.remote.webelement.WebElement (session=\"84b716aa4e70146139626139c5aee134\", element=\"f267f813-d76d-405f-9a43-2feb93ecdcf6\")>,\n",
       " <selenium.webdriver.remote.webelement.WebElement (session=\"84b716aa4e70146139626139c5aee134\", element=\"d01c7ae5-f140-432c-9d7f-8e68d9cbb824\")>,\n",
       " <selenium.webdriver.remote.webelement.WebElement (session=\"84b716aa4e70146139626139c5aee134\", element=\"c3619902-e337-42e9-b137-80a97ec712aa\")>,\n",
       " <selenium.webdriver.remote.webelement.WebElement (session=\"84b716aa4e70146139626139c5aee134\", element=\"59a366a0-305d-43bf-9c8c-1f0116567b29\")>,\n",
       " <selenium.webdriver.remote.webelement.WebElement (session=\"84b716aa4e70146139626139c5aee134\", element=\"220df038-800b-4190-a406-3fef30ca2a11\")>,\n",
       " <selenium.webdriver.remote.webelement.WebElement (session=\"84b716aa4e70146139626139c5aee134\", element=\"2812c648-0ccc-47d5-bd6f-a1701d907bda\")>,\n",
       " <selenium.webdriver.remote.webelement.WebElement (session=\"84b716aa4e70146139626139c5aee134\", element=\"5b635854-7b37-4cd2-a409-1848511b503e\")>,\n",
       " <selenium.webdriver.remote.webelement.WebElement (session=\"84b716aa4e70146139626139c5aee134\", element=\"709918bf-419d-4803-8c68-7caf7a67a29d\")>,\n",
       " <selenium.webdriver.remote.webelement.WebElement (session=\"84b716aa4e70146139626139c5aee134\", element=\"aac4210d-dfaf-4067-ab70-953d4a3615c8\")>,\n",
       " <selenium.webdriver.remote.webelement.WebElement (session=\"84b716aa4e70146139626139c5aee134\", element=\"d91633e2-d42e-46cc-b0df-fdad7f1103e4\")>,\n",
       " <selenium.webdriver.remote.webelement.WebElement (session=\"84b716aa4e70146139626139c5aee134\", element=\"7df5a29c-a690-4b27-881f-6455639a5794\")>,\n",
       " <selenium.webdriver.remote.webelement.WebElement (session=\"84b716aa4e70146139626139c5aee134\", element=\"77705989-d6cc-481a-89ed-16052166e715\")>,\n",
       " <selenium.webdriver.remote.webelement.WebElement (session=\"84b716aa4e70146139626139c5aee134\", element=\"43ca418c-0f6d-4a4e-bd5e-edfb4aead79b\")>,\n",
       " <selenium.webdriver.remote.webelement.WebElement (session=\"84b716aa4e70146139626139c5aee134\", element=\"b8058881-048d-4ea8-a4b4-301721379388\")>,\n",
       " <selenium.webdriver.remote.webelement.WebElement (session=\"84b716aa4e70146139626139c5aee134\", element=\"9f7aedbc-05ba-4fb8-b460-fac5cf90cddb\")>,\n",
       " <selenium.webdriver.remote.webelement.WebElement (session=\"84b716aa4e70146139626139c5aee134\", element=\"c562e14c-ea76-42a8-b7c2-4fe15483da8a\")>,\n",
       " <selenium.webdriver.remote.webelement.WebElement (session=\"84b716aa4e70146139626139c5aee134\", element=\"61fb73ca-e529-427f-b1d8-4c53c040df17\")>,\n",
       " <selenium.webdriver.remote.webelement.WebElement (session=\"84b716aa4e70146139626139c5aee134\", element=\"1f00717a-24b4-4bb0-9e3c-8dda6cec7b7c\")>,\n",
       " <selenium.webdriver.remote.webelement.WebElement (session=\"84b716aa4e70146139626139c5aee134\", element=\"efd73684-4b70-409d-99e7-d631b9655776\")>,\n",
       " <selenium.webdriver.remote.webelement.WebElement (session=\"84b716aa4e70146139626139c5aee134\", element=\"ef8ba8c4-86d1-436b-ac4a-86c32f03ab26\")>,\n",
       " <selenium.webdriver.remote.webelement.WebElement (session=\"84b716aa4e70146139626139c5aee134\", element=\"17e41cfd-0867-4a0d-97f4-58b716d2e0c0\")>,\n",
       " <selenium.webdriver.remote.webelement.WebElement (session=\"84b716aa4e70146139626139c5aee134\", element=\"0ee03b63-dc1e-4c92-84a1-f9839cff73fe\")>,\n",
       " <selenium.webdriver.remote.webelement.WebElement (session=\"84b716aa4e70146139626139c5aee134\", element=\"4b8d1322-1576-4a59-87dc-58bc9fe25710\")>,\n",
       " <selenium.webdriver.remote.webelement.WebElement (session=\"84b716aa4e70146139626139c5aee134\", element=\"a69cb850-b4fb-4919-990c-b732237bfc85\")>,\n",
       " <selenium.webdriver.remote.webelement.WebElement (session=\"84b716aa4e70146139626139c5aee134\", element=\"2b48aa15-64f9-4af0-be98-6a4a5525e5b1\")>,\n",
       " <selenium.webdriver.remote.webelement.WebElement (session=\"84b716aa4e70146139626139c5aee134\", element=\"594ed225-39d5-4e7b-8b40-26ec5942e13e\")>,\n",
       " <selenium.webdriver.remote.webelement.WebElement (session=\"84b716aa4e70146139626139c5aee134\", element=\"26808d82-a0d1-49f9-a079-f00547756f42\")>,\n",
       " <selenium.webdriver.remote.webelement.WebElement (session=\"84b716aa4e70146139626139c5aee134\", element=\"6e002ae8-d0d5-41c8-98cc-e18759482822\")>,\n",
       " <selenium.webdriver.remote.webelement.WebElement (session=\"84b716aa4e70146139626139c5aee134\", element=\"e9515211-6e74-4a7f-b836-a3a72b1e3e42\")>,\n",
       " <selenium.webdriver.remote.webelement.WebElement (session=\"84b716aa4e70146139626139c5aee134\", element=\"1a65c72a-4bd0-407f-8366-d6d00be4baa9\")>]"
      ]
     },
     "execution_count": 131,
     "metadata": {},
     "output_type": "execute_result"
    }
   ],
   "source": [
    "company_tags=driver.find_elements_by_xpath(\"//div[@class='d-flex justify-content-between align-items-start']/a\")\n",
    "company_tags"
   ]
  },
  {
   "cell_type": "code",
   "execution_count": 132,
   "metadata": {},
   "outputs": [],
   "source": [
    "company_names=[]\n",
    "for i in company_tags[:10]:\n",
    "    company_names.append(i.text)\n",
    "    "
   ]
  },
  {
   "cell_type": "code",
   "execution_count": 133,
   "metadata": {},
   "outputs": [
    {
     "data": {
      "text/plain": [
       "['Applied Materials Inc.',\n",
       " 'Indeed',\n",
       " 'CommerceIQ',\n",
       " 'Data Patterns',\n",
       " 'dunnhumby',\n",
       " 'Ginger Webs Pvt. Ltd.',\n",
       " 'NatWest Group',\n",
       " 'Canum Infotech',\n",
       " 'dunnhumby',\n",
       " 'Amploy']"
      ]
     },
     "execution_count": 133,
     "metadata": {},
     "output_type": "execute_result"
    }
   ],
   "source": [
    "company_names"
   ]
  },
  {
   "cell_type": "code",
   "execution_count": 134,
   "metadata": {},
   "outputs": [
    {
     "data": {
      "text/plain": [
       "10"
      ]
     },
     "execution_count": 134,
     "metadata": {},
     "output_type": "execute_result"
    }
   ],
   "source": [
    "len(company_names)"
   ]
  },
  {
   "cell_type": "code",
   "execution_count": 135,
   "metadata": {},
   "outputs": [],
   "source": [
    "job_days=[]\n",
    "for i in driver.find_elements_by_xpath(\"//div[@class='d-flex align-items-end pl-std css-mi55ob']\")[:10]:\n",
    "    job_days.append(i.text)"
   ]
  },
  {
   "cell_type": "code",
   "execution_count": 136,
   "metadata": {},
   "outputs": [
    {
     "data": {
      "text/plain": [
       "['30d+', '30d+', '30d+', '3d', '24h', '7d', '1d', '24h', '1d', '13d']"
      ]
     },
     "execution_count": 136,
     "metadata": {},
     "output_type": "execute_result"
    }
   ],
   "source": [
    "job_days"
   ]
  },
  {
   "cell_type": "code",
   "execution_count": 137,
   "metadata": {},
   "outputs": [],
   "source": [
    "ratings_gd=[]\n",
    "for i in driver.find_elements_by_xpath(\"//div[@class='d-flex flex-column css-x75kgh e1rrn5ka3']\")[:10]:\n",
    "    ratings_gd.append(i.text)\n",
    "    "
   ]
  },
  {
   "cell_type": "code",
   "execution_count": 138,
   "metadata": {},
   "outputs": [
    {
     "data": {
      "text/plain": [
       "['4.0', '4.3', '4.0', '3.0', '4.1', '', '3.9', '', '4.1', '']"
      ]
     },
     "execution_count": 138,
     "metadata": {},
     "output_type": "execute_result"
    }
   ],
   "source": [
    "ratings_gd"
   ]
  },
  {
   "cell_type": "code",
   "execution_count": 139,
   "metadata": {},
   "outputs": [],
   "source": [
    "glassdoor_jobs=pd.DataFrame({})\n",
    "glassdoor_jobs['company names']=company_names\n",
    "glassdoor_jobs['ratings']=ratings_gd\n",
    "glassdoor_jobs['No. of days ago when job was posted']=job_days"
   ]
  },
  {
   "cell_type": "code",
   "execution_count": 140,
   "metadata": {},
   "outputs": [
    {
     "data": {
      "text/html": [
       "<div>\n",
       "<style scoped>\n",
       "    .dataframe tbody tr th:only-of-type {\n",
       "        vertical-align: middle;\n",
       "    }\n",
       "\n",
       "    .dataframe tbody tr th {\n",
       "        vertical-align: top;\n",
       "    }\n",
       "\n",
       "    .dataframe thead th {\n",
       "        text-align: right;\n",
       "    }\n",
       "</style>\n",
       "<table border=\"1\" class=\"dataframe\">\n",
       "  <thead>\n",
       "    <tr style=\"text-align: right;\">\n",
       "      <th></th>\n",
       "      <th>company names</th>\n",
       "      <th>ratings</th>\n",
       "      <th>No. of days ago when job was posted</th>\n",
       "    </tr>\n",
       "  </thead>\n",
       "  <tbody>\n",
       "    <tr>\n",
       "      <th>0</th>\n",
       "      <td>Applied Materials Inc.</td>\n",
       "      <td>4.0</td>\n",
       "      <td>30d+</td>\n",
       "    </tr>\n",
       "    <tr>\n",
       "      <th>1</th>\n",
       "      <td>Indeed</td>\n",
       "      <td>4.3</td>\n",
       "      <td>30d+</td>\n",
       "    </tr>\n",
       "    <tr>\n",
       "      <th>2</th>\n",
       "      <td>CommerceIQ</td>\n",
       "      <td>4.0</td>\n",
       "      <td>30d+</td>\n",
       "    </tr>\n",
       "    <tr>\n",
       "      <th>3</th>\n",
       "      <td>Data Patterns</td>\n",
       "      <td>3.0</td>\n",
       "      <td>3d</td>\n",
       "    </tr>\n",
       "    <tr>\n",
       "      <th>4</th>\n",
       "      <td>dunnhumby</td>\n",
       "      <td>4.1</td>\n",
       "      <td>24h</td>\n",
       "    </tr>\n",
       "    <tr>\n",
       "      <th>5</th>\n",
       "      <td>Ginger Webs Pvt. Ltd.</td>\n",
       "      <td></td>\n",
       "      <td>7d</td>\n",
       "    </tr>\n",
       "    <tr>\n",
       "      <th>6</th>\n",
       "      <td>NatWest Group</td>\n",
       "      <td>3.9</td>\n",
       "      <td>1d</td>\n",
       "    </tr>\n",
       "    <tr>\n",
       "      <th>7</th>\n",
       "      <td>Canum Infotech</td>\n",
       "      <td></td>\n",
       "      <td>24h</td>\n",
       "    </tr>\n",
       "    <tr>\n",
       "      <th>8</th>\n",
       "      <td>dunnhumby</td>\n",
       "      <td>4.1</td>\n",
       "      <td>1d</td>\n",
       "    </tr>\n",
       "    <tr>\n",
       "      <th>9</th>\n",
       "      <td>Amploy</td>\n",
       "      <td></td>\n",
       "      <td>13d</td>\n",
       "    </tr>\n",
       "  </tbody>\n",
       "</table>\n",
       "</div>"
      ],
      "text/plain": [
       "            company names ratings No. of days ago when job was posted\n",
       "0  Applied Materials Inc.     4.0                                30d+\n",
       "1                  Indeed     4.3                                30d+\n",
       "2              CommerceIQ     4.0                                30d+\n",
       "3           Data Patterns     3.0                                  3d\n",
       "4               dunnhumby     4.1                                 24h\n",
       "5   Ginger Webs Pvt. Ltd.                                          7d\n",
       "6           NatWest Group     3.9                                  1d\n",
       "7          Canum Infotech                                         24h\n",
       "8               dunnhumby     4.1                                  1d\n",
       "9                  Amploy                                         13d"
      ]
     },
     "execution_count": 140,
     "metadata": {},
     "output_type": "execute_result"
    }
   ],
   "source": [
    "glassdoor_jobs"
   ]
  },
  {
   "cell_type": "raw",
   "metadata": {},
   "source": [
    "Q5: Write a python program to scrape the salary data for Data Scientist designation in Noida location.\n",
    "You have to scrape Company name, Number of salaries, Average salary, Min salary, Max Salary.\n",
    "The above task will be, done as shown in the below steps:\n",
    "1. first get the webpage https://www.glassdoor.co.in/Salaries/index.htm\n",
    "2. Enter “Data Scientist” in Job title field and “Noida” in location field.\n",
    "3. Click the search button.\n",
    "4. After that you will land on the below page\n",
    "\n",
    "You have to scrape whole data from this webpage\n",
    "\n",
    "5. Scrape data for first 10 companies. Scrape the min salary, max salary, company name, Average salary and rating of the company.\n",
    "6.Store the data in a dataframe."
   ]
  },
  {
   "cell_type": "code",
   "execution_count": 1,
   "metadata": {},
   "outputs": [],
   "source": [
    "import selenium\n",
    "import pandas as pd\n",
    "from selenium import webdriver\n",
    "import warnings\n",
    "warnings.filterwarnings('ignore')"
   ]
  },
  {
   "cell_type": "code",
   "execution_count": 2,
   "metadata": {},
   "outputs": [],
   "source": [
    "driver=webdriver.Chrome(r\"C:\\Users\\ChesthaS\\Downloads\\chromedriver_win32 (1)\\chromedriver.exe\")"
   ]
  },
  {
   "cell_type": "code",
   "execution_count": 3,
   "metadata": {},
   "outputs": [],
   "source": [
    "url='https://www.glassdoor.co.in/Salaries/index.htm'\n",
    "driver.get(url)"
   ]
  },
  {
   "cell_type": "code",
   "execution_count": 5,
   "metadata": {},
   "outputs": [],
   "source": [
    "search_job=driver.find_element_by_id(\"KeywordSearch\")\n",
    "search_job.send_keys(\"Data Scientist\")"
   ]
  },
  {
   "cell_type": "code",
   "execution_count": 6,
   "metadata": {},
   "outputs": [],
   "source": [
    "search_loc=driver.find_element_by_id(\"LocationSearch\")\n",
    "search_loc.send_keys(\"Noida\")"
   ]
  },
  {
   "cell_type": "code",
   "execution_count": 7,
   "metadata": {},
   "outputs": [],
   "source": [
    "btn=driver.find_element_by_xpath(\"//button[@class='gd-btn-mkt']\")\n",
    "btn.click()"
   ]
  },
  {
   "cell_type": "code",
   "execution_count": 8,
   "metadata": {},
   "outputs": [
    {
     "data": {
      "text/plain": [
       "[<selenium.webdriver.remote.webelement.WebElement (session=\"eb6561bd74b126016f99c14b1a5f8a19\", element=\"51ccdd82-9fab-496b-a9c4-1b0190df34a0\")>,\n",
       " <selenium.webdriver.remote.webelement.WebElement (session=\"eb6561bd74b126016f99c14b1a5f8a19\", element=\"71215a00-6d3f-4102-b35d-709f6c36fc41\")>,\n",
       " <selenium.webdriver.remote.webelement.WebElement (session=\"eb6561bd74b126016f99c14b1a5f8a19\", element=\"0b9d81a1-afba-434b-bd81-7d86e9c90b22\")>,\n",
       " <selenium.webdriver.remote.webelement.WebElement (session=\"eb6561bd74b126016f99c14b1a5f8a19\", element=\"a4c12e2d-bb41-434e-a64b-20e759bc4350\")>,\n",
       " <selenium.webdriver.remote.webelement.WebElement (session=\"eb6561bd74b126016f99c14b1a5f8a19\", element=\"935381a8-68db-46f0-970f-6773d2c55f24\")>,\n",
       " <selenium.webdriver.remote.webelement.WebElement (session=\"eb6561bd74b126016f99c14b1a5f8a19\", element=\"7ef42d44-9c69-4ffc-8ba1-9a258b9de509\")>,\n",
       " <selenium.webdriver.remote.webelement.WebElement (session=\"eb6561bd74b126016f99c14b1a5f8a19\", element=\"09e07856-750a-4a2f-9dfe-57946c170013\")>,\n",
       " <selenium.webdriver.remote.webelement.WebElement (session=\"eb6561bd74b126016f99c14b1a5f8a19\", element=\"bf12a4ef-a588-4708-9e9b-f987bb449a90\")>,\n",
       " <selenium.webdriver.remote.webelement.WebElement (session=\"eb6561bd74b126016f99c14b1a5f8a19\", element=\"7bedd522-2eb3-4201-9bd5-94d797c08f65\")>,\n",
       " <selenium.webdriver.remote.webelement.WebElement (session=\"eb6561bd74b126016f99c14b1a5f8a19\", element=\"00f1dfa1-14c2-4aa0-bbd5-d87b41975aec\")>,\n",
       " <selenium.webdriver.remote.webelement.WebElement (session=\"eb6561bd74b126016f99c14b1a5f8a19\", element=\"fbaa2b26-4911-4c65-ad5e-4d8c4c2b5c15\")>,\n",
       " <selenium.webdriver.remote.webelement.WebElement (session=\"eb6561bd74b126016f99c14b1a5f8a19\", element=\"2f0c53a6-7dce-46d7-ad6a-82ec9aacbfd6\")>,\n",
       " <selenium.webdriver.remote.webelement.WebElement (session=\"eb6561bd74b126016f99c14b1a5f8a19\", element=\"46cddc1c-e166-4a58-aee8-63f9c86eb533\")>,\n",
       " <selenium.webdriver.remote.webelement.WebElement (session=\"eb6561bd74b126016f99c14b1a5f8a19\", element=\"9776f036-3b57-4462-a71d-48a981dcd6d7\")>,\n",
       " <selenium.webdriver.remote.webelement.WebElement (session=\"eb6561bd74b126016f99c14b1a5f8a19\", element=\"c540f106-c4f0-456d-a6ca-7acab6102883\")>,\n",
       " <selenium.webdriver.remote.webelement.WebElement (session=\"eb6561bd74b126016f99c14b1a5f8a19\", element=\"8c69b9de-ca3c-41b1-b3c1-c67079a2e20b\")>,\n",
       " <selenium.webdriver.remote.webelement.WebElement (session=\"eb6561bd74b126016f99c14b1a5f8a19\", element=\"d94e34bb-71da-416e-8197-b66dd0f681b9\")>,\n",
       " <selenium.webdriver.remote.webelement.WebElement (session=\"eb6561bd74b126016f99c14b1a5f8a19\", element=\"bcab308f-2ebf-47c7-a4b1-4b50fbd41e66\")>,\n",
       " <selenium.webdriver.remote.webelement.WebElement (session=\"eb6561bd74b126016f99c14b1a5f8a19\", element=\"e4735f93-acaf-4310-b162-d628951e2a88\")>,\n",
       " <selenium.webdriver.remote.webelement.WebElement (session=\"eb6561bd74b126016f99c14b1a5f8a19\", element=\"cc468afb-14f8-4aa4-8ae2-54bbec7ed6b1\")>]"
      ]
     },
     "execution_count": 8,
     "metadata": {},
     "output_type": "execute_result"
    }
   ],
   "source": [
    "company_tags=driver.find_elements_by_xpath(\"//p[@class='m-0 ']\")\n",
    "company_tags"
   ]
  },
  {
   "cell_type": "code",
   "execution_count": 9,
   "metadata": {},
   "outputs": [],
   "source": [
    "company_names=[]\n",
    "for i in company_tags[:10]:\n",
    "    company_names.append(i.text)"
   ]
  },
  {
   "cell_type": "code",
   "execution_count": 10,
   "metadata": {},
   "outputs": [
    {
     "data": {
      "text/plain": [
       "['Tata Consultancy Services',\n",
       " 'IBM',\n",
       " 'Accenture',\n",
       " 'Ericsson-Worldwide',\n",
       " 'Delhivery',\n",
       " 'UnitedHealth Group',\n",
       " 'Optum Global Solutions',\n",
       " 'Valiance Solutions',\n",
       " 'ZS Associates',\n",
       " 'EXL Service']"
      ]
     },
     "execution_count": 10,
     "metadata": {},
     "output_type": "execute_result"
    }
   ],
   "source": [
    "company_names"
   ]
  },
  {
   "cell_type": "code",
   "execution_count": null,
   "metadata": {},
   "outputs": [],
   "source": []
  },
  {
   "cell_type": "code",
   "execution_count": 22,
   "metadata": {},
   "outputs": [],
   "source": [
    "avg_sal=[]\n",
    "for i in driver.find_elements_by_xpath(\"//div[@class='col-2 d-none d-md-flex flex-row justify-content-end']\")[:10]:\n",
    "    avg_sal.append(i.text.replace('\\n',''))\n"
   ]
  },
  {
   "cell_type": "code",
   "execution_count": 23,
   "metadata": {},
   "outputs": [
    {
     "data": {
      "text/plain": [
       "['₹6,15,289/yr',\n",
       " '₹9,00,000/yr',\n",
       " '₹11,48,366/yr',\n",
       " '₹7,39,238/yr',\n",
       " '₹12,41,763/yr',\n",
       " '₹13,38,279/yr',\n",
       " '₹13,28,697/yr',\n",
       " '₹8,16,495/yr',\n",
       " '₹11,42,356/yr',\n",
       " '₹11,46,073/yr']"
      ]
     },
     "execution_count": 23,
     "metadata": {},
     "output_type": "execute_result"
    }
   ],
   "source": [
    "avg_sal"
   ]
  },
  {
   "cell_type": "code",
   "execution_count": 20,
   "metadata": {},
   "outputs": [],
   "source": [
    "min_sal=[]\n",
    "for i in driver.find_elements_by_xpath(\"//div[@class='common__RangeBarStyle__values d-flex justify-content-between ']/span[1]\")[:10]:\n",
    "    min_sal.append(i.text)\n"
   ]
  },
  {
   "cell_type": "code",
   "execution_count": 21,
   "metadata": {},
   "outputs": [
    {
     "data": {
      "text/plain": [
       "['₹3L', '₹6L', '₹6L', '₹4L', '₹5L', '₹11L', '₹4L', '₹5L', '₹2L', '₹6L']"
      ]
     },
     "execution_count": 21,
     "metadata": {},
     "output_type": "execute_result"
    }
   ],
   "source": [
    "min_sal"
   ]
  },
  {
   "cell_type": "code",
   "execution_count": 24,
   "metadata": {},
   "outputs": [],
   "source": [
    "max_sal=[]\n",
    "for i in driver.find_elements_by_xpath(\"//div[@class='common__RangeBarStyle__values d-flex justify-content-between ']/span[2]\")[:10]:\n",
    "    max_sal.append(i.text)"
   ]
  },
  {
   "cell_type": "code",
   "execution_count": 25,
   "metadata": {},
   "outputs": [
    {
     "data": {
      "text/plain": [
       "['₹13L',\n",
       " '₹27L',\n",
       " '₹22L',\n",
       " '₹16L',\n",
       " '₹1Cr',\n",
       " '₹15L',\n",
       " '₹22L',\n",
       " '₹15L',\n",
       " '₹18L',\n",
       " '₹15L']"
      ]
     },
     "execution_count": 25,
     "metadata": {},
     "output_type": "execute_result"
    }
   ],
   "source": [
    "max_sal"
   ]
  },
  {
   "cell_type": "code",
   "execution_count": 28,
   "metadata": {},
   "outputs": [],
   "source": [
    "no_of_sal=[]\n",
    "\n",
    "for i in driver.find_elements_by_xpath(\"//p[@class='css-1uyte9r css-1kuy7z7 m-0 ']\")[:10]:\n",
    "    no_of_sal.append(i.text)"
   ]
  },
  {
   "cell_type": "code",
   "execution_count": 29,
   "metadata": {},
   "outputs": [
    {
     "data": {
      "text/plain": [
       "['17 salaries',\n",
       " '15 salaries',\n",
       " '14 salaries',\n",
       " '14 salaries',\n",
       " '14 salaries',\n",
       " '11 salaries',\n",
       " '9 salaries',\n",
       " '9 salaries',\n",
       " '8 salaries',\n",
       " '8 salaries']"
      ]
     },
     "execution_count": 29,
     "metadata": {},
     "output_type": "execute_result"
    }
   ],
   "source": [
    "no_of_sal"
   ]
  },
  {
   "cell_type": "code",
   "execution_count": 30,
   "metadata": {},
   "outputs": [],
   "source": [
    "glassdoor_salaries=pd.DataFrame({})\n",
    "glassdoor_salaries['company names']=company_names\n",
    "glassdoor_salaries['Number of salaries']=no_of_sal\n",
    "glassdoor_salaries['Average salary']=avg_sal\n",
    "glassdoor_salaries['Min salary']=min_sal\n",
    "glassdoor_salaries['Max Salary']=max_sal"
   ]
  },
  {
   "cell_type": "code",
   "execution_count": 31,
   "metadata": {},
   "outputs": [
    {
     "data": {
      "text/html": [
       "<div>\n",
       "<style scoped>\n",
       "    .dataframe tbody tr th:only-of-type {\n",
       "        vertical-align: middle;\n",
       "    }\n",
       "\n",
       "    .dataframe tbody tr th {\n",
       "        vertical-align: top;\n",
       "    }\n",
       "\n",
       "    .dataframe thead th {\n",
       "        text-align: right;\n",
       "    }\n",
       "</style>\n",
       "<table border=\"1\" class=\"dataframe\">\n",
       "  <thead>\n",
       "    <tr style=\"text-align: right;\">\n",
       "      <th></th>\n",
       "      <th>company names</th>\n",
       "      <th>Number of salaries</th>\n",
       "      <th>Average salary</th>\n",
       "      <th>Min salary</th>\n",
       "      <th>Max Salary</th>\n",
       "    </tr>\n",
       "  </thead>\n",
       "  <tbody>\n",
       "    <tr>\n",
       "      <th>0</th>\n",
       "      <td>Tata Consultancy Services</td>\n",
       "      <td>17 salaries</td>\n",
       "      <td>₹6,15,289/yr</td>\n",
       "      <td>₹3L</td>\n",
       "      <td>₹13L</td>\n",
       "    </tr>\n",
       "    <tr>\n",
       "      <th>1</th>\n",
       "      <td>IBM</td>\n",
       "      <td>15 salaries</td>\n",
       "      <td>₹9,00,000/yr</td>\n",
       "      <td>₹6L</td>\n",
       "      <td>₹27L</td>\n",
       "    </tr>\n",
       "    <tr>\n",
       "      <th>2</th>\n",
       "      <td>Accenture</td>\n",
       "      <td>14 salaries</td>\n",
       "      <td>₹11,48,366/yr</td>\n",
       "      <td>₹6L</td>\n",
       "      <td>₹22L</td>\n",
       "    </tr>\n",
       "    <tr>\n",
       "      <th>3</th>\n",
       "      <td>Ericsson-Worldwide</td>\n",
       "      <td>14 salaries</td>\n",
       "      <td>₹7,39,238/yr</td>\n",
       "      <td>₹4L</td>\n",
       "      <td>₹16L</td>\n",
       "    </tr>\n",
       "    <tr>\n",
       "      <th>4</th>\n",
       "      <td>Delhivery</td>\n",
       "      <td>14 salaries</td>\n",
       "      <td>₹12,41,763/yr</td>\n",
       "      <td>₹5L</td>\n",
       "      <td>₹1Cr</td>\n",
       "    </tr>\n",
       "    <tr>\n",
       "      <th>5</th>\n",
       "      <td>UnitedHealth Group</td>\n",
       "      <td>11 salaries</td>\n",
       "      <td>₹13,38,279/yr</td>\n",
       "      <td>₹11L</td>\n",
       "      <td>₹15L</td>\n",
       "    </tr>\n",
       "    <tr>\n",
       "      <th>6</th>\n",
       "      <td>Optum Global Solutions</td>\n",
       "      <td>9 salaries</td>\n",
       "      <td>₹13,28,697/yr</td>\n",
       "      <td>₹4L</td>\n",
       "      <td>₹22L</td>\n",
       "    </tr>\n",
       "    <tr>\n",
       "      <th>7</th>\n",
       "      <td>Valiance Solutions</td>\n",
       "      <td>9 salaries</td>\n",
       "      <td>₹8,16,495/yr</td>\n",
       "      <td>₹5L</td>\n",
       "      <td>₹15L</td>\n",
       "    </tr>\n",
       "    <tr>\n",
       "      <th>8</th>\n",
       "      <td>ZS Associates</td>\n",
       "      <td>8 salaries</td>\n",
       "      <td>₹11,42,356/yr</td>\n",
       "      <td>₹2L</td>\n",
       "      <td>₹18L</td>\n",
       "    </tr>\n",
       "    <tr>\n",
       "      <th>9</th>\n",
       "      <td>EXL Service</td>\n",
       "      <td>8 salaries</td>\n",
       "      <td>₹11,46,073/yr</td>\n",
       "      <td>₹6L</td>\n",
       "      <td>₹15L</td>\n",
       "    </tr>\n",
       "  </tbody>\n",
       "</table>\n",
       "</div>"
      ],
      "text/plain": [
       "               company names Number of salaries Average salary Min salary  \\\n",
       "0  Tata Consultancy Services        17 salaries   ₹6,15,289/yr        ₹3L   \n",
       "1                        IBM        15 salaries   ₹9,00,000/yr        ₹6L   \n",
       "2                  Accenture        14 salaries  ₹11,48,366/yr        ₹6L   \n",
       "3         Ericsson-Worldwide        14 salaries   ₹7,39,238/yr        ₹4L   \n",
       "4                  Delhivery        14 salaries  ₹12,41,763/yr        ₹5L   \n",
       "5         UnitedHealth Group        11 salaries  ₹13,38,279/yr       ₹11L   \n",
       "6     Optum Global Solutions         9 salaries  ₹13,28,697/yr        ₹4L   \n",
       "7         Valiance Solutions         9 salaries   ₹8,16,495/yr        ₹5L   \n",
       "8              ZS Associates         8 salaries  ₹11,42,356/yr        ₹2L   \n",
       "9                EXL Service         8 salaries  ₹11,46,073/yr        ₹6L   \n",
       "\n",
       "  Max Salary  \n",
       "0       ₹13L  \n",
       "1       ₹27L  \n",
       "2       ₹22L  \n",
       "3       ₹16L  \n",
       "4       ₹1Cr  \n",
       "5       ₹15L  \n",
       "6       ₹22L  \n",
       "7       ₹15L  \n",
       "8       ₹18L  \n",
       "9       ₹15L  "
      ]
     },
     "execution_count": 31,
     "metadata": {},
     "output_type": "execute_result"
    }
   ],
   "source": [
    "glassdoor_salaries"
   ]
  },
  {
   "cell_type": "raw",
   "metadata": {},
   "source": [
    "Q7: Scrape 100 reviews data from flipkart.com for iphone11 phone. You have to go the link: https://www.flipkart.com/apple-iphone-11-black-64-gb-includes-earpods-power-adapter/p/itm0f37c2240b217?pid=MOBFKCTSVZAXUHGR&lid=LSTMOBFKCTSVZAXUHGREPBFGI&marketplace.\n",
    "\n",
    "When you will open the above link you will reach to the below shown webpage.\n",
    "As shown in the above page you have to scrape the tick marked attributes.\n",
    "\n",
    "These are\n",
    "1. Rating\n",
    "2. Review_summary\n",
    "3. Full review\n",
    "You have to scrape this data for first 100 reviews."
   ]
  },
  {
   "cell_type": "code",
   "execution_count": 1,
   "metadata": {},
   "outputs": [],
   "source": [
    "import selenium\n",
    "import pandas as pd\n",
    "from selenium import webdriver\n",
    "import warnings\n",
    "warnings.filterwarnings('ignore')"
   ]
  },
  {
   "cell_type": "code",
   "execution_count": 2,
   "metadata": {},
   "outputs": [],
   "source": [
    "driver=webdriver.Chrome(r\"C:\\Users\\ChesthaS\\Downloads\\chromedriver_win32 (1)\\chromedriver.exe\")"
   ]
  },
  {
   "cell_type": "code",
   "execution_count": 3,
   "metadata": {},
   "outputs": [],
   "source": [
    "url='https://www.flipkart.com/apple-iphone-11-black-64-gb-includes-earpods-power-adapter/p/itm0f37c2240b217?pid=MOBFKCTSVZAXUHGR&lid=LSTMOBFKCTSVZAXUHGREPBFGI&marketplace'\n",
    "driver.get(url)"
   ]
  },
  {
   "cell_type": "code",
   "execution_count": 4,
   "metadata": {},
   "outputs": [],
   "source": [
    "all_review_tags=driver.find_element_by_xpath(\"//div[@class='_3UAT2v _16PBlm']\")\n",
    "all_review_tags.click()"
   ]
  },
  {
   "cell_type": "code",
   "execution_count": 5,
   "metadata": {},
   "outputs": [],
   "source": [
    "page_tags=driver.find_elements_by_xpath(\"//div[@class='_2MImiq _1Qnn1K']/nav//a\")"
   ]
  },
  {
   "cell_type": "code",
   "execution_count": 6,
   "metadata": {},
   "outputs": [],
   "source": [
    "page_urls=[]\n",
    "for i in page_tags[:10]:\n",
    "    page_urls.append(i.get_attribute('href'))\n",
    "    "
   ]
  },
  {
   "cell_type": "code",
   "execution_count": 7,
   "metadata": {},
   "outputs": [
    {
     "data": {
      "text/plain": [
       "['https://www.flipkart.com/apple-iphone-11-black-64-gb-includes-earpods-power-adapter/product-reviews/itm0f37c2240b217?pid=MOBFKCTSVZAXUHGR&lid=LSTMOBFKCTSVZAXUHGREPBFGI&marketplace=FLIPKART&page=1',\n",
       " 'https://www.flipkart.com/apple-iphone-11-black-64-gb-includes-earpods-power-adapter/product-reviews/itm0f37c2240b217?pid=MOBFKCTSVZAXUHGR&lid=LSTMOBFKCTSVZAXUHGREPBFGI&marketplace=FLIPKART&page=2',\n",
       " 'https://www.flipkart.com/apple-iphone-11-black-64-gb-includes-earpods-power-adapter/product-reviews/itm0f37c2240b217?pid=MOBFKCTSVZAXUHGR&lid=LSTMOBFKCTSVZAXUHGREPBFGI&marketplace=FLIPKART&page=3',\n",
       " 'https://www.flipkart.com/apple-iphone-11-black-64-gb-includes-earpods-power-adapter/product-reviews/itm0f37c2240b217?pid=MOBFKCTSVZAXUHGR&lid=LSTMOBFKCTSVZAXUHGREPBFGI&marketplace=FLIPKART&page=4',\n",
       " 'https://www.flipkart.com/apple-iphone-11-black-64-gb-includes-earpods-power-adapter/product-reviews/itm0f37c2240b217?pid=MOBFKCTSVZAXUHGR&lid=LSTMOBFKCTSVZAXUHGREPBFGI&marketplace=FLIPKART&page=5',\n",
       " 'https://www.flipkart.com/apple-iphone-11-black-64-gb-includes-earpods-power-adapter/product-reviews/itm0f37c2240b217?pid=MOBFKCTSVZAXUHGR&lid=LSTMOBFKCTSVZAXUHGREPBFGI&marketplace=FLIPKART&page=6',\n",
       " 'https://www.flipkart.com/apple-iphone-11-black-64-gb-includes-earpods-power-adapter/product-reviews/itm0f37c2240b217?pid=MOBFKCTSVZAXUHGR&lid=LSTMOBFKCTSVZAXUHGREPBFGI&marketplace=FLIPKART&page=7',\n",
       " 'https://www.flipkart.com/apple-iphone-11-black-64-gb-includes-earpods-power-adapter/product-reviews/itm0f37c2240b217?pid=MOBFKCTSVZAXUHGR&lid=LSTMOBFKCTSVZAXUHGREPBFGI&marketplace=FLIPKART&page=8',\n",
       " 'https://www.flipkart.com/apple-iphone-11-black-64-gb-includes-earpods-power-adapter/product-reviews/itm0f37c2240b217?pid=MOBFKCTSVZAXUHGR&lid=LSTMOBFKCTSVZAXUHGREPBFGI&marketplace=FLIPKART&page=9',\n",
       " 'https://www.flipkart.com/apple-iphone-11-black-64-gb-includes-earpods-power-adapter/product-reviews/itm0f37c2240b217?pid=MOBFKCTSVZAXUHGR&lid=LSTMOBFKCTSVZAXUHGREPBFGI&marketplace=FLIPKART&page=10']"
      ]
     },
     "execution_count": 7,
     "metadata": {},
     "output_type": "execute_result"
    }
   ],
   "source": [
    "page_urls"
   ]
  },
  {
   "cell_type": "code",
   "execution_count": 8,
   "metadata": {},
   "outputs": [],
   "source": [
    "import time"
   ]
  },
  {
   "cell_type": "code",
   "execution_count": 9,
   "metadata": {},
   "outputs": [],
   "source": [
    "ratings_iphone=[]\n",
    "for i in page_urls:\n",
    "    driver.get(i)\n",
    "    time.sleep(5)\n",
    "    ratings_tags=driver.find_elements_by_xpath(\"//div[@class='_3LWZlK _1BLPMq' or @class='_3LWZlK _1rdVr6 _1BLPMq']\")\n",
    "    for i in ratings_tags[:100]:\n",
    "        ratings_iphone.append(i.text)"
   ]
  },
  {
   "cell_type": "code",
   "execution_count": 10,
   "metadata": {},
   "outputs": [
    {
     "data": {
      "text/plain": [
       "['5',\n",
       " '5',\n",
       " '5',\n",
       " '5',\n",
       " '5',\n",
       " '4',\n",
       " '5',\n",
       " '5',\n",
       " '5',\n",
       " '5',\n",
       " '5',\n",
       " '5',\n",
       " '5',\n",
       " '5',\n",
       " '4',\n",
       " '5',\n",
       " '5',\n",
       " '5',\n",
       " '5',\n",
       " '5',\n",
       " '5',\n",
       " '5',\n",
       " '5',\n",
       " '5',\n",
       " '5',\n",
       " '5',\n",
       " '5',\n",
       " '5',\n",
       " '4',\n",
       " '1',\n",
       " '5',\n",
       " '5',\n",
       " '5',\n",
       " '5',\n",
       " '5',\n",
       " '5',\n",
       " '5',\n",
       " '5',\n",
       " '5',\n",
       " '4',\n",
       " '4',\n",
       " '5',\n",
       " '5',\n",
       " '5',\n",
       " '5',\n",
       " '5',\n",
       " '5',\n",
       " '5',\n",
       " '5',\n",
       " '5',\n",
       " '5',\n",
       " '5',\n",
       " '5',\n",
       " '5',\n",
       " '1',\n",
       " '5',\n",
       " '5',\n",
       " '5',\n",
       " '5',\n",
       " '5',\n",
       " '5',\n",
       " '4',\n",
       " '5',\n",
       " '5',\n",
       " '5',\n",
       " '4',\n",
       " '5',\n",
       " '5',\n",
       " '5',\n",
       " '5',\n",
       " '4',\n",
       " '5',\n",
       " '5',\n",
       " '5',\n",
       " '5',\n",
       " '5',\n",
       " '5',\n",
       " '5',\n",
       " '4',\n",
       " '5',\n",
       " '5',\n",
       " '3',\n",
       " '5',\n",
       " '5',\n",
       " '5',\n",
       " '5',\n",
       " '5',\n",
       " '5',\n",
       " '5',\n",
       " '4',\n",
       " '4',\n",
       " '4',\n",
       " '5',\n",
       " '5',\n",
       " '5',\n",
       " '5',\n",
       " '5',\n",
       " '3',\n",
       " '5',\n",
       " '5']"
      ]
     },
     "execution_count": 10,
     "metadata": {},
     "output_type": "execute_result"
    }
   ],
   "source": [
    "ratings_iphone"
   ]
  },
  {
   "cell_type": "code",
   "execution_count": 11,
   "metadata": {},
   "outputs": [
    {
     "data": {
      "text/plain": [
       "100"
      ]
     },
     "execution_count": 11,
     "metadata": {},
     "output_type": "execute_result"
    }
   ],
   "source": [
    "len(ratings_iphone)"
   ]
  },
  {
   "cell_type": "code",
   "execution_count": 12,
   "metadata": {},
   "outputs": [],
   "source": [
    "ratings_summ_iphone=[]\n",
    "for i in page_urls:\n",
    "    driver.get(i)\n",
    "    time.sleep(5)\n",
    "    ratings_summ_tags=driver.find_elements_by_xpath(\"//p[@class='_2-N8zT']\")\n",
    "    for i in ratings_summ_tags[:100]:\n",
    "        ratings_summ_iphone.append(i.text)"
   ]
  },
  {
   "cell_type": "code",
   "execution_count": 13,
   "metadata": {},
   "outputs": [
    {
     "data": {
      "text/plain": [
       "['Brilliant',\n",
       " 'Perfect product!',\n",
       " 'Fabulous!',\n",
       " 'Great product',\n",
       " 'Worth every penny',\n",
       " 'Good choice',\n",
       " 'Highly recommended',\n",
       " 'Perfect product!',\n",
       " 'Perfect product!',\n",
       " 'Worth every penny',\n",
       " 'Perfect product!',\n",
       " 'Highly recommended',\n",
       " 'Simply awesome',\n",
       " 'Worth every penny',\n",
       " 'Nice product',\n",
       " 'Terrific',\n",
       " 'Classy product',\n",
       " 'Highly recommended',\n",
       " 'Wonderful',\n",
       " 'Brilliant',\n",
       " 'Must buy!',\n",
       " 'Perfect product!',\n",
       " 'Terrific purchase',\n",
       " 'Wonderful',\n",
       " 'Mind-blowing purchase',\n",
       " 'Great product',\n",
       " 'Terrific purchase',\n",
       " 'Simply awesome',\n",
       " 'Good quality product',\n",
       " 'Very poor',\n",
       " 'Best in the market!',\n",
       " 'Perfect product!',\n",
       " 'Must buy!',\n",
       " 'Fabulous!',\n",
       " 'Mind-blowing purchase',\n",
       " 'Mind-blowing purchase',\n",
       " 'Wonderful',\n",
       " 'Worth every penny',\n",
       " 'Great product',\n",
       " 'Good choice',\n",
       " 'Very Good',\n",
       " 'Perfect product!',\n",
       " 'Classy product',\n",
       " 'Perfect product!',\n",
       " 'Just wow!',\n",
       " 'Awesome',\n",
       " 'Terrific',\n",
       " 'Terrific purchase',\n",
       " 'Perfect product!',\n",
       " 'Brilliant',\n",
       " 'Perfect product!',\n",
       " 'Classy product',\n",
       " 'Awesome',\n",
       " 'Excellent',\n",
       " 'Not recommended at all',\n",
       " 'Fabulous!',\n",
       " 'Excellent',\n",
       " 'Must buy!',\n",
       " 'Simply awesome',\n",
       " 'Brilliant',\n",
       " 'Terrific purchase',\n",
       " 'Good quality product',\n",
       " 'Simply awesome',\n",
       " 'Perfect product!',\n",
       " 'Worth every penny',\n",
       " 'Value-for-money',\n",
       " 'Just wow!',\n",
       " 'Super!',\n",
       " 'Best in the market!',\n",
       " 'Perfect product!',\n",
       " 'Value-for-money',\n",
       " 'Mind-blowing purchase',\n",
       " 'Must buy!',\n",
       " 'Fabulous!',\n",
       " 'Awesome',\n",
       " 'Excellent',\n",
       " 'Excellent',\n",
       " 'Mind-blowing purchase',\n",
       " 'Good quality product',\n",
       " 'Terrific purchase',\n",
       " 'Awesome',\n",
       " 'Decent product',\n",
       " 'Wonderful',\n",
       " 'Just wow!',\n",
       " 'Super!',\n",
       " 'Super!',\n",
       " 'Awesome',\n",
       " 'Excellent',\n",
       " 'Highly recommended',\n",
       " 'Wonderful',\n",
       " 'Nice product',\n",
       " 'Good quality product',\n",
       " 'Best in the market!',\n",
       " 'Classy product',\n",
       " 'Excellent',\n",
       " 'Mind-blowing purchase',\n",
       " 'Fabulous!',\n",
       " 'Does the job',\n",
       " 'Fabulous!',\n",
       " 'Awesome']"
      ]
     },
     "execution_count": 13,
     "metadata": {},
     "output_type": "execute_result"
    }
   ],
   "source": [
    "ratings_summ_iphone"
   ]
  },
  {
   "cell_type": "code",
   "execution_count": 14,
   "metadata": {},
   "outputs": [
    {
     "data": {
      "text/plain": [
       "100"
      ]
     },
     "execution_count": 14,
     "metadata": {},
     "output_type": "execute_result"
    }
   ],
   "source": [
    "len(ratings_summ_iphone)"
   ]
  },
  {
   "cell_type": "code",
   "execution_count": 15,
   "metadata": {},
   "outputs": [],
   "source": [
    "full_review_iphone=[]\n",
    "for i in page_urls:\n",
    "    driver.get(i)\n",
    "    time.sleep(5)\n",
    "    full_review_tags=driver.find_elements_by_xpath(\"//div[@class='t-ZTKy']\")\n",
    "    for i in full_review_tags[:100]:\n",
    "        full_review_iphone.append(i.text)"
   ]
  },
  {
   "cell_type": "code",
   "execution_count": 16,
   "metadata": {},
   "outputs": [
    {
     "data": {
      "text/plain": [
       "['The Best Phone for the Money\\n\\nThe iPhone 11 offers superb cameras, a more durable design and excellent battery life for an affordable price.\\n\\nCompelling ultra-wide camera\\nNew Night mode is excellent\\nLong battery life',\n",
       " 'Amazing phone with great cameras and better battery which gives you the best performance. I just love the camera .',\n",
       " 'This is my first iOS phone. I am very happy with this product. Very much satisfied with this. I love this phone.',\n",
       " 'Amazing Powerful and Durable Gadget.\\n\\nI’m am very happy with the camera picture quality, Amazing face id unlocked in dark room, Strong battery with perfect screen size as you can carry easily in pocket. This is my third iPhone.\\n\\nI shifted from android Samsung Note series to iPhone because of the strong build quality and peace of mind for next 3-4 years.\\n\\nDon’t think to much just go for it and I suggest you to go for minimum 128gb variant or more 256gb.\\n\\nI’ve attached my puppy pics and no fi...\\nREAD MORE',\n",
       " 'Previously I was using one plus 3t it was a great phone\\nAnd then I decided to upgrade I am stuck between Samsung s10 plus or iPhone 11\\nI have seen the specs and everything were good except the display it’s somewhere between 720-1080 and it’s not even an amoled it’s an LCD display\\nBut I decided to go with iPhone because I have never used an IOS device I have Been an android user from the past 9 years I ordered IPhone 11 (128gb) product red\\nMy experience after using 3 weeks\\n1. The delivery ...\\nREAD MORE',\n",
       " 'So far it’s been an AMAZING experience coming back to iOS after nearly a decade but it’s not as versatile as android though phone is sturdy dropped it accidentally a couple of times and nothing happened fortunately camera is awesome',\n",
       " 'iphone 11 is a very good phone to buy only if you can compromise for the display. The display on this is device is pretty good but you can get other options with better displays in this price segment.\\nIf you can survive with an HD+ LCD panel with thicker bezels and a notch up top then this is a very good phone for you.\\nCameras are awesome, battery backup excellent, great performance and a decent premium look. Good job Apple !',\n",
       " 'It’s a must buy who is looking for an upgrade from previous generation of iPhones. If you are using XR then still you can hold on for sometime and upgrade to 2020 model else this phone is a must buy . Camera quality is amazing and wide angle is something to count upon. Performance wise it’s amazing and feels premium while holding in hand. So a big YES for this device. Go for 128 GB variant as the 4K videos will occupy lots of space and the storage can get over very quickly. Try to buy it with...\\nREAD MORE',\n",
       " 'Value for money❤️❤️\\nIts awesome mobile phone in the world ...\\nDisplay was very good and bright ..\\nTrust me freinds you r never regret after Buying..\\nJust go for it....\\nI love this phone and i switch to iphone x to 11',\n",
       " 'Best budget Iphone till date ❤️ go for it guys without second thought. Let me explain you guys about Camera, Display, battery, and performance.\\n\\nCamera: at this price range there is no comparison of camera, you’ll love the picture quality as well as video quality. I am a Vlogger I wanted an iPhone with 4k video by front camera and I got this phone and I am more than happy 😃\\n\\nBattery: I use this phone roughly as I am active social media person and I have a youtube channel. so the battery ba...\\nREAD MORE',\n",
       " \"Iphone is just awesome.. battery backup is very very nice.. continuously for 10 hours we can use it.camera is just awesome.. display is just fab.i love it alot..i had to wait 15 days for it as i pre ordered it..overalll it's worth the price..these all images are clicked by my iPhone..and i love it.\",\n",
       " 'What a camera .....just awesome ..you can feel this iPhone just awesome . Good for gaming also ...try pubg in hd it’s just wow',\n",
       " 'Excellent camera, good performance, no lag. The lcd display is also good.. but difference come when we watch movie in prime and Netflix, the colours are not vibrant.. as we see in amoled display.. and the charger in box is of 5 watts.. takes more than 3 hours to charge from 0 to 100.. so guys be prepare to buy 18 watts charger . Finally I am an android user, it was my first Iapple phone, I promise u guys the iOS is so smooth.. overall the phone is damn good.... close eyes to buy it.. thanks t...\\nREAD MORE',\n",
       " 'It’s been almost a month since I have been using this phone. I upgraded from an iPhone 8. The main issue with my 8 was battery and this phone is just awesome when it comes to battery. It lasts a day and a half for me with my regular use , internet connected always with 4g\\nCan’t move forward without saying this. Battery of this phone is a life saver when I am traveling or at work when I don’t get the option to charge\\nCamera is superb. Front cam selfies and back cam photos are just awesome.\\n...\\nREAD MORE',\n",
       " 'Awesome Phone. Slightly high price but worth. Better than iPhone XR.\\nCamera is superb and wide angle camera is very clear.\\n12MP selfie camera is also very good.\\nA13 Chip gives a very good and smooth performance.',\n",
       " 'Really worth of money. i just love it. It is the best phone ever.',\n",
       " 'Superb Product !!!\\nA big and worthy upgrade from mi 3S to iphone 11 .\\nTotally loved it !',\n",
       " \"It's my first time to use iOS phone and I am loving my upgradation 😍😍 I love the color, I love the assebility of the phone....I need to learn more about its functionality, but as far as I have seen, it's quite easy and it has a lot of functions to work on, specially if you are a content writer or a blogger you get a lot of content creation platforms and they are really amazing.\\n\\nThis phone not only for good quality photography but a lot of other task too.😍💯\",\n",
       " 'This is my first ever I phone. Before this I was using my google nexus 5. But moving from android to iOS is a great experience. It’s worth at this price. I will highly recommend it if you want to move to iOS. The best part of this phone is it’s camera and it’s battery life. This two things have won my heart. I loved it. Happy to have it in my hand. Still exploring its features. And can’t forget to mention Flipkart service. Very prompt service and fast delivery.',\n",
       " 'I have migrated from OP 7pro... and trust me, iPhone 11 is totally worth it.. following are the reasons:-\\n1)there is ABSOLUTELY NO ISSUE WITH THE DISPLAY... its crisp, sharp and I found it to be much much better than OP7 pro. Netflix, Prime video all run crisply... you won’t miss a thing. True Tone works flawlessly...the display brightness is perfect. OP have not calibrated their screens properly.\\n2) iPhone 11 series have really good cameras... others have spoken in depth about them.\\n3) bat...\\nREAD MORE',\n",
       " 'It’s an amazing product from apple and the camera is simply superb. Phone is faster.Night shot is simply superb and detailing and colour differentiation from camera is an added advantage\\n\\nThis review I have written from iPhone 11 only and I am glad to say outside.\\n\\nCons wise if we see HD+ display only, no battery percentage indicator as in older iPhone 8.\\nNo assistive touch control button in it\\nNo oleophobic coating on back panel glass and finger prints are visible but since I bought mint gr...\\nREAD MORE',\n",
       " 'After 1 month use I found camera quality best compared to my previous Samsung note 10+.Display not good as note 10 also charging too slow.Apple should add fast charger like 11 plus and pro.Best phone for daily use',\n",
       " 'Upgraded from iphone 6 to 11 best phone for iphone users battery is much better than other iphones camera is awesome love to use it.camera is so clear in night.',\n",
       " 'I just directly switch from iphone 6s to iphone 11 .The best premium smartphone I recommend to everyone. Excellent quality and colors the iphone have in 11 series.\\nCamera quality is just awesome and the major feel when we hold in our hands. The sound quality and volume is also higher then the previous models.\\nI will recommend to buy iphone 11 instead of pro models , there is nothing much difference as this model contains everything which fulfill our needs.\\n\\nOnly one thing that I dislike abo...\\nREAD MORE',\n",
       " 'This will help you more. See if you are planning to buy iPhone 11. I will say. Yes. But there are some plans I just want to disclose before you buy. 1) If you are an existing iPhone X/XS/XS Max/ XR user, better you guys do not think it to buy. You guys have more or less better gadget. 2) If you are an android user and planning to buy premium phone. I will suggest them to please buy iPhone instead of buying an Android. I bet you will never go back to android after using IOS. Now I want to shar...\\nREAD MORE',\n",
       " 'Well you all know the specifications . One of a kind. Best iPhone till date. Many enhancements to the camera app with many options. Love the glass body with matte finish in the lens area on the back. Lovely colours to choose from. Best battery in an iPhone till date, enough to last more than a day in normal usage. I tested my iPhone 11 battery and lasted for than 24 hours after full charge still with 30% battery charge left. Watched movies for some time. Normal usage on calls, browsing, musi...\\nREAD MORE',\n",
       " 'The built quality is not very premium.\\nThe battery back is great .\\nThe LCD panel is not so sharp but the brightness level is very High .\\nCamera is super duper awesome.\\nThe red colour which people think is bright is actually very soothing and excellent colour to choose from .\\nThe A13 Bionic chip is really a flagship processor and can beat any phone which even has 12 gb ram .\\nCamera module is very great and looks very stylish.',\n",
       " 'Really good actually this is my first apple product am using its really awesome performance wise excellent. Am really happy with this iphone11',\n",
       " 'it is very good at performance. Camera is best like before and very smooth response even in water. Don’t buy 12 mini buy iPhone 11 , it is far better than 12 mini believe me ! Have a nice day \\uf8ff ☺️',\n",
       " 'Reviewing again after 5 months. At the beginning the battery and performance was good but it degraded soon. Also I was facing heating issues. The mobile will heat up like a stove sometimes. You cannot even play Pubg even in low settings properly, performance is not a problem but heating is. Also if you play that game for 10 mins the brightness will be automatically down due to over heating even when the auto brightness is set to off. This will not be solved even if u manually increase the bri...\\nREAD MORE',\n",
       " 'Great iPhone very snappy experience as apple kind. Upgraded from iPhone 7.\\nPros\\n-Camera top class\\n- Battery top performed\\n-Chipset no need to say as apple kind\\n-Security as you expect from apple\\n- Display super bright industry leading colour\\naccuracy and super responsive\\n-Build quality as expect from apple sturdy\\npremium durable beautiful stylish.\\n-Os most stable os in smartphone industry\\n\\nCons\\n-No 5G\\n-Display is not based on OLED technology\\n-Charger headphones and 1 apple stic...\\nREAD MORE',\n",
       " 'It is just awesome mobile for this price from Apple,\\n\\nAfter 10 days review\\n\\nBattery enough for 1 day even 24*7 Internet will be on and mostly internet usage\\n\\nCamera is just awesome cool , android 64 MP is equal to this just 12 MP\\n\\nA13 Bionic chip will give more high performance without hanging\\n\\nAudio stereo speakers will give Dolby atoms sound with crystal clear\\n\\nVideo recording is like cinematic shots of every sec can be a 4K 60fps. Just awesome this phone\\niPhone 11 loved one',\n",
       " 'Best Apple iPhone that i have bought at a very reasonable price, camera quality is next level just awesome n of superior quality android phones not even close(RIP) to that and also battery is really good but packaging by Flipkart of iPhone was very poor of such a expensive product, firstly im bit worried about the quality of product if i purchased it through online how was the product but i think now this was mine best decision to bought it through Flipkart online because i got genuine Apple...\\nREAD MORE',\n",
       " \"I can say I'm damn impressed with iPhone 11. As they says iPhone 11 have the toughest glass ever in the smartphone which you'll find on the front and back and it's totally smooth. The fit and finish is full apple quality - there's no sense that any cheaping out has happened in the construction. Without saying it's camera features this review won't complete. The iPhone 11 has a dual camera system, consisting of a wide angle len's that's pretty much same as found on the iPhone XR last year, but...\\nREAD MORE\",\n",
       " 'Best Quality Product OF iPhone Series , Sound Quality & Camera quality is very awesome, Battery Life is very Sufficient for 24 hr Backup With Full Internet Access , I love this this Product too much , It is very fast & making me Very fast in all my daily Routine\\nHighlights;\\n1.Camera: 5 STAR\\n2.Video Recording: 5 star\\n3.Night mODE sHOOTING & Camera:4 star\\n4. Audio Quality: Awesome\\n5. Battery : 5 Star\\n6. Touch:5 Star\\n7. Processor: Very Fast\\nThe M...\\nREAD MORE',\n",
       " 'First thanks to Flipkart for this amazing deal and phone is outstanding. I upgraded from iPhone 7 and this is like very big upgrade. But the packaging was very basic I expected a good packaging as they only wrapped one layer of bubble wrap which I don’t think is enough to protect this expensive phone. And I recommend this phone and seller as well.\\n\\nAnd I’m posting this review after using it for 4 days.',\n",
       " 'Superfast delivery by Flipkart. Thanks.\\n\\n1. iPhone 11 is a pretty solid phone for the money you are paying.\\n2. All the bad reviews about the display is confusing. It’s not that bad.\\n3. I switched from a Oneplus 7t. I have no complaints about the display quality of iPhone. Yes, it’s not OLED, so, we are missing on the deep blacks. But that’s it. It is a very colour accurate display. Gets adequately bright and I could not find any pixelation.\\n4. Performance is one of the best, if not best, in ...\\nREAD MORE',\n",
       " 'Smooth like butter, camera like fantabulous, sound is crystal clear & its red color is damn attractive, i am just loving it. Must buy if you love photography.\\n\\nLucky to get it in sale, thank you Flipkart.',\n",
       " \"Again back to apple iphone after a gap of 2-3 years. It's pleasure to use iOS and the quality product by Apple. Iphone 11 still works like a beast in 2021 also. It really capable of doing day to day usage as well as hard core gaming. Battery is awesome. I'm really too much satisfied with it. Apart fto the very gorgious IPS LCD (AMOLED will be better) everything is mind boggling. Iphone💕.\",\n",
       " 'Looking so good 👍 😍 super 👌 stylish 😎 phone\\nClean box 📦 good 👍 delivery 👌 fast delivery\\nOriginal box Original iphone 📱 👌 😍😍😍',\n",
       " 'impressive super phone and best in class camera ,sound and face unlock is super fast just see and phone is unlock and fast in daily apps use',\n",
       " 'Battery backup is extraordinary, camera is decent & performance offered by A13 bionic is awsome. The display is good in practical usage like the visibility of display is very good in direct sun light compare to pro models. Iam extremely satisfied for the money I spent.',\n",
       " 'Well while switching from android to iOS the first thing you need to be careful about is that you will loose all your whatsapp chat backups as both are different operating systems. Camera clarity is awesome and though being an lcd screen clarity and resolution is good. Battery backup is also good unlike previous gen iPhone. So far the experience is good will Padre after a few months of usage.\\n\\nP.S the black is more of a dark grey shade and not jet black',\n",
       " 'In love with this iphone great performance,camera ,battery everything. Go for it have a uncompareble battery backup, no doubts in iPhone camera here You can see the picture which is shot on my iPhone In love with this iphone great performance,camera ,battery everything. Go for it have a uncompareble battery backup, no doubts in iPhone camera here You can see the picture which is shot on my iPhone In love with this iphone great performance,camera ,battery everything. Go for it have a uncompare...\\nREAD MORE',\n",
       " 'Best in class. Battery backup is good especially when you play games like Pubg COD. But it is sort of heavy when you hold in hands. Portrait mode is best to click pictures. Stage light effect is awesome. Try to click photos outside in nature because photos inside home or room will not give you the quality in any phone even in DSLR.',\n",
       " 'Very excited to have this phone. This phone has the real power unlike the android phones having SD 855 . The battery life is very good and the camera quality is excellent as comapred to redmi and other phones except google pixel. I M enjoying every single bit of it. Would recommed only if you have the budget.',\n",
       " \"I upgraded (downgraded?) from my iPhone X since the phone fell down and I didn't want to repair the screen. The box that the phone came in was super slim and I was worried that there'd be no 5W charger with it and my fears were confirmed. However, thankfully I had the 18W USB-C PD charger from Apple which I bought for my iPhone X and it worked perfectly. The charging time is as lethargic as ever though and it takes about 1:30 mins or even 2 hours depending on charge remaining. I'll list some ...\\nREAD MORE\",\n",
       " 'Its Very awesome product working and good camera quality and all about best product and also flipkart is very great deal and offer nice price',\n",
       " 'Best and amazing product.....phone looks so premium.... battary is also good as expected .... Wide angle camera is so addictive ...if you are a IOS lover....then this phone will be the best choice for you all!!💯🔥',\n",
       " 'Excellent camera and display touching very nice and smooth very improvement against iPhone XR and new processor is very fast',\n",
       " 'Awesome purchase. Amazing phone with good battery backup. It’s a top notch device. White colour looks amazing. Phone has a few extra feature than iPhone XR. Overall, this is value for money',\n",
       " 'Totally in love with this ❤ the camera quality is amazing just love it 😘😘😘 itsss dammnnnnnn amazing... Must buy iPhone 11 this is my best experience ever ☀👌👌🧡🧡🧡🧡🧡 thanku apple ❤',\n",
       " 'Always love the apple products, upgraded from old iPhone 6S plus to this after having my first baby. I just love to click baby’s photos with it. Overall I just love this phone. Battery back up is okay, sound quality is good. Haven’t tested yet waterproof yet. Only one thing I hate is apple could have given charger & headphones in box.',\n",
       " 'Amazing camera and feel super machine I am not describe my feeling but this is amazing Phone I am so lucky I have this',\n",
       " 'They are selling cheep quality items. There is a black line on the edge of the display. Waiting for the replacement..\\n\\nUpdate:today I got the replacement from flipkart.. The second one is nice and the display and camera quality is much better than the previous one.. Thanks for the support',\n",
       " 'awesome phone to have. it has got many smart features apart from mind blowing looks, camera, display, battery and sound. have fallen in love with this phone. must buy phone if you have got enough money. thanks to flipkart and apple of course..',\n",
       " 'Its a fabulous mobile look awesome performance unbeaten camera like dslr battery good i think this is a beast of mobile',\n",
       " 'Dear friends... I want to share my experience with you about this amazing I phone 11....this is my first iPhone and special things about this mobile is it has great camera, battery backup and awesome display.... I mean everything is perfect.loved it 👍👍👍',\n",
       " \"It's very high performances devise i am like the service of flipkart delevary very fast and packing very nice perfect phone\",\n",
       " 'Amazing phone and on great deal I received with super fast delivery by Flipkart...',\n",
       " 'finally an iPhone with very nice battery backup. update from iPhone 7 and happy to have it. camera is not up to the mark in low light but overall a recommended phone if your budget allows 😀',\n",
       " \"I'm switching this phone to oppo reno 10x zoom\\nIt's really impressive\\nRarely I'm missing smooth display touch response like oppo reno but\\nI really loved it.\\nCamera really impressive\",\n",
       " 'Really satisfied with the Product I received... It’s totally genuine and the packaging was also really good so if ur planning to buy just go for it.',\n",
       " 'Worth the money’ starting first from its performance it beats out all phones , second the smoothness of camera is awesome, contrast ratio is much than expected. Price will not matter if u r a quality person, if not other phones are available with better discount',\n",
       " 'i11 is worthy to buy, too much happy with the product. Thank u flipkart I received the item on time..loved it..',\n",
       " \"I'm Really happy with the product\\nDelivery was fast as well\\n..it was a gift for my sister and she loved it so much.\",\n",
       " 'Great iphone.\\nI am writing this review after 2 months of usage.\\nCamera is excellent, especially the nightmode\\nDisplay perfect\\nBattery backup awesome\\nSound quality very good\\nOverall Apple gives you a perfect iphone in this range.\\nReally in love with iPhone 11',\n",
       " 'Did an upgrade from 6s plus to iphone 11.\\nAo far the experience is well and good. Felt smoother than 6s plus. The camera quality is superb. Battery backup is descent. Not a heavy user, and gets power more than a day. Go for it if you need an alrounder iphone in a competitve price.',\n",
       " 'Damn this phone is a blast . Upgraded from android to ios and is a duperb experience. Battery backup is top notch and display also pretty good',\n",
       " 'Value for money\\n5 star rating\\nExcellent camera\\nBattery backup full day in single charge.\\n\\nTougher and water resistant design, glossy back.\\nThe screen has excellent brightness and contrast.\\nApple A13 Bionic is the fastest smartphone chip on the planet.\\nExcellent battery life, fast charging support.\\nStereo speakers with great quality.',\n",
       " \"Just got this iphone 11\\nAnd it is most powerful mobile phone I have used ever\\n\\nSo,go for it if you want a phone with best specification like camera,battery backup,display, A13 bionic chip\\n\\nThat's my review about this phone but yours can be differ from me....\",\n",
       " 'awesome Phone Smooth Touch Too good Sexyy looks one word Awesome',\n",
       " 'I rate this product 5* as it has got amazing user experience with the best performing A13 bionic processor. The screen responds and graphics rendering is top notch. With casual gaming and internet browsing, the battery lasts for approx. 1 day. Camera is very good. You will fall in love with the portrait mode. You can call me a loyal Apple customer or whatever but I won’t stop praising the products and overall experience. That user experience matters and is worth every penny you pay.\\n\\nBelow ar...\\nREAD MORE',\n",
       " 'I purchased the iPhone 11 a month back. I must say Apple has impressed me yet again . I have been an Apple user for past 5 years . The phone is power packed with amazing features . What impressed me the most was the battery backup the phone offers . Battery can easily run upto 1.5 days in single charge with moderate to\\nHeavy usage . If you’re looking for a value for money device , I don’t see any other phone in the price range which can match the iPhone 11 .\\nOne thing I didn’t like was that ...\\nREAD MORE',\n",
       " 'I am using this phone for 5 days and its one of the best camera out there ❤️ the screen is not oled and i am coming from iphone xs so its little bit not up to the mark i would say\\nBut overall value for money💕😍the battery back up is far better than my iphone xs and its worth in my apple ecosystem💫❤️if u are an apple User and have the eco system then go for it❤️though i will be getting the new iphone but its pretty good💫',\n",
       " \"It was amazing experience for me. Honestly i am using iPhone first time so I don't have that much past experience about that. But after using 7 days this mobile i want to give some honest feedback.\\n1- Display 9 out of 10\\n2- Camera 9.5 out of 10\\n3- Battery 7 out of 10\\n4- Performance 9.5 out of 10\\n5- Features & Functions 10 out of 10\\n6- Outer looks and colour 10 out of 10\\nRest i think i will understand after using this for few months.\\nI will highly recommend you guys if you have budget then you...\\nREAD MORE\",\n",
       " \"Just go for it.\\nThis phone is really amazing. I ordered it for my wife and we click photos on this thing which are better than dslr. I own OnePlus 6t but it's camera sucks. iPhone is really amazing when it comes to camera. It's worth spending 50k on this. Cons- only display is lcd. While using u don't feel it but if u compare with other phone then u can see difference quite easily.\\nChanging from Android to iphone is bit difficult coz most of things u don't know but I liked it. Some of the a...\\nREAD MORE\",\n",
       " 'Absolutely powerful gadget. Loved it’s look! Soo glassy and classy. I would definitely recommend this model of Apple. Only disappointed with the 5W charger, one should purchase an 18W adapter for fast charging. Though battery backup is great. Bought it in September 2020, reviewing after so long so I’m gonna put the genuine review here.✅',\n",
       " 'I was torn between the oneplus 8 pro and the iphone 11. I had to shell out extra money for this, but I say if you can afford it, this truely is the best package.\\nMind blowing camera, battery and overall performance. Face Id works like magic even in complete darkness without firing up the screen brightness. The phones with in display fingerprint scanners do this at night time and it really burns your eyes.\\nI wanted the oneplus for its display but tbh the OLEDs on oneplus is really bad. Flick...\\nREAD MORE',\n",
       " 'I use a Note10+ and have been using both iOS and Android devices.\\n\\nCamera has really good features and portraits are super good, better than Samsung flagship. Overall camera setup can still be enhanced and hopeful for better upgrades on software in next release\\n\\nOperating system is quite a breeze and user experience of daily usage is very high as compared to Android. I moved to iOS very swiftly in 2 days for all my office work from Note10+\\n\\nBattery holds up quite well with 4 hrs of call and ...\\nREAD MORE',\n",
       " 'The phone is completely good\\nAs far as camera Apple is king of it\\nAnd its a beast in performance\\nAnd the battery is pretty good too',\n",
       " 'Everything u ll like it when u use this iPhone. Simple changes only not many to lower models but it’s nice to use. Little heavy compared to previous models like 7,8',\n",
       " 'Nice value for money good and best price I phone mind blowing camera processor very fast other android mobile I am happy India top selling phone 2020',\n",
       " 'The ultimate performance\\nCamera is superb\\nThe battery backup also very good i never saw iphone gives this much of battery backup\\nIf any one wana buy iphone 11 definitely i will recommend this mobile\\nIt has the better battery and powerfull processer peak performance glorious camera and the display also 100% high quality lcd display if u had money for for 12 if u dont wana invest much money on that then go for iphone 11 it has maximum same specs only main difference between the 12 and 11 is...\\nREAD MORE',\n",
       " \"It's a great phone. From camera to display everything is best for the price.\\nBest camera , best performance. I think everyone should buy it . This phone has best battery life so far in iphone series which I had used earlier. Happy to have it. Thanks Flipkart\",\n",
       " 'This is my first ever iPhone.\\nAnd I truly don’t regret switching to IOS from my Android.\\n\\nIt is easily an alternative to a DSLR camera.\\nIf you’re obsessed with photos and videos, just don’t think twice or don’t compare to other androids(Samsung S10 lite or OnePlus 8/8T), as it’s far better from them in every field.\\nComparing will only make you confused.\\n\\nI am getting an average Screen on Time of around 10 hours with 30 percent left. I haven’t let my device discharged below 30 % as it aff...\\nREAD MORE',\n",
       " 'Can’t beat the software and hardware integration of apple.\\nPerforms like a beast. Great quality camera\\n6-7 hours screen on time which is good. Nothing much to complaint about the screen. Good connectivity speeds.\\nGreat buy and Flipkart’s delivery top notch as usual',\n",
       " 'Value for money product. This iphone 11 is really amazing. Again nice release by apple. Great camera, battery backup is excellent. I just love this phone',\n",
       " 'Thanks Flipkart For this amazing deal! I had a dream of owning a iphone since i had known about.\\nIm very happy with my purchase & it is totally worth it.\\nAmazing experience all over !!\\n\\nAnyone who’s thinking of buying it in 2021, i would simply say go for it without any second thoughts ❤️',\n",
       " \"I genuinely liked it. One of the best mobile phones I have used. It's sho smooth and it's security is very astonishing. Plus it has a very good camera quality. so overall it's a win win.\",\n",
       " \"If you are looking for a premium phone under 55k, this is the one for you.Got the iPhone 11 during the Republic day sale. Performance is top notch in this price range. Camera's do a perfect job in taking good quality photos and videos. Battery backup too is satisfactory. Writing this review after using for a week. Any further observations would be updated.\",\n",
       " 'Awesome camera, smooth and fast UI, display is great (though not LED) but the black area at the top could have been reduced. Battery remains a day even if used heavily. Charger in the box is ok, but 12 or 18W could have been nothing like anything. Overall an excellent product and comfortable to use. I have got it almost a month back and so far so good.',\n",
       " \"The best all rounder iphone. Flipkart is doing a great job. They're delivery services are blazing fast. I got delivery on the same day. Genuine Apple Product. Working great. Talking about review There's no need of review for iphones. They're simply the best.\",\n",
       " 'We are on apple ecosystem for almost eight years now with couple of iPads and iPhones, including Xr.\\n\\nBought iPhone 11 as a gift to my daughter who loves it. We chose for a purple coloured one. Believe me it is gorgeous and towards the lighter shade. Dazzling and brilliant!\\n\\nThe phone is great and does excellent RAM management like any other Apple device.\\n\\nThe screen, though a LCD and lesser ppi as compared to other flagship phones of competitor brands, is a delight to watch with perfect re...\\nREAD MORE',\n",
       " 'A perfect phone and a good battery super camera and the sound is dynamic overall the phone is perfect for upgrading from lower iPhone model to iPhone 11',\n",
       " \"i was confused between 11 and 11 pro. i was going towards 11 pro, but the screen size was not enough for me.\\nAnd i saw 11 in the showroom. i didn't find much difference in screen quality.And cameras seems to be ok with me. And i saw offer's in flipkart and made the purchase.\\nthe device is fabulous. The hardware and software quality is excellent. The new iOS is something you need to experience yourself. The drawback i found was absence of fast charger, but the pricing can compensate that. Am...\\nREAD MORE\",\n",
       " 'Product is nice at the deviled time the delivery boy not open the box and this order is oBD but he is not open and not showing product he gives Product and gone time God product is super nice and good Tq Flipkart and seller love you Flipkart Product is nice display good touch screen amazing compared to other brands over all Product is super. Tq Flipkart',\n",
       " \"phone is good but in display is 720p lcd in this price range we can get full hd OLED displays with higher refresh rate processor is very good camera is nice but looks kind of oldish in front of todays phone also there's no charging in box had to buy it seperately\",\n",
       " 'Everything is perfect pictures come out so clearly and at first I wasn’t sure when I got it then when I started to use it and get the hang of it it was amazing!! I can’t wait to see what the next future phones will be like. The screen display on this bad boy are unbelievable they are so clear and never fail me. The performance is super cool there is a lot of cool features as well I like this phone because I feel that it is easy to use and one of my favorite things about this phone is the Face...\\nREAD MORE',\n",
       " 'I dreamt about this day from a long time.... Getting an iPhone with my own money.... Super happy and worth spending every penny']"
      ]
     },
     "execution_count": 16,
     "metadata": {},
     "output_type": "execute_result"
    }
   ],
   "source": [
    "full_review_iphone"
   ]
  },
  {
   "cell_type": "code",
   "execution_count": 17,
   "metadata": {},
   "outputs": [
    {
     "data": {
      "text/plain": [
       "100"
      ]
     },
     "execution_count": 17,
     "metadata": {},
     "output_type": "execute_result"
    }
   ],
   "source": [
    "len(full_review_iphone)"
   ]
  },
  {
   "cell_type": "code",
   "execution_count": 18,
   "metadata": {},
   "outputs": [],
   "source": [
    "flipkart_i11=pd.DataFrame({})\n",
    "flipkart_i11['rating']=ratings_iphone\n",
    "flipkart_i11['review summary']=ratings_summ_iphone\n",
    "flipkart_i11['full reveiew']=full_review_iphone"
   ]
  },
  {
   "cell_type": "code",
   "execution_count": 19,
   "metadata": {},
   "outputs": [
    {
     "data": {
      "text/html": [
       "<div>\n",
       "<style scoped>\n",
       "    .dataframe tbody tr th:only-of-type {\n",
       "        vertical-align: middle;\n",
       "    }\n",
       "\n",
       "    .dataframe tbody tr th {\n",
       "        vertical-align: top;\n",
       "    }\n",
       "\n",
       "    .dataframe thead th {\n",
       "        text-align: right;\n",
       "    }\n",
       "</style>\n",
       "<table border=\"1\" class=\"dataframe\">\n",
       "  <thead>\n",
       "    <tr style=\"text-align: right;\">\n",
       "      <th></th>\n",
       "      <th>rating</th>\n",
       "      <th>review summary</th>\n",
       "      <th>full reveiew</th>\n",
       "    </tr>\n",
       "  </thead>\n",
       "  <tbody>\n",
       "    <tr>\n",
       "      <th>0</th>\n",
       "      <td>5</td>\n",
       "      <td>Brilliant</td>\n",
       "      <td>The Best Phone for the Money\\n\\nThe iPhone 11 ...</td>\n",
       "    </tr>\n",
       "    <tr>\n",
       "      <th>1</th>\n",
       "      <td>5</td>\n",
       "      <td>Perfect product!</td>\n",
       "      <td>Amazing phone with great cameras and better ba...</td>\n",
       "    </tr>\n",
       "    <tr>\n",
       "      <th>2</th>\n",
       "      <td>5</td>\n",
       "      <td>Fabulous!</td>\n",
       "      <td>This is my first iOS phone. I am very happy wi...</td>\n",
       "    </tr>\n",
       "    <tr>\n",
       "      <th>3</th>\n",
       "      <td>5</td>\n",
       "      <td>Great product</td>\n",
       "      <td>Amazing Powerful and Durable Gadget.\\n\\nI’m am...</td>\n",
       "    </tr>\n",
       "    <tr>\n",
       "      <th>4</th>\n",
       "      <td>5</td>\n",
       "      <td>Worth every penny</td>\n",
       "      <td>Previously I was using one plus 3t it was a gr...</td>\n",
       "    </tr>\n",
       "    <tr>\n",
       "      <th>...</th>\n",
       "      <td>...</td>\n",
       "      <td>...</td>\n",
       "      <td>...</td>\n",
       "    </tr>\n",
       "    <tr>\n",
       "      <th>95</th>\n",
       "      <td>5</td>\n",
       "      <td>Mind-blowing purchase</td>\n",
       "      <td>i was confused between 11 and 11 pro. i was go...</td>\n",
       "    </tr>\n",
       "    <tr>\n",
       "      <th>96</th>\n",
       "      <td>5</td>\n",
       "      <td>Fabulous!</td>\n",
       "      <td>Product is nice at the deviled time the delive...</td>\n",
       "    </tr>\n",
       "    <tr>\n",
       "      <th>97</th>\n",
       "      <td>3</td>\n",
       "      <td>Does the job</td>\n",
       "      <td>phone is good but in display is 720p lcd in th...</td>\n",
       "    </tr>\n",
       "    <tr>\n",
       "      <th>98</th>\n",
       "      <td>5</td>\n",
       "      <td>Fabulous!</td>\n",
       "      <td>Everything is perfect pictures come out so cle...</td>\n",
       "    </tr>\n",
       "    <tr>\n",
       "      <th>99</th>\n",
       "      <td>5</td>\n",
       "      <td>Awesome</td>\n",
       "      <td>I dreamt about this day from a long time.... G...</td>\n",
       "    </tr>\n",
       "  </tbody>\n",
       "</table>\n",
       "<p>100 rows × 3 columns</p>\n",
       "</div>"
      ],
      "text/plain": [
       "   rating         review summary  \\\n",
       "0       5              Brilliant   \n",
       "1       5       Perfect product!   \n",
       "2       5              Fabulous!   \n",
       "3       5          Great product   \n",
       "4       5      Worth every penny   \n",
       "..    ...                    ...   \n",
       "95      5  Mind-blowing purchase   \n",
       "96      5              Fabulous!   \n",
       "97      3           Does the job   \n",
       "98      5              Fabulous!   \n",
       "99      5                Awesome   \n",
       "\n",
       "                                         full reveiew  \n",
       "0   The Best Phone for the Money\\n\\nThe iPhone 11 ...  \n",
       "1   Amazing phone with great cameras and better ba...  \n",
       "2   This is my first iOS phone. I am very happy wi...  \n",
       "3   Amazing Powerful and Durable Gadget.\\n\\nI’m am...  \n",
       "4   Previously I was using one plus 3t it was a gr...  \n",
       "..                                                ...  \n",
       "95  i was confused between 11 and 11 pro. i was go...  \n",
       "96  Product is nice at the deviled time the delive...  \n",
       "97  phone is good but in display is 720p lcd in th...  \n",
       "98  Everything is perfect pictures come out so cle...  \n",
       "99  I dreamt about this day from a long time.... G...  \n",
       "\n",
       "[100 rows x 3 columns]"
      ]
     },
     "execution_count": 19,
     "metadata": {},
     "output_type": "execute_result"
    }
   ],
   "source": [
    "flipkart_i11"
   ]
  },
  {
   "cell_type": "raw",
   "metadata": {},
   "source": [
    "Q8: Scrape data for first 100 sneakers you find when you visit flipkart.com and search for “sneakers” in the search field.\n",
    "You have to scrape 4 attributes of each sneaker :\n",
    "1. Brand\n",
    "2. Product Description\n",
    "3. Price\n",
    "4. discount %\n",
    "As shown in the below image, you have to scrape the tick marked attributes.\n",
    "Also note that all the steps required during scraping should be done through code only and not manually."
   ]
  },
  {
   "cell_type": "code",
   "execution_count": 1,
   "metadata": {},
   "outputs": [],
   "source": [
    "import selenium\n",
    "import pandas as pd\n",
    "from selenium import webdriver\n",
    "import warnings\n",
    "warnings.filterwarnings('ignore')"
   ]
  },
  {
   "cell_type": "code",
   "execution_count": 2,
   "metadata": {},
   "outputs": [],
   "source": [
    "driver=webdriver.Chrome(r\"C:\\Users\\ChesthaS\\Downloads\\chromedriver_win32 (1)\\chromedriver.exe\")"
   ]
  },
  {
   "cell_type": "code",
   "execution_count": 3,
   "metadata": {},
   "outputs": [],
   "source": [
    "url='https://www.flipkart.com/'\n",
    "driver.get(url)"
   ]
  },
  {
   "cell_type": "code",
   "execution_count": 4,
   "metadata": {},
   "outputs": [],
   "source": [
    "search_btn=driver.find_element_by_xpath(\"//input[@class='_3704LK']\")\n",
    "search_btn.send_keys(\"sneakers\")"
   ]
  },
  {
   "cell_type": "code",
   "execution_count": 5,
   "metadata": {},
   "outputs": [],
   "source": [
    "search_btns=driver.find_element_by_xpath(\"//button[@class='L0Z3Pu']\")"
   ]
  },
  {
   "cell_type": "code",
   "execution_count": 7,
   "metadata": {},
   "outputs": [],
   "source": [
    "search_btns.click()"
   ]
  },
  {
   "cell_type": "code",
   "execution_count": 8,
   "metadata": {},
   "outputs": [],
   "source": [
    "page_tags=driver.find_elements_by_xpath(\"//div[@class='_2MImiq']/nav//a\")"
   ]
  },
  {
   "cell_type": "code",
   "execution_count": 9,
   "metadata": {},
   "outputs": [],
   "source": [
    "page_urls=[]\n",
    "for i in page_tags[:3]:\n",
    "    page_urls.append(i.get_attribute('href'))\n",
    "    "
   ]
  },
  {
   "cell_type": "code",
   "execution_count": 10,
   "metadata": {},
   "outputs": [
    {
     "data": {
      "text/plain": [
       "['https://www.flipkart.com/search?q=sneakers&otracker=search&otracker1=search&marketplace=FLIPKART&as-show=off&as=off&page=1',\n",
       " 'https://www.flipkart.com/search?q=sneakers&otracker=search&otracker1=search&marketplace=FLIPKART&as-show=off&as=off&page=2',\n",
       " 'https://www.flipkart.com/search?q=sneakers&otracker=search&otracker1=search&marketplace=FLIPKART&as-show=off&as=off&page=3']"
      ]
     },
     "execution_count": 10,
     "metadata": {},
     "output_type": "execute_result"
    }
   ],
   "source": [
    "page_urls"
   ]
  },
  {
   "cell_type": "code",
   "execution_count": 11,
   "metadata": {},
   "outputs": [],
   "source": [
    "import time"
   ]
  },
  {
   "cell_type": "code",
   "execution_count": 12,
   "metadata": {},
   "outputs": [],
   "source": [
    "brands_sneaker=[]\n",
    "for i in page_urls:\n",
    "    driver.get(i)\n",
    "    time.sleep(5)\n",
    "    brands_tags=driver.find_elements_by_xpath(\"//div[@class='_2WkVRV']\")\n",
    "    for i in brands_tags:\n",
    "        brands_sneaker.append(i.text)"
   ]
  },
  {
   "cell_type": "code",
   "execution_count": 13,
   "metadata": {},
   "outputs": [
    {
     "data": {
      "text/plain": [
       "100"
      ]
     },
     "execution_count": 13,
     "metadata": {},
     "output_type": "execute_result"
    }
   ],
   "source": [
    "bs=brands_sneaker[:100]\n",
    "len(bs)"
   ]
  },
  {
   "cell_type": "code",
   "execution_count": 15,
   "metadata": {},
   "outputs": [],
   "source": [
    "desc_sneaker=[]\n",
    "for i in page_urls:\n",
    "    driver.get(i)\n",
    "    time.sleep(5)\n",
    "    desc_tags=driver.find_elements_by_xpath(\"//a[@class='IRpwTa' or @class='IRpwTa _2-ICcC']\")\n",
    "    for i in desc_tags:\n",
    "        desc_sneaker.append(i.text)"
   ]
  },
  {
   "cell_type": "code",
   "execution_count": 16,
   "metadata": {},
   "outputs": [
    {
     "data": {
      "text/plain": [
       "120"
      ]
     },
     "execution_count": 16,
     "metadata": {},
     "output_type": "execute_result"
    }
   ],
   "source": [
    "len(desc_sneaker)"
   ]
  },
  {
   "cell_type": "code",
   "execution_count": 17,
   "metadata": {},
   "outputs": [
    {
     "data": {
      "text/plain": [
       "['Unique & Perfect Collection Combo Pack of 02 Shoes for ...',\n",
       " 'Fashionable casual sneakers shoes Sneakers For Men',\n",
       " 'Modern Trendy Shoes Combo pack of 4 Sneakers For Men',\n",
       " \"White Sneaker For Men's/Boy's Sneakers For Men\",\n",
       " 'Combo pack of 2 casual sneaker shoes for men Sneakers F...',\n",
       " 'Sneakers For Men',\n",
       " 'Sneakers For Men',\n",
       " 'Shoes in Black Color Party wear/Outdoor/Casual Shoes Fo...',\n",
       " 'Classy Sneakers For Men',\n",
       " 'casual for men (blue 06) Sneakers For Men',\n",
       " 'Sneakers Sneakers For Men',\n",
       " 'Super 445 Fashion Sneakers For Men',\n",
       " 'SOFT Sneakers For Men',\n",
       " \"Men's Stylish Casual Shoes Sneakers For Men\",\n",
       " \"Casual shoes,Sneakers for men's,shoes for men's Sneaker...\",\n",
       " \"Luxury Branded Fashionable Men's Casual Walking Partywe...\",\n",
       " 'Sneakers Sneakers For Men',\n",
       " 'Perfect & Affordable Combo Pack of 02 Pairs Sneakers Ou...',\n",
       " 'Sneakers Sneakers For Men',\n",
       " 'Combo Pack of 4 Casual Shoes Sneakers For Men',\n",
       " \"Super & Trendy Men's Pack of 02 Pair Shoes for Boys Cas...\",\n",
       " 'Fashionable casual sneaker shoes Sneakers For Men',\n",
       " 'Sneakers For Men',\n",
       " 'Series 7 Sneakers For Men',\n",
       " 'SD-323 Sneakers For Men',\n",
       " 'Sneakers For Men',\n",
       " \"Men's Combo Pack of 02 Shoes for Men Casual Sneakers Ou...\",\n",
       " 'Combo Pack of 2 Casual Shoes Sneakers For Men',\n",
       " 'Lazy Knit Slip On IDP Sneakers For Men',\n",
       " \"Casual , Partywear Sneakers Shoes For Men's And Boys Wh...\",\n",
       " 'Sneakers For Men',\n",
       " 'casual for men (beige 06) Sneakers For Men',\n",
       " 'Combo pack of 2 Casuals Shoes For Men (1563-1564) Sneak...',\n",
       " 'Combo Pack of 4 Latest Collection Stylish Casual Loafer...',\n",
       " 'Speed Set of 5 Pairs Sneakers Outdoors Casuals for Men ...',\n",
       " 'SM-322 Sneakers For Men',\n",
       " 'Acrux IDP Sneakers For Men',\n",
       " 'Sneakers For Men',\n",
       " 'Sneakers For Men',\n",
       " 'casual sneaker shoes and partywear shoes Casuals For Me...',\n",
       " 'Corode IDP Sneakers For Men',\n",
       " 'Casual Loafers, Sneakers Shoes for Men Pack of 5 Combo(...',\n",
       " 'Casual Sneakers White Shoes For Men Sneakers For Men',\n",
       " 'Fashionable casual sneakers shoes Sneakers For Men',\n",
       " 'EMAN Sneakers For Men',\n",
       " 'EMERIL Sneakers For Men',\n",
       " 'White Sneaker for Men Sneakers For Men',\n",
       " 'Synthetic Leather Casual Partywear Wedding Sneakers Sho...',\n",
       " 'Skate Board White Shoes Men Running Flat PU Sneakers Ma...',\n",
       " 'Casual Sneakers Shoes For Men Sneakers For Men',\n",
       " 'Casual Sneakers Shoes For Men Sneakers For Men',\n",
       " 'Casual Sneakers Shoes For Men Sneakers For Men',\n",
       " 'Adiset M Sneakers For Men',\n",
       " 'casual for men (black 08) Sneakers For Men',\n",
       " 'Rockstyle Trending Multicolor Ultralight canvas Sport/ ...',\n",
       " 'New Fashion Outdoor Trendy Lightweight Casual,Canvas St...',\n",
       " 'Sneakers For Men',\n",
       " 'Rockstyle Trending Multicolor Ultralight canvas Sport/ ...',\n",
       " 'Sneakers For Men',\n",
       " 'Sneakers For Men',\n",
       " \"Casual , Partywear Sneakers Shoes For Men's And Boys Wh...\",\n",
       " 'Combo Pack Of 4 Casual Sneakers For Men',\n",
       " 'Rigel IDP Sneakers For Men',\n",
       " 'EVAW2 Sneakers For Men',\n",
       " 'Sneakers For Men',\n",
       " 'Combo Pack of 4 Casual Shoes Sneakers For Men',\n",
       " 'Men Combo Pack of 2 Casual & Sneaker Shoes (Loafer Shoe...',\n",
       " '170 Smart Grey Lace-Ups Casuals for Men Sneakers For Me...',\n",
       " 'Sneakers For Men',\n",
       " \"Casual , Partywear Sneakers Shoes For Men's And Boys Re...\",\n",
       " 'EXPLORE Sneakers For Men',\n",
       " 'White Sneakers Sneakers For Men',\n",
       " 'Sneakers For Men',\n",
       " 'Sneakers For Men',\n",
       " 'Casual Sneakers,dancing, walking Sneakers For Men',\n",
       " '1002 Sneakers For Men',\n",
       " 'Simha IDP Sneakers For Men',\n",
       " 'Perforated Low IDP Sneakers For Men',\n",
       " 'EMAN Sneakers For Men',\n",
       " 'ORIFWSH(OR)-1077 Sneakers For Men',\n",
       " 'Casual Sneakers White Shoes For Men And Boys Sneakers F...',\n",
       " 'Latest Collection-1227 Stylish Casual Sports Sneakers F...',\n",
       " 'Combo Pack of 3 Casual Shoes Sneakers For Men',\n",
       " 'Fashion Outdoor Canvas Casual Light Weight Partywear Sn...',\n",
       " 'Sneakers For Men',\n",
       " 'Street Smart Sneakers For Men',\n",
       " 'Sneakers For Men',\n",
       " 'Trenzo II IDP Sneakers For Men',\n",
       " 'Sneakers For Men',\n",
       " '5011-Latest Collection Stylish Casual Loafer Sneakers S...',\n",
       " 'Sneakers For Men',\n",
       " 'SM-322 Sneakers For Men',\n",
       " 'shoes For Mens Combo(MR)-1653-1564 ( Multicolor-Pack of...',\n",
       " '168 Smart Red Lace-Ups Casuals for Men Sneakers For Men',\n",
       " 'Combo Men Pack of 2 Loafers Shoes Sneakers For Men',\n",
       " 'Simha IDP Sneakers For Men',\n",
       " 'Casual Sneaker Sneakers For Men',\n",
       " 'SM-482 Sneakers For Men',\n",
       " 'casual for men Sneakers For Men',\n",
       " 'Combo Pack of 2 Casual Shoes Sneakers For Men']"
      ]
     },
     "execution_count": 17,
     "metadata": {},
     "output_type": "execute_result"
    }
   ],
   "source": [
    "ds=desc_sneaker[:100]\n",
    "ds"
   ]
  },
  {
   "cell_type": "code",
   "execution_count": 18,
   "metadata": {},
   "outputs": [],
   "source": [
    "price_sneaker=[]\n",
    "for i in page_urls:\n",
    "    driver.get(i)\n",
    "    time.sleep(5)\n",
    "    price_tags=driver.find_elements_by_xpath(\"//div[@class='_30jeq3']\")\n",
    "    for i in price_tags:\n",
    "        price_sneaker.append(i.text)"
   ]
  },
  {
   "cell_type": "code",
   "execution_count": 19,
   "metadata": {},
   "outputs": [
    {
     "data": {
      "text/plain": [
       "120"
      ]
     },
     "execution_count": 19,
     "metadata": {},
     "output_type": "execute_result"
    }
   ],
   "source": [
    "len(price_sneaker)"
   ]
  },
  {
   "cell_type": "code",
   "execution_count": 20,
   "metadata": {},
   "outputs": [
    {
     "data": {
      "text/plain": [
       "100"
      ]
     },
     "execution_count": 20,
     "metadata": {},
     "output_type": "execute_result"
    }
   ],
   "source": [
    "ps=price_sneaker[:100]\n",
    "len(ps)"
   ]
  },
  {
   "cell_type": "code",
   "execution_count": 21,
   "metadata": {},
   "outputs": [],
   "source": [
    "discount_sneaker=[]\n",
    "for i in page_urls:\n",
    "    driver.get(i)\n",
    "    time.sleep(5)\n",
    "    discount_tags=driver.find_elements_by_xpath(\"//div[@class='_3Ay6Sb']\")\n",
    "    for i in discount_tags:\n",
    "        discount_sneaker.append(i.text)"
   ]
  },
  {
   "cell_type": "code",
   "execution_count": 22,
   "metadata": {},
   "outputs": [
    {
     "data": {
      "text/plain": [
       "120"
      ]
     },
     "execution_count": 22,
     "metadata": {},
     "output_type": "execute_result"
    }
   ],
   "source": [
    "len(discount_sneaker)"
   ]
  },
  {
   "cell_type": "code",
   "execution_count": 23,
   "metadata": {},
   "outputs": [
    {
     "data": {
      "text/plain": [
       "100"
      ]
     },
     "execution_count": 23,
     "metadata": {},
     "output_type": "execute_result"
    }
   ],
   "source": [
    "dis=discount_sneaker[:100]\n",
    "len(dis)"
   ]
  },
  {
   "cell_type": "code",
   "execution_count": 24,
   "metadata": {},
   "outputs": [],
   "source": [
    "flipkart_sn=pd.DataFrame({})\n",
    "flipkart_sn['brand']=bs\n",
    "flipkart_sn['price']=ps\n",
    "flipkart_sn['discount']=dis\n",
    "flipkart_sn['description']=ds"
   ]
  },
  {
   "cell_type": "code",
   "execution_count": 25,
   "metadata": {},
   "outputs": [
    {
     "data": {
      "text/html": [
       "<div>\n",
       "<style scoped>\n",
       "    .dataframe tbody tr th:only-of-type {\n",
       "        vertical-align: middle;\n",
       "    }\n",
       "\n",
       "    .dataframe tbody tr th {\n",
       "        vertical-align: top;\n",
       "    }\n",
       "\n",
       "    .dataframe thead th {\n",
       "        text-align: right;\n",
       "    }\n",
       "</style>\n",
       "<table border=\"1\" class=\"dataframe\">\n",
       "  <thead>\n",
       "    <tr style=\"text-align: right;\">\n",
       "      <th></th>\n",
       "      <th>brand</th>\n",
       "      <th>price</th>\n",
       "      <th>discount</th>\n",
       "      <th>description</th>\n",
       "    </tr>\n",
       "  </thead>\n",
       "  <tbody>\n",
       "    <tr>\n",
       "      <th>0</th>\n",
       "      <td>Chevit</td>\n",
       "      <td>₹448</td>\n",
       "      <td>70% off</td>\n",
       "      <td>Unique &amp; Perfect Collection Combo Pack of 02 S...</td>\n",
       "    </tr>\n",
       "    <tr>\n",
       "      <th>1</th>\n",
       "      <td>India hub</td>\n",
       "      <td>₹389</td>\n",
       "      <td>87% off</td>\n",
       "      <td>Fashionable casual sneakers shoes Sneakers For...</td>\n",
       "    </tr>\n",
       "    <tr>\n",
       "      <th>2</th>\n",
       "      <td>CALCADOS</td>\n",
       "      <td>₹748</td>\n",
       "      <td>62% off</td>\n",
       "      <td>Modern Trendy Shoes Combo pack of 4 Sneakers F...</td>\n",
       "    </tr>\n",
       "    <tr>\n",
       "      <th>3</th>\n",
       "      <td>Shoes Bank</td>\n",
       "      <td>₹349</td>\n",
       "      <td>65% off</td>\n",
       "      <td>White Sneaker For Men's/Boy's Sneakers For Men</td>\n",
       "    </tr>\n",
       "    <tr>\n",
       "      <th>4</th>\n",
       "      <td>ORICUM</td>\n",
       "      <td>₹377</td>\n",
       "      <td>62% off</td>\n",
       "      <td>Combo pack of 2 casual sneaker shoes for men S...</td>\n",
       "    </tr>\n",
       "    <tr>\n",
       "      <th>...</th>\n",
       "      <td>...</td>\n",
       "      <td>...</td>\n",
       "      <td>...</td>\n",
       "      <td>...</td>\n",
       "    </tr>\n",
       "    <tr>\n",
       "      <th>95</th>\n",
       "      <td>PUMA</td>\n",
       "      <td>₹1,529</td>\n",
       "      <td>49% off</td>\n",
       "      <td>Simha IDP Sneakers For Men</td>\n",
       "    </tr>\n",
       "    <tr>\n",
       "      <th>96</th>\n",
       "      <td>Numenzo</td>\n",
       "      <td>₹569</td>\n",
       "      <td>43% off</td>\n",
       "      <td>Casual Sneaker Sneakers For Men</td>\n",
       "    </tr>\n",
       "    <tr>\n",
       "      <th>97</th>\n",
       "      <td>SPARX</td>\n",
       "      <td>₹965</td>\n",
       "      <td>28% off</td>\n",
       "      <td>SM-482 Sneakers For Men</td>\n",
       "    </tr>\n",
       "    <tr>\n",
       "      <th>98</th>\n",
       "      <td>bluemaker</td>\n",
       "      <td>₹474</td>\n",
       "      <td>52% off</td>\n",
       "      <td>casual for men Sneakers For Men</td>\n",
       "    </tr>\n",
       "    <tr>\n",
       "      <th>99</th>\n",
       "      <td>BRUTON</td>\n",
       "      <td>₹359</td>\n",
       "      <td>85% off</td>\n",
       "      <td>Combo Pack of 2 Casual Shoes Sneakers For Men</td>\n",
       "    </tr>\n",
       "  </tbody>\n",
       "</table>\n",
       "<p>100 rows × 4 columns</p>\n",
       "</div>"
      ],
      "text/plain": [
       "         brand   price discount  \\\n",
       "0       Chevit    ₹448  70% off   \n",
       "1    India hub    ₹389  87% off   \n",
       "2     CALCADOS    ₹748  62% off   \n",
       "3   Shoes Bank    ₹349  65% off   \n",
       "4       ORICUM    ₹377  62% off   \n",
       "..         ...     ...      ...   \n",
       "95        PUMA  ₹1,529  49% off   \n",
       "96     Numenzo    ₹569  43% off   \n",
       "97       SPARX    ₹965  28% off   \n",
       "98   bluemaker    ₹474  52% off   \n",
       "99      BRUTON    ₹359  85% off   \n",
       "\n",
       "                                          description  \n",
       "0   Unique & Perfect Collection Combo Pack of 02 S...  \n",
       "1   Fashionable casual sneakers shoes Sneakers For...  \n",
       "2   Modern Trendy Shoes Combo pack of 4 Sneakers F...  \n",
       "3      White Sneaker For Men's/Boy's Sneakers For Men  \n",
       "4   Combo pack of 2 casual sneaker shoes for men S...  \n",
       "..                                                ...  \n",
       "95                         Simha IDP Sneakers For Men  \n",
       "96                    Casual Sneaker Sneakers For Men  \n",
       "97                            SM-482 Sneakers For Men  \n",
       "98                    casual for men Sneakers For Men  \n",
       "99      Combo Pack of 2 Casual Shoes Sneakers For Men  \n",
       "\n",
       "[100 rows x 4 columns]"
      ]
     },
     "execution_count": 25,
     "metadata": {},
     "output_type": "execute_result"
    }
   ],
   "source": [
    "flipkart_sn"
   ]
  },
  {
   "cell_type": "raw",
   "metadata": {},
   "source": [
    "Q9: Go to the link - https://www.myntra.com/shoes\n",
    "Set Price filter to “Rs. 6649 to Rs. 13099” , Color filter to “Black”, as shown in the below image\n",
    "\n",
    "And then scrape First 100 shoes data you get. The data should include “Brand” of the shoes , Short Shoe description, price of \n",
    "the shoe as shown in the below image.\n",
    "\n",
    "Please note that applying the filter and scraping the data , everything should be done through code only and there should not be any manual step."
   ]
  },
  {
   "cell_type": "code",
   "execution_count": 1,
   "metadata": {},
   "outputs": [],
   "source": [
    "import selenium\n",
    "import pandas as pd\n",
    "from selenium import webdriver\n",
    "import warnings\n",
    "warnings.filterwarnings('ignore')"
   ]
  },
  {
   "cell_type": "code",
   "execution_count": 2,
   "metadata": {},
   "outputs": [],
   "source": [
    "driver=webdriver.Chrome(r\"C:\\Users\\ChesthaS\\Downloads\\chromedriver_win32 (1)\\chromedriver.exe\")"
   ]
  },
  {
   "cell_type": "code",
   "execution_count": 3,
   "metadata": {},
   "outputs": [],
   "source": [
    "url='https://www.myntra.com/shoes'\n",
    "driver.get(url)"
   ]
  },
  {
   "cell_type": "code",
   "execution_count": 4,
   "metadata": {},
   "outputs": [],
   "source": [
    "first_chk=driver.find_element_by_xpath(\"//li[@class='colour-listItem']/label/div\")\n",
    "first_chk.click()"
   ]
  },
  {
   "cell_type": "code",
   "execution_count": 5,
   "metadata": {},
   "outputs": [],
   "source": [
    "secound_chk=driver.find_element_by_xpath(\"//ul[@class='price-list']/li[2]/label/div\")\n",
    "secound_chk.click()"
   ]
  },
  {
   "cell_type": "code",
   "execution_count": 6,
   "metadata": {},
   "outputs": [
    {
     "data": {
      "text/plain": [
       "[<selenium.webdriver.remote.webelement.WebElement (session=\"1ba2f9d2206b8e0b2dd4d4c79f184254\", element=\"a483824f-4a79-48d7-88cb-6f24e69417ac\")>,\n",
       " <selenium.webdriver.remote.webelement.WebElement (session=\"1ba2f9d2206b8e0b2dd4d4c79f184254\", element=\"5d446eca-5324-4c6f-a107-1a88c246e135\")>,\n",
       " <selenium.webdriver.remote.webelement.WebElement (session=\"1ba2f9d2206b8e0b2dd4d4c79f184254\", element=\"d0a4ae07-73f9-4ba9-bb2f-9c39cff64b90\")>,\n",
       " <selenium.webdriver.remote.webelement.WebElement (session=\"1ba2f9d2206b8e0b2dd4d4c79f184254\", element=\"140dd4b1-49a0-4a05-bbd6-62afe1f976f8\")>,\n",
       " <selenium.webdriver.remote.webelement.WebElement (session=\"1ba2f9d2206b8e0b2dd4d4c79f184254\", element=\"9131768f-ad41-45b4-9cb8-7dd6f997bd72\")>,\n",
       " <selenium.webdriver.remote.webelement.WebElement (session=\"1ba2f9d2206b8e0b2dd4d4c79f184254\", element=\"e27de100-14db-4501-8127-4caecd34791a\")>,\n",
       " <selenium.webdriver.remote.webelement.WebElement (session=\"1ba2f9d2206b8e0b2dd4d4c79f184254\", element=\"bbf435a2-3fb3-4364-a6ed-933fe7911283\")>,\n",
       " <selenium.webdriver.remote.webelement.WebElement (session=\"1ba2f9d2206b8e0b2dd4d4c79f184254\", element=\"b251d4b5-f862-471b-886e-88ab9c823287\")>,\n",
       " <selenium.webdriver.remote.webelement.WebElement (session=\"1ba2f9d2206b8e0b2dd4d4c79f184254\", element=\"7ae982e8-e3b2-40e0-9e17-dc1e3e092af0\")>,\n",
       " <selenium.webdriver.remote.webelement.WebElement (session=\"1ba2f9d2206b8e0b2dd4d4c79f184254\", element=\"84e4ffae-b702-46a1-9c2c-43f70bb477a5\")>,\n",
       " <selenium.webdriver.remote.webelement.WebElement (session=\"1ba2f9d2206b8e0b2dd4d4c79f184254\", element=\"f888e4ae-d179-4a3f-8b6b-451f29cde498\")>]"
      ]
     },
     "execution_count": 6,
     "metadata": {},
     "output_type": "execute_result"
    }
   ],
   "source": [
    "page_tags=driver.find_elements_by_xpath(\"//ul[@class='pagination-container']//li/a\")\n",
    "page_tags"
   ]
  },
  {
   "cell_type": "code",
   "execution_count": 7,
   "metadata": {},
   "outputs": [],
   "source": [
    "page_urls=[]\n",
    "for i in page_tags[:2]:\n",
    "    page_urls.append(i.get_attribute('href'))"
   ]
  },
  {
   "cell_type": "code",
   "execution_count": 8,
   "metadata": {},
   "outputs": [
    {
     "data": {
      "text/plain": [
       "['https://www.myntra.com/shoes?f=Color%3ABlack_36454f&plaEnabled=false&rf=Price%3A6687.0_13125.0_6687.0%20TO%2013125.0',\n",
       " 'https://www.myntra.com/shoes?f=Color%3ABlack_36454f&plaEnabled=false&rf=Price%3A6687.0_13125.0_6687.0%20TO%2013125.0&p=2']"
      ]
     },
     "execution_count": 8,
     "metadata": {},
     "output_type": "execute_result"
    }
   ],
   "source": [
    "page_urls"
   ]
  },
  {
   "cell_type": "code",
   "execution_count": 9,
   "metadata": {},
   "outputs": [],
   "source": [
    "import time"
   ]
  },
  {
   "cell_type": "code",
   "execution_count": 10,
   "metadata": {},
   "outputs": [],
   "source": [
    "brands_shoes=[]\n",
    "for i in page_urls:\n",
    "    driver.get(i)\n",
    "    time.sleep(5)\n",
    "    brands_tags=driver.find_elements_by_xpath(\"//h3[@class='product-brand']\")\n",
    "    for i in brands_tags:\n",
    "        brands_shoes.append(i.text)"
   ]
  },
  {
   "cell_type": "code",
   "execution_count": 11,
   "metadata": {},
   "outputs": [
    {
     "data": {
      "text/plain": [
       "100"
      ]
     },
     "execution_count": 11,
     "metadata": {},
     "output_type": "execute_result"
    }
   ],
   "source": [
    "len(brands_shoes)"
   ]
  },
  {
   "cell_type": "code",
   "execution_count": 12,
   "metadata": {},
   "outputs": [
    {
     "data": {
      "text/plain": [
       "['Nike',\n",
       " 'Nike',\n",
       " 'Nike',\n",
       " 'Nike',\n",
       " 'Nike',\n",
       " 'Nike',\n",
       " 'ASICS',\n",
       " 'Skechers',\n",
       " 'Nike',\n",
       " 'Nike',\n",
       " 'FORCLAZ By Decathlon',\n",
       " 'UNDER ARMOUR',\n",
       " 'UNDER ARMOUR',\n",
       " 'ADIDAS',\n",
       " 'Hush Puppies',\n",
       " 'Puma',\n",
       " 'Puma',\n",
       " 'Nike',\n",
       " 'Puma',\n",
       " 'UNDER ARMOUR',\n",
       " 'Tommy Hilfiger',\n",
       " 'Puma',\n",
       " 'Nike',\n",
       " 'UNDER ARMOUR',\n",
       " 'ASICS',\n",
       " 'UNDER ARMOUR',\n",
       " 'ASICS',\n",
       " 'ADIDAS Originals',\n",
       " 'Puma',\n",
       " 'Reebok',\n",
       " 'UNDER ARMOUR',\n",
       " 'Tommy Hilfiger',\n",
       " 'Skechers',\n",
       " 'UNDER ARMOUR',\n",
       " 'ALDO',\n",
       " 'ALDO',\n",
       " 'Ruosh',\n",
       " 'FILA',\n",
       " 'RAPAWALK',\n",
       " 'J.FONTINI',\n",
       " 'UNDER ARMOUR',\n",
       " 'ALDO',\n",
       " 'Hush Puppies',\n",
       " 'RAPAWALK',\n",
       " 'Hush Puppies',\n",
       " 'RAPAWALK',\n",
       " 'RAPAWALK',\n",
       " 'Heel & Buckle London',\n",
       " 'Kalenji By Decathlon',\n",
       " 'FILA',\n",
       " 'Ruosh',\n",
       " 'FILA',\n",
       " 'Cole Haan',\n",
       " 'Florsheim',\n",
       " 'Kalenji By Decathlon',\n",
       " 'KIPRUN By Decathlon',\n",
       " 'RAPAWALK',\n",
       " 'RAPAWALK',\n",
       " 'Puma',\n",
       " 'ADIDAS',\n",
       " 'Cole Haan',\n",
       " 'Cole Haan',\n",
       " 'Geox',\n",
       " 'FILA',\n",
       " 'ADIDAS',\n",
       " 'Puma',\n",
       " 'Cole Haan',\n",
       " 'FILA',\n",
       " 'FILA',\n",
       " 'Hush Puppies',\n",
       " 'Geox',\n",
       " 'Ruosh',\n",
       " 'Nike',\n",
       " 'Nike',\n",
       " 'Nike',\n",
       " 'VIONIC',\n",
       " 'Nike',\n",
       " 'J.FONTINI',\n",
       " 'Hush Puppies',\n",
       " 'Hush Puppies',\n",
       " 'Nike',\n",
       " 'Nike',\n",
       " 'Nike',\n",
       " 'UNDER ARMOUR',\n",
       " 'Heel & Buckle London',\n",
       " 'Heel & Buckle London',\n",
       " 'ASICS',\n",
       " 'Puma',\n",
       " 'Lacoste',\n",
       " 'Lacoste',\n",
       " 'Saint G',\n",
       " 'Puma',\n",
       " 'Cole Haan',\n",
       " 'San Frissco',\n",
       " 'Cole Haan',\n",
       " 'Ruosh',\n",
       " 'FILA',\n",
       " 'Cole Haan',\n",
       " 'UNDER ARMOUR',\n",
       " 'UNDER ARMOUR']"
      ]
     },
     "execution_count": 12,
     "metadata": {},
     "output_type": "execute_result"
    }
   ],
   "source": [
    "brands_shoes"
   ]
  },
  {
   "cell_type": "code",
   "execution_count": 13,
   "metadata": {},
   "outputs": [],
   "source": [
    "desc_shoes=[]\n",
    "for i in page_urls:\n",
    "    driver.get(i)\n",
    "    time.sleep(5)\n",
    "    desc_tags=driver.find_elements_by_xpath(\"//h4[@class='product-product']\")\n",
    "    for i in desc_tags:\n",
    "        desc_shoes.append(i.text)"
   ]
  },
  {
   "cell_type": "code",
   "execution_count": 14,
   "metadata": {},
   "outputs": [
    {
     "data": {
      "text/plain": [
       "100"
      ]
     },
     "execution_count": 14,
     "metadata": {},
     "output_type": "execute_result"
    }
   ],
   "source": [
    "len(desc_shoes)"
   ]
  },
  {
   "cell_type": "code",
   "execution_count": 15,
   "metadata": {},
   "outputs": [],
   "source": [
    "price_shoes=[]\n",
    "for i in page_urls:\n",
    "    driver.get(i)\n",
    "    time.sleep(5)\n",
    "    price_tags=driver.find_elements_by_xpath(\"//div[@class='product-price']\")\n",
    "    for i in price_tags:\n",
    "        price_shoes.append(i.text)"
   ]
  },
  {
   "cell_type": "code",
   "execution_count": 16,
   "metadata": {},
   "outputs": [
    {
     "data": {
      "text/plain": [
       "100"
      ]
     },
     "execution_count": 16,
     "metadata": {},
     "output_type": "execute_result"
    }
   ],
   "source": [
    "len(price_shoes)"
   ]
  },
  {
   "cell_type": "code",
   "execution_count": 17,
   "metadata": {},
   "outputs": [],
   "source": [
    "flipkart_sh=pd.DataFrame({})\n",
    "flipkart_sh['brand']=brands_shoes\n",
    "flipkart_sh['price']=price_shoes\n",
    "flipkart_sh['description']=desc_shoes"
   ]
  },
  {
   "cell_type": "code",
   "execution_count": 18,
   "metadata": {},
   "outputs": [
    {
     "data": {
      "text/html": [
       "<div>\n",
       "<style scoped>\n",
       "    .dataframe tbody tr th:only-of-type {\n",
       "        vertical-align: middle;\n",
       "    }\n",
       "\n",
       "    .dataframe tbody tr th {\n",
       "        vertical-align: top;\n",
       "    }\n",
       "\n",
       "    .dataframe thead th {\n",
       "        text-align: right;\n",
       "    }\n",
       "</style>\n",
       "<table border=\"1\" class=\"dataframe\">\n",
       "  <thead>\n",
       "    <tr style=\"text-align: right;\">\n",
       "      <th></th>\n",
       "      <th>brand</th>\n",
       "      <th>price</th>\n",
       "      <th>description</th>\n",
       "    </tr>\n",
       "  </thead>\n",
       "  <tbody>\n",
       "    <tr>\n",
       "      <th>0</th>\n",
       "      <td>Nike</td>\n",
       "      <td>Rs. 11495</td>\n",
       "      <td>Men ZOOM FREAK 2 Basketball</td>\n",
       "    </tr>\n",
       "    <tr>\n",
       "      <th>1</th>\n",
       "      <td>Nike</td>\n",
       "      <td>Rs. 12995</td>\n",
       "      <td>Unisex COSMIC UNITY Basketball</td>\n",
       "    </tr>\n",
       "    <tr>\n",
       "      <th>2</th>\n",
       "      <td>Nike</td>\n",
       "      <td>Rs. 10496Rs. 14995(30% OFF)</td>\n",
       "      <td>Men JORDAN DELTA Basketball</td>\n",
       "    </tr>\n",
       "    <tr>\n",
       "      <th>3</th>\n",
       "      <td>Nike</td>\n",
       "      <td>Rs. 9799Rs. 13999(30% OFF)</td>\n",
       "      <td>AIR ZOOM PEGASUS Running Shoes</td>\n",
       "    </tr>\n",
       "    <tr>\n",
       "      <th>4</th>\n",
       "      <td>Nike</td>\n",
       "      <td>Rs. 7206Rs. 10295(30% OFF)</td>\n",
       "      <td>Women PEGASUS 37 Running Shoes</td>\n",
       "    </tr>\n",
       "    <tr>\n",
       "      <th>...</th>\n",
       "      <td>...</td>\n",
       "      <td>...</td>\n",
       "      <td>...</td>\n",
       "    </tr>\n",
       "    <tr>\n",
       "      <th>95</th>\n",
       "      <td>Ruosh</td>\n",
       "      <td>Rs. 9799Rs. 13999(30% OFF)</td>\n",
       "      <td>Men Leather Loafers</td>\n",
       "    </tr>\n",
       "    <tr>\n",
       "      <th>96</th>\n",
       "      <td>FILA</td>\n",
       "      <td>Rs. 8999</td>\n",
       "      <td>Women Solid Leather Ballerinas</td>\n",
       "    </tr>\n",
       "    <tr>\n",
       "      <th>97</th>\n",
       "      <td>Cole Haan</td>\n",
       "      <td>Rs. 6749Rs. 14999(55% OFF)</td>\n",
       "      <td>Women Sneakers</td>\n",
       "    </tr>\n",
       "    <tr>\n",
       "      <th>98</th>\n",
       "      <td>UNDER ARMOUR</td>\n",
       "      <td>Rs. 8999</td>\n",
       "      <td>Women Woven Design Sneakers</td>\n",
       "    </tr>\n",
       "    <tr>\n",
       "      <th>99</th>\n",
       "      <td>UNDER ARMOUR</td>\n",
       "      <td>Rs. 7595Rs. 10850(30% OFF)</td>\n",
       "      <td>Charged RC Sportstyle Sneakers</td>\n",
       "    </tr>\n",
       "  </tbody>\n",
       "</table>\n",
       "<p>100 rows × 3 columns</p>\n",
       "</div>"
      ],
      "text/plain": [
       "           brand                        price                     description\n",
       "0           Nike                    Rs. 11495     Men ZOOM FREAK 2 Basketball\n",
       "1           Nike                    Rs. 12995  Unisex COSMIC UNITY Basketball\n",
       "2           Nike  Rs. 10496Rs. 14995(30% OFF)     Men JORDAN DELTA Basketball\n",
       "3           Nike   Rs. 9799Rs. 13999(30% OFF)  AIR ZOOM PEGASUS Running Shoes\n",
       "4           Nike   Rs. 7206Rs. 10295(30% OFF)  Women PEGASUS 37 Running Shoes\n",
       "..           ...                          ...                             ...\n",
       "95         Ruosh   Rs. 9799Rs. 13999(30% OFF)             Men Leather Loafers\n",
       "96          FILA                     Rs. 8999  Women Solid Leather Ballerinas\n",
       "97     Cole Haan   Rs. 6749Rs. 14999(55% OFF)                  Women Sneakers\n",
       "98  UNDER ARMOUR                     Rs. 8999     Women Woven Design Sneakers\n",
       "99  UNDER ARMOUR   Rs. 7595Rs. 10850(30% OFF)  Charged RC Sportstyle Sneakers\n",
       "\n",
       "[100 rows x 3 columns]"
      ]
     },
     "execution_count": 18,
     "metadata": {},
     "output_type": "execute_result"
    }
   ],
   "source": [
    "flipkart_sh"
   ]
  },
  {
   "cell_type": "code",
   "execution_count": null,
   "metadata": {},
   "outputs": [],
   "source": []
  }
 ],
 "metadata": {
  "kernelspec": {
   "display_name": "Python 3",
   "language": "python",
   "name": "python3"
  },
  "language_info": {
   "codemirror_mode": {
    "name": "ipython",
    "version": 3
   },
   "file_extension": ".py",
   "mimetype": "text/x-python",
   "name": "python",
   "nbconvert_exporter": "python",
   "pygments_lexer": "ipython3",
   "version": "3.7.6"
  }
 },
 "nbformat": 4,
 "nbformat_minor": 4
}
